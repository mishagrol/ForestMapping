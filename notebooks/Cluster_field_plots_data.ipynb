{
 "cells": [
  {
   "cell_type": "markdown",
   "id": "286eda6f",
   "metadata": {},
   "source": [
    "## Clustering of field plots data RS observation\n",
    "-----"
   ]
  },
  {
   "cell_type": "code",
   "execution_count": 2,
   "id": "0e7f2412",
   "metadata": {},
   "outputs": [],
   "source": [
    "# !pip3 -q install seaborn"
   ]
  },
  {
   "cell_type": "code",
   "execution_count": 1,
   "id": "63c22ff1",
   "metadata": {},
   "outputs": [],
   "source": [
    "import pandas as pd\n",
    "import geopandas as gpd\n",
    "import rasterio as rio \n",
    "from rasterio.mask import mask as crop_mask\n",
    "import os \n",
    "import numpy as np\n",
    "\n",
    "import seaborn as sns\n",
    "import matplotlib.pyplot as plt\n",
    "\n",
    "import datetime as dt\n",
    "\n",
    "\n",
    "import matplotlib.pyplot as plt\n",
    "import numpy as np\n",
    "from shapely import affinity\n",
    "from sklearn.cluster import KMeans\n",
    "from sklearn.preprocessing import StandardScaler"
   ]
  },
  {
   "cell_type": "markdown",
   "id": "90941237",
   "metadata": {},
   "source": [
    "## 1. Read field-plots data "
   ]
  },
  {
   "cell_type": "code",
   "execution_count": 100,
   "id": "730d5a2e",
   "metadata": {},
   "outputs": [],
   "source": [
    "fnames = {\"invent_plots\":\"../shape_data/dataset_plots.geojson\"}\n",
    "gdf = gpd.read_file(fnames['invent_plots'])\n",
    "gdf.loc[:, 'key'] = gdf.index"
   ]
  },
  {
   "cell_type": "code",
   "execution_count": 101,
   "id": "4f88ab39",
   "metadata": {},
   "outputs": [
    {
     "data": {
      "text/html": [
       "<div>\n",
       "<style scoped>\n",
       "    .dataframe tbody tr th:only-of-type {\n",
       "        vertical-align: middle;\n",
       "    }\n",
       "\n",
       "    .dataframe tbody tr th {\n",
       "        vertical-align: top;\n",
       "    }\n",
       "\n",
       "    .dataframe thead th {\n",
       "        text-align: right;\n",
       "    }\n",
       "</style>\n",
       "<table border=\"1\" class=\"dataframe\">\n",
       "  <thead>\n",
       "    <tr style=\"text-align: right;\">\n",
       "      <th></th>\n",
       "      <th>Plot_ID</th>\n",
       "      <th>t_С</th>\n",
       "      <th>t_Л</th>\n",
       "      <th>t_Б</th>\n",
       "      <th>t_ОС</th>\n",
       "      <th>t_Е</th>\n",
       "      <th>t_П</th>\n",
       "      <th>t_К</th>\n",
       "      <th>t_Клас</th>\n",
       "      <th>geometry</th>\n",
       "      <th>key</th>\n",
       "    </tr>\n",
       "    <tr>\n",
       "      <th>t_Class</th>\n",
       "      <th></th>\n",
       "      <th></th>\n",
       "      <th></th>\n",
       "      <th></th>\n",
       "      <th></th>\n",
       "      <th></th>\n",
       "      <th></th>\n",
       "      <th></th>\n",
       "      <th></th>\n",
       "      <th></th>\n",
       "      <th></th>\n",
       "    </tr>\n",
       "  </thead>\n",
       "  <tbody>\n",
       "    <tr>\n",
       "      <th>12</th>\n",
       "      <td>0</td>\n",
       "      <td>0</td>\n",
       "      <td>0</td>\n",
       "      <td>0</td>\n",
       "      <td>0</td>\n",
       "      <td>0</td>\n",
       "      <td>0</td>\n",
       "      <td>0</td>\n",
       "      <td>1</td>\n",
       "      <td>11</td>\n",
       "      <td>11</td>\n",
       "    </tr>\n",
       "    <tr>\n",
       "      <th>13</th>\n",
       "      <td>1</td>\n",
       "      <td>0</td>\n",
       "      <td>0</td>\n",
       "      <td>0</td>\n",
       "      <td>0</td>\n",
       "      <td>0</td>\n",
       "      <td>0</td>\n",
       "      <td>0</td>\n",
       "      <td>0</td>\n",
       "      <td>12</td>\n",
       "      <td>12</td>\n",
       "    </tr>\n",
       "    <tr>\n",
       "      <th>14</th>\n",
       "      <td>0</td>\n",
       "      <td>0</td>\n",
       "      <td>0</td>\n",
       "      <td>0</td>\n",
       "      <td>0</td>\n",
       "      <td>0</td>\n",
       "      <td>0</td>\n",
       "      <td>0</td>\n",
       "      <td>1</td>\n",
       "      <td>12</td>\n",
       "      <td>12</td>\n",
       "    </tr>\n",
       "    <tr>\n",
       "      <th>15</th>\n",
       "      <td>1</td>\n",
       "      <td>0</td>\n",
       "      <td>0</td>\n",
       "      <td>0</td>\n",
       "      <td>0</td>\n",
       "      <td>0</td>\n",
       "      <td>0</td>\n",
       "      <td>0</td>\n",
       "      <td>1</td>\n",
       "      <td>12</td>\n",
       "      <td>12</td>\n",
       "    </tr>\n",
       "    <tr>\n",
       "      <th>16</th>\n",
       "      <td>0</td>\n",
       "      <td>0</td>\n",
       "      <td>0</td>\n",
       "      <td>0</td>\n",
       "      <td>0</td>\n",
       "      <td>0</td>\n",
       "      <td>0</td>\n",
       "      <td>0</td>\n",
       "      <td>1</td>\n",
       "      <td>10</td>\n",
       "      <td>10</td>\n",
       "    </tr>\n",
       "  </tbody>\n",
       "</table>\n",
       "</div>"
      ],
      "text/plain": [
       "         Plot_ID  t_С  t_Л  t_Б  t_ОС  t_Е  t_П  t_К  t_Клас  geometry  key\n",
       "t_Class                                                                    \n",
       "12             0    0    0    0     0    0    0    0       1        11   11\n",
       "13             1    0    0    0     0    0    0    0       0        12   12\n",
       "14             0    0    0    0     0    0    0    0       1        12   12\n",
       "15             1    0    0    0     0    0    0    0       1        12   12\n",
       "16             0    0    0    0     0    0    0    0       1        10   10"
      ]
     },
     "execution_count": 101,
     "metadata": {},
     "output_type": "execute_result"
    }
   ],
   "source": [
    "mask_non_forest = gdf['t_Class']>11\n",
    "non_forest_gdf = gdf.loc[mask_non_forest]\n",
    "# non_forest = dataset.prepare_forest_classes_dataset(gdf=non_forest_gdf)\n",
    "non_forest_gdf.groupby('t_Class').count()"
   ]
  },
  {
   "cell_type": "code",
   "execution_count": 4,
   "id": "0341cea2",
   "metadata": {},
   "outputs": [],
   "source": [
    "def scale_geom(shape, scale:int):\n",
    "    return affinity.scale(shape, xfact=scale, yfact=scale, origin='center')\n",
    "\n",
    "def getRadius(x)->float:\n",
    "    return np.sqrt(x.area/np.pi)\n",
    "\n",
    "def get_datetime(fname:str):\n",
    "    return dt.datetime.strptime(fname.split('.')[0], \"%Y-%m-%d\")\n",
    "\n",
    "def plot_RGB_file(fname: str): \n",
    "    img = rio.open(fname)\n",
    "\n",
    "    red = img.read(4)\n",
    "    green = img.read(3)\n",
    "    blue = img.read(2)\n",
    "\n",
    "    red_b=brighten(red)\n",
    "    blue_b=brighten(blue)\n",
    "    green_b=brighten(green)\n",
    "\n",
    "    red_bn = normalize(red_b)\n",
    "    green_bn = normalize(green_b)\n",
    "    blue_bn = normalize(blue_b)\n",
    "\n",
    "    rgb_composite_bn= np.dstack((red_bn, green_bn, blue_bn))\n",
    "    return rgb_composite_bn\n",
    "\n",
    "def plot_RGB_matrix(img)->None: \n",
    "    red = img[4, ...]\n",
    "    green = img[3, ...]\n",
    "    blue = img[2, ...]\n",
    "    red_b=brighten(red)\n",
    "    blue_b=brighten(blue)\n",
    "    green_b=brighten(green)\n",
    "\n",
    "    red_bn = normalize(red_b)\n",
    "    green_bn = normalize(green_b)\n",
    "    blue_bn = normalize(blue_b)\n",
    "\n",
    "    rgb_composite_bn= np.dstack((red_bn, green_bn, blue_bn))\n",
    "    plt.imshow(rgb_composite_bn)\n",
    "\n",
    "def normalize(band):\n",
    "    band_min, band_max = (band.min(), band.max())\n",
    "    return ((band-band_min)/((band_max - band_min)))\n",
    "\n",
    "\n",
    "def brighten(band):\n",
    "    alpha=0.13\n",
    "    beta=0\n",
    "    return np.clip(alpha*band+beta, 0,255)\n",
    "\n",
    "\n",
    "def normalize_pixel(X):\n",
    "    X = X/10000\n",
    "    X = np.clip(X, 0, 0.3)\n",
    "    return X"
   ]
  },
  {
   "cell_type": "code",
   "execution_count": 5,
   "id": "476f8376",
   "metadata": {},
   "outputs": [],
   "source": [
    "\n",
    "class Dataset:\n",
    "    def __init__(self, tiff_fname=None):\n",
    "        if tiff_fname:\n",
    "            self.path_to_tiff_file = tiff_fname\n",
    "        else:\n",
    "            self.path_to_tiff_file = '/mnt/bulky2/mgasanov/CARBON/Sentinell2/ForestSentinell2/summer.tiff'\n",
    "        self.dates_images = ['2019-07-01','2019-07-04', '2019-08-03', '2019-08-30',\n",
    "                         '2020-07-03', '2020-07-05', '2020-07-13', '2020-08-04',\n",
    "                         '2020-08-12', '2020-08-17', '2019-08-05', '2019-08-15',\n",
    "                         '2020-08-09', '2019-08-08']\n",
    "        self.path_to_terrain_file = '/mnt/bulky2/mgasanov/CARBON/Sentinell2/ForestSentinell2/terrain.tiff'\n",
    "        \n",
    "        self.terrain_cols = [\"aspect\", \"slope\", \"wetnessindex\",\"sink\"]\n",
    "        self.cols = self.get_all_cols()\n",
    "    def get_all_cols(self):\n",
    "        col_names = [\"B01\",\"B02\",\"B03\",\"B04\",\"B05\",\"B06\",\"B07\",\"B08\",\"B8A\",\"B09\",\"B11\",\"B12\",\"CLM\"]\n",
    "        all_cols = []\n",
    "        for date in sorted(self.dates_images):\n",
    "            for col in col_names:\n",
    "                all_cols.append(date+'_'+col)\n",
    "        return all_cols\n",
    "    \n",
    "    def get_svi_cols(self):\n",
    "        col_names = [\"B01\",\"B02\",\"B03\",\"B04\",\"B05\",\"B06\",\"B07\",\"B08\",\n",
    "                     \"B8A\",\"B09\",\"B11\",\"B12\", \"NDVI\", \"EVI\", \"MSAVI\", \"NDRE\"] # CLM\n",
    "        all_cols = []\n",
    "        for date in sorted(self.dates_images):\n",
    "            for col in col_names:\n",
    "                all_cols.append(date+'_'+col)\n",
    "        return all_cols\n",
    "\n",
    "    \n",
    "    def prepare_forest_classes_dataset(self, gdf: gpd.GeoDataFrame)->pd.DataFrame:\n",
    "\n",
    "        df_indices_field = pd.DataFrame(columns = [*self.cols, \"key\",  'class'])\n",
    "        print('Start bands', end=' ')\n",
    "        for invent_plot_data in gdf.iterrows():\n",
    "\n",
    "            inv_dict = invent_plot_data[1].to_dict()\n",
    "            print(f\"{inv_dict['key'] } \", end=' ')\n",
    "            df = self.get_bands_by_shape(inv_dict, 1.0)\n",
    "            df_indices_field = pd.concat([df_indices_field, df])\n",
    "        \n",
    "        df_indices_field = self.prepare_SVI(df_indices_field)\n",
    "        \n",
    "        print('Start terrain', end=' ')\n",
    "        df_terrain = pd.DataFrame(columns = [*self.terrain_cols, \"key\",  'class'])\n",
    "        for invent_plot_data in gdf.iterrows():\n",
    "\n",
    "            inv_dict = invent_plot_data[1].to_dict()\n",
    "            print(f\"{inv_dict['key'] } \", end=' ')\n",
    "            df = self.get_terrain_by_shape(inv_dict, 1.0)\n",
    "            df_terrain = pd.concat([df_terrain, df])\n",
    "        for col in self.terrain_cols:\n",
    "            df_terrain.loc[:, col] = normalize(df_terrain[col])\n",
    "        return df_indices_field, df_terrain\n",
    "    \n",
    "    def prepare_SVI(self, df:pd.DataFrame)->pd.DataFrame:\n",
    "        for date in self.dates_images:\n",
    "            df = self.get_ndvi(df, date)\n",
    "            df = self.generate_NDRE(df, date)\n",
    "            df = self.evi(df, date)\n",
    "            df = self.generate_MSAVI(df, date)\n",
    "        \n",
    "        svi_cols = self.get_svi_cols()\n",
    "        svi_cols.extend(['key', 'class'])\n",
    "        return df[svi_cols]\n",
    "        \n",
    "    def get_bands_by_shape(self, invent_plot_data:dict, scale:float)->pd.DataFrame:\n",
    "        \"\"\"\n",
    "        Get bands from geotiff by polygon mask\n",
    "\n",
    "        Input: (Polygon) - shape\n",
    "\n",
    "        Output: (pd.DataFrame) - df with bands, date, class \n",
    "\n",
    "        \"\"\"\n",
    "\n",
    "        shape = invent_plot_data['geometry']\n",
    "        shape = scale_geom(shape=shape, scale=scale)\n",
    "        with rio.open(self.path_to_tiff_file) as src:\n",
    "\n",
    "            out_image, out_transform = crop_mask(src, \n",
    "                                                 [shape],\n",
    "                                                 all_touched=True,\n",
    "                                                 crop=True)\n",
    "\n",
    "            out_meta = src.meta \n",
    "            x = out_image[:-4, ...].reshape(len(self.cols), out_image.shape[1]*out_image.shape[2])\n",
    "        df = pd.DataFrame(x.T, columns=self.cols)\n",
    "        mask = df.sum(axis=1)>0\n",
    "        df = df.loc[mask]\n",
    "        df.loc[:, 'key'] = invent_plot_data['key']\n",
    "        df.loc[:, 'class'] = invent_plot_data['t_Class']\n",
    "        df[self.cols] = normalize_pixel(df[self.cols].values)\n",
    "        return df\n",
    "    \n",
    "    def get_terrain_by_shape(self, invent_plot_data:dict, scale:float)->pd.DataFrame:\n",
    "        \"\"\"\n",
    "        Get terrain features from geotiff by polygon mask\n",
    "\n",
    "        Input: (Polygon) - shape\n",
    "\n",
    "        Output: (pd.DataFrame) - df with terrain, key, class \n",
    "\n",
    "        \"\"\"\n",
    "\n",
    "        shape = invent_plot_data['geometry']\n",
    "        shape = scale_geom(shape=shape, scale=scale)\n",
    "        with rio.open(self.path_to_tiff_file) as src:\n",
    "\n",
    "            out_image, out_transform = crop_mask(src, \n",
    "                                                 [shape],\n",
    "                                                 all_touched=True,\n",
    "                                                 crop=True)\n",
    "\n",
    "            out_meta = src.meta \n",
    "            s2 = out_image[2,...]\n",
    "            sub_m = np.where(s2>0, out_image[-4:, ...], -1)\n",
    "            x = sub_m[-4:, ...].reshape(len(self.terrain_cols), out_image.shape[1]*out_image.shape[2])\n",
    "\n",
    "        df = pd.DataFrame(x.T, columns=self.terrain_cols)\n",
    "        mask = df.max(axis=1)==-1\n",
    "        df = df.loc[~mask]\n",
    "        df.loc[:, 'key'] = invent_plot_data['key']\n",
    "        df.loc[:, 'class'] = invent_plot_data['t_Class']        \n",
    "    \n",
    "        return df\n",
    "    def get_ndvi(self, df: pd.DataFrame, date: str):\n",
    "        red = df[f\"{date}_B04\"]\n",
    "        nir = df[f\"{date}_B08\"]\n",
    "        ndvi = (nir-red)/((nir+red).apply(lambda x: 0.000001 if x==0 else x))\n",
    "        df.loc[:, f\"{date}_NDVI\"] = ndvi\n",
    "        return df\n",
    "\n",
    "    def evi(self, df: pd.DataFrame, date: str):\n",
    "        red = df[f\"{date}_B04\"]\n",
    "        nir = df[f\"{date}_B08\"]\n",
    "        evi2 = 2.5*(nir - red)/((nir+ 2.4*red + 1).apply(lambda x: 0.000001 if x==0 else x))\n",
    "        df.loc[:, f\"{date}_EVI\"] = evi2\n",
    "        return df\n",
    "\n",
    "    def generate_NDRE(self, df: pd.DataFrame, date: str):\n",
    "        red_far = df[f\"{date}_B05\"]\n",
    "        nir = df[f\"{date}_B08\"]\n",
    "        ndre = (nir - red_far)/((nir + red_far).apply(lambda x: 0.000001 if x==0 else x))\n",
    "        df.loc[:, f\"{date}_NDRE\"] = ndre\n",
    "        return df\n",
    "\n",
    "    def generate_MSAVI(self, df: pd.DataFrame, date: str):\n",
    "        red = df[f\"{date}_B04\"]\n",
    "        nir = df[f\"{date}_B08\"]\n",
    "        msavi=(2*nir + 1 - ((2*nir+1)**2 - 8*(nir-red))**(1/2))/2\n",
    "        df.loc[:, f\"{date}_MSAVI\"] = msavi\n",
    "        return df"
   ]
  },
  {
   "cell_type": "code",
   "execution_count": 6,
   "id": "c3679aea",
   "metadata": {},
   "outputs": [],
   "source": [
    "mask_forest = gdf['t_Class']<11\n",
    "forest_gdf = gdf.loc[mask_forest]"
   ]
  },
  {
   "cell_type": "code",
   "execution_count": 7,
   "id": "5e9923e2",
   "metadata": {},
   "outputs": [
    {
     "name": "stdout",
     "output_type": "stream",
     "text": [
      "Start bands 0  1  2  3  4  5  6  7  8  9  10  11  12  13  14  15  16  17  18  19  20  21  22  23  24  25  26  27  28  29  30  31  32  33  34  35  36  37  38  39  40  41  42  43  44  45  46  47  48  49  50  51  52  53  54  55  56  57  58  59  60  61  62  63  64  65  66  67  68  69  70  71  72  73  74  75  76  77  78  79  80  81  82  83  84  85  86  87  88  89  90  91  92  93  94  95  96  97  98  99  100  101  102  103  104  105  106  107  108  109  110  111  112  113  114  115  116  117  118  119  120  121  122  123  124  125  126  127  128  129  130  131  132  133  134  135  136  137  138  139  140  141  142  143  144  145  146  147  148  149  150  151  152  153  154  155  156  157  158  159  160  161  162  163  164  165  166  167  168  169  170  171  172  173  174  175  176  177  178  179  180  181  182  183  184  185  186  187  188  189  190  191  192  193  194  195  196  197  198  199  200  201  202  203  204  205  206  207  208  209  210  211  212  213  214  215  216  217  218  219  220  221  222  223  224  225  226  227  228  229  230  231  232  233  234  235  236  237  238  239  240  241  242  243  244  245  246  247  248  249  250  251  252  253  254  255  256  257  258  259  260  261  262  263  264  265  266  267  268  269  270  271  272  273  274  275  276  277  278  279  280  281  282  283  284  285  286  287  "
     ]
    },
    {
     "name": "stderr",
     "output_type": "stream",
     "text": [
      "/Users/mikhailgasanov/geo/lib/python3.8/site-packages/pandas/core/indexing.py:1667: PerformanceWarning: DataFrame is highly fragmented.  This is usually the result of calling `frame.insert` many times, which has poor performance.  Consider joining all columns at once using pd.concat(axis=1) instead.  To get a de-fragmented frame, use `newframe = frame.copy()`\n",
      "  self.obj[key] = value\n"
     ]
    },
    {
     "name": "stdout",
     "output_type": "stream",
     "text": [
      "Start terrain 0  1  2  3  4  5  6  7  8  9  10  11  12  13  14  15  16  17  18  19  20  21  22  23  24  25  26  27  28  29  30  31  32  33  34  35  36  37  38  39  40  41  42  43  44  45  46  47  48  49  50  51  52  53  54  55  56  57  58  59  60  61  62  63  64  65  66  67  68  69  70  71  72  73  74  75  76  77  78  79  80  81  82  83  84  85  86  87  88  89  90  91  92  93  94  95  96  97  98  99  100  101  102  103  104  105  106  107  108  109  110  111  112  113  114  115  116  117  118  119  120  121  122  123  124  125  126  127  128  129  130  131  132  133  134  135  136  137  138  139  140  141  142  143  144  145  146  147  148  149  150  151  152  153  154  155  156  157  158  159  160  161  162  163  164  165  166  167  168  169  170  171  172  173  174  175  176  177  178  179  180  181  182  183  184  185  186  187  188  189  190  191  192  193  194  195  196  197  198  199  200  201  202  203  204  205  206  207  208  209  210  211  212  213  214  215  216  217  218  219  220  221  222  223  224  225  226  227  228  229  230  231  232  233  234  235  236  237  238  239  240  241  242  243  244  245  246  247  248  249  250  251  252  253  254  255  256  257  258  259  260  261  262  263  264  265  266  267  268  269  270  271  272  273  274  275  276  277  278  279  280  281  282  283  284  285  286  287  "
     ]
    }
   ],
   "source": [
    "dataset = Dataset(tiff_fname='../rasters/summer.tiff')\n",
    "bands, terrain = dataset.prepare_forest_classes_dataset(gdf=gdf)"
   ]
  },
  {
   "cell_type": "code",
   "execution_count": 127,
   "id": "b740a431",
   "metadata": {},
   "outputs": [
    {
     "data": {
      "text/html": [
       "<div>\n",
       "<style scoped>\n",
       "    .dataframe tbody tr th:only-of-type {\n",
       "        vertical-align: middle;\n",
       "    }\n",
       "\n",
       "    .dataframe tbody tr th {\n",
       "        vertical-align: top;\n",
       "    }\n",
       "\n",
       "    .dataframe thead th {\n",
       "        text-align: right;\n",
       "    }\n",
       "</style>\n",
       "<table border=\"1\" class=\"dataframe\">\n",
       "  <thead>\n",
       "    <tr style=\"text-align: right;\">\n",
       "      <th></th>\n",
       "      <th>2019-07-01_B01</th>\n",
       "      <th>2019-07-01_B02</th>\n",
       "      <th>2019-07-01_B03</th>\n",
       "      <th>2019-07-01_B04</th>\n",
       "      <th>2019-07-01_B05</th>\n",
       "      <th>2019-07-01_B06</th>\n",
       "      <th>2019-07-01_B07</th>\n",
       "      <th>2019-07-01_B08</th>\n",
       "      <th>2019-07-01_B8A</th>\n",
       "      <th>2019-07-01_B09</th>\n",
       "      <th>...</th>\n",
       "      <th>2020-08-17_B8A</th>\n",
       "      <th>2020-08-17_B09</th>\n",
       "      <th>2020-08-17_B11</th>\n",
       "      <th>2020-08-17_B12</th>\n",
       "      <th>2020-08-17_NDVI</th>\n",
       "      <th>2020-08-17_EVI</th>\n",
       "      <th>2020-08-17_MSAVI</th>\n",
       "      <th>2020-08-17_NDRE</th>\n",
       "      <th>key</th>\n",
       "      <th>class</th>\n",
       "    </tr>\n",
       "  </thead>\n",
       "  <tbody>\n",
       "    <tr>\n",
       "      <th>0</th>\n",
       "      <td>0.0299</td>\n",
       "      <td>0.0250</td>\n",
       "      <td>0.0386</td>\n",
       "      <td>0.0248</td>\n",
       "      <td>0.0690</td>\n",
       "      <td>0.1873</td>\n",
       "      <td>0.2122</td>\n",
       "      <td>0.2031</td>\n",
       "      <td>0.2297</td>\n",
       "      <td>0.2290</td>\n",
       "      <td>...</td>\n",
       "      <td>0.2028</td>\n",
       "      <td>0.2074</td>\n",
       "      <td>0.0818</td>\n",
       "      <td>0.0354</td>\n",
       "      <td>0.808142</td>\n",
       "      <td>0.347513</td>\n",
       "      <td>0.325605</td>\n",
       "      <td>0.574572</td>\n",
       "      <td>0</td>\n",
       "      <td>7</td>\n",
       "    </tr>\n",
       "    <tr>\n",
       "      <th>1</th>\n",
       "      <td>0.0299</td>\n",
       "      <td>0.0264</td>\n",
       "      <td>0.0423</td>\n",
       "      <td>0.0267</td>\n",
       "      <td>0.0690</td>\n",
       "      <td>0.1873</td>\n",
       "      <td>0.2122</td>\n",
       "      <td>0.2128</td>\n",
       "      <td>0.2297</td>\n",
       "      <td>0.2290</td>\n",
       "      <td>...</td>\n",
       "      <td>0.2028</td>\n",
       "      <td>0.2074</td>\n",
       "      <td>0.0818</td>\n",
       "      <td>0.0354</td>\n",
       "      <td>0.826827</td>\n",
       "      <td>0.337413</td>\n",
       "      <td>0.314524</td>\n",
       "      <td>0.555177</td>\n",
       "      <td>0</td>\n",
       "      <td>7</td>\n",
       "    </tr>\n",
       "    <tr>\n",
       "      <th>2</th>\n",
       "      <td>0.0299</td>\n",
       "      <td>0.0255</td>\n",
       "      <td>0.0433</td>\n",
       "      <td>0.0245</td>\n",
       "      <td>0.0703</td>\n",
       "      <td>0.1919</td>\n",
       "      <td>0.2245</td>\n",
       "      <td>0.2281</td>\n",
       "      <td>0.2365</td>\n",
       "      <td>0.2290</td>\n",
       "      <td>...</td>\n",
       "      <td>0.2071</td>\n",
       "      <td>0.2074</td>\n",
       "      <td>0.0808</td>\n",
       "      <td>0.0359</td>\n",
       "      <td>0.832451</td>\n",
       "      <td>0.350835</td>\n",
       "      <td>0.328756</td>\n",
       "      <td>0.559197</td>\n",
       "      <td>0</td>\n",
       "      <td>7</td>\n",
       "    </tr>\n",
       "    <tr>\n",
       "      <th>3</th>\n",
       "      <td>0.0299</td>\n",
       "      <td>0.0274</td>\n",
       "      <td>0.0443</td>\n",
       "      <td>0.0272</td>\n",
       "      <td>0.0690</td>\n",
       "      <td>0.1873</td>\n",
       "      <td>0.2122</td>\n",
       "      <td>0.2174</td>\n",
       "      <td>0.2297</td>\n",
       "      <td>0.2290</td>\n",
       "      <td>...</td>\n",
       "      <td>0.2028</td>\n",
       "      <td>0.2074</td>\n",
       "      <td>0.0818</td>\n",
       "      <td>0.0354</td>\n",
       "      <td>0.809479</td>\n",
       "      <td>0.347356</td>\n",
       "      <td>0.325415</td>\n",
       "      <td>0.573878</td>\n",
       "      <td>0</td>\n",
       "      <td>7</td>\n",
       "    </tr>\n",
       "    <tr>\n",
       "      <th>4</th>\n",
       "      <td>0.0299</td>\n",
       "      <td>0.0272</td>\n",
       "      <td>0.0414</td>\n",
       "      <td>0.0275</td>\n",
       "      <td>0.0690</td>\n",
       "      <td>0.1873</td>\n",
       "      <td>0.2122</td>\n",
       "      <td>0.2288</td>\n",
       "      <td>0.2297</td>\n",
       "      <td>0.2290</td>\n",
       "      <td>...</td>\n",
       "      <td>0.2028</td>\n",
       "      <td>0.2074</td>\n",
       "      <td>0.0818</td>\n",
       "      <td>0.0354</td>\n",
       "      <td>0.826750</td>\n",
       "      <td>0.368453</td>\n",
       "      <td>0.347814</td>\n",
       "      <td>0.591709</td>\n",
       "      <td>0</td>\n",
       "      <td>7</td>\n",
       "    </tr>\n",
       "    <tr>\n",
       "      <th>...</th>\n",
       "      <td>...</td>\n",
       "      <td>...</td>\n",
       "      <td>...</td>\n",
       "      <td>...</td>\n",
       "      <td>...</td>\n",
       "      <td>...</td>\n",
       "      <td>...</td>\n",
       "      <td>...</td>\n",
       "      <td>...</td>\n",
       "      <td>...</td>\n",
       "      <td>...</td>\n",
       "      <td>...</td>\n",
       "      <td>...</td>\n",
       "      <td>...</td>\n",
       "      <td>...</td>\n",
       "      <td>...</td>\n",
       "      <td>...</td>\n",
       "      <td>...</td>\n",
       "      <td>...</td>\n",
       "      <td>...</td>\n",
       "      <td>...</td>\n",
       "    </tr>\n",
       "    <tr>\n",
       "      <th>4</th>\n",
       "      <td>0.0293</td>\n",
       "      <td>0.0291</td>\n",
       "      <td>0.0456</td>\n",
       "      <td>0.0342</td>\n",
       "      <td>0.0735</td>\n",
       "      <td>0.1699</td>\n",
       "      <td>0.1850</td>\n",
       "      <td>0.1829</td>\n",
       "      <td>0.1986</td>\n",
       "      <td>0.2181</td>\n",
       "      <td>...</td>\n",
       "      <td>0.1701</td>\n",
       "      <td>0.1767</td>\n",
       "      <td>0.1559</td>\n",
       "      <td>0.0965</td>\n",
       "      <td>0.694069</td>\n",
       "      <td>0.270400</td>\n",
       "      <td>0.247464</td>\n",
       "      <td>0.387894</td>\n",
       "      <td>287</td>\n",
       "      <td>15</td>\n",
       "    </tr>\n",
       "    <tr>\n",
       "      <th>5</th>\n",
       "      <td>0.0293</td>\n",
       "      <td>0.0326</td>\n",
       "      <td>0.0499</td>\n",
       "      <td>0.0364</td>\n",
       "      <td>0.0735</td>\n",
       "      <td>0.1699</td>\n",
       "      <td>0.1850</td>\n",
       "      <td>0.1935</td>\n",
       "      <td>0.1986</td>\n",
       "      <td>0.2181</td>\n",
       "      <td>...</td>\n",
       "      <td>0.1701</td>\n",
       "      <td>0.1767</td>\n",
       "      <td>0.1559</td>\n",
       "      <td>0.0965</td>\n",
       "      <td>0.689274</td>\n",
       "      <td>0.285886</td>\n",
       "      <td>0.263489</td>\n",
       "      <td>0.419563</td>\n",
       "      <td>287</td>\n",
       "      <td>15</td>\n",
       "    </tr>\n",
       "    <tr>\n",
       "      <th>6</th>\n",
       "      <td>0.0293</td>\n",
       "      <td>0.0288</td>\n",
       "      <td>0.0455</td>\n",
       "      <td>0.0312</td>\n",
       "      <td>0.0719</td>\n",
       "      <td>0.1829</td>\n",
       "      <td>0.2060</td>\n",
       "      <td>0.1912</td>\n",
       "      <td>0.2111</td>\n",
       "      <td>0.2181</td>\n",
       "      <td>...</td>\n",
       "      <td>0.1788</td>\n",
       "      <td>0.1767</td>\n",
       "      <td>0.1494</td>\n",
       "      <td>0.0933</td>\n",
       "      <td>0.696226</td>\n",
       "      <td>0.293537</td>\n",
       "      <td>0.271232</td>\n",
       "      <td>0.413522</td>\n",
       "      <td>287</td>\n",
       "      <td>15</td>\n",
       "    </tr>\n",
       "    <tr>\n",
       "      <th>7</th>\n",
       "      <td>0.0293</td>\n",
       "      <td>0.0314</td>\n",
       "      <td>0.0440</td>\n",
       "      <td>0.0325</td>\n",
       "      <td>0.0759</td>\n",
       "      <td>0.1772</td>\n",
       "      <td>0.1887</td>\n",
       "      <td>0.1687</td>\n",
       "      <td>0.2056</td>\n",
       "      <td>0.2181</td>\n",
       "      <td>...</td>\n",
       "      <td>0.1849</td>\n",
       "      <td>0.1767</td>\n",
       "      <td>0.1540</td>\n",
       "      <td>0.0932</td>\n",
       "      <td>0.715407</td>\n",
       "      <td>0.292912</td>\n",
       "      <td>0.270133</td>\n",
       "      <td>0.408541</td>\n",
       "      <td>287</td>\n",
       "      <td>15</td>\n",
       "    </tr>\n",
       "    <tr>\n",
       "      <th>8</th>\n",
       "      <td>0.0293</td>\n",
       "      <td>0.0317</td>\n",
       "      <td>0.0478</td>\n",
       "      <td>0.0347</td>\n",
       "      <td>0.0759</td>\n",
       "      <td>0.1772</td>\n",
       "      <td>0.1887</td>\n",
       "      <td>0.1927</td>\n",
       "      <td>0.2056</td>\n",
       "      <td>0.2181</td>\n",
       "      <td>...</td>\n",
       "      <td>0.1849</td>\n",
       "      <td>0.1767</td>\n",
       "      <td>0.1540</td>\n",
       "      <td>0.0932</td>\n",
       "      <td>0.703597</td>\n",
       "      <td>0.292987</td>\n",
       "      <td>0.270486</td>\n",
       "      <td>0.415139</td>\n",
       "      <td>287</td>\n",
       "      <td>15</td>\n",
       "    </tr>\n",
       "  </tbody>\n",
       "</table>\n",
       "<p>21649 rows × 226 columns</p>\n",
       "</div>"
      ],
      "text/plain": [
       "    2019-07-01_B01  2019-07-01_B02  2019-07-01_B03  2019-07-01_B04  \\\n",
       "0           0.0299          0.0250          0.0386          0.0248   \n",
       "1           0.0299          0.0264          0.0423          0.0267   \n",
       "2           0.0299          0.0255          0.0433          0.0245   \n",
       "3           0.0299          0.0274          0.0443          0.0272   \n",
       "4           0.0299          0.0272          0.0414          0.0275   \n",
       "..             ...             ...             ...             ...   \n",
       "4           0.0293          0.0291          0.0456          0.0342   \n",
       "5           0.0293          0.0326          0.0499          0.0364   \n",
       "6           0.0293          0.0288          0.0455          0.0312   \n",
       "7           0.0293          0.0314          0.0440          0.0325   \n",
       "8           0.0293          0.0317          0.0478          0.0347   \n",
       "\n",
       "    2019-07-01_B05  2019-07-01_B06  2019-07-01_B07  2019-07-01_B08  \\\n",
       "0           0.0690          0.1873          0.2122          0.2031   \n",
       "1           0.0690          0.1873          0.2122          0.2128   \n",
       "2           0.0703          0.1919          0.2245          0.2281   \n",
       "3           0.0690          0.1873          0.2122          0.2174   \n",
       "4           0.0690          0.1873          0.2122          0.2288   \n",
       "..             ...             ...             ...             ...   \n",
       "4           0.0735          0.1699          0.1850          0.1829   \n",
       "5           0.0735          0.1699          0.1850          0.1935   \n",
       "6           0.0719          0.1829          0.2060          0.1912   \n",
       "7           0.0759          0.1772          0.1887          0.1687   \n",
       "8           0.0759          0.1772          0.1887          0.1927   \n",
       "\n",
       "    2019-07-01_B8A  2019-07-01_B09  ...  2020-08-17_B8A  2020-08-17_B09  \\\n",
       "0           0.2297          0.2290  ...          0.2028          0.2074   \n",
       "1           0.2297          0.2290  ...          0.2028          0.2074   \n",
       "2           0.2365          0.2290  ...          0.2071          0.2074   \n",
       "3           0.2297          0.2290  ...          0.2028          0.2074   \n",
       "4           0.2297          0.2290  ...          0.2028          0.2074   \n",
       "..             ...             ...  ...             ...             ...   \n",
       "4           0.1986          0.2181  ...          0.1701          0.1767   \n",
       "5           0.1986          0.2181  ...          0.1701          0.1767   \n",
       "6           0.2111          0.2181  ...          0.1788          0.1767   \n",
       "7           0.2056          0.2181  ...          0.1849          0.1767   \n",
       "8           0.2056          0.2181  ...          0.1849          0.1767   \n",
       "\n",
       "    2020-08-17_B11  2020-08-17_B12  2020-08-17_NDVI  2020-08-17_EVI  \\\n",
       "0           0.0818          0.0354         0.808142        0.347513   \n",
       "1           0.0818          0.0354         0.826827        0.337413   \n",
       "2           0.0808          0.0359         0.832451        0.350835   \n",
       "3           0.0818          0.0354         0.809479        0.347356   \n",
       "4           0.0818          0.0354         0.826750        0.368453   \n",
       "..             ...             ...              ...             ...   \n",
       "4           0.1559          0.0965         0.694069        0.270400   \n",
       "5           0.1559          0.0965         0.689274        0.285886   \n",
       "6           0.1494          0.0933         0.696226        0.293537   \n",
       "7           0.1540          0.0932         0.715407        0.292912   \n",
       "8           0.1540          0.0932         0.703597        0.292987   \n",
       "\n",
       "    2020-08-17_MSAVI  2020-08-17_NDRE  key  class  \n",
       "0           0.325605         0.574572    0      7  \n",
       "1           0.314524         0.555177    0      7  \n",
       "2           0.328756         0.559197    0      7  \n",
       "3           0.325415         0.573878    0      7  \n",
       "4           0.347814         0.591709    0      7  \n",
       "..               ...              ...  ...    ...  \n",
       "4           0.247464         0.387894  287     15  \n",
       "5           0.263489         0.419563  287     15  \n",
       "6           0.271232         0.413522  287     15  \n",
       "7           0.270133         0.408541  287     15  \n",
       "8           0.270486         0.415139  287     15  \n",
       "\n",
       "[21649 rows x 226 columns]"
      ]
     },
     "execution_count": 127,
     "metadata": {},
     "output_type": "execute_result"
    }
   ],
   "source": [
    "bands"
   ]
  },
  {
   "cell_type": "markdown",
   "id": "5d28b82f",
   "metadata": {},
   "source": [
    "## 2.  Remove correlated bands"
   ]
  },
  {
   "cell_type": "code",
   "execution_count": 8,
   "id": "ab311a80",
   "metadata": {},
   "outputs": [
    {
     "name": "stdout",
     "output_type": "stream",
     "text": [
      "All bands:  226\n",
      "Non correlated bands:  50\n"
     ]
    }
   ],
   "source": [
    "print(\"All bands: \", len(bands.columns))\n",
    "\n",
    "\n",
    "corr_matrix = bands.iloc[:, :-2].corr().abs()\n",
    "\n",
    "# Select upper triangle of correlation matrix\n",
    "upper = corr_matrix.where(np.triu(np.ones(corr_matrix.shape), k=1).astype(np.bool_))\n",
    "\n",
    "# Find features with correlation greater than 0.95\n",
    "to_drop = [column for column in upper.columns if any(upper[column] > 0.99)]\n",
    "\n",
    "# Drop features \n",
    "non_cor_bands = bands.drop(to_drop, axis=1)\n",
    "\n",
    "print(\"Non correlated bands: \", len(non_cor_bands.columns))"
   ]
  },
  {
   "cell_type": "code",
   "execution_count": 10,
   "id": "f9bcb055",
   "metadata": {},
   "outputs": [
    {
     "data": {
      "text/plain": [
       "<AxesSubplot:ylabel='Count'>"
      ]
     },
     "execution_count": 10,
     "metadata": {},
     "output_type": "execute_result"
    },
    {
     "data": {
      "image/png": "[encoded data removed]",
      "text/plain": [
       "<Figure size 432x288 with 1 Axes>"
      ]
     },
     "metadata": {
      "needs_background": "light"
     },
     "output_type": "display_data"
    }
   ],
   "source": [
    "sns.histplot([x.split('_')[1] for x in cols_non_corrs[:-2]])"
   ]
  },
  {
   "cell_type": "code",
   "execution_count": 13,
   "id": "a0940521",
   "metadata": {},
   "outputs": [],
   "source": [
    "df = pd.concat([non_cor_bands.iloc[:,:-4], terrain], axis=1)"
   ]
  },
  {
   "cell_type": "code",
   "execution_count": 14,
   "id": "bf9e2aa5",
   "metadata": {},
   "outputs": [
    {
     "data": {
      "text/html": [
       "<div>\n",
       "<style scoped>\n",
       "    .dataframe tbody tr th:only-of-type {\n",
       "        vertical-align: middle;\n",
       "    }\n",
       "\n",
       "    .dataframe tbody tr th {\n",
       "        vertical-align: top;\n",
       "    }\n",
       "\n",
       "    .dataframe thead th {\n",
       "        text-align: right;\n",
       "    }\n",
       "</style>\n",
       "<table border=\"1\" class=\"dataframe\">\n",
       "  <thead>\n",
       "    <tr style=\"text-align: right;\">\n",
       "      <th></th>\n",
       "      <th>2019-07-01_B01</th>\n",
       "      <th>2019-07-01_B03</th>\n",
       "      <th>2019-07-01_B05</th>\n",
       "      <th>2019-07-01_B06</th>\n",
       "      <th>2019-07-04_B01</th>\n",
       "      <th>2019-07-04_B02</th>\n",
       "      <th>2019-07-04_B03</th>\n",
       "      <th>2019-07-04_B04</th>\n",
       "      <th>2019-08-03_B01</th>\n",
       "      <th>2019-08-03_B02</th>\n",
       "      <th>...</th>\n",
       "      <th>2020-08-12_B02</th>\n",
       "      <th>2020-08-12_B03</th>\n",
       "      <th>2020-08-12_B04</th>\n",
       "      <th>2020-08-12_B05</th>\n",
       "      <th>aspect</th>\n",
       "      <th>slope</th>\n",
       "      <th>wetnessindex</th>\n",
       "      <th>sink</th>\n",
       "      <th>key</th>\n",
       "      <th>class</th>\n",
       "    </tr>\n",
       "  </thead>\n",
       "  <tbody>\n",
       "    <tr>\n",
       "      <th>0</th>\n",
       "      <td>0.0299</td>\n",
       "      <td>0.0386</td>\n",
       "      <td>0.0690</td>\n",
       "      <td>0.1873</td>\n",
       "      <td>0.0234</td>\n",
       "      <td>0.0242</td>\n",
       "      <td>0.0394</td>\n",
       "      <td>0.0242</td>\n",
       "      <td>0.0254</td>\n",
       "      <td>0.0286</td>\n",
       "      <td>...</td>\n",
       "      <td>0.0339</td>\n",
       "      <td>0.0427</td>\n",
       "      <td>0.0252</td>\n",
       "      <td>0.0613</td>\n",
       "      <td>0.744318</td>\n",
       "      <td>0.036585</td>\n",
       "      <td>0.888889</td>\n",
       "      <td>0.811704</td>\n",
       "      <td>0</td>\n",
       "      <td>7</td>\n",
       "    </tr>\n",
       "    <tr>\n",
       "      <th>1</th>\n",
       "      <td>0.0299</td>\n",
       "      <td>0.0423</td>\n",
       "      <td>0.0690</td>\n",
       "      <td>0.1873</td>\n",
       "      <td>0.0234</td>\n",
       "      <td>0.0245</td>\n",
       "      <td>0.0366</td>\n",
       "      <td>0.0218</td>\n",
       "      <td>0.0254</td>\n",
       "      <td>0.0269</td>\n",
       "      <td>...</td>\n",
       "      <td>0.0339</td>\n",
       "      <td>0.0440</td>\n",
       "      <td>0.0235</td>\n",
       "      <td>0.0613</td>\n",
       "      <td>0.775568</td>\n",
       "      <td>0.04878</td>\n",
       "      <td>0.888889</td>\n",
       "      <td>0.811704</td>\n",
       "      <td>0</td>\n",
       "      <td>7</td>\n",
       "    </tr>\n",
       "    <tr>\n",
       "      <th>2</th>\n",
       "      <td>0.0299</td>\n",
       "      <td>0.0433</td>\n",
       "      <td>0.0703</td>\n",
       "      <td>0.1919</td>\n",
       "      <td>0.0234</td>\n",
       "      <td>0.0267</td>\n",
       "      <td>0.0358</td>\n",
       "      <td>0.0219</td>\n",
       "      <td>0.0254</td>\n",
       "      <td>0.0273</td>\n",
       "      <td>...</td>\n",
       "      <td>0.0334</td>\n",
       "      <td>0.0425</td>\n",
       "      <td>0.0256</td>\n",
       "      <td>0.0599</td>\n",
       "      <td>0.832386</td>\n",
       "      <td>0.04878</td>\n",
       "      <td>0.888889</td>\n",
       "      <td>0.831373</td>\n",
       "      <td>0</td>\n",
       "      <td>7</td>\n",
       "    </tr>\n",
       "    <tr>\n",
       "      <th>3</th>\n",
       "      <td>0.0299</td>\n",
       "      <td>0.0443</td>\n",
       "      <td>0.0690</td>\n",
       "      <td>0.1873</td>\n",
       "      <td>0.0234</td>\n",
       "      <td>0.0251</td>\n",
       "      <td>0.0383</td>\n",
       "      <td>0.0251</td>\n",
       "      <td>0.0254</td>\n",
       "      <td>0.0268</td>\n",
       "      <td>...</td>\n",
       "      <td>0.0327</td>\n",
       "      <td>0.0420</td>\n",
       "      <td>0.0258</td>\n",
       "      <td>0.0613</td>\n",
       "      <td>0.744318</td>\n",
       "      <td>0.036585</td>\n",
       "      <td>0.888889</td>\n",
       "      <td>0.811704</td>\n",
       "      <td>0</td>\n",
       "      <td>7</td>\n",
       "    </tr>\n",
       "    <tr>\n",
       "      <th>4</th>\n",
       "      <td>0.0299</td>\n",
       "      <td>0.0414</td>\n",
       "      <td>0.0690</td>\n",
       "      <td>0.1873</td>\n",
       "      <td>0.0234</td>\n",
       "      <td>0.0251</td>\n",
       "      <td>0.0401</td>\n",
       "      <td>0.0234</td>\n",
       "      <td>0.0254</td>\n",
       "      <td>0.0271</td>\n",
       "      <td>...</td>\n",
       "      <td>0.0331</td>\n",
       "      <td>0.0422</td>\n",
       "      <td>0.0249</td>\n",
       "      <td>0.0613</td>\n",
       "      <td>0.767045</td>\n",
       "      <td>0.060976</td>\n",
       "      <td>0.777778</td>\n",
       "      <td>0.811704</td>\n",
       "      <td>0</td>\n",
       "      <td>7</td>\n",
       "    </tr>\n",
       "    <tr>\n",
       "      <th>...</th>\n",
       "      <td>...</td>\n",
       "      <td>...</td>\n",
       "      <td>...</td>\n",
       "      <td>...</td>\n",
       "      <td>...</td>\n",
       "      <td>...</td>\n",
       "      <td>...</td>\n",
       "      <td>...</td>\n",
       "      <td>...</td>\n",
       "      <td>...</td>\n",
       "      <td>...</td>\n",
       "      <td>...</td>\n",
       "      <td>...</td>\n",
       "      <td>...</td>\n",
       "      <td>...</td>\n",
       "      <td>...</td>\n",
       "      <td>...</td>\n",
       "      <td>...</td>\n",
       "      <td>...</td>\n",
       "      <td>...</td>\n",
       "      <td>...</td>\n",
       "    </tr>\n",
       "    <tr>\n",
       "      <th>4</th>\n",
       "      <td>0.0293</td>\n",
       "      <td>0.0456</td>\n",
       "      <td>0.0735</td>\n",
       "      <td>0.1699</td>\n",
       "      <td>0.0245</td>\n",
       "      <td>0.0267</td>\n",
       "      <td>0.0436</td>\n",
       "      <td>0.0282</td>\n",
       "      <td>0.0261</td>\n",
       "      <td>0.0296</td>\n",
       "      <td>...</td>\n",
       "      <td>0.0351</td>\n",
       "      <td>0.0484</td>\n",
       "      <td>0.0361</td>\n",
       "      <td>0.0769</td>\n",
       "      <td>0.105114</td>\n",
       "      <td>0.02439</td>\n",
       "      <td>0.888889</td>\n",
       "      <td>0.85037</td>\n",
       "      <td>287</td>\n",
       "      <td>15</td>\n",
       "    </tr>\n",
       "    <tr>\n",
       "      <th>5</th>\n",
       "      <td>0.0293</td>\n",
       "      <td>0.0499</td>\n",
       "      <td>0.0735</td>\n",
       "      <td>0.1699</td>\n",
       "      <td>0.0245</td>\n",
       "      <td>0.0291</td>\n",
       "      <td>0.0484</td>\n",
       "      <td>0.0339</td>\n",
       "      <td>0.0261</td>\n",
       "      <td>0.0306</td>\n",
       "      <td>...</td>\n",
       "      <td>0.0389</td>\n",
       "      <td>0.0515</td>\n",
       "      <td>0.0394</td>\n",
       "      <td>0.0769</td>\n",
       "      <td>0.360795</td>\n",
       "      <td>0.02439</td>\n",
       "      <td>0.888889</td>\n",
       "      <td>0.800214</td>\n",
       "      <td>287</td>\n",
       "      <td>15</td>\n",
       "    </tr>\n",
       "    <tr>\n",
       "      <th>6</th>\n",
       "      <td>0.0293</td>\n",
       "      <td>0.0455</td>\n",
       "      <td>0.0719</td>\n",
       "      <td>0.1829</td>\n",
       "      <td>0.0245</td>\n",
       "      <td>0.0263</td>\n",
       "      <td>0.0442</td>\n",
       "      <td>0.0284</td>\n",
       "      <td>0.0261</td>\n",
       "      <td>0.0266</td>\n",
       "      <td>...</td>\n",
       "      <td>0.0338</td>\n",
       "      <td>0.0472</td>\n",
       "      <td>0.0347</td>\n",
       "      <td>0.0799</td>\n",
       "      <td>0.744318</td>\n",
       "      <td>0.0</td>\n",
       "      <td>0.0</td>\n",
       "      <td>0.85037</td>\n",
       "      <td>287</td>\n",
       "      <td>15</td>\n",
       "    </tr>\n",
       "    <tr>\n",
       "      <th>7</th>\n",
       "      <td>0.0293</td>\n",
       "      <td>0.0440</td>\n",
       "      <td>0.0759</td>\n",
       "      <td>0.1772</td>\n",
       "      <td>0.0245</td>\n",
       "      <td>0.0264</td>\n",
       "      <td>0.0432</td>\n",
       "      <td>0.0288</td>\n",
       "      <td>0.0261</td>\n",
       "      <td>0.0263</td>\n",
       "      <td>...</td>\n",
       "      <td>0.0336</td>\n",
       "      <td>0.0480</td>\n",
       "      <td>0.0361</td>\n",
       "      <td>0.0795</td>\n",
       "      <td>0.232955</td>\n",
       "      <td>0.036585</td>\n",
       "      <td>0.888889</td>\n",
       "      <td>0.85037</td>\n",
       "      <td>287</td>\n",
       "      <td>15</td>\n",
       "    </tr>\n",
       "    <tr>\n",
       "      <th>8</th>\n",
       "      <td>0.0293</td>\n",
       "      <td>0.0478</td>\n",
       "      <td>0.0759</td>\n",
       "      <td>0.1772</td>\n",
       "      <td>0.0245</td>\n",
       "      <td>0.0299</td>\n",
       "      <td>0.0471</td>\n",
       "      <td>0.0321</td>\n",
       "      <td>0.0261</td>\n",
       "      <td>0.0295</td>\n",
       "      <td>...</td>\n",
       "      <td>0.0361</td>\n",
       "      <td>0.0503</td>\n",
       "      <td>0.0392</td>\n",
       "      <td>0.0795</td>\n",
       "      <td>0.232955</td>\n",
       "      <td>0.036585</td>\n",
       "      <td>0.888889</td>\n",
       "      <td>0.800214</td>\n",
       "      <td>287</td>\n",
       "      <td>15</td>\n",
       "    </tr>\n",
       "  </tbody>\n",
       "</table>\n",
       "<p>21649 rows × 52 columns</p>\n",
       "</div>"
      ],
      "text/plain": [
       "    2019-07-01_B01  2019-07-01_B03  2019-07-01_B05  2019-07-01_B06  \\\n",
       "0           0.0299          0.0386          0.0690          0.1873   \n",
       "1           0.0299          0.0423          0.0690          0.1873   \n",
       "2           0.0299          0.0433          0.0703          0.1919   \n",
       "3           0.0299          0.0443          0.0690          0.1873   \n",
       "4           0.0299          0.0414          0.0690          0.1873   \n",
       "..             ...             ...             ...             ...   \n",
       "4           0.0293          0.0456          0.0735          0.1699   \n",
       "5           0.0293          0.0499          0.0735          0.1699   \n",
       "6           0.0293          0.0455          0.0719          0.1829   \n",
       "7           0.0293          0.0440          0.0759          0.1772   \n",
       "8           0.0293          0.0478          0.0759          0.1772   \n",
       "\n",
       "    2019-07-04_B01  2019-07-04_B02  2019-07-04_B03  2019-07-04_B04  \\\n",
       "0           0.0234          0.0242          0.0394          0.0242   \n",
       "1           0.0234          0.0245          0.0366          0.0218   \n",
       "2           0.0234          0.0267          0.0358          0.0219   \n",
       "3           0.0234          0.0251          0.0383          0.0251   \n",
       "4           0.0234          0.0251          0.0401          0.0234   \n",
       "..             ...             ...             ...             ...   \n",
       "4           0.0245          0.0267          0.0436          0.0282   \n",
       "5           0.0245          0.0291          0.0484          0.0339   \n",
       "6           0.0245          0.0263          0.0442          0.0284   \n",
       "7           0.0245          0.0264          0.0432          0.0288   \n",
       "8           0.0245          0.0299          0.0471          0.0321   \n",
       "\n",
       "    2019-08-03_B01  2019-08-03_B02  ...  2020-08-12_B02  2020-08-12_B03  \\\n",
       "0           0.0254          0.0286  ...          0.0339          0.0427   \n",
       "1           0.0254          0.0269  ...          0.0339          0.0440   \n",
       "2           0.0254          0.0273  ...          0.0334          0.0425   \n",
       "3           0.0254          0.0268  ...          0.0327          0.0420   \n",
       "4           0.0254          0.0271  ...          0.0331          0.0422   \n",
       "..             ...             ...  ...             ...             ...   \n",
       "4           0.0261          0.0296  ...          0.0351          0.0484   \n",
       "5           0.0261          0.0306  ...          0.0389          0.0515   \n",
       "6           0.0261          0.0266  ...          0.0338          0.0472   \n",
       "7           0.0261          0.0263  ...          0.0336          0.0480   \n",
       "8           0.0261          0.0295  ...          0.0361          0.0503   \n",
       "\n",
       "    2020-08-12_B04  2020-08-12_B05    aspect     slope  wetnessindex  \\\n",
       "0           0.0252          0.0613  0.744318  0.036585      0.888889   \n",
       "1           0.0235          0.0613  0.775568   0.04878      0.888889   \n",
       "2           0.0256          0.0599  0.832386   0.04878      0.888889   \n",
       "3           0.0258          0.0613  0.744318  0.036585      0.888889   \n",
       "4           0.0249          0.0613  0.767045  0.060976      0.777778   \n",
       "..             ...             ...       ...       ...           ...   \n",
       "4           0.0361          0.0769  0.105114   0.02439      0.888889   \n",
       "5           0.0394          0.0769  0.360795   0.02439      0.888889   \n",
       "6           0.0347          0.0799  0.744318       0.0           0.0   \n",
       "7           0.0361          0.0795  0.232955  0.036585      0.888889   \n",
       "8           0.0392          0.0795  0.232955  0.036585      0.888889   \n",
       "\n",
       "        sink  key  class  \n",
       "0   0.811704    0      7  \n",
       "1   0.811704    0      7  \n",
       "2   0.831373    0      7  \n",
       "3   0.811704    0      7  \n",
       "4   0.811704    0      7  \n",
       "..       ...  ...    ...  \n",
       "4    0.85037  287     15  \n",
       "5   0.800214  287     15  \n",
       "6    0.85037  287     15  \n",
       "7    0.85037  287     15  \n",
       "8   0.800214  287     15  \n",
       "\n",
       "[21649 rows x 52 columns]"
      ]
     },
     "execution_count": 14,
     "metadata": {},
     "output_type": "execute_result"
    }
   ],
   "source": [
    "df"
   ]
  },
  {
   "cell_type": "markdown",
   "id": "70aed0ab",
   "metadata": {},
   "source": [
    "## 3. Random-undersampling of non-forest classes\n"
   ]
  },
  {
   "cell_type": "code",
   "execution_count": 78,
   "id": "8c676382",
   "metadata": {},
   "outputs": [],
   "source": [
    "# !pip -q install imbalanced-learn"
   ]
  },
  {
   "cell_type": "code",
   "execution_count": 46,
   "id": "93b15db4",
   "metadata": {},
   "outputs": [
    {
     "data": {
      "text/plain": [
       "class\n",
       "1       384\n",
       "2       104\n",
       "3        47\n",
       "4       152\n",
       "5       441\n",
       "6       156\n",
       "7       315\n",
       "11    11996\n",
       "12     2817\n",
       "13     2274\n",
       "14     1645\n",
       "15      999\n",
       "16      319\n",
       "Name: key, dtype: int64"
      ]
     },
     "execution_count": 46,
     "metadata": {},
     "output_type": "execute_result"
    }
   ],
   "source": [
    "bands.groupby('class').count()['key']"
   ]
  },
  {
   "cell_type": "code",
   "execution_count": 81,
   "id": "702742e2",
   "metadata": {},
   "outputs": [
    {
     "data": {
      "image/png": "[encoded data removed]",
      "text/plain": [
       "<Figure size 432x288 with 1 Axes>"
      ]
     },
     "metadata": {
      "needs_background": "light"
     },
     "output_type": "display_data"
    }
   ],
   "source": [
    "# how many pixels for each class\n",
    "bands.groupby('class').count()['key'].plot(kind='bar')\n",
    "plt.grid()"
   ]
  },
  {
   "cell_type": "code",
   "execution_count": 116,
   "id": "9d03b908",
   "metadata": {},
   "outputs": [],
   "source": [
    "df[['aspect','slope','wetnessindex','sink']] = df[['aspect','slope','wetnessindex','sink']].astype(float)\n",
    "\n",
    "mask = (df['class'] > 7) & (df['class']<16)\n",
    "X_non_forest = df.loc[mask].drop(columns=['class']).values\n",
    "y_non_forest = df.loc[mask, 'class'].astype(int).values"
   ]
  },
  {
   "cell_type": "code",
   "execution_count": 117,
   "id": "d22cf14b",
   "metadata": {},
   "outputs": [
    {
     "name": "stdout",
     "output_type": "stream",
     "text": [
      "Resampled dataset shape Counter({11: 999, 12: 999, 13: 999, 14: 999, 15: 999})\n"
     ]
    }
   ],
   "source": [
    "from collections import Counter\n",
    "\n",
    "from sklearn.datasets import make_classification\n",
    "\n",
    "from imblearn.under_sampling import RandomUnderSampler \n",
    "\n",
    "\n",
    "# print('Original dataset shape %s' % Counter(y))\n",
    "\n",
    "rus = RandomUnderSampler(random_state=42)\n",
    "\n",
    "X_res, y_res = rus.fit_resample(X_non_forest, y_non_forest)\n",
    "\n",
    "print('Resampled dataset shape %s' % Counter(y_res))"
   ]
  },
  {
   "cell_type": "code",
   "execution_count": 118,
   "id": "74798459",
   "metadata": {},
   "outputs": [],
   "source": [
    "sub_df_resampled= pd.DataFrame(X_res, columns=df.columns[:-1])\n",
    "sub_df_resampled.loc[:, 'class'] = y_res"
   ]
  },
  {
   "cell_type": "code",
   "execution_count": 119,
   "id": "34298f4e",
   "metadata": {},
   "outputs": [
    {
     "data": {
      "text/plain": [
       "array([5, 1, 6, 2, 3, 4, 16], dtype=object)"
      ]
     },
     "execution_count": 119,
     "metadata": {},
     "output_type": "execute_result"
    }
   ],
   "source": [
    "df.loc[mask_forest,'class'].unique()"
   ]
  },
  {
   "cell_type": "code",
   "execution_count": 122,
   "id": "3687e440",
   "metadata": {},
   "outputs": [],
   "source": [
    "mask = (df['class'] > 7) & (df['class']<16)\n",
    "\n",
    "df_resampled = pd.concat([df.loc[~mask], sub_df_resampled])"
   ]
  },
  {
   "cell_type": "code",
   "execution_count": 123,
   "id": "fe869dce",
   "metadata": {},
   "outputs": [
    {
     "data": {
      "image/png": "[encoded data removed]",
      "text/plain": [
       "<Figure size 432x288 with 1 Axes>"
      ]
     },
     "metadata": {
      "needs_background": "light"
     },
     "output_type": "display_data"
    }
   ],
   "source": [
    "df_resampled.groupby('class').count()['key'].plot(kind='bar')\n",
    "plt.grid()"
   ]
  },
  {
   "cell_type": "markdown",
   "id": "5608f114",
   "metadata": {},
   "source": [
    "## 4. Select models"
   ]
  },
  {
   "cell_type": "code",
   "execution_count": 97,
   "id": "1b73a6c0",
   "metadata": {},
   "outputs": [],
   "source": [
    "import pandas as pd\n",
    "import numpy as np\n",
    "import os\n",
    "\n",
    "import matplotlib.pyplot as plt\n",
    "import seaborn as sns\n",
    "\n",
    "\n",
    "from sklearn import model_selection\n",
    "from sklearn.linear_model import LogisticRegression, RidgeClassifier\n",
    "from sklearn.svm import SVC\n",
    "from sklearn.ensemble import RandomForestClassifier\n",
    "from sklearn.ensemble import StackingRegressor\n",
    "from sklearn.ensemble import GradientBoostingClassifier\n",
    "\n",
    "from sklearn.model_selection import train_test_split\n",
    "from sklearn.metrics import r2_score\n",
    "from sklearn.metrics import mean_absolute_percentage_error\n",
    "\n",
    "\n",
    "from sklearn.metrics import mean_absolute_percentage_error\n",
    "from sklearn.metrics import make_scorer\n",
    "\n",
    "from sklearn.model_selection import GridSearchCV, RandomizedSearchCV\n",
    "\n",
    "from scipy.stats import loguniform"
   ]
  },
  {
   "cell_type": "code",
   "execution_count": 94,
   "id": "639fbbeb",
   "metadata": {},
   "outputs": [],
   "source": [
    "X = df_resampled.drop(columns='class').astype('float')\n",
    "Y = df_resampled['class'].astype(int)"
   ]
  },
  {
   "cell_type": "code",
   "execution_count": 98,
   "id": "b8c20da6",
   "metadata": {},
   "outputs": [
    {
     "name": "stdout",
     "output_type": "stream",
     "text": [
      "SVC: 0.026878 (0.029535)\n",
      "RandomForest: 0.215706 (0.184424)\n",
      "GB: 0.209107 (0.179765)\n",
      "RidgeClassifier: 0.076981 (0.101963)\n"
     ]
    },
    {
     "data": {
      "image/png": "[encoded data removed]",
      "text/plain": [
       "<Figure size 432x288 with 1 Axes>"
      ]
     },
     "metadata": {
      "needs_background": "light"
     },
     "output_type": "display_data"
    }
   ],
   "source": [
    "seed = 7\n",
    "models = []\n",
    "models.append(('SVC', SVC()))\n",
    "models.append(('RandomForest', RandomForestClassifier()))\n",
    "models.append(('GB', GradientBoostingClassifier()))\n",
    "models.append(('RidgeClassifier', RidgeClassifier()))\n",
    "\n",
    "results = []\n",
    "names = []\n",
    "# scoring = {\"OA\":\"balanced_accuracy\", \"f1_macro\":'f1_macro'}\n",
    "scoring= 'f1_macro'\n",
    "for name, model in models:\n",
    "    kfold = model_selection.KFold(n_splits=10)\n",
    "    cv_results = model_selection.cross_val_score(model, X, Y, cv=kfold, scoring=scoring)\n",
    "    results.append(cv_results)\n",
    "    names.append(name)\n",
    "    msg = \"%s: %f (%f)\" % (name, cv_results.mean(), cv_results.std())\n",
    "    print(msg)\n",
    "# boxplot algorithm comparison\n",
    "fig = plt.figure()\n",
    "fig.suptitle('Algorithm Comparison')\n",
    "ax = fig.add_subplot(111)\n",
    "plt.boxplot(results)\n",
    "ax.set_xticklabels(names)\n",
    "# plt.savefig('../plots/models_comparison.png', dpi=150)\n",
    "plt.show()\n"
   ]
  },
  {
   "cell_type": "code",
   "execution_count": 89,
   "id": "94587c81",
   "metadata": {},
   "outputs": [],
   "source": [
    "import sklearn"
   ]
  },
  {
   "cell_type": "code",
   "execution_count": 126,
   "id": "1f67a010",
   "metadata": {},
   "outputs": [
    {
     "name": "stdout",
     "output_type": "stream",
     "text": [
      "Fitting 5 folds for each of 100 candidates, totalling 500 fits\n"
     ]
    },
    {
     "ename": "KeyboardInterrupt",
     "evalue": "",
     "output_type": "error",
     "traceback": [
      "\u001b[0;31m---------------------------------------------------------------------------\u001b[0m",
      "\u001b[0;31mKeyboardInterrupt\u001b[0m                         Traceback (most recent call last)",
      "\u001b[0;32m/var/folders/1f/xyznj37x1n337kxt0v5533rw0000gn/T/ipykernel_12648/3048644764.py\u001b[0m in \u001b[0;36m<module>\u001b[0;34m\u001b[0m\n\u001b[1;32m     20\u001b[0m     \u001b[0mverbose\u001b[0m\u001b[0;34m=\u001b[0m\u001b[0;36m3\u001b[0m\u001b[0;34m\u001b[0m\u001b[0;34m\u001b[0m\u001b[0m\n\u001b[1;32m     21\u001b[0m )\n\u001b[0;32m---> 22\u001b[0;31m \u001b[0mgs\u001b[0m\u001b[0;34m.\u001b[0m\u001b[0mfit\u001b[0m\u001b[0;34m(\u001b[0m\u001b[0mX\u001b[0m\u001b[0;34m,\u001b[0m \u001b[0mY\u001b[0m\u001b[0;34m)\u001b[0m\u001b[0;34m\u001b[0m\u001b[0;34m\u001b[0m\u001b[0m\n\u001b[0m\u001b[1;32m     23\u001b[0m \u001b[0mresults\u001b[0m \u001b[0;34m=\u001b[0m \u001b[0mgs\u001b[0m\u001b[0;34m.\u001b[0m\u001b[0mcv_results_\u001b[0m\u001b[0;34m\u001b[0m\u001b[0;34m\u001b[0m\u001b[0m\n",
      "\u001b[0;32m~/geo/lib/python3.8/site-packages/sklearn/model_selection/_search.py\u001b[0m in \u001b[0;36mfit\u001b[0;34m(self, X, y, groups, **fit_params)\u001b[0m\n\u001b[1;32m    873\u001b[0m                 \u001b[0;32mreturn\u001b[0m \u001b[0mresults\u001b[0m\u001b[0;34m\u001b[0m\u001b[0;34m\u001b[0m\u001b[0m\n\u001b[1;32m    874\u001b[0m \u001b[0;34m\u001b[0m\u001b[0m\n\u001b[0;32m--> 875\u001b[0;31m             \u001b[0mself\u001b[0m\u001b[0;34m.\u001b[0m\u001b[0m_run_search\u001b[0m\u001b[0;34m(\u001b[0m\u001b[0mevaluate_candidates\u001b[0m\u001b[0;34m)\u001b[0m\u001b[0;34m\u001b[0m\u001b[0;34m\u001b[0m\u001b[0m\n\u001b[0m\u001b[1;32m    876\u001b[0m \u001b[0;34m\u001b[0m\u001b[0m\n\u001b[1;32m    877\u001b[0m             \u001b[0;31m# multimetric is determined here because in the case of a callable\u001b[0m\u001b[0;34m\u001b[0m\u001b[0;34m\u001b[0m\u001b[0;34m\u001b[0m\u001b[0m\n",
      "\u001b[0;32m~/geo/lib/python3.8/site-packages/sklearn/model_selection/_search.py\u001b[0m in \u001b[0;36m_run_search\u001b[0;34m(self, evaluate_candidates)\u001b[0m\n\u001b[1;32m   1751\u001b[0m     \u001b[0;32mdef\u001b[0m \u001b[0m_run_search\u001b[0m\u001b[0;34m(\u001b[0m\u001b[0mself\u001b[0m\u001b[0;34m,\u001b[0m \u001b[0mevaluate_candidates\u001b[0m\u001b[0;34m)\u001b[0m\u001b[0;34m:\u001b[0m\u001b[0;34m\u001b[0m\u001b[0;34m\u001b[0m\u001b[0m\n\u001b[1;32m   1752\u001b[0m         \u001b[0;34m\"\"\"Search n_iter candidates from param_distributions\"\"\"\u001b[0m\u001b[0;34m\u001b[0m\u001b[0;34m\u001b[0m\u001b[0m\n\u001b[0;32m-> 1753\u001b[0;31m         evaluate_candidates(\n\u001b[0m\u001b[1;32m   1754\u001b[0m             ParameterSampler(\n\u001b[1;32m   1755\u001b[0m                 \u001b[0mself\u001b[0m\u001b[0;34m.\u001b[0m\u001b[0mparam_distributions\u001b[0m\u001b[0;34m,\u001b[0m \u001b[0mself\u001b[0m\u001b[0;34m.\u001b[0m\u001b[0mn_iter\u001b[0m\u001b[0;34m,\u001b[0m \u001b[0mrandom_state\u001b[0m\u001b[0;34m=\u001b[0m\u001b[0mself\u001b[0m\u001b[0;34m.\u001b[0m\u001b[0mrandom_state\u001b[0m\u001b[0;34m\u001b[0m\u001b[0;34m\u001b[0m\u001b[0m\n",
      "\u001b[0;32m~/geo/lib/python3.8/site-packages/sklearn/model_selection/_search.py\u001b[0m in \u001b[0;36mevaluate_candidates\u001b[0;34m(candidate_params, cv, more_results)\u001b[0m\n\u001b[1;32m    820\u001b[0m                     )\n\u001b[1;32m    821\u001b[0m \u001b[0;34m\u001b[0m\u001b[0m\n\u001b[0;32m--> 822\u001b[0;31m                 out = parallel(\n\u001b[0m\u001b[1;32m    823\u001b[0m                     delayed(_fit_and_score)(\n\u001b[1;32m    824\u001b[0m                         \u001b[0mclone\u001b[0m\u001b[0;34m(\u001b[0m\u001b[0mbase_estimator\u001b[0m\u001b[0;34m)\u001b[0m\u001b[0;34m,\u001b[0m\u001b[0;34m\u001b[0m\u001b[0;34m\u001b[0m\u001b[0m\n",
      "\u001b[0;32m~/geo/lib/python3.8/site-packages/joblib/parallel.py\u001b[0m in \u001b[0;36m__call__\u001b[0;34m(self, iterable)\u001b[0m\n\u001b[1;32m   1054\u001b[0m \u001b[0;34m\u001b[0m\u001b[0m\n\u001b[1;32m   1055\u001b[0m             \u001b[0;32mwith\u001b[0m \u001b[0mself\u001b[0m\u001b[0;34m.\u001b[0m\u001b[0m_backend\u001b[0m\u001b[0;34m.\u001b[0m\u001b[0mretrieval_context\u001b[0m\u001b[0;34m(\u001b[0m\u001b[0;34m)\u001b[0m\u001b[0;34m:\u001b[0m\u001b[0;34m\u001b[0m\u001b[0;34m\u001b[0m\u001b[0m\n\u001b[0;32m-> 1056\u001b[0;31m                 \u001b[0mself\u001b[0m\u001b[0;34m.\u001b[0m\u001b[0mretrieve\u001b[0m\u001b[0;34m(\u001b[0m\u001b[0;34m)\u001b[0m\u001b[0;34m\u001b[0m\u001b[0;34m\u001b[0m\u001b[0m\n\u001b[0m\u001b[1;32m   1057\u001b[0m             \u001b[0;31m# Make sure that we get a last message telling us we are done\u001b[0m\u001b[0;34m\u001b[0m\u001b[0;34m\u001b[0m\u001b[0;34m\u001b[0m\u001b[0m\n\u001b[1;32m   1058\u001b[0m             \u001b[0melapsed_time\u001b[0m \u001b[0;34m=\u001b[0m \u001b[0mtime\u001b[0m\u001b[0;34m.\u001b[0m\u001b[0mtime\u001b[0m\u001b[0;34m(\u001b[0m\u001b[0;34m)\u001b[0m \u001b[0;34m-\u001b[0m \u001b[0mself\u001b[0m\u001b[0;34m.\u001b[0m\u001b[0m_start_time\u001b[0m\u001b[0;34m\u001b[0m\u001b[0;34m\u001b[0m\u001b[0m\n",
      "\u001b[0;32m~/geo/lib/python3.8/site-packages/joblib/parallel.py\u001b[0m in \u001b[0;36mretrieve\u001b[0;34m(self)\u001b[0m\n\u001b[1;32m    933\u001b[0m             \u001b[0;32mtry\u001b[0m\u001b[0;34m:\u001b[0m\u001b[0;34m\u001b[0m\u001b[0;34m\u001b[0m\u001b[0m\n\u001b[1;32m    934\u001b[0m                 \u001b[0;32mif\u001b[0m \u001b[0mgetattr\u001b[0m\u001b[0;34m(\u001b[0m\u001b[0mself\u001b[0m\u001b[0;34m.\u001b[0m\u001b[0m_backend\u001b[0m\u001b[0;34m,\u001b[0m \u001b[0;34m'supports_timeout'\u001b[0m\u001b[0;34m,\u001b[0m \u001b[0;32mFalse\u001b[0m\u001b[0;34m)\u001b[0m\u001b[0;34m:\u001b[0m\u001b[0;34m\u001b[0m\u001b[0;34m\u001b[0m\u001b[0m\n\u001b[0;32m--> 935\u001b[0;31m                     \u001b[0mself\u001b[0m\u001b[0;34m.\u001b[0m\u001b[0m_output\u001b[0m\u001b[0;34m.\u001b[0m\u001b[0mextend\u001b[0m\u001b[0;34m(\u001b[0m\u001b[0mjob\u001b[0m\u001b[0;34m.\u001b[0m\u001b[0mget\u001b[0m\u001b[0;34m(\u001b[0m\u001b[0mtimeout\u001b[0m\u001b[0;34m=\u001b[0m\u001b[0mself\u001b[0m\u001b[0;34m.\u001b[0m\u001b[0mtimeout\u001b[0m\u001b[0;34m)\u001b[0m\u001b[0;34m)\u001b[0m\u001b[0;34m\u001b[0m\u001b[0;34m\u001b[0m\u001b[0m\n\u001b[0m\u001b[1;32m    936\u001b[0m                 \u001b[0;32melse\u001b[0m\u001b[0;34m:\u001b[0m\u001b[0;34m\u001b[0m\u001b[0;34m\u001b[0m\u001b[0m\n\u001b[1;32m    937\u001b[0m                     \u001b[0mself\u001b[0m\u001b[0;34m.\u001b[0m\u001b[0m_output\u001b[0m\u001b[0;34m.\u001b[0m\u001b[0mextend\u001b[0m\u001b[0;34m(\u001b[0m\u001b[0mjob\u001b[0m\u001b[0;34m.\u001b[0m\u001b[0mget\u001b[0m\u001b[0;34m(\u001b[0m\u001b[0;34m)\u001b[0m\u001b[0;34m)\u001b[0m\u001b[0;34m\u001b[0m\u001b[0;34m\u001b[0m\u001b[0m\n",
      "\u001b[0;32m~/geo/lib/python3.8/site-packages/joblib/_parallel_backends.py\u001b[0m in \u001b[0;36mwrap_future_result\u001b[0;34m(future, timeout)\u001b[0m\n\u001b[1;32m    540\u001b[0m         AsyncResults.get from multiprocessing.\"\"\"\n\u001b[1;32m    541\u001b[0m         \u001b[0;32mtry\u001b[0m\u001b[0;34m:\u001b[0m\u001b[0;34m\u001b[0m\u001b[0;34m\u001b[0m\u001b[0m\n\u001b[0;32m--> 542\u001b[0;31m             \u001b[0;32mreturn\u001b[0m \u001b[0mfuture\u001b[0m\u001b[0;34m.\u001b[0m\u001b[0mresult\u001b[0m\u001b[0;34m(\u001b[0m\u001b[0mtimeout\u001b[0m\u001b[0;34m=\u001b[0m\u001b[0mtimeout\u001b[0m\u001b[0;34m)\u001b[0m\u001b[0;34m\u001b[0m\u001b[0;34m\u001b[0m\u001b[0m\n\u001b[0m\u001b[1;32m    543\u001b[0m         \u001b[0;32mexcept\u001b[0m \u001b[0mCfTimeoutError\u001b[0m \u001b[0;32mas\u001b[0m \u001b[0me\u001b[0m\u001b[0;34m:\u001b[0m\u001b[0;34m\u001b[0m\u001b[0;34m\u001b[0m\u001b[0m\n\u001b[1;32m    544\u001b[0m             \u001b[0;32mraise\u001b[0m \u001b[0mTimeoutError\u001b[0m \u001b[0;32mfrom\u001b[0m \u001b[0me\u001b[0m\u001b[0;34m\u001b[0m\u001b[0;34m\u001b[0m\u001b[0m\n",
      "\u001b[0;32m/Library/Developer/CommandLineTools/Library/Frameworks/Python3.framework/Versions/3.8/lib/python3.8/concurrent/futures/_base.py\u001b[0m in \u001b[0;36mresult\u001b[0;34m(self, timeout)\u001b[0m\n\u001b[1;32m    437\u001b[0m                     \u001b[0;32mreturn\u001b[0m \u001b[0mself\u001b[0m\u001b[0;34m.\u001b[0m\u001b[0m__get_result\u001b[0m\u001b[0;34m(\u001b[0m\u001b[0;34m)\u001b[0m\u001b[0;34m\u001b[0m\u001b[0;34m\u001b[0m\u001b[0m\n\u001b[1;32m    438\u001b[0m \u001b[0;34m\u001b[0m\u001b[0m\n\u001b[0;32m--> 439\u001b[0;31m                 \u001b[0mself\u001b[0m\u001b[0;34m.\u001b[0m\u001b[0m_condition\u001b[0m\u001b[0;34m.\u001b[0m\u001b[0mwait\u001b[0m\u001b[0;34m(\u001b[0m\u001b[0mtimeout\u001b[0m\u001b[0;34m)\u001b[0m\u001b[0;34m\u001b[0m\u001b[0;34m\u001b[0m\u001b[0m\n\u001b[0m\u001b[1;32m    440\u001b[0m \u001b[0;34m\u001b[0m\u001b[0m\n\u001b[1;32m    441\u001b[0m                 \u001b[0;32mif\u001b[0m \u001b[0mself\u001b[0m\u001b[0;34m.\u001b[0m\u001b[0m_state\u001b[0m \u001b[0;32min\u001b[0m \u001b[0;34m[\u001b[0m\u001b[0mCANCELLED\u001b[0m\u001b[0;34m,\u001b[0m \u001b[0mCANCELLED_AND_NOTIFIED\u001b[0m\u001b[0;34m]\u001b[0m\u001b[0;34m:\u001b[0m\u001b[0;34m\u001b[0m\u001b[0;34m\u001b[0m\u001b[0m\n",
      "\u001b[0;32m/Library/Developer/CommandLineTools/Library/Frameworks/Python3.framework/Versions/3.8/lib/python3.8/threading.py\u001b[0m in \u001b[0;36mwait\u001b[0;34m(self, timeout)\u001b[0m\n\u001b[1;32m    300\u001b[0m         \u001b[0;32mtry\u001b[0m\u001b[0;34m:\u001b[0m    \u001b[0;31m# restore state no matter what (e.g., KeyboardInterrupt)\u001b[0m\u001b[0;34m\u001b[0m\u001b[0;34m\u001b[0m\u001b[0m\n\u001b[1;32m    301\u001b[0m             \u001b[0;32mif\u001b[0m \u001b[0mtimeout\u001b[0m \u001b[0;32mis\u001b[0m \u001b[0;32mNone\u001b[0m\u001b[0;34m:\u001b[0m\u001b[0;34m\u001b[0m\u001b[0;34m\u001b[0m\u001b[0m\n\u001b[0;32m--> 302\u001b[0;31m                 \u001b[0mwaiter\u001b[0m\u001b[0;34m.\u001b[0m\u001b[0macquire\u001b[0m\u001b[0;34m(\u001b[0m\u001b[0;34m)\u001b[0m\u001b[0;34m\u001b[0m\u001b[0;34m\u001b[0m\u001b[0m\n\u001b[0m\u001b[1;32m    303\u001b[0m                 \u001b[0mgotit\u001b[0m \u001b[0;34m=\u001b[0m \u001b[0;32mTrue\u001b[0m\u001b[0;34m\u001b[0m\u001b[0;34m\u001b[0m\u001b[0m\n\u001b[1;32m    304\u001b[0m             \u001b[0;32melse\u001b[0m\u001b[0;34m:\u001b[0m\u001b[0;34m\u001b[0m\u001b[0;34m\u001b[0m\u001b[0m\n",
      "\u001b[0;31mKeyboardInterrupt\u001b[0m: "
     ]
    }
   ],
   "source": [
    "## two-metrics scoring\n",
    "scoring = {\"OA\":\"balanced_accuracy\", \"f1_macro\":'f1_macro'}\n",
    "\n",
    "param_grid = {\n",
    "    \"n_estimators\": range(5, 100, 10),\n",
    "    \"max_leaf_nodes\": range(2, 100, 10),\n",
    "    \"min_samples_split\": range(2, 50, 5),\n",
    "    \"learning_rate\": loguniform.rvs(0.01, 1, size=10),\n",
    "}\n",
    "\n",
    "gs = RandomizedSearchCV(\n",
    "    GradientBoostingClassifier(random_state=42),\n",
    "    n_iter=100,\n",
    "    param_distributions=param_grid,\n",
    "    scoring=scoring,\n",
    "    cv=5,\n",
    "    refit=\"f1_macro\",\n",
    "    n_jobs=-1,\n",
    "    return_train_score=True,\n",
    "    verbose=3\n",
    ")\n",
    "gs.fit(X, Y)\n",
    "results = gs.cv_results_"
   ]
  },
  {
   "cell_type": "code",
   "execution_count": null,
   "id": "51a44d00",
   "metadata": {},
   "outputs": [],
   "source": [
    "\n",
    "\n",
    "mape = results['mean_test_OA']\n",
    "r2 = results['mean_test_f1_macro']"
   ]
  },
  {
   "cell_type": "code",
   "execution_count": null,
   "id": "8dfc7a03",
   "metadata": {},
   "outputs": [],
   "source": [
    "fig, (ax1, ax2, ax3) = plt.subplots(1,3, figsize=(12,4), tight_layout=True)\n",
    "ax1.scatter(mape*100, r2, edgecolors=sns.color_palette()[0], facecolors='none')\n",
    "ax1.grid()\n",
    "# ax1.set_ylim(0,1)\n",
    "# ax1.set_xlim(0,10)\n",
    "ax1.set_ylabel(\"$R^2$\")\n",
    "ax1.set_xlabel(\"$MAPE$\")\n",
    "# ax2.scatter(mape_normalized, r2_normalize)\n",
    "sns.kdeplot(r2, fill=True, label=\"$R^2$\", ax=ax2)\n",
    "ax2.grid()\n",
    "ax2.legend()\n",
    "sns.kdeplot(mape, fill=True, label=\"$MAPE$, %\", ax=ax3)\n",
    "ax3.grid()\n",
    "ax3.legend()\n",
    "# ax2.set_ylabel(\"$R^2$\")\n",
    "# ax2.set_xlabel(\"$MAPE$\")\n",
    "plt.savefig('../plots/two_metrics_plots.png', dpi=300)"
   ]
  },
  {
   "cell_type": "markdown",
   "id": "9fbb2cde",
   "metadata": {},
   "source": [
    "## 2. EDA"
   ]
  },
  {
   "cell_type": "code",
   "execution_count": 3,
   "id": "6ff6990f",
   "metadata": {},
   "outputs": [],
   "source": [
    "# # Fill diagonal and upper half with NaNs\n",
    "# corr = non_forest.corr()\n",
    "# mask = np.zeros_like(corr, dtype=bool)\n",
    "# mask[np.triu_indices_from(mask)] = True\n",
    "# corr[mask] = np.nan\n",
    "# (corr.iloc[::3, ::2]\n",
    "#  .style\n",
    "#  .background_gradient(cmap='coolwarm', axis=None, vmin=-1, vmax=1)\n",
    "#  .highlight_null(null_color='#f1f1f1')  # Color NaNs grey\n",
    "#  .set_precision(2))"
   ]
  },
  {
   "cell_type": "code",
   "execution_count": 353,
   "id": "7e1ac014",
   "metadata": {},
   "outputs": [],
   "source": [
    "corr_matrix = non_forest.corr().abs()\n",
    "\n",
    "# Select upper triangle of correlation matrix\n",
    "upper = corr_matrix.where(np.triu(np.ones(corr_matrix.shape), k=1).astype(np.bool_))\n",
    "\n",
    "# Find features with correlation greater than 0.95\n",
    "to_drop = [column for column in upper.columns if any(upper[column] > 0.9)]\n",
    "\n",
    "# Drop features \n",
    "non_forest.drop(to_drop, axis=1, inplace=True)"
   ]
  },
  {
   "cell_type": "code",
   "execution_count": 1,
   "id": "2c62026d",
   "metadata": {},
   "outputs": [],
   "source": [
    "# # Fill diagonal and upper half with NaNs\n",
    "# corr = non_forest.corr()\n",
    "# mask = np.zeros_like(corr, dtype=bool)\n",
    "# mask[np.triu_indices_from(mask)] = True\n",
    "# corr[mask] = np.nan\n",
    "# (corr.iloc[:, :]\n",
    "#  .style\n",
    "#  .background_gradient(cmap='coolwarm', axis=None, vmin=-1, vmax=1)\n",
    "#  .highlight_null(null_color='#f1f1f1')  # Color NaNs grey\n",
    "#  .set_precision(2))"
   ]
  },
  {
   "cell_type": "markdown",
   "id": "d046dde6",
   "metadata": {},
   "source": [
    "## 3. Plotting\n"
   ]
  },
  {
   "cell_type": "code",
   "execution_count": null,
   "id": "f39b36c1",
   "metadata": {},
   "outputs": [],
   "source": [
    "path='/mnt/bulky2/mgasanov/CARBON/Sentinell2/ForestSentinell2/'\n",
    "list_of_geotiff = [tiff for tiff in os.listdir(path) if 'tiff' in tiff]\n",
    "mask = (df_indices_field['date'].dt.month>6) & (df_indices_field['date'].dt.month<9)\n",
    "dates_images = df_indices_field.loc[mask, 'date'].unique()\n",
    "dates_images = [str(image)[:10] for image in dates_images]"
   ]
  },
  {
   "cell_type": "code",
   "execution_count": 148,
   "id": "1084ab6f",
   "metadata": {},
   "outputs": [],
   "source": [
    "src = rio.open(path_to_tiff_file)"
   ]
  },
  {
   "cell_type": "code",
   "execution_count": 100,
   "id": "ae713702",
   "metadata": {},
   "outputs": [],
   "source": [
    "dataset = Dataset()\n",
    "src = rio.open(dataset.path_to_tiff_file)"
   ]
  },
  {
   "cell_type": "code",
   "execution_count": 101,
   "id": "b9990ad0",
   "metadata": {},
   "outputs": [],
   "source": [
    "X = src.read()"
   ]
  },
  {
   "cell_type": "code",
   "execution_count": 102,
   "id": "53a67051",
   "metadata": {},
   "outputs": [
    {
     "data": {
      "text/plain": [
       "(186, 3462, 3159)"
      ]
     },
     "execution_count": 102,
     "metadata": {},
     "output_type": "execute_result"
    }
   ],
   "source": [
    "X.shape "
   ]
  },
  {
   "cell_type": "code",
   "execution_count": 24,
   "id": "7e2ab92f",
   "metadata": {},
   "outputs": [
    {
     "data": {
      "text/plain": [
       "'/mnt/bulky2/mgasanov/CARBON/Sentinell2/ForestSentinell2/summer.tiff'"
      ]
     },
     "execution_count": 24,
     "metadata": {},
     "output_type": "execute_result"
    }
   ],
   "source": [
    "dataset.path_to_tiff_file"
   ]
  },
  {
   "cell_type": "code",
   "execution_count": 20,
   "id": "0d106315",
   "metadata": {},
   "outputs": [
    {
     "data": {
      "text/plain": [
       "(13, 3300, 2966)"
      ]
     },
     "execution_count": 20,
     "metadata": {},
     "output_type": "execute_result"
    }
   ],
   "source": [
    "s2 = rio.open(\"/mnt/bulky2/mgasanov/CARBON/Sentinell2/ForestSentinell2/2019-06-19.tiff\")\n",
    "s2.read().shape"
   ]
  },
  {
   "cell_type": "code",
   "execution_count": 153,
   "id": "c4179fd3",
   "metadata": {},
   "outputs": [],
   "source": [
    "def normalize(X):\n",
    "    X = X/10000\n",
    "    X = np.clip(X, 0, 0.3)\n",
    "    return X"
   ]
  },
  {
   "cell_type": "code",
   "execution_count": 162,
   "id": "3d7e23e4",
   "metadata": {},
   "outputs": [],
   "source": [
    "X = normalize(124)"
   ]
  },
  {
   "cell_type": "code",
   "execution_count": 220,
   "id": "a0ca6135",
   "metadata": {},
   "outputs": [
    {
     "name": "stdout",
     "output_type": "stream",
     "text": [
      "2019-07-01.tiff 2019-07-04.tiff 2019-08-03.tiff 2019-08-05.tiff 2019-08-08.tiff 2019-08-15.tiff 2019-08-30.tiff 2020-07-03.tiff 2020-07-05.tiff 2020-07-13.tiff 2020-08-04.tiff 2020-08-09.tiff 2020-08-12.tiff 2020-08-17.tiff "
     ]
    }
   ],
   "source": [
    "for x in sorted(dates_images):\n",
    "    print(x+'.tiff ', end='')"
   ]
  },
  {
   "cell_type": "code",
   "execution_count": 147,
   "id": "38dc9dce",
   "metadata": {},
   "outputs": [
    {
     "name": "stdout",
     "output_type": "stream",
     "text": [
      "\n"
     ]
    },
    {
     "data": {
      "image/png": "[encoded data removed]",
      "text/plain": [
       "<Figure size 432x288 with 1 Axes>"
      ]
     },
     "metadata": {
      "needs_background": "light"
     },
     "output_type": "display_data"
    }
   ],
   "source": [
    "for tiff_file in sorted(dates_images):\n",
    "    path_to_tiff_file = os.path.join(path, tiff_file+'.tiff')\n",
    "    print()\n",
    "    rgb_composite_bn = plot_RGB_file(path_to_tiff_file)\n",
    "    plt.imshow(rgb_composite_bn[::3, ::3, :])\n",
    "    plt.title(tiff_file.split('.')[0])\n",
    "    plt.show()\n",
    "    break"
   ]
  },
  {
   "cell_type": "code",
   "execution_count": null,
   "id": "f24b3770",
   "metadata": {},
   "outputs": [],
   "source": []
  },
  {
   "cell_type": "code",
   "execution_count": 114,
   "id": "5f57ce8b",
   "metadata": {},
   "outputs": [],
   "source": [
    "shape = gdf.iloc[0,-2]"
   ]
  },
  {
   "cell_type": "code",
   "execution_count": 115,
   "id": "e033e7c5",
   "metadata": {},
   "outputs": [
    {
     "data": {
      "image/svg+xml": [
       "<svg xmlns=\"http://www.w3.org/2000/svg\" xmlns:xlink=\"http://www.w3.org/1999/xlink\" width=\"100.0\" height=\"100.0\" viewBox=\"656845.2044003634 6275907.891063981 19.36156383960042 19.361563839949667\" preserveAspectRatio=\"xMinYMin meet\"><g transform=\"matrix(1,0,0,-1,0,12551835.1436918)\"><g><path fill-rule=\"evenodd\" fill=\"#66cc99\" stroke=\"#555555\" stroke-width=\"0.38723127679899333\" opacity=\"0.6\" d=\"M 656854.0993079833,6275926.535241339 L 656855.6677244814,6275926.535532864 L 656857.2123638529,6275926.263467278 L 656858.6862930052,6275925.727311163 L 656860.0447273413,6275924.943355333 L 656861.2463915101,6275923.935419883 L 656862.2547735444,6275922.734130421 L 656863.0392342515,6275921.375987524 L 656863.5759381847,6275919.902257683 L 656863.8485778557,6275918.357719446 L 656863.848869246,6275916.789302823 L 656863.5768034986,6275915.244663385 L 656863.0406472017,6275913.770734229 L 656862.256691199,6275912.412299947 L 656861.2487556081,6275911.210635887 L 656860.0474660532,6275910.202254003 L 656858.6893231194,6275909.417793471 L 656857.2155933008,6275908.881089717 L 656855.6710551425,6275908.608450205 L 656854.1026386605,6275908.608158938 L 656852.5579993868,6275908.880224751 L 656851.0840704072,6275909.416381052 L 656849.7256362971,6275910.200337001 L 656848.5239723795,6275911.208272484 L 656847.5155905943,6275912.409561888 L 656846.7311300988,6275913.767704644 L 656846.1944263193,6275915.241434284 L 656845.9217867232,6275916.785972286 L 656845.9214953204,6275918.354388648 L 656846.1935609684,6275919.899027851 L 656846.7297170933,6275921.372956824 L 656847.5136728692,6275922.731390991 L 656848.5216082087,6275923.933055019 L 656849.7228975173,6275924.941436957 L 656851.0810402372,6275925.725897625 L 656852.5547699027,6275926.262601586 L 656854.0993079833,6275926.535241339 z\" /></g></g></svg>"
      ],
      "text/plain": [
       "<shapely.geometry.multipolygon.MultiPolygon at 0x7fa80601ac70>"
      ]
     },
     "execution_count": 115,
     "metadata": {},
     "output_type": "execute_result"
    }
   ],
   "source": [
    "shape"
   ]
  },
  {
   "cell_type": "code",
   "execution_count": 136,
   "id": "d0c68783",
   "metadata": {},
   "outputs": [
    {
     "data": {
      "image/png": "[encoded data removed]",
      "text/plain": [
       "<Figure size 432x288 with 1 Axes>"
      ]
     },
     "metadata": {
      "needs_background": "light"
     },
     "output_type": "display_data"
    },
    {
     "data": {
      "image/png": "[encoded data removed]",
      "text/plain": [
       "<Figure size 432x288 with 1 Axes>"
      ]
     },
     "metadata": {
      "needs_background": "light"
     },
     "output_type": "display_data"
    }
   ],
   "source": [
    "\n",
    "\n",
    "shape = gdf.iloc[-2,-2]\n",
    "\n",
    "\n",
    "with rio.open(dataset.path_to_tiff_file) as src:\n",
    "    out_image, out_transform = crop_mask(src, [shape], crop=True, nodata=0) # SUPER KEK - [shape] works, shape - doesn't \n",
    "    out_meta = src.meta \n",
    "#     x = out_image[:12, ...].reshape(12, out_image.shape[1]*out_image.shape[2])\n",
    "# _df = pd.DataFrame(x.T, columns=col_names[:-1])\n",
    "#     df\n",
    "# plt.imshow(out_image[3,...])\n",
    "\n",
    "plt.imshow(out_image[1,...])\n",
    "plt.show()\n",
    "\n",
    "plt.imshow(out_image[-4,...])\n",
    "plt.show()"
   ]
  },
  {
   "cell_type": "code",
   "execution_count": 137,
   "id": "a91f80e6",
   "metadata": {},
   "outputs": [],
   "source": [
    "s2 = out_image[2,...]\n",
    "\n",
    "t1 = out_image[-2,...]\n",
    "\n",
    "sub_m = np.where(s2>0, t1, -1)"
   ]
  },
  {
   "cell_type": "code",
   "execution_count": 138,
   "id": "177f5196",
   "metadata": {},
   "outputs": [
    {
     "data": {
      "text/plain": [
       "(7, 7)"
      ]
     },
     "execution_count": 138,
     "metadata": {},
     "output_type": "execute_result"
    }
   ],
   "source": [
    "s2.shape"
   ]
  },
  {
   "cell_type": "code",
   "execution_count": 145,
   "id": "d70fb7c1",
   "metadata": {},
   "outputs": [
    {
     "data": {
      "text/plain": [
       "array([[-1, -1,  0,  0,  8, -1, -1],\n",
       "       [-1,  0,  0,  0,  8,  8, -1],\n",
       "       [ 8,  0,  0,  0,  8,  8, -1],\n",
       "       [ 8,  8,  8,  8,  8,  8, -1],\n",
       "       [ 8,  8,  8,  8,  8,  9, -1],\n",
       "       [-1,  0,  0,  0,  0, -1, -1],\n",
       "       [-1, -1, -1, -1, -1, -1, -1]], dtype=int32)"
      ]
     },
     "execution_count": 145,
     "metadata": {},
     "output_type": "execute_result"
    }
   ],
   "source": [
    "sub_m = np.where(s2>0, t1, -1)"
   ]
  },
  {
   "cell_type": "code",
   "execution_count": 119,
   "id": "3282346a",
   "metadata": {},
   "outputs": [
    {
     "data": {
      "text/plain": [
       "<matplotlib.image.AxesImage at 0x7fa7e9ef57c0>"
      ]
     },
     "execution_count": 119,
     "metadata": {},
     "output_type": "execute_result"
    },
    {
     "data": {
      "image/png": "[encoded data removed]",
      "text/plain": [
       "<Figure size 432x288 with 1 Axes>"
      ]
     },
     "metadata": {
      "needs_background": "light"
     },
     "output_type": "display_data"
    }
   ],
   "source": [
    "plt.imshow(out_image[1,...])"
   ]
  },
  {
   "cell_type": "code",
   "execution_count": 123,
   "id": "afc2d251",
   "metadata": {},
   "outputs": [
    {
     "data": {
      "text/plain": [
       "<matplotlib.image.AxesImage at 0x7fa7ea0c9160>"
      ]
     },
     "execution_count": 123,
     "metadata": {},
     "output_type": "execute_result"
    },
    {
     "data": {
      "image/png": "[encoded data removed]",
      "text/plain": [
       "<Figure size 432x288 with 1 Axes>"
      ]
     },
     "metadata": {
      "needs_background": "light"
     },
     "output_type": "display_data"
    }
   ],
   "source": [
    "plt.imshow(out_image[-2,...])"
   ]
  },
  {
   "cell_type": "code",
   "execution_count": 73,
   "id": "0f545223",
   "metadata": {},
   "outputs": [
    {
     "data": {
      "text/plain": [
       "<matplotlib.image.AxesImage at 0x135f04eb0>"
      ]
     },
     "execution_count": 73,
     "metadata": {},
     "output_type": "execute_result"
    },
    {
     "data": {
      "image/png": "[encoded data removed]",
      "text/plain": [
       "<Figure size 432x288 with 1 Axes>"
      ]
     },
     "metadata": {
      "needs_background": "light"
     },
     "output_type": "display_data"
    }
   ],
   "source": [
    "col_names = [\"B01\",\"B02\",\"B03\",\"B04\",\"B05\",\"B06\",\"B07\",\"B08\",\"B8A\",\"B09\",\"B11\",\"B12\",\"CLM\"]\n",
    "path='/Users/mikhailgasanov/Yandex.Disk.localized/STRIP/Bratsk/Sentinel2_2019_10_meters/'\n",
    "year = 2019\n",
    "list_of_geotiff = [tiff for tiff in os.listdir(path) if (str('-') in tiff) and ('tiff' in tiff)]\n",
    "\n",
    "df_indices_field = pd.DataFrame(columns = ['date',  *col_names, \"NDVI\"])\n",
    "\n",
    "dates_of_images = []\n",
    "\n",
    "\n",
    "\n",
    "for tiff_file in sorted(list_of_geotiff):\n",
    "    path_to_tiff_file = os.path.join(path, tiff_file)\n",
    "    with rio.open(path_to_tiff_file) as src:\n",
    "        out_image, out_transform = crop_mask(src, [shape], crop=True) # SUPER KEK - [shape] works, shape - doesn't\n",
    "        out_meta = src.meta \n",
    "        x = out_image[:12, ...].reshape(12, out_image.shape[1]*out_image.shape[2])\n",
    "    _df = pd.DataFrame(x.T, columns=col_names[:-1])\n",
    "#     df\n",
    "plt.imshow(out_image[3,...])"
   ]
  },
  {
   "cell_type": "code",
   "execution_count": 75,
   "id": "293e8297",
   "metadata": {},
   "outputs": [
    {
     "data": {
      "text/plain": [
       "<matplotlib.image.AxesImage at 0x135d7c8b0>"
      ]
     },
     "execution_count": 75,
     "metadata": {},
     "output_type": "execute_result"
    },
    {
     "data": {
      "image/png": "[encoded data removed]",
      "text/plain": [
       "<Figure size 432x288 with 1 Axes>"
      ]
     },
     "metadata": {
      "needs_background": "light"
     },
     "output_type": "display_data"
    }
   ],
   "source": [
    "shape = gdf_8m.iloc[0,-1]\n",
    "col_names = [\"B01\",\"B02\",\"B03\",\"B04\",\"B05\",\"B06\",\"B07\",\"B08\",\"B8A\",\"B09\",\"B11\",\"B12\",\"CLM\"]\n",
    "path='/Users/mikhailgasanov/Yandex.Disk.localized/STRIP/Bratsk/Sentinel2_2019_10_meters/'\n",
    "year = 2019\n",
    "list_of_geotiff = [tiff for tiff in os.listdir(path) if (str('-') in tiff) and ('tiff' in tiff)]\n",
    "\n",
    "df_indices_field = pd.DataFrame(columns = ['date',  *col_names, \"NDVI\"])\n",
    "\n",
    "dates_of_images = []\n",
    "\n",
    "\n",
    "\n",
    "for tiff_file in sorted(list_of_geotiff):\n",
    "    path_to_tiff_file = os.path.join(path, tiff_file)\n",
    "    with rio.open(path_to_tiff_file) as src:\n",
    "        out_image, out_transform = crop_mask(src, [shape], crop=True) # SUPER KEK - [shape] works, shape - doesn't\n",
    "        out_meta = src.meta \n",
    "        x = out_image[:12, ...].reshape(12, out_image.shape[1]*out_image.shape[2])\n",
    "    _df = pd.DataFrame(x.T, columns=col_names[:-1])\n",
    "#     df\n",
    "\n",
    "plt.imshow(out_image[3,...])"
   ]
  },
  {
   "cell_type": "code",
   "execution_count": 16,
   "id": "dd93f63d",
   "metadata": {},
   "outputs": [
    {
     "data": {
      "text/plain": [
       "<Derived Projected CRS: EPSG:32647>\n",
       "Name: WGS 84 / UTM zone 47N\n",
       "Axis Info [cartesian]:\n",
       "- E[east]: Easting (metre)\n",
       "- N[north]: Northing (metre)\n",
       "Area of Use:\n",
       "- name: Between 96°E and 102°E, northern hemisphere between equator and 84°N, onshore and offshore. China. Indonesia. Laos. Malaysia - West Malaysia. Mongolia. Myanmar (Burma). Russian Federation. Thailand.\n",
       "- bounds: (96.0, 0.0, 102.0, 84.0)\n",
       "Coordinate Operation:\n",
       "- name: UTM zone 47N\n",
       "- method: Transverse Mercator\n",
       "Datum: World Geodetic System 1984 ensemble\n",
       "- Ellipsoid: WGS 84\n",
       "- Prime Meridian: Greenwich"
      ]
     },
     "execution_count": 16,
     "metadata": {},
     "output_type": "execute_result"
    }
   ],
   "source": [
    "gdf_8m.crs"
   ]
  },
  {
   "cell_type": "code",
   "execution_count": null,
   "id": "64997419",
   "metadata": {},
   "outputs": [],
   "source": []
  }
 ],
 "metadata": {
  "kernelspec": {
   "display_name": "Python 3 (ipykernel)",
   "language": "python",
   "name": "python3"
  },
  "language_info": {
   "codemirror_mode": {
    "name": "ipython",
    "version": 3
   },
   "file_extension": ".py",
   "mimetype": "text/x-python",
   "name": "python",
   "nbconvert_exporter": "python",
   "pygments_lexer": "ipython3",
   "version": "3.8.9"
  },
  "vscode": {
   "interpreter": {
    "hash": "2624297a14b2e5b247b0fc8a92b75a581cd32613a3f7f56c6b107af7b0801f07"
   }
  }
 },
 "nbformat": 4,
 "nbformat_minor": 5
}
