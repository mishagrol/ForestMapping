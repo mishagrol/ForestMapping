{
 "cells": [
  {
   "cell_type": "markdown",
   "id": "286eda6f",
   "metadata": {},
   "source": [
    "## Clustering of field plots data RS observation\n",
    "-----"
   ]
  },
  {
   "cell_type": "code",
   "execution_count": 278,
   "id": "0e7f2412",
   "metadata": {},
   "outputs": [],
   "source": [
    "# !pip3 -q install seaborn\n",
    "# !pip3 -q install cartopy\n",
    "# !pip3 -q install verde\n",
    "\n",
    "# !pip3 -q install contextily\n",
    "\n",
    "# !pip3 -q install xgboost\n",
    "\n",
    "# !pip -q install imbalanced-learn"
   ]
  },
  {
   "cell_type": "code",
   "execution_count": 236,
   "id": "63c22ff1",
   "metadata": {},
   "outputs": [],
   "source": [
    "import pandas as pd\n",
    "import geopandas as gpd\n",
    "import rasterio as rio \n",
    "from rasterio.mask import mask as crop_mask\n",
    "import os \n",
    "from collections import Counter\n",
    "import numpy as np\n",
    "import verde as vd\n",
    "from shapely.geometry import box\n",
    "from imblearn.under_sampling import RandomUnderSampler \n",
    "\n",
    "\n",
    "import seaborn as sns\n",
    "import matplotlib.pyplot as plt\n",
    "\n",
    "import datetime as dt\n",
    "\n",
    "\n",
    "from shapely import affinity\n",
    "from sklearn.cluster import KMeans\n",
    "from sklearn.preprocessing import StandardScaler\n",
    "from sklearn import model_selection\n",
    "from sklearn.linear_model import LogisticRegression, RidgeClassifier\n",
    "from sklearn.svm import SVC\n",
    "from sklearn.neighbors import KNeighborsClassifier\n",
    "from sklearn.ensemble import RandomForestClassifier\n",
    "from sklearn.tree import DecisionTreeClassifier\n",
    "from sklearn.ensemble import ExtraTreesClassifier\n",
    "from sklearn.ensemble import GradientBoostingClassifier\n",
    "from sklearn.metrics import accuracy_score, roc_auc_score, f1_score\n",
    "from sklearn import metrics\n",
    "from sklearn.model_selection import train_test_split\n",
    "from sklearn.ensemble import IsolationForest\n",
    "from sklearn.utils.class_weight import compute_class_weight\n",
    "from sklearn.metrics import make_scorer\n",
    "\n",
    "from imblearn.over_sampling import SMOTE \n",
    "from imblearn.combine import SMOTEENN, SMOTETomek\n",
    "from sklearn.model_selection import GridSearchCV, RandomizedSearchCV\n",
    "\n",
    "from scipy.stats import loguniform\n",
    "\n",
    "from xgboost import XGBClassifier"
   ]
  },
  {
   "cell_type": "markdown",
   "id": "90941237",
   "metadata": {},
   "source": [
    "## 1. Read field-plots data "
   ]
  },
  {
   "cell_type": "code",
   "execution_count": null,
   "id": "476f8376",
   "metadata": {},
   "outputs": [],
   "source": [
    "class Dataset:\n",
    "    def __init__(self, tiff_fname=None, scale = 1.0):\n",
    "        if tiff_fname:\n",
    "            self.path_to_tiff_file = tiff_fname\n",
    "        else:\n",
    "            self.path_to_tiff_file = '/mnt/bulky2/mgasanov/CARBON/Sentinell2/ForestSentinell2/summer.tiff'\n",
    "        self.dates_images = ['2019-07-01','2019-07-04', '2019-08-03', '2019-08-30',\n",
    "                         '2020-07-03', '2020-07-05', '2020-07-13', '2020-08-04',\n",
    "                         '2020-08-12', '2020-08-17', '2019-08-05', '2019-08-15',\n",
    "                         '2020-08-09', '2019-08-08']\n",
    "        self.path_to_terrain_file = '/mnt/bulky2/mgasanov/CARBON/Sentinell2/ForestSentinell2/terrain.tiff'\n",
    "        self.scale = scale\n",
    "        self.terrain_cols = [\"aspect\", \"slope\", \"wetnessindex\",\"sink\"]\n",
    "        self.cols = self.get_all_cols()\n",
    "    def get_all_cols(self):\n",
    "        col_names = [\"B01\",\"B02\",\"B03\",\"B04\",\"B05\",\"B06\",\"B07\",\"B08\",\"B8A\",\"B09\",\"B11\",\"B12\",\"CLM\"]\n",
    "        all_cols = []\n",
    "        for date in sorted(self.dates_images):\n",
    "            for col in col_names:\n",
    "                all_cols.append(date+'_'+col)\n",
    "        return all_cols\n",
    "    \n",
    "    def get_svi_cols(self):\n",
    "        col_names = [\"B01\",\"B02\",\"B03\",\"B04\",\"B05\",\"B06\",\"B07\",\"B08\",\n",
    "                     \"B8A\",\"B09\",\"B11\",\"B12\", \"NDVI\", \"EVI\", \"MSAVI\", \"NDRE\"] # CLM\n",
    "        all_cols = []\n",
    "        for date in sorted(self.dates_images):\n",
    "            for col in col_names:\n",
    "                all_cols.append(date+'_'+col)\n",
    "        return all_cols\n",
    "    \n",
    "    def prepare_entire_region(self, gdf: gpd.GeoDataFrame):\n",
    "        shape = box(*gdf.total_bounds)\n",
    "        with rio.open(self.path_to_tiff_file) as src:\n",
    "\n",
    "            out_image, out_transform = crop_mask(src, \n",
    "                                                 [shape],\n",
    "                                                 all_touched=True,\n",
    "                                                 crop=True)\n",
    "\n",
    "            out_meta = src.meta \n",
    "            x = out_image[:-4, ...].reshape(len(self.cols), out_image.shape[1]*out_image.shape[2])\n",
    "        df_indices_field = pd.DataFrame(x.T, columns=self.cols)\n",
    "        df_indices_field = self.prepare_SVI(df_indices_field)\n",
    "        \n",
    "        \n",
    "        with rio.open(self.path_to_tiff_file) as src:\n",
    "\n",
    "            out_image, out_transform = crop_mask(src, \n",
    "                                                 [shape],\n",
    "                                                 all_touched=True,\n",
    "                                                 crop=True)\n",
    "\n",
    "            out_meta = src.meta \n",
    "            s2 = out_image[2,...]\n",
    "            sub_m = np.where(s2>0, out_image[-4:, ...], -1)\n",
    "            x = sub_m[-4:, ...].reshape(len(self.terrain_cols), out_image.shape[1]*out_image.shape[2])\n",
    "\n",
    "        df_terrain = pd.DataFrame(x.T, columns=self.terrain_cols)\n",
    "        mask = df_terrain.max(axis=1)==-1\n",
    "        df_terrain = df_terrain.loc[~mask]\n",
    "        return df_indices_field, df_terrain\n",
    "    \n",
    "    def prepare_forest_classes_dataset(self, gdf: gpd.GeoDataFrame)->pd.DataFrame:\n",
    "\n",
    "        df_indices_field = pd.DataFrame(columns = [*self.cols, \"key\",  'class'])\n",
    "        \n",
    "        \n",
    "        shape_ = gdf['geometry'].values[0]\n",
    "        print(\"Radius of forest plot:\", getRadius(scale_geom(shape=shape_, scale=self.scale)))\n",
    "        \n",
    "        print('Start bands', end=' ')\n",
    "        \n",
    "        \n",
    "        \n",
    "        for invent_plot_data in gdf.iterrows():\n",
    "\n",
    "            inv_dict = invent_plot_data[1].to_dict()\n",
    "            print(f\".\", end='')\n",
    "            if inv_dict['t_Class']<8:\n",
    "                df = self.get_bands_by_shape(inv_dict, self.scale)\n",
    "            else:\n",
    "                df = self.get_bands_by_shape(inv_dict, 1.0)\n",
    "            df_indices_field = pd.concat([df_indices_field, df])\n",
    "        \n",
    "        df_indices_field = self.prepare_SVI(df_indices_field)\n",
    "        print('')\n",
    "        print('Start terrain', end=' ')\n",
    "        df_terrain = pd.DataFrame(columns = [*self.terrain_cols, \"key\",  'class'])\n",
    "        for invent_plot_data in gdf.iterrows():\n",
    "\n",
    "            inv_dict = invent_plot_data[1].to_dict()\n",
    "            print(f\".\", end='')\n",
    "            if inv_dict['t_Class']<8:\n",
    "                df = self.get_terrain_by_shape(inv_dict, self.scale)\n",
    "            else:\n",
    "                df = self.get_terrain_by_shape(inv_dict, 1.0)\n",
    "            df_terrain = pd.concat([df_terrain, df])\n",
    "        for col in self.terrain_cols:\n",
    "            df_terrain.loc[:, col] = normalize(df_terrain[col])\n",
    "        return df_indices_field, df_terrain\n",
    "    \n",
    "    def prepare_SVI(self, df:pd.DataFrame)->pd.DataFrame:\n",
    "        for date in self.dates_images:\n",
    "            df = self.get_ndvi(df, date)\n",
    "            df = self.generate_NDRE(df, date)\n",
    "            df = self.evi(df, date)\n",
    "            df = self.generate_MSAVI(df, date)\n",
    "        \n",
    "        svi_cols = self.get_svi_cols()\n",
    "        svi_cols.extend(['key', 'class'])\n",
    "        return df[svi_cols]\n",
    "        \n",
    "    def get_bands_by_shape(self, invent_plot_data:dict, scale:float)->pd.DataFrame:\n",
    "        \"\"\"\n",
    "        Get bands from geotiff by polygon mask\n",
    "\n",
    "        Input: (Polygon) - shape\n",
    "\n",
    "        Output: (pd.DataFrame) - df with bands, date, class \n",
    "\n",
    "        \"\"\"\n",
    "\n",
    "        shape = invent_plot_data['geometry']\n",
    "        shape = scale_geom(shape=shape, scale=scale)\n",
    "        with rio.open(self.path_to_tiff_file) as src:\n",
    "\n",
    "            out_image, out_transform = crop_mask(src, \n",
    "                                                 [shape],\n",
    "                                                 all_touched=True,\n",
    "                                                 crop=True)\n",
    "\n",
    "            out_meta = src.meta \n",
    "            x = out_image[:-4, ...].reshape(len(self.cols), out_image.shape[1]*out_image.shape[2])\n",
    "        df = pd.DataFrame(x.T, columns=self.cols)\n",
    "        mask = df.sum(axis=1)>0\n",
    "        df = df.loc[mask]\n",
    "        df.loc[:, 'key'] = invent_plot_data['key']\n",
    "        df.loc[:, 'class'] = invent_plot_data['t_Class']\n",
    "        df[self.cols] = normalize_pixel(df[self.cols].values)\n",
    "        return df\n",
    "    \n",
    "    def get_terrain_by_shape(self, invent_plot_data:dict, scale:float)->pd.DataFrame:\n",
    "        \"\"\"\n",
    "        Get terrain features from geotiff by polygon mask\n",
    "\n",
    "        Input: (Polygon) - shape\n",
    "\n",
    "        Output: (pd.DataFrame) - df with terrain, key, class \n",
    "\n",
    "        \"\"\"\n",
    "\n",
    "        shape = invent_plot_data['geometry']\n",
    "        shape = scale_geom(shape=shape, scale=scale)\n",
    "        with rio.open(self.path_to_tiff_file) as src:\n",
    "\n",
    "            out_image, out_transform = crop_mask(src, \n",
    "                                                 [shape],\n",
    "                                                 all_touched=True,\n",
    "                                                 crop=True)\n",
    "\n",
    "            out_meta = src.meta \n",
    "            s2 = out_image[2,...]\n",
    "            sub_m = np.where(s2>0, out_image[-4:, ...], -1)\n",
    "            x = sub_m[-4:, ...].reshape(len(self.terrain_cols), out_image.shape[1]*out_image.shape[2])\n",
    "\n",
    "        df = pd.DataFrame(x.T, columns=self.terrain_cols)\n",
    "        mask = df.max(axis=1)==-1\n",
    "        df = df.loc[~mask]\n",
    "        df.loc[:, 'key'] = invent_plot_data['key']\n",
    "        df.loc[:, 'class'] = invent_plot_data['t_Class']        \n",
    "    \n",
    "        return df\n",
    "    def get_ndvi(self, df: pd.DataFrame, date: str):\n",
    "        red = df[f\"{date}_B04\"]\n",
    "        nir = df[f\"{date}_B08\"]\n",
    "        ndvi = (nir-red)/((nir+red).apply(lambda x: 0.000001 if x==0 else x))\n",
    "        df.loc[:, f\"{date}_NDVI\"] = ndvi\n",
    "        return df\n",
    "\n",
    "    def evi(self, df: pd.DataFrame, date: str):\n",
    "        red = df[f\"{date}_B04\"]\n",
    "        nir = df[f\"{date}_B08\"]\n",
    "        evi2 = 2.5*(nir - red)/((nir+ 2.4*red + 1).apply(lambda x: 0.000001 if x==0 else x))\n",
    "        df.loc[:, f\"{date}_EVI\"] = evi2\n",
    "        return df\n",
    "\n",
    "    def generate_NDRE(self, df: pd.DataFrame, date: str):\n",
    "        red_far = df[f\"{date}_B05\"]\n",
    "        nir = df[f\"{date}_B08\"]\n",
    "        ndre = (nir - red_far)/((nir + red_far).apply(lambda x: 0.000001 if x==0 else x))\n",
    "        df.loc[:, f\"{date}_NDRE\"] = ndre\n",
    "        return df\n",
    "\n",
    "    def generate_MSAVI(self, df: pd.DataFrame, date: str):\n",
    "        red = df[f\"{date}_B04\"]\n",
    "        nir = df[f\"{date}_B08\"]\n",
    "        msavi=(2*nir + 1 - ((2*nir+1)**2 - 8*(nir-red))**(1/2))/2\n",
    "        df.loc[:, f\"{date}_MSAVI\"] = msavi\n",
    "        return df\n",
    "    \n",
    "def get_train_test(df: pd.DataFrame, gdf:gpd.GeoDataFrame, test_size: float, spacing:float = 0.015)->tuple:\n",
    "    gdf_84 = gdf.to_crs(epsg=4326)\n",
    "    gdf_84.loc[:, 'latitude'] = gdf_84['geometry'].centroid.y\n",
    "    gdf_84.loc[:, 'longitude'] = gdf_84['geometry'].centroid.x\n",
    "    data = gdf_84.copy()\n",
    "    coordinates = (data.longitude, data.latitude)\n",
    "    values = (np.array(data.index)) \n",
    "    \n",
    "\n",
    "    train_block, test_block = vd.train_test_split(\n",
    "        coordinates, values, test_size=test_size, random_state=123\n",
    "    )\n",
    "    # train and test are tuples = (coordinates, data, weights).\n",
    "#     print(\"Train and test size for random splits:\", train[0][0].size, test[0][0].size)\n",
    "\n",
    "#     train_block, test_block = vd.train_test_split(\n",
    "#         coordinates,\n",
    "#         values,\n",
    "#         spacing=spacing,\n",
    "#         test_size=test_size,\n",
    "#         random_state=213,\n",
    "#     )\n",
    "    print(\n",
    "        \"Train and test size for block splits: \",\n",
    "        train_block[0][0].size,\n",
    "        test_block[0][0].size,\n",
    "    )\n",
    "    \n",
    "    test_keys=gdf.loc[test_block[-2],'key'].values\n",
    "    train_keys=gdf.loc[train_block[-2],'key'].values\n",
    "    mask_test = df.loc[:, 'key'].isin(test_keys)\n",
    "    mask_train = df.loc[:, 'key'].isin(train_keys)\n",
    "    \n",
    "    train = df.loc[mask_train]\n",
    "    test = df.loc[mask_test]\n",
    "    return train, test\n",
    "def decodeClasses(x):\n",
    "    dict_names = {7: 0,\n",
    "                 1: 1,\n",
    "                 6: 2,\n",
    "                 2: 3,\n",
    "                 5: 4,\n",
    "                 4: 5,\n",
    "                 11: 6,\n",
    "                 12: 7,\n",
    "                 13: 8,\n",
    "                 14: 9,\n",
    "                 15: 10,\n",
    "                 16: 11}\n",
    "    dict_normal_names={7: \"Pine\", \n",
    "        2:\"Fir\", \n",
    "        5:\"Aspen\",\n",
    "        3:\"Cedar\",\n",
    "        4:\"Larch\",\n",
    "        1:\"Birch\",\n",
    "        6:\"Silver fir\",\n",
    "        15:\"Burnt forest\", \n",
    "        13:'Deforestation', \n",
    "        14:'Grass',\n",
    "        12:'Soil', \n",
    "        16:'Swamp', \n",
    "        11:'Water body'}\n",
    "    if x.isdigit():\n",
    "        reverse = {}\n",
    "        for key, value in dict_names.items():\n",
    "            reverse[value] = key\n",
    "        return dict_normal_names[reverse[int(x)]]\n",
    "    else: return x\n",
    "    \n",
    "def scale_geom(shape, scale:int):\n",
    "    return affinity.scale(shape, xfact=scale, yfact=scale, origin='center')\n",
    "\n",
    "def getRadius(x)->float:\n",
    "    return np.sqrt(x.area/np.pi)\n",
    "\n",
    "def get_datetime(fname:str):\n",
    "    return dt.datetime.strptime(fname.split('.')[0], \"%Y-%m-%d\")\n",
    "\n",
    "def plot_RGB_file(fname: str): \n",
    "    img = rio.open(fname)\n",
    "\n",
    "    red = img.read(4)\n",
    "    green = img.read(3)\n",
    "    blue = img.read(2)\n",
    "\n",
    "    red_b=brighten(red)\n",
    "    blue_b=brighten(blue)\n",
    "    green_b=brighten(green)\n",
    "\n",
    "    red_bn = normalize(red_b)\n",
    "    green_bn = normalize(green_b)\n",
    "    blue_bn = normalize(blue_b)\n",
    "\n",
    "    rgb_composite_bn= np.dstack((red_bn, green_bn, blue_bn))\n",
    "    return rgb_composite_bn\n",
    "\n",
    "def plot_RGB_matrix(img)->None: \n",
    "    red = img[4, ...]\n",
    "    green = img[3, ...]\n",
    "    blue = img[2, ...]\n",
    "    red_b=brighten(red)\n",
    "    blue_b=brighten(blue)\n",
    "    green_b=brighten(green)\n",
    "\n",
    "    red_bn = normalize(red_b)\n",
    "    green_bn = normalize(green_b)\n",
    "    blue_bn = normalize(blue_b)\n",
    "\n",
    "    rgb_composite_bn= np.dstack((red_bn, green_bn, blue_bn))\n",
    "    plt.imshow(rgb_composite_bn)\n",
    "\n",
    "def normalize(band):\n",
    "    band_min, band_max = (band.min(), band.max())\n",
    "    return ((band-band_min)/((band_max - band_min)))\n",
    "\n",
    "\n",
    "def brighten(band):\n",
    "    alpha=0.13\n",
    "    beta=0\n",
    "    return np.clip(alpha*band+beta, 0,255)\n",
    "\n",
    "\n",
    "def normalize_pixel(X):\n",
    "    X = X/10000\n",
    "    X = np.clip(X, 0, 0.3)\n",
    "    return X\n",
    "\n",
    "def procces_gdf(gdf:gpd.GeoDataFrame)->gpd.GeoDataFrame:\n",
    "    non_forest = {\n",
    "        \"вода\": 11,\n",
    "        \"болото\":16,\n",
    "        \"вырубка\":13,\n",
    "        \"гарь\":15,\n",
    "        \"земля\": 12,\n",
    "        \"трава\":14}\n",
    "    \n",
    "    classes_full_name = {'Aspen':\"Populus tremula\", \n",
    "           'Birch':\"Betula pendula\", \n",
    "           'Burnt forest':\"Burnt forest\", \n",
    "           'Вырубка':'Deforestation', \n",
    "           \"Spruce\":\"Picea abies\", \n",
    "           'Grass':'Grass',\n",
    "           \"Larch\":\"Larix sibirica\",\n",
    "           \"Pine\":\"Pinus sylvestris\",\n",
    "           \"Pinus sibirica\": \"Pinus sibirica\",\n",
    "           'Quarry':'Quarry',\n",
    "           \"Silver fir\": \"Abies sibirica\" ,\n",
    "           'Soil':'Soil', \n",
    "           'Swamp':'Swamp', \n",
    "           'Water body':'Water body'}\n",
    "    dictRename = {\"С\": \"Pine\", \n",
    "                  \"Е\":\"Fir\", \n",
    "                  \"ОС\":\"Aspen\",\n",
    "                 \"К\":\"Cedar\",\n",
    "                 \"Л\":\"Larch\",\n",
    "                 \"Б\":\"Birch\",\n",
    "                 \"П\":\"Silver fir\",\n",
    "               'гарь':\"Burnt forest\", \n",
    "               'вырубка':'Deforestation', \n",
    "               'трава':'Grass',\n",
    "               'земля':'Soil', \n",
    "               'болото':'Swamp', \n",
    "               'вода':'Water body'}\n",
    "    mask = gdf['t_Class'] > 7\n",
    "    for key, value in non_forest.items():\n",
    "        mask = gdf['t_Class']==value\n",
    "        gdf.loc[mask,'t_Клас'] = key\n",
    "        \n",
    "    gdf.loc[:, 'class_name'] = gdf['t_Клас'].apply(lambda x: dictRename[x])\n",
    "    \n",
    "    gdf = gdf.loc[gdf['class_name']!='Cedar']\n",
    "    scale_resample = {11: 0.25, 12: 0.65, 13: 0.65,14: 0.7, 15: 0.9,}\n",
    "    for key, value in scale_resample.items():\n",
    "        mask = gdf['t_Class']==key\n",
    "        gdf.loc[mask, 'geometry'] = gdf.loc[mask, 'geometry'].apply(lambda x: scale_geom(x, scale=value))\n",
    "\n",
    "    return gdf.drop(columns='t_Клас')\n",
    "\n",
    "def codeClasses(y:pd.Series)->pd.Series:\n",
    "    dict_names = {}\n",
    "    for key, value in zip(y.unique(), range(y.nunique())):\n",
    "        dict_names[key] = value\n",
    "    return y.apply(lambda x: dict_names[x])\n",
    "\n",
    "def decodeClassesLevel1(x):\n",
    "    dict_names = {7: 0,\n",
    "                 1: 1,\n",
    "                 6: 2,\n",
    "                 2: 3,\n",
    "                 5: 4,\n",
    "                 4: 5,\n",
    "                 11: 6,\n",
    "                 12: 7,\n",
    "                 13: 8,\n",
    "                 14: 9,\n",
    "                 15: 10,\n",
    "                 16: 11}\n",
    "    dict_normal_names={7: \"Pine\", \n",
    "        2:\"Fir\", \n",
    "        5:\"Aspen\",\n",
    "        3:\"Cedar\",\n",
    "        4:\"Larch\",\n",
    "        1:\"Birch\",\n",
    "        6:\"Silver fir\",\n",
    "        15:\"Burnt forest\", \n",
    "        13:'Deforestation', \n",
    "        14:'Grass',\n",
    "        12:'Soil', \n",
    "        16:'Swamp', \n",
    "        11:'Water body'}\n",
    "    if x.isdigit():\n",
    "        reverse = {}\n",
    "        for key, value in dict_names.items():\n",
    "            reverse[value] = key\n",
    "        return dict_normal_names[int(x)]\n",
    "    else: return x\n",
    "    \n",
    "def scale_geom(shape, scale:int):\n",
    "    return affinity.scale(shape, xfact=scale, yfact=scale, origin='center')\n",
    "\n",
    "def getRadius(x)->float:\n",
    "    return np.sqrt(x.area/np.pi)\n",
    "\n",
    "def get_datetime(fname:str):\n",
    "    return dt.datetime.strptime(fname.split('.')[0], \"%Y-%m-%d\")\n",
    "\n",
    "def plot_RGB_file(fname: str): \n",
    "    img = rio.open(fname)\n",
    "\n",
    "    red = img.read(4)\n",
    "    green = img.read(3)\n",
    "    blue = img.read(2)\n",
    "\n",
    "    red_b=brighten(red)\n",
    "    blue_b=brighten(blue)\n",
    "    green_b=brighten(green)\n",
    "\n",
    "    red_bn = normalize(red_b)\n",
    "    green_bn = normalize(green_b)\n",
    "    blue_bn = normalize(blue_b)\n",
    "\n",
    "    rgb_composite_bn= np.dstack((red_bn, green_bn, blue_bn))\n",
    "    return rgb_composite_bn\n",
    "\n",
    "def plot_RGB_matrix(img)->None: \n",
    "    red = img[4, ...]\n",
    "    green = img[3, ...]\n",
    "    blue = img[2, ...]\n",
    "    red_b=brighten(red)\n",
    "    blue_b=brighten(blue)\n",
    "    green_b=brighten(green)\n",
    "\n",
    "    red_bn = normalize(red_b)\n",
    "    green_bn = normalize(green_b)\n",
    "    blue_bn = normalize(blue_b)\n",
    "\n",
    "    rgb_composite_bn= np.dstack((red_bn, green_bn, blue_bn))\n",
    "    plt.imshow(rgb_composite_bn)\n",
    "\n",
    "def normalize(band):\n",
    "    band_min, band_max = (band.min(), band.max())\n",
    "    return ((band-band_min)/((band_max - band_min)))\n",
    "\n",
    "\n",
    "def brighten(band):\n",
    "    alpha=0.13\n",
    "    beta=0\n",
    "    return np.clip(alpha*band+beta, 0,255)\n",
    "\n",
    "\n",
    "def normalize_pixel(X):\n",
    "    X = X/10000\n",
    "    X = np.clip(X, 0, 0.3)\n",
    "    return X\n",
    "\n",
    "def remove_outliers(df: pd.DataFrame)->pd.DataFrame:\n",
    "    outliers_fraction = 0.1\n",
    "    iso_forest = IsolationForest(contamination=outliers_fraction, random_state=42)\n",
    "    X = df.iloc[:, :-2]\n",
    "    outs = iso_forest.fit(X).predict(X)\n",
    "    mask = outs != -1\n",
    "    df = df.loc[mask]\n",
    "    return df\n",
    "def resample(df: pd.DataFrame):\n",
    "    rus = SMOTE()\n",
    "    X_res, y_res = rus.fit_resample(df_resampled.iloc[:, :-1], df_resampled.iloc[:, -1].astype(int))\n",
    "    sub_df_resampled= pd.DataFrame(X_res, columns=df.columns[:-1])\n",
    "    sub_df_resampled.loc[:, 'class'] = y_res\n",
    "def resample_forest(df: pd.DataFrame):\n",
    "    rus = SMOTE()\n",
    "    \n",
    "    forest = df.loc[df['class']<8]\n",
    "    X_res, y_res = rus.fit_resample(forest.iloc[:, :-1], forest.iloc[:, -1].astype(int))\n",
    "    sub_df_resampled= pd.DataFrame(X_res, columns=df.columns[:-1])\n",
    "    sub_df_resampled.loc[:, 'class'] = y_res    \n",
    "    df.loc[df['class']<8] = sub_df_resampled\n",
    "\n",
    "    return df\n",
    "def scale_normalize(df: pd.DataFrame):\n",
    "    _X = df.iloc[:, :-2]\n",
    "    scaled = StandardScaler().fit_transform(_X)\n",
    "    df.iloc[:, :-2] = scaled\n",
    "    return df\n",
    "\n",
    "def get_metric(base_classfiers:list, y_test:np.ndarray):\n",
    "    score_classfiers_accuracy_score = []\n",
    "    score_classfiers_roc_auc_score = []\n",
    "    score_classfiers_f1_score = []\n",
    "    df_score_class_dict = {}\n",
    "    df_score_class_list = []\n",
    "    for i in range(len(base_classfiers)):\n",
    "        y_predict = base_classfiers[i].predict(X_test)\n",
    "        score_classfiers_accuracy_score.append(accuracy_score(y_test, y_predict))\n",
    "        if name_classfiers[i]!='RidgeClassifier':\n",
    "            score_classfiers_roc_auc_score.append(roc_auc_score(y_test, base_classfiers[i].predict_proba(X_test), multi_class='ovr'))\n",
    "        else:\n",
    "            ridge_predict = []\n",
    "            for k in range(len(X_test)):\n",
    "                d = base_classfiers[i].decision_function(X_test)[k]\n",
    "                probs = np.exp(d) / np.sum(np.exp(d))\n",
    "                ridge_predict.append(probs)\n",
    "            ridge_predict = np.array(ridge_predict)\n",
    "            score_classfiers_roc_auc_score.append(roc_auc_score(y_test, ridge_predict, multi_class='ovr')) \n",
    "\n",
    "        score_classfiers_f1_score.append(f1_score(y_test, y_predict, average='weighted'))\n",
    "        df_i = pd.DataFrame(metrics.classification_report(y_test, y_predict, digits=2, output_dict=True)).transpose()\n",
    "        arrays_col = [\n",
    "            [name_classfiers[i], name_classfiers[i], name_classfiers[i], name_classfiers[i]],\n",
    "            list(df_i.columns),\n",
    "        ]\n",
    "        df_i.columns = pd.MultiIndex.from_tuples(list(zip(*arrays_col)))\n",
    "        df_score_class_list.append(df_i)\n",
    "        df_score_class_dict[name_classfiers[i]] = df_i\n",
    "\n",
    "    df_score_class = df_score_class_list[0]\n",
    "    for i in range(1,len(df_score_class_list)):\n",
    "        df_score_class = df_score_class.join(df_score_class_list[i])\n",
    "    df_score_class_index = list(df_score_class.index)\n",
    "\n",
    "    df_score_group = pd.DataFrame(columns=['Model', 'Accuracy score', 'ROC AUC score', 'f1 score'])\n",
    "    df_score_group['Model'] = name_classfiers\n",
    "    df_score_group['Accuracy score'] = score_classfiers_accuracy_score\n",
    "    df_score_group['ROC AUC score'] = score_classfiers_roc_auc_score\n",
    "    df_score_group['f1 score'] = score_classfiers_f1_score\n",
    "\n",
    "    return df_score_group, df_score_class_dict\n",
    "\n",
    "\n",
    "def get_models(class_weights: dict)->list:\n",
    "    n_jobs = 8\n",
    "    return  [KNeighborsClassifier(n_jobs=n_jobs, \n",
    "                                        algorithm='ball_tree', \n",
    "                                        leaf_size=100, \n",
    "                                        n_neighbors=10,\n",
    "                                        weights='uniform'),\n",
    "                   DecisionTreeClassifier(random_state=42, \n",
    "                                          criterion='entropy',\n",
    "                                          max_depth=9,\n",
    "                                          max_features=None,\n",
    "                                          min_samples_leaf=3, \n",
    "                                          min_samples_split=2, \n",
    "                                          splitter='best',\n",
    "                                          class_weight=class_weights),\n",
    "                   RandomForestClassifier(n_jobs=n_jobs,\n",
    "                                          random_state=42,\n",
    "                                          criterion='gini',\n",
    "                                          max_features='auto', \n",
    "                                          class_weight=class_weights,\n",
    "                                          max_depth=50,\n",
    "                                          n_estimators=500,\n",
    "                                          min_samples_leaf=2,\n",
    "                                          min_samples_split=6),\n",
    "                   ExtraTreesClassifier(n_jobs=n_jobs,\n",
    "                                        random_state=42, class_weight=class_weights,\n",
    "                                        criterion='entropy', max_depth=9,\n",
    "                                        max_features='log2', min_samples_leaf=5,\n",
    "                                        min_samples_split=2, n_estimators=150),\n",
    "                   RidgeClassifier(random_state=42, solver='sag',\n",
    "                                   class_weight=class_weights,\n",
    "                                   fit_intercept=True,\n",
    "                                   alpha=1.1, tol=1e-5),\n",
    "                   LogisticRegression(n_jobs=n_jobs, \n",
    "                                      random_state=42,\n",
    "                                      class_weight=class_weights,\n",
    "                                      dual=False, \n",
    "                                      fit_intercept=False, C=1.2,\n",
    "                                      max_iter=100, tol=1e-04, \n",
    "                                      penalty='l1', solver='saga'),\n",
    "                   SVC(random_state=42, gamma='scale', class_weight=class_weights,\n",
    "                       kernel='poly', C=1,\n",
    "                       degree=1, tol=1e-5, probability=True),\n",
    "                   GradientBoostingClassifier(**{'n_estimators': 75,'min_samples_split': 47, 'max_leaf_nodes': 52, 'learning_rate': 0.1202})\n",
    "#                    XGBClassifier(n_jobs=-1, tree_method='gpu_hist', predictor='gpu_predictor', booster='gblinear', eta=0.3, gamma='auto', max_depth=20)\n",
    "                   ]\n"
   ]
  },
  {
   "cell_type": "code",
   "execution_count": null,
   "id": "a7ab88a9",
   "metadata": {},
   "outputs": [],
   "source": [
    "import warnings\n",
    "warnings.filterwarnings('ignore')"
   ]
  },
  {
   "cell_type": "markdown",
   "id": "5d28b82f",
   "metadata": {},
   "source": [
    "## 2.  Remove correlated bands"
   ]
  },
  {
   "cell_type": "code",
   "execution_count": null,
   "id": "ab311a80",
   "metadata": {},
   "outputs": [],
   "source": [
    "def all_bands(bands,terrain)\n",
    "    print(\"All bands: \", len(bands.columns))\n",
    "    corr_matrix = bands.iloc[:, :-2].corr().abs()\n",
    "    upper = corr_matrix.where(np.triu(np.ones(corr_matrix.shape), k=1).astype(np.bool_))\n",
    "    to_drop = [column for column in upper.columns if any(upper[column] > 0.95)]\n",
    "    # Drop features \n",
    "    non_cor_bands = bands.drop(to_drop, axis=1)\n",
    "    print(\"Non correlated bands: \", len(non_cor_bands.columns))\n",
    "    df = pd.concat([non_cor_bands.iloc[:,:-4], terrain], axis=1)\n",
    "    sns.histplot([x.split('_')[1] for x in non_cor_bands.columns[:-2]])\n",
    "    plt.show()\n",
    "    return df"
   ]
  },
  {
   "cell_type": "code",
   "execution_count": 233,
   "id": "c47296b4",
   "metadata": {},
   "outputs": [],
   "source": [
    "# ONE IMAGE\n",
    "one_date = False\n",
    "if one_date:\n",
    "    date = '2020-08-17'\n",
    "    def one_date_bands(date:str):\n",
    "            col_names = [\"B01\",\"B02\",\"B03\",\"B04\",\"B05\",\"B06\",\"B07\",\"B08\",\n",
    "                         \"B8A\",\"B09\",\"B11\",\"B12\", \"NDVI\", \"EVI\", \"MSAVI\", \"NDRE\"] # CLM\n",
    "            all_cols = []\n",
    "            for col in col_names:\n",
    "                all_cols.append(date+'_'+col)\n",
    "            return all_cols\n",
    "    one_image_cols = one_date_bands(date=date)\n",
    "\n",
    "    df = pd.concat([bands[one_image_cols], terrain], axis=1)\n"
   ]
  },
  {
   "cell_type": "code",
   "execution_count": 230,
   "id": "392d81fa",
   "metadata": {},
   "outputs": [],
   "source": [
    "# ONE SUMMER\n",
    "one_summer = False\n",
    "if one_summer:\n",
    "    col_2020 = [col for col in bands.columns if '2019' not in col]\n",
    "    col_names = [\"B01\",\"B02\",\"B03\",\"B04\",\"B05\",\"B06\",\"B07\",\"B08\",\n",
    "                         \"B8A\",\"B09\",\"B11\",\"B12\", \"NDVI\", \"EVI\", \"MSAVI\", \"NDRE\"]\n",
    "    bands_mean = pd.DataFrame(columns=col_names)\n",
    "    for t_col in col_names: \n",
    "        col_to_mean = [col for col in col_2020 if t_col in col]\n",
    "        bands_mean.loc[:, t_col] = bands[col_to_mean].mean(axis=1)\n",
    "    df = pd.concat([bands_mean, terrain], axis=1)"
   ]
  },
  {
   "cell_type": "markdown",
   "id": "719580c0",
   "metadata": {},
   "source": [
    "## 4.1 Read data"
   ]
  },
  {
   "cell_type": "code",
   "execution_count": 239,
   "id": "9509db06",
   "metadata": {},
   "outputs": [
    {
     "name": "stdout",
     "output_type": "stream",
     "text": [
      "35.89978322416918\n",
      "Start bands ..........................................................................................................................................................................................................................................................................................\n",
      "Start terrain .........................................................................................................................................................................................................................................................................................."
     ]
    }
   ],
   "source": [
    "fnames = {\"invent_plots\":\"../shape_data/dataset_plots.geojson\"}\n",
    "gdf = gpd.read_file(fnames['invent_plots'])\n",
    "gdf.loc[:, 'key'] = gdf.index\n",
    "gdf=procces_gdf(gdf)\n",
    "dataset = Dataset(tiff_fname=None, scale=4)\n",
    "bands, terrain = dataset.prepare_forest_classes_dataset(gdf=gdf)"
   ]
  },
  {
   "cell_type": "code",
   "execution_count": null,
   "id": "65a722fe",
   "metadata": {},
   "outputs": [
    {
     "name": "stdout",
     "output_type": "stream",
     "text": [
      "Done: KNeighborsClassifier\n",
      "Done: DecisionTreeClassifier\n",
      "Done: RandomForest\n",
      "Done: ExtraTreesClassifier\n",
      "Done: RidgeClassifier\n",
      "Done: LogisticRegression\n",
      "Done: SVC\n"
     ]
    }
   ],
   "source": [
    "col_2020 = [col for col in bands.columns if '2019' not in col]\n",
    "df = pd.concat([bands[col_2020[:-2]], terrain], axis=1)\n",
    "df = df.copy()\n",
    "df[['aspect','slope','wetnessindex','sink']] = df[['aspect','slope','wetnessindex','sink']].astype(float)\n",
    "\n",
    "forest = df[\"class\"] < 20\n",
    "df = df.loc[forest]\n",
    "df = scale_normalize(df)\n",
    "df = resample_forest(df)\n",
    "\n",
    "\n",
    "# Train-test split\n",
    "forest_gdf = gdf.loc[gdf['t_Class']<20]\n",
    "X_train, X_test, y_train, y_test = train_test_split(forest_gdf, forest_gdf['class_name'], test_size=0.3)\n",
    "train = df.loc[df['key'].isin(X_train['key'])]\n",
    "test = df.loc[df['key'].isin(X_test['key'])]\n",
    "X_train = train.drop(columns=['key','class']).astype('float')\n",
    "X_test = test.drop(columns=['key','class']).astype('float')\n",
    "y_train = train['class'].astype(int)\n",
    "y_test = test['class'].astype(int)\n",
    "\n",
    "# class weights\n",
    "class_weights_vals = compute_class_weight(class_weight = \"balanced\", classes= np.unique(y_train), y= y_train)\n",
    "class_weights = {x:y for x,y in zip(np.unique(y_train), class_weights_vals)}\n",
    "\n",
    "# models\n",
    "n_jobs = 8\n",
    "name_classfiers = ['KNeighborsClassifier',\n",
    "                   'DecisionTreeClassifier',\n",
    "                   'RandomForest',\n",
    "                   'ExtraTreesClassifier',\n",
    "                   'RidgeClassifier',\n",
    "                   'LogisticRegression',\n",
    "                   'SVC',\n",
    "                   'GradientBoostingClassifier'\n",
    "                   ]\n",
    "base_classfiers = get_models(class_weights=class_weights)\n",
    "for i in range(len(base_classfiers)):\n",
    "    base_classfiers[i].fit(X_train, y_train)\n",
    "    print('Done: '+name_classfiers[i])\n",
    "# metrics\n",
    "\n",
    "df_score_group, df_score_class_dict = get_metric(base_classfiers=base_classfiers, y_test=y_test)\n"
   ]
  },
  {
   "cell_type": "code",
   "execution_count": 216,
   "id": "8ec0d281",
   "metadata": {},
   "outputs": [
    {
     "data": {
      "text/html": [
       "<div>\n",
       "<style scoped>\n",
       "    .dataframe tbody tr th:only-of-type {\n",
       "        vertical-align: middle;\n",
       "    }\n",
       "\n",
       "    .dataframe tbody tr th {\n",
       "        vertical-align: top;\n",
       "    }\n",
       "\n",
       "    .dataframe thead th {\n",
       "        text-align: right;\n",
       "    }\n",
       "</style>\n",
       "<table border=\"1\" class=\"dataframe\">\n",
       "  <thead>\n",
       "    <tr style=\"text-align: right;\">\n",
       "      <th></th>\n",
       "      <th>Model</th>\n",
       "      <th>Accuracy score</th>\n",
       "      <th>ROC AUC score</th>\n",
       "      <th>f1 score</th>\n",
       "    </tr>\n",
       "  </thead>\n",
       "  <tbody>\n",
       "    <tr>\n",
       "      <th>0</th>\n",
       "      <td>KNeighborsClassifier</td>\n",
       "      <td>0.653130</td>\n",
       "      <td>0.851840</td>\n",
       "      <td>0.654750</td>\n",
       "    </tr>\n",
       "    <tr>\n",
       "      <th>1</th>\n",
       "      <td>DecisionTreeClassifier</td>\n",
       "      <td>0.655854</td>\n",
       "      <td>0.821461</td>\n",
       "      <td>0.652680</td>\n",
       "    </tr>\n",
       "    <tr>\n",
       "      <th>2</th>\n",
       "      <td>RandomForest</td>\n",
       "      <td>0.679866</td>\n",
       "      <td>0.946539</td>\n",
       "      <td>0.675973</td>\n",
       "    </tr>\n",
       "    <tr>\n",
       "      <th>3</th>\n",
       "      <td>ExtraTreesClassifier</td>\n",
       "      <td>0.694818</td>\n",
       "      <td>0.948531</td>\n",
       "      <td>0.691200</td>\n",
       "    </tr>\n",
       "    <tr>\n",
       "      <th>4</th>\n",
       "      <td>RidgeClassifier</td>\n",
       "      <td>0.694437</td>\n",
       "      <td>0.937000</td>\n",
       "      <td>0.686789</td>\n",
       "    </tr>\n",
       "    <tr>\n",
       "      <th>5</th>\n",
       "      <td>LogisticRegression</td>\n",
       "      <td>0.714838</td>\n",
       "      <td>0.944938</td>\n",
       "      <td>0.715665</td>\n",
       "    </tr>\n",
       "    <tr>\n",
       "      <th>6</th>\n",
       "      <td>SVC</td>\n",
       "      <td>0.699316</td>\n",
       "      <td>0.947271</td>\n",
       "      <td>0.700208</td>\n",
       "    </tr>\n",
       "    <tr>\n",
       "      <th>7</th>\n",
       "      <td>GradientBoostingClassifier</td>\n",
       "      <td>0.695895</td>\n",
       "      <td>0.933900</td>\n",
       "      <td>0.695341</td>\n",
       "    </tr>\n",
       "  </tbody>\n",
       "</table>\n",
       "</div>"
      ],
      "text/plain": [
       "                        Model  Accuracy score  ROC AUC score  f1 score\n",
       "0        KNeighborsClassifier        0.653130       0.851840  0.654750\n",
       "1      DecisionTreeClassifier        0.655854       0.821461  0.652680\n",
       "2                RandomForest        0.679866       0.946539  0.675973\n",
       "3        ExtraTreesClassifier        0.694818       0.948531  0.691200\n",
       "4             RidgeClassifier        0.694437       0.937000  0.686789\n",
       "5          LogisticRegression        0.714838       0.944938  0.715665\n",
       "6                         SVC        0.699316       0.947271  0.700208\n",
       "7  GradientBoostingClassifier        0.695895       0.933900  0.695341"
      ]
     },
     "execution_count": 216,
     "metadata": {},
     "output_type": "execute_result"
    }
   ],
   "source": [
    "df_score_group"
   ]
  },
  {
   "cell_type": "code",
   "execution_count": 217,
   "id": "1b55301f",
   "metadata": {},
   "outputs": [
    {
     "data": {
      "text/html": [
       "<div>\n",
       "<style scoped>\n",
       "    .dataframe tbody tr th:only-of-type {\n",
       "        vertical-align: middle;\n",
       "    }\n",
       "\n",
       "    .dataframe tbody tr th {\n",
       "        vertical-align: top;\n",
       "    }\n",
       "\n",
       "    .dataframe thead tr th {\n",
       "        text-align: left;\n",
       "    }\n",
       "</style>\n",
       "<table border=\"1\" class=\"dataframe\">\n",
       "  <thead>\n",
       "    <tr>\n",
       "      <th></th>\n",
       "      <th colspan=\"4\" halign=\"left\">RandomForest</th>\n",
       "    </tr>\n",
       "    <tr>\n",
       "      <th></th>\n",
       "      <th>precision</th>\n",
       "      <th>recall</th>\n",
       "      <th>f1-score</th>\n",
       "      <th>support</th>\n",
       "    </tr>\n",
       "  </thead>\n",
       "  <tbody>\n",
       "    <tr>\n",
       "      <th>Birch</th>\n",
       "      <td>0.467112</td>\n",
       "      <td>0.284553</td>\n",
       "      <td>0.353663</td>\n",
       "      <td>1722.000000</td>\n",
       "    </tr>\n",
       "    <tr>\n",
       "      <th>Fir</th>\n",
       "      <td>0.384486</td>\n",
       "      <td>0.501099</td>\n",
       "      <td>0.435115</td>\n",
       "      <td>910.000000</td>\n",
       "    </tr>\n",
       "    <tr>\n",
       "      <th>Larch</th>\n",
       "      <td>0.318544</td>\n",
       "      <td>0.223821</td>\n",
       "      <td>0.262911</td>\n",
       "      <td>1251.000000</td>\n",
       "    </tr>\n",
       "    <tr>\n",
       "      <th>Aspen</th>\n",
       "      <td>0.442815</td>\n",
       "      <td>0.825137</td>\n",
       "      <td>0.576336</td>\n",
       "      <td>1281.000000</td>\n",
       "    </tr>\n",
       "    <tr>\n",
       "      <th>Silver fir</th>\n",
       "      <td>0.287129</td>\n",
       "      <td>0.320603</td>\n",
       "      <td>0.302944</td>\n",
       "      <td>995.000000</td>\n",
       "    </tr>\n",
       "    <tr>\n",
       "      <th>Pine</th>\n",
       "      <td>0.521327</td>\n",
       "      <td>0.431091</td>\n",
       "      <td>0.471934</td>\n",
       "      <td>1531.000000</td>\n",
       "    </tr>\n",
       "    <tr>\n",
       "      <th>Water body</th>\n",
       "      <td>1.000000</td>\n",
       "      <td>1.000000</td>\n",
       "      <td>1.000000</td>\n",
       "      <td>1099.000000</td>\n",
       "    </tr>\n",
       "    <tr>\n",
       "      <th>Soil</th>\n",
       "      <td>0.677800</td>\n",
       "      <td>0.851852</td>\n",
       "      <td>0.754923</td>\n",
       "      <td>405.000000</td>\n",
       "    </tr>\n",
       "    <tr>\n",
       "      <th>Deforestation</th>\n",
       "      <td>0.787346</td>\n",
       "      <td>1.000000</td>\n",
       "      <td>0.881023</td>\n",
       "      <td>896.000000</td>\n",
       "    </tr>\n",
       "    <tr>\n",
       "      <th>Grass</th>\n",
       "      <td>0.985729</td>\n",
       "      <td>0.863393</td>\n",
       "      <td>0.920514</td>\n",
       "      <td>2240.000000</td>\n",
       "    </tr>\n",
       "    <tr>\n",
       "      <th>Burnt forest</th>\n",
       "      <td>1.000000</td>\n",
       "      <td>0.955160</td>\n",
       "      <td>0.977066</td>\n",
       "      <td>1405.000000</td>\n",
       "    </tr>\n",
       "    <tr>\n",
       "      <th>Swamp</th>\n",
       "      <td>0.998384</td>\n",
       "      <td>0.904344</td>\n",
       "      <td>0.949040</td>\n",
       "      <td>2049.000000</td>\n",
       "    </tr>\n",
       "    <tr>\n",
       "      <th>accuracy</th>\n",
       "      <td>0.679866</td>\n",
       "      <td>0.679866</td>\n",
       "      <td>0.679866</td>\n",
       "      <td>0.679866</td>\n",
       "    </tr>\n",
       "    <tr>\n",
       "      <th>macro avg</th>\n",
       "      <td>0.655889</td>\n",
       "      <td>0.680088</td>\n",
       "      <td>0.657122</td>\n",
       "      <td>15784.000000</td>\n",
       "    </tr>\n",
       "    <tr>\n",
       "      <th>weighted avg</th>\n",
       "      <td>0.693204</td>\n",
       "      <td>0.679866</td>\n",
       "      <td>0.675973</td>\n",
       "      <td>15784.000000</td>\n",
       "    </tr>\n",
       "  </tbody>\n",
       "</table>\n",
       "</div>"
      ],
      "text/plain": [
       "              RandomForest                                  \n",
       "                 precision    recall  f1-score       support\n",
       "Birch             0.467112  0.284553  0.353663   1722.000000\n",
       "Fir               0.384486  0.501099  0.435115    910.000000\n",
       "Larch             0.318544  0.223821  0.262911   1251.000000\n",
       "Aspen             0.442815  0.825137  0.576336   1281.000000\n",
       "Silver fir        0.287129  0.320603  0.302944    995.000000\n",
       "Pine              0.521327  0.431091  0.471934   1531.000000\n",
       "Water body        1.000000  1.000000  1.000000   1099.000000\n",
       "Soil              0.677800  0.851852  0.754923    405.000000\n",
       "Deforestation     0.787346  1.000000  0.881023    896.000000\n",
       "Grass             0.985729  0.863393  0.920514   2240.000000\n",
       "Burnt forest      1.000000  0.955160  0.977066   1405.000000\n",
       "Swamp             0.998384  0.904344  0.949040   2049.000000\n",
       "accuracy          0.679866  0.679866  0.679866      0.679866\n",
       "macro avg         0.655889  0.680088  0.657122  15784.000000\n",
       "weighted avg      0.693204  0.679866  0.675973  15784.000000"
      ]
     },
     "execution_count": 217,
     "metadata": {},
     "output_type": "execute_result"
    }
   ],
   "source": [
    "scores_model = df_score_class_dict['RandomForest']\n",
    "scores_model.index = pd.Series(scores_model.index).apply(lambda x: decodeClassesLevel1(x))\n",
    "scores_model"
   ]
  },
  {
   "cell_type": "markdown",
   "id": "e046d32a",
   "metadata": {},
   "source": [
    "# END"
   ]
  },
  {
   "cell_type": "markdown",
   "id": "c39fe6d7",
   "metadata": {},
   "source": [
    "## another exp"
   ]
  },
  {
   "cell_type": "code",
   "execution_count": 85,
   "id": "87420a39",
   "metadata": {},
   "outputs": [],
   "source": [
    "forest_gdf = gdf.loc[gdf['t_Class']<8]\n",
    "X_train, X_test, y_train, y_test = train_test_split(forest_gdf, forest_gdf['class_name'], test_size=0.3)\n",
    "\n",
    "train = df_resampled.loc[df_resampled['key'].isin(X_train['key'])]\n",
    "\n",
    "test = df_resampled.loc[df_resampled['key'].isin(X_test['key'])]\n",
    "\n",
    "\n",
    "X_train = train.drop(columns=['key','class']).astype('float')\n",
    "X_test = test.drop(columns=['key','class']).astype('float')\n",
    "y_train = train['class'].astype(int)\n",
    "y_test = test['class'].astype(int)"
   ]
  },
  {
   "cell_type": "code",
   "execution_count": 109,
   "id": "040a580d",
   "metadata": {},
   "outputs": [],
   "source": [
    "from imblearn.over_sampling import SMOTE"
   ]
  },
  {
   "cell_type": "code",
   "execution_count": 131,
   "id": "ace69907",
   "metadata": {},
   "outputs": [],
   "source": [
    "rus = SMOTE()\n",
    "X_res, y_res = rus.fit_resample(df_resampled.iloc[:, :-1], df_resampled.iloc[:, -1].astype(int))\n",
    "sub_df_resampled= pd.DataFrame(X_res, columns=df.columns[:-1])\n",
    "sub_df_resampled.loc[:, 'class'] = y_res"
   ]
  },
  {
   "cell_type": "code",
   "execution_count": 63,
   "id": "9744ed22",
   "metadata": {},
   "outputs": [
    {
     "data": {
      "text/html": [
       "<style>#sk-container-id-1 {color: black;background-color: white;}#sk-container-id-1 pre{padding: 0;}#sk-container-id-1 div.sk-toggleable {background-color: white;}#sk-container-id-1 label.sk-toggleable__label {cursor: pointer;display: block;width: 100%;margin-bottom: 0;padding: 0.3em;box-sizing: border-box;text-align: center;}#sk-container-id-1 label.sk-toggleable__label-arrow:before {content: \"▸\";float: left;margin-right: 0.25em;color: #696969;}#sk-container-id-1 label.sk-toggleable__label-arrow:hover:before {color: black;}#sk-container-id-1 div.sk-estimator:hover label.sk-toggleable__label-arrow:before {color: black;}#sk-container-id-1 div.sk-toggleable__content {max-height: 0;max-width: 0;overflow: hidden;text-align: left;background-color: #f0f8ff;}#sk-container-id-1 div.sk-toggleable__content pre {margin: 0.2em;color: black;border-radius: 0.25em;background-color: #f0f8ff;}#sk-container-id-1 input.sk-toggleable__control:checked~div.sk-toggleable__content {max-height: 200px;max-width: 100%;overflow: auto;}#sk-container-id-1 input.sk-toggleable__control:checked~label.sk-toggleable__label-arrow:before {content: \"▾\";}#sk-container-id-1 div.sk-estimator input.sk-toggleable__control:checked~label.sk-toggleable__label {background-color: #d4ebff;}#sk-container-id-1 div.sk-label input.sk-toggleable__control:checked~label.sk-toggleable__label {background-color: #d4ebff;}#sk-container-id-1 input.sk-hidden--visually {border: 0;clip: rect(1px 1px 1px 1px);clip: rect(1px, 1px, 1px, 1px);height: 1px;margin: -1px;overflow: hidden;padding: 0;position: absolute;width: 1px;}#sk-container-id-1 div.sk-estimator {font-family: monospace;background-color: #f0f8ff;border: 1px dotted black;border-radius: 0.25em;box-sizing: border-box;margin-bottom: 0.5em;}#sk-container-id-1 div.sk-estimator:hover {background-color: #d4ebff;}#sk-container-id-1 div.sk-parallel-item::after {content: \"\";width: 100%;border-bottom: 1px solid gray;flex-grow: 1;}#sk-container-id-1 div.sk-label:hover label.sk-toggleable__label {background-color: #d4ebff;}#sk-container-id-1 div.sk-serial::before {content: \"\";position: absolute;border-left: 1px solid gray;box-sizing: border-box;top: 0;bottom: 0;left: 50%;z-index: 0;}#sk-container-id-1 div.sk-serial {display: flex;flex-direction: column;align-items: center;background-color: white;padding-right: 0.2em;padding-left: 0.2em;position: relative;}#sk-container-id-1 div.sk-item {position: relative;z-index: 1;}#sk-container-id-1 div.sk-parallel {display: flex;align-items: stretch;justify-content: center;background-color: white;position: relative;}#sk-container-id-1 div.sk-item::before, #sk-container-id-1 div.sk-parallel-item::before {content: \"\";position: absolute;border-left: 1px solid gray;box-sizing: border-box;top: 0;bottom: 0;left: 50%;z-index: -1;}#sk-container-id-1 div.sk-parallel-item {display: flex;flex-direction: column;z-index: 1;position: relative;background-color: white;}#sk-container-id-1 div.sk-parallel-item:first-child::after {align-self: flex-end;width: 50%;}#sk-container-id-1 div.sk-parallel-item:last-child::after {align-self: flex-start;width: 50%;}#sk-container-id-1 div.sk-parallel-item:only-child::after {width: 0;}#sk-container-id-1 div.sk-dashed-wrapped {border: 1px dashed gray;margin: 0 0.4em 0.5em 0.4em;box-sizing: border-box;padding-bottom: 0.4em;background-color: white;}#sk-container-id-1 div.sk-label label {font-family: monospace;font-weight: bold;display: inline-block;line-height: 1.2em;}#sk-container-id-1 div.sk-label-container {text-align: center;}#sk-container-id-1 div.sk-container {/* jupyter's `normalize.less` sets `[hidden] { display: none; }` but bootstrap.min.css set `[hidden] { display: none !important; }` so we also need the `!important` here to be able to override the default hidden behavior on the sphinx rendered scikit-learn.org. See: https://github.com/scikit-learn/scikit-learn/issues/21755 */display: inline-block !important;position: relative;}#sk-container-id-1 div.sk-text-repr-fallback {display: none;}</style><div id=\"sk-container-id-1\" class=\"sk-top-container\"><div class=\"sk-text-repr-fallback\"><pre>GridSearchCV(estimator=Pipeline(steps=[(&#x27;scaler&#x27;, StandardScaler()),\n",
       "                                       (&#x27;pca&#x27;, PCA()),\n",
       "                                       (&#x27;clf&#x27;, GradientBoostingClassifier())]),\n",
       "             n_jobs=8,\n",
       "             param_grid={&#x27;pca__n_components&#x27;: [1, 2, 3],\n",
       "                         &#x27;scaler__with_std&#x27;: [True, False]},\n",
       "             scoring=&#x27;balanced_accuracy&#x27;)</pre><b>In a Jupyter environment, please rerun this cell to show the HTML representation or trust the notebook. <br />On GitHub, the HTML representation is unable to render, please try loading this page with nbviewer.org.</b></div><div class=\"sk-container\" hidden><div class=\"sk-item sk-dashed-wrapped\"><div class=\"sk-label-container\"><div class=\"sk-label sk-toggleable\"><input class=\"sk-toggleable__control sk-hidden--visually\" id=\"sk-estimator-id-1\" type=\"checkbox\" ><label for=\"sk-estimator-id-1\" class=\"sk-toggleable__label sk-toggleable__label-arrow\">GridSearchCV</label><div class=\"sk-toggleable__content\"><pre>GridSearchCV(estimator=Pipeline(steps=[(&#x27;scaler&#x27;, StandardScaler()),\n",
       "                                       (&#x27;pca&#x27;, PCA()),\n",
       "                                       (&#x27;clf&#x27;, GradientBoostingClassifier())]),\n",
       "             n_jobs=8,\n",
       "             param_grid={&#x27;pca__n_components&#x27;: [1, 2, 3],\n",
       "                         &#x27;scaler__with_std&#x27;: [True, False]},\n",
       "             scoring=&#x27;balanced_accuracy&#x27;)</pre></div></div></div><div class=\"sk-parallel\"><div class=\"sk-parallel-item\"><div class=\"sk-item\"><div class=\"sk-label-container\"><div class=\"sk-label sk-toggleable\"><input class=\"sk-toggleable__control sk-hidden--visually\" id=\"sk-estimator-id-2\" type=\"checkbox\" ><label for=\"sk-estimator-id-2\" class=\"sk-toggleable__label sk-toggleable__label-arrow\">estimator: Pipeline</label><div class=\"sk-toggleable__content\"><pre>Pipeline(steps=[(&#x27;scaler&#x27;, StandardScaler()), (&#x27;pca&#x27;, PCA()),\n",
       "                (&#x27;clf&#x27;, GradientBoostingClassifier())])</pre></div></div></div><div class=\"sk-serial\"><div class=\"sk-item\"><div class=\"sk-serial\"><div class=\"sk-item\"><div class=\"sk-estimator sk-toggleable\"><input class=\"sk-toggleable__control sk-hidden--visually\" id=\"sk-estimator-id-3\" type=\"checkbox\" ><label for=\"sk-estimator-id-3\" class=\"sk-toggleable__label sk-toggleable__label-arrow\">StandardScaler</label><div class=\"sk-toggleable__content\"><pre>StandardScaler()</pre></div></div></div><div class=\"sk-item\"><div class=\"sk-estimator sk-toggleable\"><input class=\"sk-toggleable__control sk-hidden--visually\" id=\"sk-estimator-id-4\" type=\"checkbox\" ><label for=\"sk-estimator-id-4\" class=\"sk-toggleable__label sk-toggleable__label-arrow\">PCA</label><div class=\"sk-toggleable__content\"><pre>PCA()</pre></div></div></div><div class=\"sk-item\"><div class=\"sk-estimator sk-toggleable\"><input class=\"sk-toggleable__control sk-hidden--visually\" id=\"sk-estimator-id-5\" type=\"checkbox\" ><label for=\"sk-estimator-id-5\" class=\"sk-toggleable__label sk-toggleable__label-arrow\">GradientBoostingClassifier</label><div class=\"sk-toggleable__content\"><pre>GradientBoostingClassifier()</pre></div></div></div></div></div></div></div></div></div></div></div></div>"
      ],
      "text/plain": [
       "GridSearchCV(estimator=Pipeline(steps=[('scaler', StandardScaler()),\n",
       "                                       ('pca', PCA()),\n",
       "                                       ('clf', GradientBoostingClassifier())]),\n",
       "             n_jobs=8,\n",
       "             param_grid={'pca__n_components': [1, 2, 3],\n",
       "                         'scaler__with_std': [True, False]},\n",
       "             scoring='balanced_accuracy')"
      ]
     },
     "execution_count": 63,
     "metadata": {},
     "output_type": "execute_result"
    }
   ],
   "source": [
    "from sklearn.pipeline import Pipeline\n",
    "from sklearn.decomposition import PCA\n",
    "pl = Pipeline([('scaler', StandardScaler()),\n",
    "               ('pca', PCA()),\n",
    "               ('clf', GradientBoostingClassifier())])\n",
    "\n",
    "\n",
    "X_train = train.drop(columns=['key','class']).astype('float')\n",
    "X_test = test.drop(columns=['key','class']).astype('float')\n",
    "y_train = train['class'].astype(int)\n",
    "y_test = test['class'].astype(int)\n",
    "\n",
    "y_test=codeClasses(y_test)\n",
    "y_train=codeClasses(y_train)\n",
    "# cv = CrossValidatorWrapper(KFold())\n",
    "gridsearch = GridSearchCV(pl, scoring='balanced_accuracy',\n",
    "                    param_grid={\n",
    "                      \"scaler__with_std\":[True,False],\n",
    "                      \"pca__n_components\": [1, 2, 3]\n",
    "                      }, n_jobs=8)\n",
    "\n",
    "gridsearch.fit(X_train, y_train)"
   ]
  },
  {
   "cell_type": "code",
   "execution_count": 65,
   "id": "5ecca68e",
   "metadata": {},
   "outputs": [],
   "source": [
    "results = gridsearch.cv_results_"
   ]
  },
  {
   "cell_type": "code",
   "execution_count": 135,
   "id": "2c891328",
   "metadata": {},
   "outputs": [
    {
     "data": {
      "text/html": [
       "<div>\n",
       "<style scoped>\n",
       "    .dataframe tbody tr th:only-of-type {\n",
       "        vertical-align: middle;\n",
       "    }\n",
       "\n",
       "    .dataframe tbody tr th {\n",
       "        vertical-align: top;\n",
       "    }\n",
       "\n",
       "    .dataframe thead tr th {\n",
       "        text-align: left;\n",
       "    }\n",
       "</style>\n",
       "<table border=\"1\" class=\"dataframe\">\n",
       "  <thead>\n",
       "    <tr>\n",
       "      <th></th>\n",
       "      <th colspan=\"4\" halign=\"left\">RandomForest</th>\n",
       "    </tr>\n",
       "    <tr>\n",
       "      <th></th>\n",
       "      <th>precision</th>\n",
       "      <th>recall</th>\n",
       "      <th>f1-score</th>\n",
       "      <th>support</th>\n",
       "    </tr>\n",
       "  </thead>\n",
       "  <tbody>\n",
       "    <tr>\n",
       "      <th>Pine</th>\n",
       "      <td>0.232143</td>\n",
       "      <td>0.282609</td>\n",
       "      <td>0.254902</td>\n",
       "      <td>138.000000</td>\n",
       "    </tr>\n",
       "    <tr>\n",
       "      <th>Birch</th>\n",
       "      <td>0.225410</td>\n",
       "      <td>0.270936</td>\n",
       "      <td>0.246085</td>\n",
       "      <td>203.000000</td>\n",
       "    </tr>\n",
       "    <tr>\n",
       "      <th>Silver fir</th>\n",
       "      <td>0.115385</td>\n",
       "      <td>0.338028</td>\n",
       "      <td>0.172043</td>\n",
       "      <td>71.000000</td>\n",
       "    </tr>\n",
       "    <tr>\n",
       "      <th>Fir</th>\n",
       "      <td>0.000000</td>\n",
       "      <td>0.000000</td>\n",
       "      <td>0.000000</td>\n",
       "      <td>122.000000</td>\n",
       "    </tr>\n",
       "    <tr>\n",
       "      <th>Aspen</th>\n",
       "      <td>0.000000</td>\n",
       "      <td>0.000000</td>\n",
       "      <td>0.000000</td>\n",
       "      <td>103.000000</td>\n",
       "    </tr>\n",
       "    <tr>\n",
       "      <th>Larch</th>\n",
       "      <td>0.021277</td>\n",
       "      <td>0.012270</td>\n",
       "      <td>0.015564</td>\n",
       "      <td>163.000000</td>\n",
       "    </tr>\n",
       "    <tr>\n",
       "      <th>Water body</th>\n",
       "      <td>0.992593</td>\n",
       "      <td>0.822086</td>\n",
       "      <td>0.899329</td>\n",
       "      <td>163.000000</td>\n",
       "    </tr>\n",
       "    <tr>\n",
       "      <th>Soil</th>\n",
       "      <td>1.000000</td>\n",
       "      <td>1.000000</td>\n",
       "      <td>1.000000</td>\n",
       "      <td>202.000000</td>\n",
       "    </tr>\n",
       "    <tr>\n",
       "      <th>Deforestation</th>\n",
       "      <td>0.917160</td>\n",
       "      <td>0.885714</td>\n",
       "      <td>0.901163</td>\n",
       "      <td>175.000000</td>\n",
       "    </tr>\n",
       "    <tr>\n",
       "      <th>Grass</th>\n",
       "      <td>0.976159</td>\n",
       "      <td>0.994602</td>\n",
       "      <td>0.985294</td>\n",
       "      <td>741.000000</td>\n",
       "    </tr>\n",
       "    <tr>\n",
       "      <th>Burnt forest</th>\n",
       "      <td>0.984252</td>\n",
       "      <td>0.899281</td>\n",
       "      <td>0.939850</td>\n",
       "      <td>139.000000</td>\n",
       "    </tr>\n",
       "    <tr>\n",
       "      <th>Swamp</th>\n",
       "      <td>0.947826</td>\n",
       "      <td>1.000000</td>\n",
       "      <td>0.973214</td>\n",
       "      <td>218.000000</td>\n",
       "    </tr>\n",
       "    <tr>\n",
       "      <th>accuracy</th>\n",
       "      <td>0.693601</td>\n",
       "      <td>0.693601</td>\n",
       "      <td>0.693601</td>\n",
       "      <td>0.693601</td>\n",
       "    </tr>\n",
       "    <tr>\n",
       "      <th>macro avg</th>\n",
       "      <td>0.534350</td>\n",
       "      <td>0.542127</td>\n",
       "      <td>0.532287</td>\n",
       "      <td>2438.000000</td>\n",
       "    </tr>\n",
       "    <tr>\n",
       "      <th>weighted avg</th>\n",
       "      <td>0.689303</td>\n",
       "      <td>0.693601</td>\n",
       "      <td>0.688712</td>\n",
       "      <td>2438.000000</td>\n",
       "    </tr>\n",
       "  </tbody>\n",
       "</table>\n",
       "</div>"
      ],
      "text/plain": [
       "              RandomForest                                 \n",
       "                 precision    recall  f1-score      support\n",
       "Pine              0.232143  0.282609  0.254902   138.000000\n",
       "Birch             0.225410  0.270936  0.246085   203.000000\n",
       "Silver fir        0.115385  0.338028  0.172043    71.000000\n",
       "Fir               0.000000  0.000000  0.000000   122.000000\n",
       "Aspen             0.000000  0.000000  0.000000   103.000000\n",
       "Larch             0.021277  0.012270  0.015564   163.000000\n",
       "Water body        0.992593  0.822086  0.899329   163.000000\n",
       "Soil              1.000000  1.000000  1.000000   202.000000\n",
       "Deforestation     0.917160  0.885714  0.901163   175.000000\n",
       "Grass             0.976159  0.994602  0.985294   741.000000\n",
       "Burnt forest      0.984252  0.899281  0.939850   139.000000\n",
       "Swamp             0.947826  1.000000  0.973214   218.000000\n",
       "accuracy          0.693601  0.693601  0.693601     0.693601\n",
       "macro avg         0.534350  0.542127  0.532287  2438.000000\n",
       "weighted avg      0.689303  0.693601  0.688712  2438.000000"
      ]
     },
     "execution_count": 135,
     "metadata": {},
     "output_type": "execute_result"
    }
   ],
   "source": [
    "scores_model = df_score_class_dict['RandomForest']\n",
    "scores_model.index = pd.Series(scores_model.index).apply(lambda x: decodeClasses(x))\n",
    "scores_model"
   ]
  },
  {
   "cell_type": "code",
   "execution_count": 514,
   "id": "639fbbeb",
   "metadata": {},
   "outputs": [],
   "source": [
    "X_train = train.drop(columns=['key','class']).astype('float')\n",
    "X_test = test.drop(columns=['key','class']).astype('float')\n",
    "y_train = train['class'].astype(int)\n",
    "y_test = test['class'].astype(int)\n",
    "\n",
    "y_test=codeClasses(y_test)\n",
    "y_train=codeClasses(y_train)"
   ]
  },
  {
   "cell_type": "code",
   "execution_count": 2,
   "id": "b8c20da6",
   "metadata": {},
   "outputs": [],
   "source": [
    "seed = 7\n",
    "models = []\n",
    "models.append(('SVC', SVC(verbose=True)))\n",
    "models.append(('RandomForest', RandomForestClassifier(verbose=1, n)))\n",
    "models.append(('GB', GradientBoostingClassifier()))\n",
    "models.append(('RidgeClassifier', RidgeClassifier()))\n",
    "\n",
    "results = []\n",
    "names = []\n",
    "# scoring = {\"OA\":\"balanced_accuracy\", \"f1_macro\":'f1_macro'}\n",
    "scoring= 'f1_macro'\n",
    "for name, model in models:\n",
    "    kfold = model_selection.KFold(n_splits=5)\n",
    "    cv_results = model_selection.cross_val_score(model, X, Y, cv=kfold, scoring=scoring)\n",
    "    results.append(cv_results)\n",
    "    names.append(name)\n",
    "    msg = \"%s: %f (%f)\" % (name, cv_results.mean(), cv_results.std())\n",
    "    print(msg)\n",
    "# boxplot algorithm comparison\n",
    "fig = plt.figure()\n",
    "fig.suptitle('Algorithm Comparison')\n",
    "ax = fig.add_subplot(111)\n",
    "plt.boxplot(results)\n",
    "ax.set_xticklabels(names)\n",
    "# plt.savefig('../plots/models_comparison.png', dpi=150)\n",
    "plt.show()\n"
   ]
  },
  {
   "cell_type": "code",
   "execution_count": 1,
   "id": "1f67a010",
   "metadata": {},
   "outputs": [],
   "source": [
    "## two-metrics scoring\n",
    "scoring = {\"OA\":\"balanced_accuracy\", \"f1_macro\":'f1_macro'}\n",
    "\n",
    "param_grid = {\n",
    "    \"n_estimators\": range(5, 100, 10),\n",
    "    \"max_leaf_nodes\": range(2, 100, 10),\n",
    "    \"min_samples_split\": range(2, 50, 5),\n",
    "    \"learning_rate\": loguniform.rvs(0.01, 1, size=10),\n",
    "}\n",
    "\n",
    "gs = RandomizedSearchCV(\n",
    "    GradientBoostingClassifier(random_state=42, verbose=0),\n",
    "    n_iter=100,\n",
    "    param_distributions=param_grid,\n",
    "    scoring=scoring,\n",
    "    cv=5,\n",
    "    refit=\"f1_macro\",\n",
    "    n_jobs=8,\n",
    "    return_train_score=True,\n",
    "    verbose=10\n",
    ")\n",
    "gs.fit(X_train, y_train)\n",
    "results = gs.cv_results_"
   ]
  },
  {
   "cell_type": "code",
   "execution_count": 298,
   "id": "51a44d00",
   "metadata": {},
   "outputs": [],
   "source": [
    "OA = results['mean_test_OA']\n",
    "f1_macro = results['mean_test_f1_macro']"
   ]
  },
  {
   "cell_type": "code",
   "execution_count": 299,
   "id": "8dfc7a03",
   "metadata": {},
   "outputs": [
    {
     "data": {
      "text/plain": [
       "<matplotlib.legend.Legend at 0x7fa29d9a9a60>"
      ]
     },
     "execution_count": 299,
     "metadata": {},
     "output_type": "execute_result"
    },
    {
     "data": {
      "image/png": "[encoded data removed]",
      "text/plain": [
       "<Figure size 864x288 with 3 Axes>"
      ]
     },
     "metadata": {
      "needs_background": "light"
     },
     "output_type": "display_data"
    }
   ],
   "source": [
    "fig, (ax1, ax2, ax3) = plt.subplots(1,3, figsize=(12,4), tight_layout=True)\n",
    "ax1.scatter(OA, f1_macro, edgecolors=sns.color_palette()[0], facecolors='none')\n",
    "ax1.grid()\n",
    "# ax1.set_ylim(0,1)\n",
    "# ax1.set_xlim(0,10)\n",
    "ax1.set_ylabel(\"f1_macro\")\n",
    "ax1.set_xlabel(\"OA\")\n",
    "# ax2.scatter(mape_normalized, r2_normalize)\n",
    "sns.kdeplot(f1_macro, fill=True, label=\"f1_macro\", ax=ax2)\n",
    "ax2.grid()\n",
    "ax2.legend()\n",
    "sns.kdeplot(OA, fill=True, label=\"OA\", ax=ax3)\n",
    "ax3.grid()\n",
    "ax3.legend()\n",
    "# ax2.set_ylabel(\"$R^2$\")\n",
    "# ax2.set_xlabel(\"$MAPE$\")\n",
    "# plt.savefig('../plots/two_metrics_plots.png', dpi=300)"
   ]
  },
  {
   "cell_type": "markdown",
   "id": "014e6901",
   "metadata": {},
   "source": [
    "## 6. Color geotiff"
   ]
  },
  {
   "cell_type": "code",
   "execution_count": 146,
   "id": "e97a70d3",
   "metadata": {},
   "outputs": [],
   "source": [
    "fname = '/mnt/bulky2/mgasanov/CARBON/Sentinell2/ForestSentinell2/summer_2020.tiff'\n",
    "with rio.open(fname) as src:\n",
    "    bands_row= src.read()"
   ]
  },
  {
   "cell_type": "code",
   "execution_count": 149,
   "id": "bb641777",
   "metadata": {},
   "outputs": [],
   "source": [
    "shape_row = bands_row.shape"
   ]
  },
  {
   "cell_type": "code",
   "execution_count": 152,
   "id": "0ea3e7de",
   "metadata": {},
   "outputs": [],
   "source": [
    "dates_images_2020 = [\"2020-07-03\", \"2020-07-05\", \"2020-07-13\",\n",
    "                     \"2020-08-04\", \"2020-08-09\", \"2020-08-12\", \"2020-08-17\"]\n",
    "\n",
    "def get_2020_cols():\n",
    "    col_names = [\"B01\",\"B02\",\"B03\",\"B04\",\"B05\",\"B06\",\"B07\",\"B08\",\"B8A\",\"B09\",\"B11\",\"B12\",\"CLM\"]\n",
    "    all_cols = []\n",
    "    i = 0\n",
    "    for date in sorted(dates_images_2020):\n",
    "        for col in col_names:\n",
    "            \n",
    "            all_cols.append(date+'_'+col)\n",
    "    return all_cols\n",
    "\n",
    "cols_2020 = get_2020_cols()\n",
    "\n",
    "x = bands_row[:-4, ...].reshape(len(cols_2020), bands_row.shape[1]*bands_row.shape[2])"
   ]
  },
  {
   "cell_type": "code",
   "execution_count": 177,
   "id": "be6f09c4",
   "metadata": {},
   "outputs": [],
   "source": [
    "for i in range(x.shape[1]//100000 + 1):\n",
    "    select = x[:, i*100000:(i+1)*100000]\n",
    "    if (i+1)*100000 > x.shape[1]:\n",
    "        select = x[:, i*100000:x.shape[1]]\n",
    "    break"
   ]
  },
  {
   "cell_type": "code",
   "execution_count": 184,
   "id": "320d492b",
   "metadata": {},
   "outputs": [],
   "source": [
    "df_indices_field = pd.DataFrame(select.T, columns=cols_2020)"
   ]
  },
  {
   "cell_type": "code",
   "execution_count": 185,
   "id": "6cfb75cf",
   "metadata": {},
   "outputs": [
    {
     "name": "stdout",
     "output_type": "stream",
     "text": [
      "2020-07-03\n",
      "2020-07-05\n",
      "2020-07-13\n",
      "2020-08-04\n",
      "2020-08-09\n",
      "2020-08-12\n",
      "2020-08-17\n"
     ]
    }
   ],
   "source": [
    "def prepare_SVI(df:pd.DataFrame)->pd.DataFrame:\n",
    "    for date in [\"2020-07-03\", \"2020-07-05\", \"2020-07-13\",\n",
    "                     \"2020-08-04\", \"2020-08-09\", \"2020-08-12\", \"2020-08-17\"]:\n",
    "        print(date)\n",
    "        df = dataset.get_ndvi(df, date)\n",
    "        df = dataset.generate_NDRE(df, date)\n",
    "        df = dataset.evi(df, date)\n",
    "        df = dataset.generate_MSAVI(df, date)\n",
    "\n",
    "    return df\n",
    "df_indices_field = prepare_SVI(df_indices_field)"
   ]
  },
  {
   "cell_type": "code",
   "execution_count": null,
   "id": "a7184b81",
   "metadata": {},
   "outputs": [],
   "source": [
    "dates_images_2020 = [\"2020-07-03\", \"2020-07-05\", \"2020-07-13\",\n",
    "                     \"2020-08-04\", \"2020-08-09\", \"2020-08-12\", \"2020-08-17\"]\n",
    "\n",
    "def get_2020_cols():\n",
    "    col_names = [\"B01\",\"B02\",\"B03\",\"B04\",\"B05\",\"B06\",\"B07\",\"B08\",\"B8A\",\"B09\",\"B11\",\"B12\",\"CLM\"]\n",
    "    all_cols = []\n",
    "    i = 0\n",
    "    for date in sorted(dates_images_2020):\n",
    "        for col in col_names:\n",
    "            \n",
    "            all_cols.append(date+'_'+col)\n",
    "    return all_cols\n",
    "\n",
    "cols_2020 = get_2020_cols()\n",
    "\n",
    "\n",
    "# shape = box(*gdf.total_bounds)\n",
    "fname = '/mnt/bulky2/mgasanov/CARBON/Sentinell2/ForestSentinell2/summer_2020.tiff'\n",
    "with rio.open(fname) as src:\n",
    "    bands_row= src.read()\n",
    "x = bands_row[:-4, ...].reshape(len(cols_2020), bands_row.shape[1]*bands_row.shape[2])\n",
    "\n",
    "\n",
    "df_indices_field = pd.DataFrame(x.T[::100, :], columns=cols_2020)\n",
    "\n",
    "\n",
    "def prepare_SVI(df:pd.DataFrame)->pd.DataFrame:\n",
    "    for date in [\"2020-07-03\", \"2020-07-05\", \"2020-07-13\",\n",
    "                     \"2020-08-04\", \"2020-08-09\", \"2020-08-12\", \"2020-08-17\"]:\n",
    "        print(date)\n",
    "        df = dataset.get_ndvi(df, date)\n",
    "        df = dataset.generate_NDRE(df, date)\n",
    "        df = dataset.evi(df, date)\n",
    "        df = dataset.generate_MSAVI(df, date)\n",
    "\n",
    "    return df\n",
    "\n",
    "# slices =  \n",
    "mean_X = np.ones(shape=(13, x.shape[1]))\n",
    "for y in range(14):\n",
    "    print(y)\n",
    "    channels = []\n",
    "    for i in range(len(dates_images_2020)):\n",
    "        channels.append(y-1 + i * 13)\n",
    "    mean_channel = x[channels, ...].mean(axis=0)\n",
    "    mean_X[y] = mean_channel"
   ]
  },
  {
   "cell_type": "markdown",
   "id": "9fbb2cde",
   "metadata": {},
   "source": [
    "## 2. EDA"
   ]
  },
  {
   "cell_type": "code",
   "execution_count": 3,
   "id": "6ff6990f",
   "metadata": {},
   "outputs": [],
   "source": [
    "# # Fill diagonal and upper half with NaNs\n",
    "# corr = non_forest.corr()\n",
    "# mask = np.zeros_like(corr, dtype=bool)\n",
    "# mask[np.triu_indices_from(mask)] = True\n",
    "# corr[mask] = np.nan\n",
    "# (corr.iloc[::3, ::2]\n",
    "#  .style\n",
    "#  .background_gradient(cmap='coolwarm', axis=None, vmin=-1, vmax=1)\n",
    "#  .highlight_null(null_color='#f1f1f1')  # Color NaNs grey\n",
    "#  .set_precision(2))"
   ]
  },
  {
   "cell_type": "code",
   "execution_count": 353,
   "id": "7e1ac014",
   "metadata": {},
   "outputs": [],
   "source": [
    "corr_matrix = non_forest.corr().abs()\n",
    "\n",
    "# Select upper triangle of correlation matrix\n",
    "upper = corr_matrix.where(np.triu(np.ones(corr_matrix.shape), k=1).astype(np.bool_))\n",
    "\n",
    "# Find features with correlation greater than 0.95\n",
    "to_drop = [column for column in upper.columns if any(upper[column] > 0.9)]\n",
    "\n",
    "# Drop features \n",
    "non_forest.drop(to_drop, axis=1, inplace=True)"
   ]
  },
  {
   "cell_type": "code",
   "execution_count": 1,
   "id": "2c62026d",
   "metadata": {},
   "outputs": [],
   "source": [
    "# # Fill diagonal and upper half with NaNs\n",
    "# corr = non_forest.corr()\n",
    "# mask = np.zeros_like(corr, dtype=bool)\n",
    "# mask[np.triu_indices_from(mask)] = True\n",
    "# corr[mask] = np.nan\n",
    "# (corr.iloc[:, :]\n",
    "#  .style\n",
    "#  .background_gradient(cmap='coolwarm', axis=None, vmin=-1, vmax=1)\n",
    "#  .highlight_null(null_color='#f1f1f1')  # Color NaNs grey\n",
    "#  .set_precision(2))"
   ]
  },
  {
   "cell_type": "markdown",
   "id": "d046dde6",
   "metadata": {},
   "source": [
    "## 3. Plotting\n"
   ]
  },
  {
   "cell_type": "code",
   "execution_count": null,
   "id": "f39b36c1",
   "metadata": {},
   "outputs": [],
   "source": [
    "path='/mnt/bulky2/mgasanov/CARBON/Sentinell2/ForestSentinell2/'\n",
    "list_of_geotiff = [tiff for tiff in os.listdir(path) if 'tiff' in tiff]\n",
    "mask = (df_indices_field['date'].dt.month>6) & (df_indices_field['date'].dt.month<9)\n",
    "dates_images = df_indices_field.loc[mask, 'date'].unique()\n",
    "dates_images = [str(image)[:10] for image in dates_images]"
   ]
  },
  {
   "cell_type": "code",
   "execution_count": 148,
   "id": "1084ab6f",
   "metadata": {},
   "outputs": [],
   "source": [
    "src = rio.open(path_to_tiff_file)"
   ]
  },
  {
   "cell_type": "code",
   "execution_count": 100,
   "id": "ae713702",
   "metadata": {},
   "outputs": [],
   "source": [
    "dataset = Dataset()\n",
    "src = rio.open(dataset.path_to_tiff_file)\n",
    "X = src.read()"
   ]
  },
  {
   "cell_type": "code",
   "execution_count": 20,
   "id": "0d106315",
   "metadata": {},
   "outputs": [
    {
     "data": {
      "text/plain": [
       "(13, 3300, 2966)"
      ]
     },
     "execution_count": 20,
     "metadata": {},
     "output_type": "execute_result"
    }
   ],
   "source": [
    "s2 = rio.open(\"/mnt/bulky2/mgasanov/CARBON/Sentinell2/ForestSentinell2/2019-06-19.tiff\")\n",
    "s2.read(2).shape"
   ]
  },
  {
   "cell_type": "code",
   "execution_count": 153,
   "id": "c4179fd3",
   "metadata": {},
   "outputs": [],
   "source": [
    "def normalize(X):\n",
    "    X = X/10000\n",
    "    X = np.clip(X, 0, 0.3)\n",
    "    return X"
   ]
  },
  {
   "cell_type": "code",
   "execution_count": 162,
   "id": "3d7e23e4",
   "metadata": {},
   "outputs": [],
   "source": [
    "X = normalize(124)"
   ]
  },
  {
   "cell_type": "code",
   "execution_count": 220,
   "id": "a0ca6135",
   "metadata": {},
   "outputs": [
    {
     "name": "stdout",
     "output_type": "stream",
     "text": [
      "2019-07-01.tiff 2019-07-04.tiff 2019-08-03.tiff 2019-08-05.tiff 2019-08-08.tiff 2019-08-15.tiff 2019-08-30.tiff 2020-07-03.tiff 2020-07-05.tiff 2020-07-13.tiff 2020-08-04.tiff 2020-08-09.tiff 2020-08-12.tiff 2020-08-17.tiff "
     ]
    }
   ],
   "source": [
    "for x in sorted(dates_images):\n",
    "    print(x+'.tiff ', end='')"
   ]
  },
  {
   "cell_type": "code",
   "execution_count": 147,
   "id": "38dc9dce",
   "metadata": {},
   "outputs": [
    {
     "name": "stdout",
     "output_type": "stream",
     "text": [
      "\n"
     ]
    },
    {
     "data": {
      "image/png": "[encoded data removed]",
      "text/plain": [
       "<Figure size 432x288 with 1 Axes>"
      ]
     },
     "metadata": {
      "needs_background": "light"
     },
     "output_type": "display_data"
    }
   ],
   "source": [
    "for tiff_file in sorted(dates_images):\n",
    "    path_to_tiff_file = os.path.join(path, tiff_file+'.tiff')\n",
    "    print()\n",
    "    rgb_composite_bn = plot_RGB_file(path_to_tiff_file)\n",
    "    plt.imshow(rgb_composite_bn[::3, ::3, :])\n",
    "    plt.title(tiff_file.split('.')[0])\n",
    "    plt.show()\n",
    "    break"
   ]
  },
  {
   "cell_type": "code",
   "execution_count": null,
   "id": "f24b3770",
   "metadata": {},
   "outputs": [],
   "source": []
  },
  {
   "cell_type": "code",
   "execution_count": 114,
   "id": "5f57ce8b",
   "metadata": {},
   "outputs": [],
   "source": [
    "shape = gdf.iloc[0,-2]"
   ]
  },
  {
   "cell_type": "code",
   "execution_count": 115,
   "id": "e033e7c5",
   "metadata": {},
   "outputs": [
    {
     "data": {
      "image/svg+xml": [
       "<svg xmlns=\"http://www.w3.org/2000/svg\" xmlns:xlink=\"http://www.w3.org/1999/xlink\" width=\"100.0\" height=\"100.0\" viewBox=\"656845.2044003634 6275907.891063981 19.36156383960042 19.361563839949667\" preserveAspectRatio=\"xMinYMin meet\"><g transform=\"matrix(1,0,0,-1,0,12551835.1436918)\"><g><path fill-rule=\"evenodd\" fill=\"#66cc99\" stroke=\"#555555\" stroke-width=\"0.38723127679899333\" opacity=\"0.6\" d=\"M 656854.0993079833,6275926.535241339 L 656855.6677244814,6275926.535532864 L 656857.2123638529,6275926.263467278 L 656858.6862930052,6275925.727311163 L 656860.0447273413,6275924.943355333 L 656861.2463915101,6275923.935419883 L 656862.2547735444,6275922.734130421 L 656863.0392342515,6275921.375987524 L 656863.5759381847,6275919.902257683 L 656863.8485778557,6275918.357719446 L 656863.848869246,6275916.789302823 L 656863.5768034986,6275915.244663385 L 656863.0406472017,6275913.770734229 L 656862.256691199,6275912.412299947 L 656861.2487556081,6275911.210635887 L 656860.0474660532,6275910.202254003 L 656858.6893231194,6275909.417793471 L 656857.2155933008,6275908.881089717 L 656855.6710551425,6275908.608450205 L 656854.1026386605,6275908.608158938 L 656852.5579993868,6275908.880224751 L 656851.0840704072,6275909.416381052 L 656849.7256362971,6275910.200337001 L 656848.5239723795,6275911.208272484 L 656847.5155905943,6275912.409561888 L 656846.7311300988,6275913.767704644 L 656846.1944263193,6275915.241434284 L 656845.9217867232,6275916.785972286 L 656845.9214953204,6275918.354388648 L 656846.1935609684,6275919.899027851 L 656846.7297170933,6275921.372956824 L 656847.5136728692,6275922.731390991 L 656848.5216082087,6275923.933055019 L 656849.7228975173,6275924.941436957 L 656851.0810402372,6275925.725897625 L 656852.5547699027,6275926.262601586 L 656854.0993079833,6275926.535241339 z\" /></g></g></svg>"
      ],
      "text/plain": [
       "<shapely.geometry.multipolygon.MultiPolygon at 0x7fa80601ac70>"
      ]
     },
     "execution_count": 115,
     "metadata": {},
     "output_type": "execute_result"
    }
   ],
   "source": [
    "shape"
   ]
  },
  {
   "cell_type": "code",
   "execution_count": 136,
   "id": "d0c68783",
   "metadata": {},
   "outputs": [
    {
     "data": {
      "image/png": "[encoded data removed]",
      "text/plain": [
       "<Figure size 432x288 with 1 Axes>"
      ]
     },
     "metadata": {
      "needs_background": "light"
     },
     "output_type": "display_data"
    },
    {
     "data": {
      "image/png": "[encoded data removed]",
      "text/plain": [
       "<Figure size 432x288 with 1 Axes>"
      ]
     },
     "metadata": {
      "needs_background": "light"
     },
     "output_type": "display_data"
    }
   ],
   "source": [
    "\n",
    "\n",
    "shape = gdf.iloc[-2,-2]\n",
    "\n",
    "\n",
    "with rio.open(dataset.path_to_tiff_file) as src:\n",
    "    out_image, out_transform = crop_mask(src, [shape], crop=True, nodata=0) # SUPER KEK - [shape] works, shape - doesn't \n",
    "    out_meta = src.meta \n",
    "#     x = out_image[:12, ...].reshape(12, out_image.shape[1]*out_image.shape[2])\n",
    "# _df = pd.DataFrame(x.T, columns=col_names[:-1])\n",
    "#     df\n",
    "# plt.imshow(out_image[3,...])\n",
    "\n",
    "plt.imshow(out_image[1,...])\n",
    "plt.show()\n",
    "\n",
    "plt.imshow(out_image[-4,...])\n",
    "plt.show()"
   ]
  },
  {
   "cell_type": "code",
   "execution_count": 137,
   "id": "a91f80e6",
   "metadata": {},
   "outputs": [],
   "source": [
    "s2 = out_image[2,...]\n",
    "\n",
    "t1 = out_image[-2,...]\n",
    "\n",
    "sub_m = np.where(s2>0, t1, -1)"
   ]
  },
  {
   "cell_type": "code",
   "execution_count": 138,
   "id": "177f5196",
   "metadata": {},
   "outputs": [
    {
     "data": {
      "text/plain": [
       "(7, 7)"
      ]
     },
     "execution_count": 138,
     "metadata": {},
     "output_type": "execute_result"
    }
   ],
   "source": [
    "s2.shape"
   ]
  },
  {
   "cell_type": "code",
   "execution_count": 145,
   "id": "d70fb7c1",
   "metadata": {},
   "outputs": [
    {
     "data": {
      "text/plain": [
       "array([[-1, -1,  0,  0,  8, -1, -1],\n",
       "       [-1,  0,  0,  0,  8,  8, -1],\n",
       "       [ 8,  0,  0,  0,  8,  8, -1],\n",
       "       [ 8,  8,  8,  8,  8,  8, -1],\n",
       "       [ 8,  8,  8,  8,  8,  9, -1],\n",
       "       [-1,  0,  0,  0,  0, -1, -1],\n",
       "       [-1, -1, -1, -1, -1, -1, -1]], dtype=int32)"
      ]
     },
     "execution_count": 145,
     "metadata": {},
     "output_type": "execute_result"
    }
   ],
   "source": [
    "sub_m = np.where(s2>0, t1, -1)"
   ]
  },
  {
   "cell_type": "code",
   "execution_count": 119,
   "id": "3282346a",
   "metadata": {},
   "outputs": [
    {
     "data": {
      "text/plain": [
       "<matplotlib.image.AxesImage at 0x7fa7e9ef57c0>"
      ]
     },
     "execution_count": 119,
     "metadata": {},
     "output_type": "execute_result"
    },
    {
     "data": {
      "image/png": "[encoded data removed]",
      "text/plain": [
       "<Figure size 432x288 with 1 Axes>"
      ]
     },
     "metadata": {
      "needs_background": "light"
     },
     "output_type": "display_data"
    }
   ],
   "source": [
    "plt.imshow(out_image[1,...])"
   ]
  },
  {
   "cell_type": "code",
   "execution_count": 123,
   "id": "afc2d251",
   "metadata": {},
   "outputs": [
    {
     "data": {
      "text/plain": [
       "<matplotlib.image.AxesImage at 0x7fa7ea0c9160>"
      ]
     },
     "execution_count": 123,
     "metadata": {},
     "output_type": "execute_result"
    },
    {
     "data": {
      "image/png": "[encoded data removed]",
      "text/plain": [
       "<Figure size 432x288 with 1 Axes>"
      ]
     },
     "metadata": {
      "needs_background": "light"
     },
     "output_type": "display_data"
    }
   ],
   "source": [
    "plt.imshow(out_image[-2,...])"
   ]
  },
  {
   "cell_type": "code",
   "execution_count": 73,
   "id": "0f545223",
   "metadata": {},
   "outputs": [
    {
     "data": {
      "text/plain": [
       "<matplotlib.image.AxesImage at 0x135f04eb0>"
      ]
     },
     "execution_count": 73,
     "metadata": {},
     "output_type": "execute_result"
    },
    {
     "data": {
      "image/png": "[encoded data removed]",
      "text/plain": [
       "<Figure size 432x288 with 1 Axes>"
      ]
     },
     "metadata": {
      "needs_background": "light"
     },
     "output_type": "display_data"
    }
   ],
   "source": [
    "col_names = [\"B01\",\"B02\",\"B03\",\"B04\",\"B05\",\"B06\",\"B07\",\"B08\",\"B8A\",\"B09\",\"B11\",\"B12\",\"CLM\"]\n",
    "path='/Users/mikhailgasanov/Yandex.Disk.localized/STRIP/Bratsk/Sentinel2_2019_10_meters/'\n",
    "year = 2019\n",
    "list_of_geotiff = [tiff for tiff in os.listdir(path) if (str('-') in tiff) and ('tiff' in tiff)]\n",
    "\n",
    "df_indices_field = pd.DataFrame(columns = ['date',  *col_names, \"NDVI\"])\n",
    "\n",
    "dates_of_images = []\n",
    "\n",
    "\n",
    "\n",
    "for tiff_file in sorted(list_of_geotiff):\n",
    "    path_to_tiff_file = os.path.join(path, tiff_file)\n",
    "    with rio.open(path_to_tiff_file) as src:\n",
    "        out_image, out_transform = crop_mask(src, [shape], crop=True) # SUPER KEK - [shape] works, shape - doesn't\n",
    "        out_meta = src.meta \n",
    "        x = out_image[:12, ...].reshape(12, out_image.shape[1]*out_image.shape[2])\n",
    "    _df = pd.DataFrame(x.T, columns=col_names[:-1])\n",
    "#     df\n",
    "plt.imshow(out_image[3,...])"
   ]
  },
  {
   "cell_type": "code",
   "execution_count": 75,
   "id": "293e8297",
   "metadata": {},
   "outputs": [
    {
     "data": {
      "text/plain": [
       "<matplotlib.image.AxesImage at 0x135d7c8b0>"
      ]
     },
     "execution_count": 75,
     "metadata": {},
     "output_type": "execute_result"
    },
    {
     "data": {
      "image/png": "[encoded data removed]",
      "text/plain": [
       "<Figure size 432x288 with 1 Axes>"
      ]
     },
     "metadata": {
      "needs_background": "light"
     },
     "output_type": "display_data"
    }
   ],
   "source": [
    "shape = gdf_8m.iloc[0,-1]\n",
    "col_names = [\"B01\",\"B02\",\"B03\",\"B04\",\"B05\",\"B06\",\"B07\",\"B08\",\"B8A\",\"B09\",\"B11\",\"B12\",\"CLM\"]\n",
    "path='/Users/mikhailgasanov/Yandex.Disk.localized/STRIP/Bratsk/Sentinel2_2019_10_meters/'\n",
    "year = 2019\n",
    "list_of_geotiff = [tiff for tiff in os.listdir(path) if (str('-') in tiff) and ('tiff' in tiff)]\n",
    "\n",
    "df_indices_field = pd.DataFrame(columns = ['date',  *col_names, \"NDVI\"])\n",
    "\n",
    "dates_of_images = []\n",
    "\n",
    "\n",
    "\n",
    "for tiff_file in sorted(list_of_geotiff):\n",
    "    path_to_tiff_file = os.path.join(path, tiff_file)\n",
    "    with rio.open(path_to_tiff_file) as src:\n",
    "        out_image, out_transform = crop_mask(src, [shape], crop=True) # SUPER KEK - [shape] works, shape - doesn't\n",
    "        out_meta = src.meta \n",
    "        x = out_image[:12, ...].reshape(12, out_image.shape[1]*out_image.shape[2])\n",
    "    _df = pd.DataFrame(x.T, columns=col_names[:-1])\n",
    "#     df\n",
    "\n",
    "plt.imshow(out_image[3,...])"
   ]
  },
  {
   "cell_type": "code",
   "execution_count": 16,
   "id": "dd93f63d",
   "metadata": {},
   "outputs": [
    {
     "data": {
      "text/plain": [
       "<Derived Projected CRS: EPSG:32647>\n",
       "Name: WGS 84 / UTM zone 47N\n",
       "Axis Info [cartesian]:\n",
       "- E[east]: Easting (metre)\n",
       "- N[north]: Northing (metre)\n",
       "Area of Use:\n",
       "- name: Between 96°E and 102°E, northern hemisphere between equator and 84°N, onshore and offshore. China. Indonesia. Laos. Malaysia - West Malaysia. Mongolia. Myanmar (Burma). Russian Federation. Thailand.\n",
       "- bounds: (96.0, 0.0, 102.0, 84.0)\n",
       "Coordinate Operation:\n",
       "- name: UTM zone 47N\n",
       "- method: Transverse Mercator\n",
       "Datum: World Geodetic System 1984 ensemble\n",
       "- Ellipsoid: WGS 84\n",
       "- Prime Meridian: Greenwich"
      ]
     },
     "execution_count": 16,
     "metadata": {},
     "output_type": "execute_result"
    }
   ],
   "source": [
    "gdf_8m.crs"
   ]
  },
  {
   "cell_type": "markdown",
   "id": "6da34315",
   "metadata": {},
   "source": [
    "## * Clusters"
   ]
  },
  {
   "cell_type": "code",
   "execution_count": 187,
   "id": "fd294123",
   "metadata": {},
   "outputs": [],
   "source": [
    "from sklearn.cluster import DBSCAN"
   ]
  },
  {
   "cell_type": "code",
   "execution_count": 189,
   "id": "05877408",
   "metadata": {},
   "outputs": [
    {
     "name": "stdout",
     "output_type": "stream",
     "text": [
      "8.974945806042294\n",
      "Start bands . . . . . . . . . . . . . . . . . . . . . . . . . . . . . . . . . . . . . . . . . . . . . . . . . . . . . . . . . . . . . . . . . . . . . . . . . . . . . . . . . . . . . . . . . . . . . . . . . . . . . . . . . . . . . . . . . . . . . . . . . . . . . . . . . . . . . . . . . . . . . . . . . . . . . . . . . . . . . . . . . . . . . . . . . . . . . . . . . . . . . . . . . . . . . . . . . . . . . . . . . . . . . . . . . . . . . . . . . . . . . . . . . . . . . . . . . . . . . . . . . . . . . . . . . . . . . . . . . . . . . . . . . . . . . . . . . . . . . . . . . . Start terrain . . . . . . . . . . . . . . . . . . . . . . . . . . . . . . . . . . . . . . . . . . . . . . . . . . . . . . . . . . . . . . . . . . . . . . . . . . . . . . . . . . . . . . . . . . . . . . . . . . . . . . . . . . . . . . . . . . . . . . . . . . . . . . . . . . . . . . . . . . . . . . . . . . . . . . . . . . . . . . . . . . . . . . . . . . . . . . . . . . . . . . . . . . . . . . . . . . . . . . . . . . . . . . . . . . . . . . . . . . . . . . . . . . . . . . . . . . . . . . . . . . . . . . . . . . . . . . . . . . . . . . . . . . . . . . . . . . . . . . . . . . "
     ]
    }
   ],
   "source": [
    "fnames = {\"invent_plots\":\"../shape_data/dataset_plots.geojson\"}\n",
    "gdf = gpd.read_file(fnames['invent_plots'])\n",
    "gdf.loc[:, 'key'] = gdf.index\n",
    "gdf=procces_gdf(gdf)\n",
    "dataset = Dataset(tiff_fname=None, scale=1)\n",
    "bands, terrain = dataset.prepare_forest_classes_dataset(gdf=gdf)\n",
    "col_2020 = [col for col in bands.columns if '2019' not in col]\n",
    "df = pd.concat([bands[col_2020[:-2]], terrain], axis=1)\n",
    "df = df.copy()\n",
    "df[['aspect','slope','wetnessindex','sink']] = df[['aspect','slope','wetnessindex','sink']].astype(float)\n",
    "forest = df[\"class\"] < 20\n",
    "df_resampled = df.loc[forest]\n",
    "_X = df_resampled.iloc[:, :-2]\n",
    "scaled = StandardScaler().fit_transform(_X)\n",
    "df_resampled.iloc[:, :-2] = scaled"
   ]
  },
  {
   "cell_type": "code",
   "execution_count": 204,
   "id": "adbe1dda",
   "metadata": {},
   "outputs": [],
   "source": [
    "df= df_resampled.loc[df_resampled['class'] < 8]"
   ]
  },
  {
   "cell_type": "code",
   "execution_count": null,
   "id": "b8ffe18f",
   "metadata": {},
   "outputs": [],
   "source": []
  },
  {
   "cell_type": "code",
   "execution_count": 205,
   "id": "324ebf14",
   "metadata": {},
   "outputs": [],
   "source": [
    "X = df.iloc[:, :-2].values\n",
    "labels_true = df['class'].values"
   ]
  },
  {
   "cell_type": "code",
   "execution_count": 207,
   "id": "c8385808",
   "metadata": {},
   "outputs": [
    {
     "name": "stdout",
     "output_type": "stream",
     "text": [
      "Estimated number of clusters: 0\n",
      "Estimated number of noise points: 1552\n",
      "Homogeneity: 0.000\n",
      "Completeness: 1.000\n",
      "V-measure: 0.000\n",
      "Adjusted Rand Index: 0.000\n",
      "Adjusted Mutual Information: 0.000\n"
     ]
    }
   ],
   "source": [
    "db = DBSCAN(eps=0.3, min_samples=10).fit(X)\n",
    "core_samples_mask = np.zeros_like(db.labels_, dtype=bool)\n",
    "core_samples_mask[db.core_sample_indices_] = True\n",
    "labels = db.labels_\n",
    "\n",
    "# Number of clusters in labels, ignoring noise if present.\n",
    "n_clusters_ = len(set(labels)) - (1 if -1 in labels else 0)\n",
    "n_noise_ = list(labels).count(-1)\n",
    "\n",
    "print(\"Estimated number of clusters: %d\" % n_clusters_)\n",
    "print(\"Estimated number of noise points: %d\" % n_noise_)\n",
    "print(\"Homogeneity: %0.3f\" % metrics.homogeneity_score(labels_true, labels))\n",
    "print(\"Completeness: %0.3f\" % metrics.completeness_score(labels_true, labels))\n",
    "print(\"V-measure: %0.3f\" % metrics.v_measure_score(labels_true, labels))\n",
    "print(\"Adjusted Rand Index: %0.3f\" % metrics.adjusted_rand_score(labels_true, labels))\n",
    "print(\n",
    "    \"Adjusted Mutual Information: %0.3f\"\n",
    "    % metrics.adjusted_mutual_info_score(labels_true, labels)\n",
    ")\n",
    "# print(\"Silhouette Coefficient: %0.3f\" % metrics.silhouette_score(X, labels))"
   ]
  },
  {
   "cell_type": "code",
   "execution_count": 208,
   "id": "a397067c",
   "metadata": {},
   "outputs": [
    {
     "data": {
      "image/png": "[encoded data removed]",
      "text/plain": [
       "<Figure size 432x288 with 1 Axes>"
      ]
     },
     "metadata": {
      "needs_background": "light"
     },
     "output_type": "display_data"
    }
   ],
   "source": [
    "import matplotlib.pyplot as plt\n",
    "\n",
    "# Black removed and is used for noise instead.\n",
    "unique_labels = set(labels)\n",
    "colors = [plt.cm.Spectral(each) for each in np.linspace(0, 1, len(unique_labels))]\n",
    "for k, col in zip(unique_labels, colors):\n",
    "    if k == -1:\n",
    "        # Black used for noise.\n",
    "        col = [0, 0, 0, 1]\n",
    "\n",
    "    class_member_mask = labels == k\n",
    "\n",
    "    xy = X[class_member_mask & core_samples_mask]\n",
    "    plt.plot(\n",
    "        xy[:, 0],\n",
    "        xy[:, 1],\n",
    "        \"o\",\n",
    "        markerfacecolor=tuple(col),\n",
    "        markeredgecolor=\"k\",\n",
    "        markersize=14,\n",
    "    )\n",
    "\n",
    "    xy = X[class_member_mask & ~core_samples_mask]\n",
    "    plt.plot(\n",
    "        xy[:, 0],\n",
    "        xy[:, 1],\n",
    "        \"o\",\n",
    "        markerfacecolor=tuple(col),\n",
    "        markeredgecolor=\"k\",\n",
    "        markersize=6,\n",
    "    )\n",
    "\n",
    "plt.title(\"Estimated number of clusters: %d\" % n_clusters_)\n",
    "plt.show()"
   ]
  },
  {
   "cell_type": "code",
   "execution_count": 209,
   "id": "4d6a3bd5",
   "metadata": {},
   "outputs": [],
   "source": [
    "from sklearn.manifold import TSNE"
   ]
  },
  {
   "cell_type": "code",
   "execution_count": 215,
   "id": "d4177969",
   "metadata": {},
   "outputs": [
    {
     "name": "stdout",
     "output_type": "stream",
     "text": [
      "[t-SNE] Computing 91 nearest neighbors...\n",
      "[t-SNE] Indexed 1552 samples in 0.002s...\n",
      "[t-SNE] Computed neighbors for 1552 samples in 0.717s...\n",
      "[t-SNE] Computed conditional probabilities for sample 1000 / 1552\n",
      "[t-SNE] Computed conditional probabilities for sample 1552 / 1552\n",
      "[t-SNE] Mean sigma: 1.522654\n",
      "[t-SNE] KL divergence after 250 iterations with early exaggeration: 64.342094\n",
      "[t-SNE] KL divergence after 1000 iterations: 0.335503\n"
     ]
    }
   ],
   "source": [
    "tsne = TSNE(n_components=3, verbose=1, random_state=123)\n",
    "z = tsne.fit_transform(X)"
   ]
  },
  {
   "cell_type": "code",
   "execution_count": 218,
   "id": "766c7c3b",
   "metadata": {},
   "outputs": [
    {
     "data": {
      "text/plain": [
       "[Text(0.5, 1.0, 'Iris data T-SNE projection')]"
      ]
     },
     "execution_count": 218,
     "metadata": {},
     "output_type": "execute_result"
    },
    {
     "data": {
      "image/png": "[encoded data removed]",
      "text/plain": [
       "<Figure size 432x288 with 1 Axes>"
      ]
     },
     "metadata": {
      "needs_background": "light"
     },
     "output_type": "display_data"
    }
   ],
   "source": [
    "df = pd.DataFrame()\n",
    "df[\"y\"] = labels_true\n",
    "df[\"comp-1\"] = z[:,0]\n",
    "df[\"comp-2\"] = z[:,1]\n",
    "\n",
    "sns.scatterplot(x=\"comp-1\", y=\"comp-2\", hue=df.y.tolist(),\n",
    "                palette=sns.color_palette(\"hls\", 7),\n",
    "                data=df).set(title=\"Iris data T-SNE projection\")"
   ]
  },
  {
   "cell_type": "code",
   "execution_count": null,
   "id": "4810e297",
   "metadata": {},
   "outputs": [],
   "source": []
  }
 ],
 "metadata": {
  "kernelspec": {
   "display_name": "Python 3 (ipykernel)",
   "language": "python",
   "name": "python3"
  },
  "language_info": {
   "codemirror_mode": {
    "name": "ipython",
    "version": 3
   },
   "file_extension": ".py",
   "mimetype": "text/x-python",
   "name": "python",
   "nbconvert_exporter": "python",
   "pygments_lexer": "ipython3",
   "version": "3.8.10"
  },
  "vscode": {
   "interpreter": {
    "hash": "2624297a14b2e5b247b0fc8a92b75a581cd32613a3f7f56c6b107af7b0801f07"
   }
  }
 },
 "nbformat": 4,
 "nbformat_minor": 5
}
