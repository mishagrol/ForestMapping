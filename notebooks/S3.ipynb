{
 "cells": [
  {
   "cell_type": "markdown",
   "id": "1aeb5d69",
   "metadata": {},
   "source": [
    "## Upload geotiff to S3 storage\n"
   ]
  },
  {
   "cell_type": "code",
   "execution_count": null,
   "id": "259d1902",
   "metadata": {},
   "outputs": [],
   "source": [
    "!pip3 -q install python-dotenv\n",
    "!pip3 -q install boto3"
   ]
  },
  {
   "cell_type": "code",
   "execution_count": null,
   "id": "8fe87895",
   "metadata": {},
   "outputs": [],
   "source": [
    "from dotenv import load_dotenv, find_dotenv\n",
    "\n",
    "import json\n",
    "import os\n",
    "\n",
    "import boto3\n",
    "import botocore\n",
    "from botocore.config import Config\n",
    "import logging\n",
    "boto3.set_stream_logger(name='botocore.credentials', level=logging.ERROR)"
   ]
  },
  {
   "cell_type": "code",
   "execution_count": null,
   "id": "fae59416",
   "metadata": {},
   "outputs": [
    {
     "data": {
      "text/plain": [
       "True"
      ]
     },
     "execution_count": null,
     "metadata": {},
     "output_type": "execute_result"
    }
   ],
   "source": [
    "load_dotenv(find_dotenv())"
   ]
  },
  {
   "cell_type": "code",
   "execution_count": null,
   "id": "6a5463f2",
   "metadata": {},
   "outputs": [],
   "source": [
    "\n",
    "def get_s3():\n",
    "    \"\"\"get_s3 session to S3\n",
    "\n",
    "    get session with settings\n",
    "\n",
    "    Returns:\n",
    "        _type_: session\n",
    "    \"\"\"\n",
    "    session = boto3.session.Session()\n",
    "    s3_session = session.client(\n",
    "        service_name=\"s3\",\n",
    "        endpoint_url=\"https://storage.yandexcloud.net\",\n",
    "        aws_access_key_id=os.environ[\"AWS_ACCESS_KEY_ID\"],\n",
    "        aws_secret_access_key=os.environ[\"AWS_SECRET_ACCESS_KEY\"],\n",
    "    )\n",
    "    return s3_session\n",
    "\n",
    "\n",
    "def uppload_file(fname: str, task_id: str, bucket_name: str = \"skoltech\") -> str:\n",
    "    \"\"\"uppload_file Uplaod file to S3\n",
    "\n",
    "    Upload COG file to S3 storage\n",
    "\n",
    "    Args:\n",
    "        fname (str): path to COG file\n",
    "        task_id (str): key for file in S3\n",
    "        bucket_name (str, optional): bucket name in S3. Defaults to \"skoltech\".\n",
    "\n",
    "    Returns:\n",
    "        str: status - \"Done\"\n",
    "    \"\"\"\n",
    "    s3_session = get_s3()\n",
    "    s3_session.upload_file(fname, bucket_name, task_id)\n",
    "    return \"Done\"\n"
   ]
  },
  {
   "cell_type": "code",
   "execution_count": null,
   "id": "268b8007",
   "metadata": {},
   "outputs": [
    {
     "data": {
      "text/plain": [
       "'Done'"
      ]
     },
     "execution_count": null,
     "metadata": {},
     "output_type": "execute_result"
    }
   ],
   "source": [
    "file=\"bands_and_terrain_texture.tiff\"\n",
    "local = os.path.join('../rasters/', file)\n",
    "key = f\"forestmapping/{file}\"\n",
    "uppload_file(fname=local, task_id=key)"
   ]
  },
  {
   "cell_type": "code",
   "execution_count": null,
   "id": "3ddc0670",
   "metadata": {},
   "outputs": [],
   "source": [
    "for file in os.listdir('../shape_data/'):\n",
    "    if '2024' in file:\n",
    "        local = os.path.join('../shape_data/', file)\n",
    "        key = f\"forestmapping/{file}\"\n",
    "        uppload_file(fname=local, task_id=key)"
   ]
  },
  {
   "cell_type": "code",
   "execution_count": null,
   "id": "22851289",
   "metadata": {},
   "outputs": [],
   "source": [
    "class Pet:\n",
    "    def __init__(self, name: str):\n",
    "        self.name = name\n",
    "    \n",
    "        "
   ]
  },
  {
   "cell_type": "code",
   "execution_count": null,
   "id": "46922ad8-7578-4c6d-ba31-34a8f79031cb",
   "metadata": {},
   "outputs": [],
   "source": [
    "pet = Pet(name='fox')"
   ]
  },
  {
   "cell_type": "code",
   "execution_count": null,
   "id": "0557eeb4-db00-4261-ac77-f6a71080b2b1",
   "metadata": {},
   "outputs": [
    {
     "data": {
      "text/plain": [
       "True"
      ]
     },
     "execution_count": null,
     "metadata": {},
     "output_type": "execute_result"
    }
   ],
   "source": [
    "hasattr(pet, 'name')"
   ]
  },
  {
   "cell_type": "code",
   "execution_count": null,
   "id": "a94a4126-5367-4adc-9566-6512d9e923a6",
   "metadata": {},
   "outputs": [],
   "source": [
    "delattr(pet, 'name')"
   ]
  },
  {
   "cell_type": "code",
   "execution_count": null,
   "id": "8cb455d2-d192-48b2-9ef4-0819d046a441",
   "metadata": {},
   "outputs": [
    {
     "ename": "AttributeError",
     "evalue": "'Pet' object has no attribute 'name'",
     "output_type": "error",
     "traceback": [
      "\u001b[0;31m---------------------------------------------------------------------------\u001b[0m",
      "\u001b[0;31mAttributeError\u001b[0m                            Traceback (most recent call last)",
      "Cell \u001b[0;32mIn[6], line 1\u001b[0m\n\u001b[0;32m----> 1\u001b[0m \u001b[43mpet\u001b[49m\u001b[38;5;241;43m.\u001b[39;49m\u001b[43mname\u001b[49m\n",
      "\u001b[0;31mAttributeError\u001b[0m: 'Pet' object has no attribute 'name'"
     ]
    }
   ],
   "source": [
    "pet.name"
   ]
  },
  {
   "cell_type": "code",
   "execution_count": null,
   "id": "ccca4ad5-0482-4a2d-99bd-b969fbe149da",
   "metadata": {},
   "outputs": [],
   "source": []
  }
 ],
 "metadata": {
  "kernelspec": {
   "display_name": "python3",
   "language": "python",
   "name": "python3"
  }
 },
 "nbformat": 4,
 "nbformat_minor": 5
}
