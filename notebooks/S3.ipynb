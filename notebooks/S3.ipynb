{
 "cells": [
  {
   "cell_type": "markdown",
   "id": "1aeb5d69",
   "metadata": {},
   "source": [
    "## Upload geotiff to S3 storage\n"
   ]
  },
  {
   "cell_type": "code",
   "execution_count": 5,
   "id": "259d1902",
   "metadata": {},
   "outputs": [],
   "source": [
    "!pip3 -q install python-dotenv\n",
    "!pip3 -q install boto3"
   ]
  },
  {
   "cell_type": "code",
   "execution_count": 17,
   "id": "8fe87895",
   "metadata": {},
   "outputs": [],
   "source": [
    "from dotenv import load_dotenv, find_dotenv\n",
    "\n",
    "import json\n",
    "import os\n",
    "\n",
    "import boto3\n",
    "import botocore\n",
    "from botocore.config import Config\n",
    "import logging\n",
    "boto3.set_stream_logger(name='botocore.credentials', level=logging.ERROR)"
   ]
  },
  {
   "cell_type": "code",
   "execution_count": 18,
   "id": "fae59416",
   "metadata": {},
   "outputs": [
    {
     "data": {
      "text/plain": [
       "True"
      ]
     },
     "execution_count": 18,
     "metadata": {},
     "output_type": "execute_result"
    }
   ],
   "source": [
    "load_dotenv(find_dotenv())"
   ]
  },
  {
   "cell_type": "code",
   "execution_count": 20,
   "id": "6a5463f2",
   "metadata": {},
   "outputs": [],
   "source": [
    "\n",
    "def get_s3():\n",
    "    \"\"\"get_s3 session to S3\n",
    "\n",
    "    get session with settings\n",
    "\n",
    "    Returns:\n",
    "        _type_: session\n",
    "    \"\"\"\n",
    "    session = boto3.session.Session()\n",
    "    s3_session = session.client(\n",
    "        service_name=\"s3\",\n",
    "        endpoint_url=\"https://storage.yandexcloud.net\",\n",
    "        aws_access_key_id=os.environ[\"AWS_ACCESS_KEY_ID\"],\n",
    "        aws_secret_access_key=os.environ[\"AWS_SECRET_ACCESS_KEY\"],\n",
    "    )\n",
    "    return s3_session\n",
    "\n",
    "\n",
    "def uppload_file(fname: str, task_id: str, bucket_name: str = \"skoltech\") -> str:\n",
    "    \"\"\"uppload_file Uplaod file to S3\n",
    "\n",
    "    Upload COG file to S3 storage\n",
    "\n",
    "    Args:\n",
    "        fname (str): path to COG file\n",
    "        task_id (str): key for file in S3\n",
    "        bucket_name (str, optional): bucket name in S3. Defaults to \"skoltech\".\n",
    "\n",
    "    Returns:\n",
    "        str: status - \"Done\"\n",
    "    \"\"\"\n",
    "    s3_session = get_s3()\n",
    "    s3_session.upload_file(fname, bucket_name, task_id)\n",
    "    return \"Done\"\n"
   ]
  },
  {
   "cell_type": "code",
   "execution_count": 21,
   "id": "268b8007",
   "metadata": {},
   "outputs": [
    {
     "data": {
      "text/plain": [
       "'Done'"
      ]
     },
     "execution_count": 21,
     "metadata": {},
     "output_type": "execute_result"
    }
   ],
   "source": [
    "file=\"bands_and_terrain_texture.tiff\"\n",
    "local = os.path.join('../rasters/', file)\n",
    "key = f\"forestmapping/{file}\"\n",
    "uppload_file(fname=local, task_id=key)"
   ]
  },
  {
   "cell_type": "code",
   "execution_count": 23,
   "id": "3ddc0670",
   "metadata": {},
   "outputs": [],
   "source": [
    "for file in os.listdir('../shape_data/'):\n",
    "    if '2024' in file:\n",
    "        local = os.path.join('../shape_data/', file)\n",
    "        key = f\"forestmapping/{file}\"\n",
    "        uppload_file(fname=local, task_id=key)"
   ]
  },
  {
   "cell_type": "code",
   "execution_count": null,
   "id": "22851289",
   "metadata": {},
   "outputs": [],
   "source": []
  }
 ],
 "metadata": {
  "kernelspec": {
   "display_name": "Python 3 (ipykernel)",
   "language": "python",
   "name": "python3"
  },
  "language_info": {
   "codemirror_mode": {
    "name": "ipython",
    "version": 3
   },
   "file_extension": ".py",
   "mimetype": "text/x-python",
   "name": "python",
   "nbconvert_exporter": "python",
   "pygments_lexer": "ipython3",
   "version": "3.8.10"
  }
 },
 "nbformat": 4,
 "nbformat_minor": 5
}
