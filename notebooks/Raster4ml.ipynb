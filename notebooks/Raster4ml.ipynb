{
 "cells": [
  {
   "cell_type": "code",
   "execution_count": 1,
   "id": "a9798726",
   "metadata": {},
   "outputs": [],
   "source": [
    "import os\n",
    "import pandas as pd\n",
    "import geopandas as gpd"
   ]
  },
  {
   "cell_type": "code",
   "execution_count": 2,
   "id": "d38d458b",
   "metadata": {},
   "outputs": [],
   "source": [
    "import glob\n",
    "from raster4ml.preprocessing import stack_bands\n",
    "from raster4ml.plotting import Map\n",
    "from raster4ml.features import VegetationIndices\n",
    "from raster4ml.extraction import batch_extract_by_points, batch_extract_by_polygons"
   ]
  },
  {
   "cell_type": "code",
   "execution_count": null,
   "id": "e386bee9",
   "metadata": {},
   "outputs": [],
   "source": [
    "gdf_30m = gpd.read_file('../forest_taxation/Classification/shape_data/super_resolution_points.geojson')\n",
    "gdf_8m = gpd.read_file('../forest_taxation/Classification/shape_data/ROI_plots70/ROI_plots70.shp')"
   ]
  },
  {
   "cell_type": "code",
   "execution_count": null,
   "id": "180f45f4",
   "metadata": {},
   "outputs": [],
   "source": [
    "# Filter all the files that ends with .TIF\n",
    "image_dir = 'rasters'\n",
    "\n",
    "# Empty list to hold the first 7 bands' paths\n",
    "bands_to_stack = []\n",
    "# Loop through 7 times\n",
    "for i in range(7):\n",
    "    bands_to_stack.append(os.path.join(image_dir,\n",
    "                                       f'LC08_L1TP_137045_20210317_20210328_01_T1_B{i+1}.TIF'))\n",
    "bands_to_stack"
   ]
  },
  {
   "cell_type": "code",
   "execution_count": null,
   "id": "b252e527",
   "metadata": {},
   "outputs": [],
   "source": [
    "VegetationIndices()"
   ]
  }
 ],
 "metadata": {
  "kernelspec": {
   "display_name": "Python 3 (ipykernel)",
   "language": "python",
   "name": "python3"
  },
  "language_info": {
   "codemirror_mode": {
    "name": "ipython",
    "version": 3
   },
   "file_extension": ".py",
   "mimetype": "text/x-python",
   "name": "python",
   "nbconvert_exporter": "python",
   "pygments_lexer": "ipython3",
   "version": "3.8.9"
  }
 },
 "nbformat": 4,
 "nbformat_minor": 5
}
