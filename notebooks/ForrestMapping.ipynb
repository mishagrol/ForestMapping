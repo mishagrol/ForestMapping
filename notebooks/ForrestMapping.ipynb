{
 "cells": [
  {
   "cell_type": "markdown",
   "id": "286eda6f",
   "metadata": {},
   "source": [
    "## ForrestMapping 🍃🌲\n",
    "-----\n",
    "\n",
    "\n",
    "Forest species mapping supported with machine learning."
   ]
  },
  {
   "cell_type": "code",
   "execution_count": 1,
   "id": "9a058989",
   "metadata": {},
   "outputs": [
    {
     "name": "stdout",
     "output_type": "stream",
     "text": [
      "\u001b[33mWARNING: Running pip as the 'root' user can result in broken permissions and conflicting behaviour with the system package manager. It is recommended to use a virtual environment instead: https://pip.pypa.io/warnings/venv\u001b[0m\u001b[33m\n",
      "\u001b[0m\u001b[33mWARNING: You are using pip version 22.0.4; however, version 23.2.1 is available.\n",
      "You should consider upgrading via the '/usr/local/bin/python -m pip install --upgrade pip' command.\u001b[0m\u001b[33m\n",
      "\u001b[0m"
     ]
    }
   ],
   "source": [
    "!pip3 -q install seaborn"
   ]
  },
  {
   "cell_type": "code",
   "execution_count": 4,
   "id": "0e7f2412",
   "metadata": {},
   "outputs": [
    {
     "name": "stdout",
     "output_type": "stream",
     "text": [
      "\u001b[33mWARNING: Running pip as the 'root' user can result in broken permissions and conflicting behaviour with the system package manager. It is recommended to use a virtual environment instead: https://pip.pypa.io/warnings/venv\u001b[0m\u001b[33m\n",
      "\u001b[0m\u001b[33mWARNING: You are using pip version 22.0.4; however, version 23.2.1 is available.\n",
      "You should consider upgrading via the '/usr/local/bin/python -m pip install --upgrade pip' command.\u001b[0m\u001b[33m\n",
      "\u001b[0m\u001b[33mWARNING: Running pip as the 'root' user can result in broken permissions and conflicting behaviour with the system package manager. It is recommended to use a virtual environment instead: https://pip.pypa.io/warnings/venv\u001b[0m\u001b[33m\n",
      "\u001b[0m\u001b[33mWARNING: You are using pip version 22.0.4; however, version 23.2.1 is available.\n",
      "You should consider upgrading via the '/usr/local/bin/python -m pip install --upgrade pip' command.\u001b[0m\u001b[33m\n",
      "\u001b[0m\u001b[33mWARNING: Running pip as the 'root' user can result in broken permissions and conflicting behaviour with the system package manager. It is recommended to use a virtual environment instead: https://pip.pypa.io/warnings/venv\u001b[0m\u001b[33m\n",
      "\u001b[0m\u001b[33mWARNING: You are using pip version 22.0.4; however, version 23.2.1 is available.\n",
      "You should consider upgrading via the '/usr/local/bin/python -m pip install --upgrade pip' command.\u001b[0m\u001b[33m\n",
      "\u001b[0m\u001b[33mWARNING: Running pip as the 'root' user can result in broken permissions and conflicting behaviour with the system package manager. It is recommended to use a virtual environment instead: https://pip.pypa.io/warnings/venv\u001b[0m\u001b[33m\n",
      "\u001b[0m\u001b[33mWARNING: You are using pip version 22.0.4; however, version 23.2.1 is available.\n",
      "You should consider upgrading via the '/usr/local/bin/python -m pip install --upgrade pip' command.\u001b[0m\u001b[33m\n",
      "\u001b[0m\u001b[33mWARNING: Running pip as the 'root' user can result in broken permissions and conflicting behaviour with the system package manager. It is recommended to use a virtual environment instead: https://pip.pypa.io/warnings/venv\u001b[0m\u001b[33m\n",
      "\u001b[0m\u001b[33mWARNING: You are using pip version 22.0.4; however, version 23.2.1 is available.\n",
      "You should consider upgrading via the '/usr/local/bin/python -m pip install --upgrade pip' command.\u001b[0m\u001b[33m\n",
      "\u001b[0m\u001b[33mWARNING: Running pip as the 'root' user can result in broken permissions and conflicting behaviour with the system package manager. It is recommended to use a virtual environment instead: https://pip.pypa.io/warnings/venv\u001b[0m\u001b[33m\n",
      "\u001b[0m\u001b[33mWARNING: You are using pip version 22.0.4; however, version 23.2.1 is available.\n",
      "You should consider upgrading via the '/usr/local/bin/python -m pip install --upgrade pip' command.\u001b[0m\u001b[33m\n",
      "\u001b[0m\u001b[33mWARNING: Running pip as the 'root' user can result in broken permissions and conflicting behaviour with the system package manager. It is recommended to use a virtual environment instead: https://pip.pypa.io/warnings/venv\u001b[0m\u001b[33m\n",
      "\u001b[0m\u001b[33mWARNING: You are using pip version 22.0.4; however, version 23.2.1 is available.\n",
      "You should consider upgrading via the '/usr/local/bin/python -m pip install --upgrade pip' command.\u001b[0m\u001b[33m\n",
      "\u001b[0m"
     ]
    }
   ],
   "source": [
    "!pip3 -q install seaborn\n",
    "!pip3 -q install cartopy\n",
    "!pip3 -q install verde\n",
    "!pip3 -q install tqdm\n",
    "!pip3 -q install wget\n",
    "!pip3 -q install contextily\n",
    "# !pip3 -q install xgboost\n",
    "# !pip -q install imbalanced-learn\n",
    "!pip3 -q install yellowbrick"
   ]
  },
  {
   "cell_type": "code",
   "execution_count": 12,
   "id": "63c22ff1",
   "metadata": {},
   "outputs": [],
   "source": [
    "import pandas as pd\n",
    "import geopandas as gpd\n",
    "import rasterio as rio \n",
    "from rasterio.mask import mask as crop_mask\n",
    "import os, wget\n",
    "from collections import Counter\n",
    "import numpy as np\n",
    "import verde as vd\n",
    "from shapely.geometry import box\n",
    "# from imblearn.under_sampling import RandomUnderSampler \n",
    "from tqdm.notebook import tqdm\n",
    "import seaborn as sns\n",
    "import matplotlib.pyplot as plt\n",
    "from joblib import dump, load\n",
    "import enum \n",
    "import datetime as dt\n",
    "\n",
    "from shapely import affinity\n",
    "from sklearn.cluster import KMeans\n",
    "from sklearn.preprocessing import StandardScaler\n",
    "from sklearn import model_selection\n",
    "from sklearn.linear_model import LogisticRegression, RidgeClassifier\n",
    "from sklearn.svm import SVC\n",
    "from sklearn.neighbors import KNeighborsClassifier\n",
    "from sklearn.ensemble import RandomForestClassifier, ExtraTreesClassifier, GradientBoostingClassifier, IsolationForest\n",
    "from sklearn.tree import DecisionTreeClassifier\n",
    "from sklearn.metrics import accuracy_score, roc_auc_score, f1_score, cohen_kappa_score\n",
    "from sklearn import metrics\n",
    "from sklearn.model_selection import train_test_split, cross_val_score\n",
    "from sklearn.utils.class_weight import compute_class_weight\n",
    "from sklearn.metrics import make_scorer\n",
    "\n",
    "# from imblearn.over_sampling import SMOTE \n",
    "# from imblearn.combine import SMOTEENN, SMOTETomek\n",
    "from sklearn.model_selection import GridSearchCV, RandomizedSearchCV\n",
    "from scipy.stats import loguniform\n",
    "# from xgboost import XGBClassifier"
   ]
  },
  {
   "cell_type": "code",
   "execution_count": 13,
   "id": "32a54dbd",
   "metadata": {},
   "outputs": [],
   "source": [
    "import warnings\n",
    "warnings.filterwarnings('ignore')"
   ]
  },
  {
   "cell_type": "code",
   "execution_count": 97,
   "id": "55264e69",
   "metadata": {},
   "outputs": [
    {
     "data": {
      "text/plain": [
       "<module 'utils' from '/app/notebooks/utils.py'>"
      ]
     },
     "execution_count": 97,
     "metadata": {},
     "output_type": "execute_result"
    }
   ],
   "source": [
    "import importlib\n",
    "import utils\n",
    "importlib.reload(utils)"
   ]
  },
  {
   "cell_type": "markdown",
   "id": "35992688",
   "metadata": {},
   "source": [
    "## 1. Read GeoJSON dataset"
   ]
  },
  {
   "cell_type": "code",
   "execution_count": 2,
   "id": "01ae1c6b",
   "metadata": {},
   "outputs": [],
   "source": [
    "import geopandas as gpd"
   ]
  },
  {
   "cell_type": "code",
   "execution_count": 4,
   "id": "52cd730e",
   "metadata": {},
   "outputs": [
    {
     "ename": "ModuleNotFoundError",
     "evalue": "No module named 'rasterio'",
     "output_type": "error",
     "traceback": [
      "\u001b[0;31m---------------------------------------------------------------------------\u001b[0m",
      "\u001b[0;31mModuleNotFoundError\u001b[0m                       Traceback (most recent call last)",
      "Cell \u001b[0;32mIn[4], line 1\u001b[0m\n\u001b[0;32m----> 1\u001b[0m \u001b[38;5;28;01mimport\u001b[39;00m \u001b[38;5;21;01mutils\u001b[39;00m\n",
      "File \u001b[0;32m~/Documents/GitHub/ForestMapping/notebooks/utils.py:3\u001b[0m\n\u001b[1;32m      1\u001b[0m \u001b[38;5;28;01mimport\u001b[39;00m \u001b[38;5;21;01mpandas\u001b[39;00m \u001b[38;5;28;01mas\u001b[39;00m \u001b[38;5;21;01mpd\u001b[39;00m\n\u001b[1;32m      2\u001b[0m \u001b[38;5;28;01mimport\u001b[39;00m \u001b[38;5;21;01mgeopandas\u001b[39;00m \u001b[38;5;28;01mas\u001b[39;00m \u001b[38;5;21;01mgpd\u001b[39;00m\n\u001b[0;32m----> 3\u001b[0m \u001b[38;5;28;01mimport\u001b[39;00m \u001b[38;5;21;01mrasterio\u001b[39;00m \u001b[38;5;28;01mas\u001b[39;00m \u001b[38;5;21;01mrio\u001b[39;00m\n\u001b[1;32m      4\u001b[0m \u001b[38;5;28;01mfrom\u001b[39;00m \u001b[38;5;21;01mrasterio\u001b[39;00m\u001b[38;5;21;01m.\u001b[39;00m\u001b[38;5;21;01mmask\u001b[39;00m \u001b[38;5;28;01mimport\u001b[39;00m mask \u001b[38;5;28;01mas\u001b[39;00m crop_mask\n\u001b[1;32m      5\u001b[0m \u001b[38;5;28;01mimport\u001b[39;00m \u001b[38;5;21;01mos\u001b[39;00m\u001b[38;5;241m,\u001b[39m \u001b[38;5;21;01mwget\u001b[39;00m\n",
      "\u001b[0;31mModuleNotFoundError\u001b[0m: No module named 'rasterio'"
     ]
    }
   ],
   "source": [
    "import utils"
   ]
  },
  {
   "cell_type": "code",
   "execution_count": 5,
   "id": "0bf008e1",
   "metadata": {},
   "outputs": [],
   "source": [
    "def get_gdf_dataset(\n",
    "    gdf: gpd.GeoDataFrame, non_forest: gpd.GeoDataFrame, threshold: float = 80\n",
    "):\n",
    "    rename = {\n",
    "        \"SOS_PRC\": \"С\",\n",
    "        \"OS_PRC\": \"ОС\",\n",
    "        \"BER_PRC\": \"Б\",\n",
    "        \"PICH_PRC\": \"П\",\n",
    "        \"EL_PRC\": \"Е\",\n",
    "        \"KEDR_PRC\": \"К\",\n",
    "        \"LSTV_PRC\": \"Л\",\n",
    "    }\n",
    "\n",
    "    code_class = {\"С\": 7, \"ОС\": 5, \"Б\": 1, \"П\": 6, \"Е\": 2, \"К\": 3, \"Л\": 4}\n",
    "\n",
    "    target_cols = [\n",
    "        \"EL_PRC\",\n",
    "        \"KEDR_PRC\",\n",
    "        \"LSTV_PRC\",\n",
    "        \"PICH_PRC\",\n",
    "        \"SOS_PRC\",\n",
    "        \"BER_PRC\",\n",
    "        \"OS_PRC\",\n",
    "    ]\n",
    "\n",
    "    mask = gdf[target_cols] > threshold\n",
    "    select = gdf.loc[mask.any(axis=1)].copy()\n",
    "    t = select.loc[:, target_cols].idxmax(axis=1)\n",
    "    select.loc[:, \"t\"] = select.loc[:, target_cols].idxmax(axis=1)\n",
    "    select.loc[:, \"t_Клас\"] = select[\"t\"].apply(lambda x: rename[x])\n",
    "    select.loc[:, \"t_Class\"] = select[\"t_Клас\"].apply(lambda x: code_class[x])\n",
    "    select.pop(\"t\")\n",
    "    non_forest[select.columns[:-3]] = 1\n",
    "    select = pd.concat([select, non_forest[select.columns]])\n",
    "    return select\n"
   ]
  },
  {
   "cell_type": "code",
   "execution_count": 7,
   "id": "fa85c0e6",
   "metadata": {},
   "outputs": [],
   "source": [
    "import pandas as pd"
   ]
  },
  {
   "cell_type": "code",
   "execution_count": 8,
   "id": "3d388e82",
   "metadata": {},
   "outputs": [],
   "source": [
    "# dataset with ~280 points with threshold > 80 %\n",
    "# small_dataset = \"../shape_data/dataset_plots.geojson\"\n",
    "# full dataset with ~800\n",
    "\n",
    "full_dataset = \"../shape_data/forest.geojson\"\n",
    "gdf = gpd.read_file(full_dataset)\n",
    "non_forest=gpd.read_file('../shape_data/non_forest_settlements.geojson')\n",
    "\n",
    "# threshold=80 -> Percent of main forest type for inventory plot\n",
    "gdf = get_gdf_dataset(gdf=gdf, non_forest=non_forest,  threshold=70)\n",
    "gdf = gdf.reset_index(drop=True)\n",
    "gdf.loc[:, 'key'] = gdf.index\n"
   ]
  },
  {
   "cell_type": "code",
   "execution_count": 99,
   "id": "8b8d3c39",
   "metadata": {},
   "outputs": [],
   "source": [
    "# gdf = gdf.explode()\n",
    "# gdf"
   ]
  },
  {
   "cell_type": "markdown",
   "id": "5dc46f4a",
   "metadata": {},
   "source": [
    "Drop small classes"
   ]
  },
  {
   "cell_type": "code",
   "execution_count": 10,
   "id": "544bcf56",
   "metadata": {},
   "outputs": [
    {
     "data": {
      "text/html": [
       "<div>\n",
       "<style scoped>\n",
       "    .dataframe tbody tr th:only-of-type {\n",
       "        vertical-align: middle;\n",
       "    }\n",
       "\n",
       "    .dataframe tbody tr th {\n",
       "        vertical-align: top;\n",
       "    }\n",
       "\n",
       "    .dataframe thead th {\n",
       "        text-align: right;\n",
       "    }\n",
       "</style>\n",
       "<table border=\"1\" class=\"dataframe\">\n",
       "  <thead>\n",
       "    <tr style=\"text-align: right;\">\n",
       "      <th></th>\n",
       "      <th>Plot_ID</th>\n",
       "      <th>xc</th>\n",
       "      <th>yc</th>\n",
       "      <th>Plot_ID_1</th>\n",
       "      <th>HDOM_check</th>\n",
       "      <th>HGW_check</th>\n",
       "      <th>HGW</th>\n",
       "      <th>HGW11</th>\n",
       "      <th>HGW12</th>\n",
       "      <th>HGW13</th>\n",
       "      <th>...</th>\n",
       "      <th>KEDR_PRC</th>\n",
       "      <th>LSTV_PRC</th>\n",
       "      <th>PICH_PRC</th>\n",
       "      <th>SOS_PRC</th>\n",
       "      <th>BER_PRC</th>\n",
       "      <th>OS_PRC</th>\n",
       "      <th>V_PRC_ALL</th>\n",
       "      <th>geometry</th>\n",
       "      <th>t_Class</th>\n",
       "      <th>key</th>\n",
       "    </tr>\n",
       "    <tr>\n",
       "      <th>t_Клас</th>\n",
       "      <th></th>\n",
       "      <th></th>\n",
       "      <th></th>\n",
       "      <th></th>\n",
       "      <th></th>\n",
       "      <th></th>\n",
       "      <th></th>\n",
       "      <th></th>\n",
       "      <th></th>\n",
       "      <th></th>\n",
       "      <th></th>\n",
       "      <th></th>\n",
       "      <th></th>\n",
       "      <th></th>\n",
       "      <th></th>\n",
       "      <th></th>\n",
       "      <th></th>\n",
       "      <th></th>\n",
       "      <th></th>\n",
       "      <th></th>\n",
       "      <th></th>\n",
       "    </tr>\n",
       "  </thead>\n",
       "  <tbody>\n",
       "    <tr>\n",
       "      <th>Б</th>\n",
       "      <td>47</td>\n",
       "      <td>47</td>\n",
       "      <td>47</td>\n",
       "      <td>47</td>\n",
       "      <td>47</td>\n",
       "      <td>47</td>\n",
       "      <td>47</td>\n",
       "      <td>47</td>\n",
       "      <td>47</td>\n",
       "      <td>47</td>\n",
       "      <td>...</td>\n",
       "      <td>47</td>\n",
       "      <td>47</td>\n",
       "      <td>47</td>\n",
       "      <td>47</td>\n",
       "      <td>47</td>\n",
       "      <td>47</td>\n",
       "      <td>47</td>\n",
       "      <td>47</td>\n",
       "      <td>47</td>\n",
       "      <td>47</td>\n",
       "    </tr>\n",
       "    <tr>\n",
       "      <th>Е</th>\n",
       "      <td>1</td>\n",
       "      <td>1</td>\n",
       "      <td>1</td>\n",
       "      <td>1</td>\n",
       "      <td>1</td>\n",
       "      <td>1</td>\n",
       "      <td>1</td>\n",
       "      <td>1</td>\n",
       "      <td>1</td>\n",
       "      <td>1</td>\n",
       "      <td>...</td>\n",
       "      <td>1</td>\n",
       "      <td>1</td>\n",
       "      <td>1</td>\n",
       "      <td>1</td>\n",
       "      <td>1</td>\n",
       "      <td>1</td>\n",
       "      <td>1</td>\n",
       "      <td>1</td>\n",
       "      <td>1</td>\n",
       "      <td>1</td>\n",
       "    </tr>\n",
       "    <tr>\n",
       "      <th>Л</th>\n",
       "      <td>10</td>\n",
       "      <td>10</td>\n",
       "      <td>10</td>\n",
       "      <td>10</td>\n",
       "      <td>10</td>\n",
       "      <td>10</td>\n",
       "      <td>10</td>\n",
       "      <td>10</td>\n",
       "      <td>10</td>\n",
       "      <td>10</td>\n",
       "      <td>...</td>\n",
       "      <td>10</td>\n",
       "      <td>10</td>\n",
       "      <td>10</td>\n",
       "      <td>10</td>\n",
       "      <td>10</td>\n",
       "      <td>10</td>\n",
       "      <td>10</td>\n",
       "      <td>10</td>\n",
       "      <td>10</td>\n",
       "      <td>10</td>\n",
       "    </tr>\n",
       "    <tr>\n",
       "      <th>ОС</th>\n",
       "      <td>81</td>\n",
       "      <td>81</td>\n",
       "      <td>81</td>\n",
       "      <td>81</td>\n",
       "      <td>81</td>\n",
       "      <td>81</td>\n",
       "      <td>81</td>\n",
       "      <td>81</td>\n",
       "      <td>81</td>\n",
       "      <td>81</td>\n",
       "      <td>...</td>\n",
       "      <td>81</td>\n",
       "      <td>81</td>\n",
       "      <td>81</td>\n",
       "      <td>81</td>\n",
       "      <td>81</td>\n",
       "      <td>81</td>\n",
       "      <td>81</td>\n",
       "      <td>81</td>\n",
       "      <td>81</td>\n",
       "      <td>81</td>\n",
       "    </tr>\n",
       "    <tr>\n",
       "      <th>П</th>\n",
       "      <td>13</td>\n",
       "      <td>13</td>\n",
       "      <td>13</td>\n",
       "      <td>13</td>\n",
       "      <td>13</td>\n",
       "      <td>13</td>\n",
       "      <td>13</td>\n",
       "      <td>13</td>\n",
       "      <td>13</td>\n",
       "      <td>13</td>\n",
       "      <td>...</td>\n",
       "      <td>13</td>\n",
       "      <td>13</td>\n",
       "      <td>13</td>\n",
       "      <td>13</td>\n",
       "      <td>13</td>\n",
       "      <td>13</td>\n",
       "      <td>13</td>\n",
       "      <td>13</td>\n",
       "      <td>13</td>\n",
       "      <td>13</td>\n",
       "    </tr>\n",
       "    <tr>\n",
       "      <th>С</th>\n",
       "      <td>106</td>\n",
       "      <td>106</td>\n",
       "      <td>106</td>\n",
       "      <td>106</td>\n",
       "      <td>106</td>\n",
       "      <td>106</td>\n",
       "      <td>106</td>\n",
       "      <td>106</td>\n",
       "      <td>106</td>\n",
       "      <td>106</td>\n",
       "      <td>...</td>\n",
       "      <td>106</td>\n",
       "      <td>106</td>\n",
       "      <td>106</td>\n",
       "      <td>106</td>\n",
       "      <td>106</td>\n",
       "      <td>106</td>\n",
       "      <td>106</td>\n",
       "      <td>106</td>\n",
       "      <td>106</td>\n",
       "      <td>106</td>\n",
       "    </tr>\n",
       "    <tr>\n",
       "      <th>болото</th>\n",
       "      <td>1</td>\n",
       "      <td>1</td>\n",
       "      <td>1</td>\n",
       "      <td>1</td>\n",
       "      <td>1</td>\n",
       "      <td>1</td>\n",
       "      <td>1</td>\n",
       "      <td>1</td>\n",
       "      <td>1</td>\n",
       "      <td>1</td>\n",
       "      <td>...</td>\n",
       "      <td>1</td>\n",
       "      <td>1</td>\n",
       "      <td>1</td>\n",
       "      <td>1</td>\n",
       "      <td>1</td>\n",
       "      <td>1</td>\n",
       "      <td>1</td>\n",
       "      <td>1</td>\n",
       "      <td>1</td>\n",
       "      <td>1</td>\n",
       "    </tr>\n",
       "    <tr>\n",
       "      <th>вырубки</th>\n",
       "      <td>1</td>\n",
       "      <td>1</td>\n",
       "      <td>1</td>\n",
       "      <td>1</td>\n",
       "      <td>1</td>\n",
       "      <td>1</td>\n",
       "      <td>1</td>\n",
       "      <td>1</td>\n",
       "      <td>1</td>\n",
       "      <td>1</td>\n",
       "      <td>...</td>\n",
       "      <td>1</td>\n",
       "      <td>1</td>\n",
       "      <td>1</td>\n",
       "      <td>1</td>\n",
       "      <td>1</td>\n",
       "      <td>1</td>\n",
       "      <td>1</td>\n",
       "      <td>1</td>\n",
       "      <td>1</td>\n",
       "      <td>1</td>\n",
       "    </tr>\n",
       "    <tr>\n",
       "      <th>гарь</th>\n",
       "      <td>2</td>\n",
       "      <td>2</td>\n",
       "      <td>2</td>\n",
       "      <td>2</td>\n",
       "      <td>2</td>\n",
       "      <td>2</td>\n",
       "      <td>2</td>\n",
       "      <td>2</td>\n",
       "      <td>2</td>\n",
       "      <td>2</td>\n",
       "      <td>...</td>\n",
       "      <td>2</td>\n",
       "      <td>2</td>\n",
       "      <td>2</td>\n",
       "      <td>2</td>\n",
       "      <td>2</td>\n",
       "      <td>2</td>\n",
       "      <td>2</td>\n",
       "      <td>2</td>\n",
       "      <td>2</td>\n",
       "      <td>2</td>\n",
       "    </tr>\n",
       "    <tr>\n",
       "      <th>земля</th>\n",
       "      <td>1</td>\n",
       "      <td>1</td>\n",
       "      <td>1</td>\n",
       "      <td>1</td>\n",
       "      <td>1</td>\n",
       "      <td>1</td>\n",
       "      <td>1</td>\n",
       "      <td>1</td>\n",
       "      <td>1</td>\n",
       "      <td>1</td>\n",
       "      <td>...</td>\n",
       "      <td>1</td>\n",
       "      <td>1</td>\n",
       "      <td>1</td>\n",
       "      <td>1</td>\n",
       "      <td>1</td>\n",
       "      <td>1</td>\n",
       "      <td>1</td>\n",
       "      <td>1</td>\n",
       "      <td>1</td>\n",
       "      <td>1</td>\n",
       "    </tr>\n",
       "    <tr>\n",
       "      <th>поселения</th>\n",
       "      <td>17</td>\n",
       "      <td>17</td>\n",
       "      <td>17</td>\n",
       "      <td>17</td>\n",
       "      <td>17</td>\n",
       "      <td>17</td>\n",
       "      <td>17</td>\n",
       "      <td>17</td>\n",
       "      <td>17</td>\n",
       "      <td>17</td>\n",
       "      <td>...</td>\n",
       "      <td>17</td>\n",
       "      <td>17</td>\n",
       "      <td>17</td>\n",
       "      <td>17</td>\n",
       "      <td>17</td>\n",
       "      <td>17</td>\n",
       "      <td>17</td>\n",
       "      <td>17</td>\n",
       "      <td>17</td>\n",
       "      <td>17</td>\n",
       "    </tr>\n",
       "    <tr>\n",
       "      <th>трава</th>\n",
       "      <td>1</td>\n",
       "      <td>1</td>\n",
       "      <td>1</td>\n",
       "      <td>1</td>\n",
       "      <td>1</td>\n",
       "      <td>1</td>\n",
       "      <td>1</td>\n",
       "      <td>1</td>\n",
       "      <td>1</td>\n",
       "      <td>1</td>\n",
       "      <td>...</td>\n",
       "      <td>1</td>\n",
       "      <td>1</td>\n",
       "      <td>1</td>\n",
       "      <td>1</td>\n",
       "      <td>1</td>\n",
       "      <td>1</td>\n",
       "      <td>1</td>\n",
       "      <td>1</td>\n",
       "      <td>1</td>\n",
       "      <td>1</td>\n",
       "    </tr>\n",
       "  </tbody>\n",
       "</table>\n",
       "<p>12 rows × 82 columns</p>\n",
       "</div>"
      ],
      "text/plain": [
       "           Plot_ID   xc   yc  Plot_ID_1  HDOM_check  HGW_check  HGW  HGW11  \\\n",
       "t_Клас                                                                       \n",
       "Б               47   47   47         47          47         47   47     47   \n",
       "Е                1    1    1          1           1          1    1      1   \n",
       "Л               10   10   10         10          10         10   10     10   \n",
       "ОС              81   81   81         81          81         81   81     81   \n",
       "П               13   13   13         13          13         13   13     13   \n",
       "С              106  106  106        106         106        106  106    106   \n",
       "болото           1    1    1          1           1          1    1      1   \n",
       "вырубки          1    1    1          1           1          1    1      1   \n",
       "гарь             2    2    2          2           2          2    2      2   \n",
       "земля            1    1    1          1           1          1    1      1   \n",
       "поселения       17   17   17         17          17         17   17     17   \n",
       "трава            1    1    1          1           1          1    1      1   \n",
       "\n",
       "           HGW12  HGW13  ...  KEDR_PRC  LSTV_PRC  PICH_PRC  SOS_PRC  BER_PRC  \\\n",
       "t_Клас                   ...                                                   \n",
       "Б             47     47  ...        47        47        47       47       47   \n",
       "Е              1      1  ...         1         1         1        1        1   \n",
       "Л             10     10  ...        10        10        10       10       10   \n",
       "ОС            81     81  ...        81        81        81       81       81   \n",
       "П             13     13  ...        13        13        13       13       13   \n",
       "С            106    106  ...       106       106       106      106      106   \n",
       "болото         1      1  ...         1         1         1        1        1   \n",
       "вырубки        1      1  ...         1         1         1        1        1   \n",
       "гарь           2      2  ...         2         2         2        2        2   \n",
       "земля          1      1  ...         1         1         1        1        1   \n",
       "поселения     17     17  ...        17        17        17       17       17   \n",
       "трава          1      1  ...         1         1         1        1        1   \n",
       "\n",
       "           OS_PRC  V_PRC_ALL  geometry  t_Class  key  \n",
       "t_Клас                                                \n",
       "Б              47         47        47       47   47  \n",
       "Е               1          1         1        1    1  \n",
       "Л              10         10        10       10   10  \n",
       "ОС             81         81        81       81   81  \n",
       "П              13         13        13       13   13  \n",
       "С             106        106       106      106  106  \n",
       "болото          1          1         1        1    1  \n",
       "вырубки         1          1         1        1    1  \n",
       "гарь            2          2         2        2    2  \n",
       "земля           1          1         1        1    1  \n",
       "поселения      17         17        17       17   17  \n",
       "трава           1          1         1        1    1  \n",
       "\n",
       "[12 rows x 82 columns]"
      ]
     },
     "execution_count": 10,
     "metadata": {},
     "output_type": "execute_result"
    }
   ],
   "source": [
    "gdf.groupby(['t_Клас']).count()"
   ]
  },
  {
   "cell_type": "code",
   "execution_count": 11,
   "id": "a41687a8",
   "metadata": {},
   "outputs": [],
   "source": [
    "# mask = gdf['t_Class'] != 6\n",
    "# gdf = gdf.loc[mask]\n",
    "\n",
    "mask = gdf['t_Class'] != 2\n",
    "gdf = gdf.loc[mask]\n",
    "\n",
    "mask = gdf['t_Class'] != 4\n",
    "gdf = gdf.loc[mask]\n",
    "\n",
    "mask = gdf['t_Class'] != 3\n",
    "gdf = gdf.loc[mask]"
   ]
  },
  {
   "cell_type": "code",
   "execution_count": 13,
   "id": "54be6569",
   "metadata": {},
   "outputs": [
    {
     "data": {
      "text/html": [
       "<div>\n",
       "<style scoped>\n",
       "    .dataframe tbody tr th:only-of-type {\n",
       "        vertical-align: middle;\n",
       "    }\n",
       "\n",
       "    .dataframe tbody tr th {\n",
       "        vertical-align: top;\n",
       "    }\n",
       "\n",
       "    .dataframe thead th {\n",
       "        text-align: right;\n",
       "    }\n",
       "</style>\n",
       "<table border=\"1\" class=\"dataframe\">\n",
       "  <thead>\n",
       "    <tr style=\"text-align: right;\">\n",
       "      <th></th>\n",
       "      <th>Plot_ID</th>\n",
       "      <th>xc</th>\n",
       "      <th>yc</th>\n",
       "      <th>Plot_ID_1</th>\n",
       "      <th>HDOM_check</th>\n",
       "      <th>HGW_check</th>\n",
       "      <th>HGW</th>\n",
       "      <th>HGW11</th>\n",
       "      <th>HGW12</th>\n",
       "      <th>HGW13</th>\n",
       "      <th>...</th>\n",
       "      <th>KEDR_PRC</th>\n",
       "      <th>LSTV_PRC</th>\n",
       "      <th>PICH_PRC</th>\n",
       "      <th>SOS_PRC</th>\n",
       "      <th>BER_PRC</th>\n",
       "      <th>OS_PRC</th>\n",
       "      <th>V_PRC_ALL</th>\n",
       "      <th>geometry</th>\n",
       "      <th>t_Class</th>\n",
       "      <th>key</th>\n",
       "    </tr>\n",
       "    <tr>\n",
       "      <th>t_Клас</th>\n",
       "      <th></th>\n",
       "      <th></th>\n",
       "      <th></th>\n",
       "      <th></th>\n",
       "      <th></th>\n",
       "      <th></th>\n",
       "      <th></th>\n",
       "      <th></th>\n",
       "      <th></th>\n",
       "      <th></th>\n",
       "      <th></th>\n",
       "      <th></th>\n",
       "      <th></th>\n",
       "      <th></th>\n",
       "      <th></th>\n",
       "      <th></th>\n",
       "      <th></th>\n",
       "      <th></th>\n",
       "      <th></th>\n",
       "      <th></th>\n",
       "      <th></th>\n",
       "    </tr>\n",
       "  </thead>\n",
       "  <tbody>\n",
       "    <tr>\n",
       "      <th>Б</th>\n",
       "      <td>47</td>\n",
       "      <td>47</td>\n",
       "      <td>47</td>\n",
       "      <td>47</td>\n",
       "      <td>47</td>\n",
       "      <td>47</td>\n",
       "      <td>47</td>\n",
       "      <td>47</td>\n",
       "      <td>47</td>\n",
       "      <td>47</td>\n",
       "      <td>...</td>\n",
       "      <td>47</td>\n",
       "      <td>47</td>\n",
       "      <td>47</td>\n",
       "      <td>47</td>\n",
       "      <td>47</td>\n",
       "      <td>47</td>\n",
       "      <td>47</td>\n",
       "      <td>47</td>\n",
       "      <td>47</td>\n",
       "      <td>47</td>\n",
       "    </tr>\n",
       "    <tr>\n",
       "      <th>ОС</th>\n",
       "      <td>81</td>\n",
       "      <td>81</td>\n",
       "      <td>81</td>\n",
       "      <td>81</td>\n",
       "      <td>81</td>\n",
       "      <td>81</td>\n",
       "      <td>81</td>\n",
       "      <td>81</td>\n",
       "      <td>81</td>\n",
       "      <td>81</td>\n",
       "      <td>...</td>\n",
       "      <td>81</td>\n",
       "      <td>81</td>\n",
       "      <td>81</td>\n",
       "      <td>81</td>\n",
       "      <td>81</td>\n",
       "      <td>81</td>\n",
       "      <td>81</td>\n",
       "      <td>81</td>\n",
       "      <td>81</td>\n",
       "      <td>81</td>\n",
       "    </tr>\n",
       "    <tr>\n",
       "      <th>П</th>\n",
       "      <td>13</td>\n",
       "      <td>13</td>\n",
       "      <td>13</td>\n",
       "      <td>13</td>\n",
       "      <td>13</td>\n",
       "      <td>13</td>\n",
       "      <td>13</td>\n",
       "      <td>13</td>\n",
       "      <td>13</td>\n",
       "      <td>13</td>\n",
       "      <td>...</td>\n",
       "      <td>13</td>\n",
       "      <td>13</td>\n",
       "      <td>13</td>\n",
       "      <td>13</td>\n",
       "      <td>13</td>\n",
       "      <td>13</td>\n",
       "      <td>13</td>\n",
       "      <td>13</td>\n",
       "      <td>13</td>\n",
       "      <td>13</td>\n",
       "    </tr>\n",
       "    <tr>\n",
       "      <th>С</th>\n",
       "      <td>106</td>\n",
       "      <td>106</td>\n",
       "      <td>106</td>\n",
       "      <td>106</td>\n",
       "      <td>106</td>\n",
       "      <td>106</td>\n",
       "      <td>106</td>\n",
       "      <td>106</td>\n",
       "      <td>106</td>\n",
       "      <td>106</td>\n",
       "      <td>...</td>\n",
       "      <td>106</td>\n",
       "      <td>106</td>\n",
       "      <td>106</td>\n",
       "      <td>106</td>\n",
       "      <td>106</td>\n",
       "      <td>106</td>\n",
       "      <td>106</td>\n",
       "      <td>106</td>\n",
       "      <td>106</td>\n",
       "      <td>106</td>\n",
       "    </tr>\n",
       "    <tr>\n",
       "      <th>болото</th>\n",
       "      <td>1</td>\n",
       "      <td>1</td>\n",
       "      <td>1</td>\n",
       "      <td>1</td>\n",
       "      <td>1</td>\n",
       "      <td>1</td>\n",
       "      <td>1</td>\n",
       "      <td>1</td>\n",
       "      <td>1</td>\n",
       "      <td>1</td>\n",
       "      <td>...</td>\n",
       "      <td>1</td>\n",
       "      <td>1</td>\n",
       "      <td>1</td>\n",
       "      <td>1</td>\n",
       "      <td>1</td>\n",
       "      <td>1</td>\n",
       "      <td>1</td>\n",
       "      <td>1</td>\n",
       "      <td>1</td>\n",
       "      <td>1</td>\n",
       "    </tr>\n",
       "    <tr>\n",
       "      <th>вырубки</th>\n",
       "      <td>1</td>\n",
       "      <td>1</td>\n",
       "      <td>1</td>\n",
       "      <td>1</td>\n",
       "      <td>1</td>\n",
       "      <td>1</td>\n",
       "      <td>1</td>\n",
       "      <td>1</td>\n",
       "      <td>1</td>\n",
       "      <td>1</td>\n",
       "      <td>...</td>\n",
       "      <td>1</td>\n",
       "      <td>1</td>\n",
       "      <td>1</td>\n",
       "      <td>1</td>\n",
       "      <td>1</td>\n",
       "      <td>1</td>\n",
       "      <td>1</td>\n",
       "      <td>1</td>\n",
       "      <td>1</td>\n",
       "      <td>1</td>\n",
       "    </tr>\n",
       "    <tr>\n",
       "      <th>гарь</th>\n",
       "      <td>2</td>\n",
       "      <td>2</td>\n",
       "      <td>2</td>\n",
       "      <td>2</td>\n",
       "      <td>2</td>\n",
       "      <td>2</td>\n",
       "      <td>2</td>\n",
       "      <td>2</td>\n",
       "      <td>2</td>\n",
       "      <td>2</td>\n",
       "      <td>...</td>\n",
       "      <td>2</td>\n",
       "      <td>2</td>\n",
       "      <td>2</td>\n",
       "      <td>2</td>\n",
       "      <td>2</td>\n",
       "      <td>2</td>\n",
       "      <td>2</td>\n",
       "      <td>2</td>\n",
       "      <td>2</td>\n",
       "      <td>2</td>\n",
       "    </tr>\n",
       "    <tr>\n",
       "      <th>земля</th>\n",
       "      <td>1</td>\n",
       "      <td>1</td>\n",
       "      <td>1</td>\n",
       "      <td>1</td>\n",
       "      <td>1</td>\n",
       "      <td>1</td>\n",
       "      <td>1</td>\n",
       "      <td>1</td>\n",
       "      <td>1</td>\n",
       "      <td>1</td>\n",
       "      <td>...</td>\n",
       "      <td>1</td>\n",
       "      <td>1</td>\n",
       "      <td>1</td>\n",
       "      <td>1</td>\n",
       "      <td>1</td>\n",
       "      <td>1</td>\n",
       "      <td>1</td>\n",
       "      <td>1</td>\n",
       "      <td>1</td>\n",
       "      <td>1</td>\n",
       "    </tr>\n",
       "    <tr>\n",
       "      <th>поселения</th>\n",
       "      <td>17</td>\n",
       "      <td>17</td>\n",
       "      <td>17</td>\n",
       "      <td>17</td>\n",
       "      <td>17</td>\n",
       "      <td>17</td>\n",
       "      <td>17</td>\n",
       "      <td>17</td>\n",
       "      <td>17</td>\n",
       "      <td>17</td>\n",
       "      <td>...</td>\n",
       "      <td>17</td>\n",
       "      <td>17</td>\n",
       "      <td>17</td>\n",
       "      <td>17</td>\n",
       "      <td>17</td>\n",
       "      <td>17</td>\n",
       "      <td>17</td>\n",
       "      <td>17</td>\n",
       "      <td>17</td>\n",
       "      <td>17</td>\n",
       "    </tr>\n",
       "    <tr>\n",
       "      <th>трава</th>\n",
       "      <td>1</td>\n",
       "      <td>1</td>\n",
       "      <td>1</td>\n",
       "      <td>1</td>\n",
       "      <td>1</td>\n",
       "      <td>1</td>\n",
       "      <td>1</td>\n",
       "      <td>1</td>\n",
       "      <td>1</td>\n",
       "      <td>1</td>\n",
       "      <td>...</td>\n",
       "      <td>1</td>\n",
       "      <td>1</td>\n",
       "      <td>1</td>\n",
       "      <td>1</td>\n",
       "      <td>1</td>\n",
       "      <td>1</td>\n",
       "      <td>1</td>\n",
       "      <td>1</td>\n",
       "      <td>1</td>\n",
       "      <td>1</td>\n",
       "    </tr>\n",
       "  </tbody>\n",
       "</table>\n",
       "<p>10 rows × 82 columns</p>\n",
       "</div>"
      ],
      "text/plain": [
       "           Plot_ID   xc   yc  Plot_ID_1  HDOM_check  HGW_check  HGW  HGW11  \\\n",
       "t_Клас                                                                       \n",
       "Б               47   47   47         47          47         47   47     47   \n",
       "ОС              81   81   81         81          81         81   81     81   \n",
       "П               13   13   13         13          13         13   13     13   \n",
       "С              106  106  106        106         106        106  106    106   \n",
       "болото           1    1    1          1           1          1    1      1   \n",
       "вырубки          1    1    1          1           1          1    1      1   \n",
       "гарь             2    2    2          2           2          2    2      2   \n",
       "земля            1    1    1          1           1          1    1      1   \n",
       "поселения       17   17   17         17          17         17   17     17   \n",
       "трава            1    1    1          1           1          1    1      1   \n",
       "\n",
       "           HGW12  HGW13  ...  KEDR_PRC  LSTV_PRC  PICH_PRC  SOS_PRC  BER_PRC  \\\n",
       "t_Клас                   ...                                                   \n",
       "Б             47     47  ...        47        47        47       47       47   \n",
       "ОС            81     81  ...        81        81        81       81       81   \n",
       "П             13     13  ...        13        13        13       13       13   \n",
       "С            106    106  ...       106       106       106      106      106   \n",
       "болото         1      1  ...         1         1         1        1        1   \n",
       "вырубки        1      1  ...         1         1         1        1        1   \n",
       "гарь           2      2  ...         2         2         2        2        2   \n",
       "земля          1      1  ...         1         1         1        1        1   \n",
       "поселения     17     17  ...        17        17        17       17       17   \n",
       "трава          1      1  ...         1         1         1        1        1   \n",
       "\n",
       "           OS_PRC  V_PRC_ALL  geometry  t_Class  key  \n",
       "t_Клас                                                \n",
       "Б              47         47        47       47   47  \n",
       "ОС             81         81        81       81   81  \n",
       "П              13         13        13       13   13  \n",
       "С             106        106       106      106  106  \n",
       "болото          1          1         1        1    1  \n",
       "вырубки         1          1         1        1    1  \n",
       "гарь            2          2         2        2    2  \n",
       "земля           1          1         1        1    1  \n",
       "поселения      17         17        17       17   17  \n",
       "трава           1          1         1        1    1  \n",
       "\n",
       "[10 rows x 82 columns]"
      ]
     },
     "execution_count": 13,
     "metadata": {},
     "output_type": "execute_result"
    }
   ],
   "source": [
    "gdf.groupby(['t_Клас']).count()"
   ]
  },
  {
   "cell_type": "markdown",
   "id": "6b0be0de",
   "metadata": {},
   "source": [
    "## 2. Download and read tiff file"
   ]
  },
  {
   "cell_type": "code",
   "execution_count": 102,
   "id": "9509db06",
   "metadata": {
    "scrolled": true
   },
   "outputs": [
    {
     "name": "stdout",
     "output_type": "stream",
     "text": [
      "Radius of forest plot: 26.92\n",
      "Start preparing bands  -- Done ✅\n",
      "Start preparing terrain\n",
      " -- Done ✅\n",
      "Start preparing texture\n",
      " -- Done ✅\n"
     ]
    }
   ],
   "source": [
    "dataset = utils.Dataset(path_to_tiff_file='../rasters/bands_and_terrain_texture.tiff')\n",
    "# dataset.download_dataset()\n",
    "\n",
    "gdf=dataset.procces_gdf(gdf)\n",
    "bands, terrain, texture = dataset.get_dataset(gdf=gdf, scale=3.0)"
   ]
  },
  {
   "cell_type": "code",
   "execution_count": 110,
   "id": "7869237b-757d-4357-b6f7-136ce6554fdb",
   "metadata": {},
   "outputs": [],
   "source": [
    "gdf.to_file('../shape_data/dataset.geojson', driver='GeoJSON')"
   ]
  },
  {
   "cell_type": "code",
   "execution_count": 111,
   "id": "45bb627c",
   "metadata": {},
   "outputs": [
    {
     "name": "stdout",
     "output_type": "stream",
     "text": [
      "Radius of forest plot: 8.97\n",
      "Start preparing bands  -- Done ✅\n",
      "Start preparing terrain\n",
      " -- Done ✅\n",
      "Start preparing texture\n",
      " -- Done ✅\n",
      "Radius of forest plot: 17.95\n",
      "Start preparing bands  -- Done ✅\n",
      "Start preparing terrain\n",
      " -- Done ✅\n",
      "Start preparing texture\n",
      " -- Done ✅\n",
      "Radius of forest plot: 26.92\n",
      "Start preparing bands  -- Done ✅\n",
      "Start preparing terrain\n",
      " -- Done ✅\n",
      "Start preparing texture\n",
      " -- Done ✅\n",
      "Radius of forest plot: 44.87\n",
      "Start preparing bands  -- Done ✅\n",
      "Start preparing terrain\n",
      " -- Done ✅\n",
      "Start preparing texture\n",
      " -- Done ✅\n"
     ]
    }
   ],
   "source": [
    "for scale in [1, 2, 3, 5]:\n",
    "    df=None\n",
    "    bands, terrain, texture = dataset.get_dataset(gdf=gdf, scale=scale)\n",
    "    df = pd.concat([bands.iloc[:,:-2], terrain.iloc[:,:-2], texture], axis=1)\n",
    "    df.to_csv(f'../shape_data/dataset_scale_{scale}.csv')\n"
   ]
  },
  {
   "cell_type": "code",
   "execution_count": 113,
   "id": "9a3333a0-05d3-47b5-8a21-9584ae7a3618",
   "metadata": {},
   "outputs": [
    {
     "data": {
      "text/html": [
       "<div>\n",
       "<style scoped>\n",
       "    .dataframe tbody tr th:only-of-type {\n",
       "        vertical-align: middle;\n",
       "    }\n",
       "\n",
       "    .dataframe tbody tr th {\n",
       "        vertical-align: top;\n",
       "    }\n",
       "\n",
       "    .dataframe thead th {\n",
       "        text-align: right;\n",
       "    }\n",
       "</style>\n",
       "<table border=\"1\" class=\"dataframe\">\n",
       "  <thead>\n",
       "    <tr style=\"text-align: right;\">\n",
       "      <th></th>\n",
       "      <th>Unnamed: 0</th>\n",
       "      <th>B01</th>\n",
       "      <th>B02</th>\n",
       "      <th>B03</th>\n",
       "      <th>B04</th>\n",
       "      <th>B05</th>\n",
       "      <th>B06</th>\n",
       "      <th>B07</th>\n",
       "      <th>B08</th>\n",
       "      <th>B8A</th>\n",
       "      <th>...</th>\n",
       "      <th>correlation1</th>\n",
       "      <th>correlation2</th>\n",
       "      <th>dissimilarity1</th>\n",
       "      <th>dissimilarity2</th>\n",
       "      <th>energy1</th>\n",
       "      <th>energy2</th>\n",
       "      <th>homogeneity1</th>\n",
       "      <th>homogeneity2</th>\n",
       "      <th>key</th>\n",
       "      <th>class</th>\n",
       "    </tr>\n",
       "  </thead>\n",
       "  <tbody>\n",
       "    <tr>\n",
       "      <th>0</th>\n",
       "      <td>2</td>\n",
       "      <td>0.11395</td>\n",
       "      <td>0.08495</td>\n",
       "      <td>0.07050</td>\n",
       "      <td>0.04700</td>\n",
       "      <td>0.0687</td>\n",
       "      <td>0.16335</td>\n",
       "      <td>0.19590</td>\n",
       "      <td>0.19260</td>\n",
       "      <td>0.21015</td>\n",
       "      <td>...</td>\n",
       "      <td>64.911243</td>\n",
       "      <td>0.000000</td>\n",
       "      <td>1.0</td>\n",
       "      <td>0.186303</td>\n",
       "      <td>0.000238</td>\n",
       "      <td>4216.082840</td>\n",
       "      <td>0.431628</td>\n",
       "      <td>1.0</td>\n",
       "      <td>0</td>\n",
       "      <td>7</td>\n",
       "    </tr>\n",
       "    <tr>\n",
       "      <th>1</th>\n",
       "      <td>3</td>\n",
       "      <td>0.11395</td>\n",
       "      <td>0.08520</td>\n",
       "      <td>0.06865</td>\n",
       "      <td>0.04405</td>\n",
       "      <td>0.0687</td>\n",
       "      <td>0.16335</td>\n",
       "      <td>0.19590</td>\n",
       "      <td>0.18590</td>\n",
       "      <td>0.21015</td>\n",
       "      <td>...</td>\n",
       "      <td>64.982249</td>\n",
       "      <td>0.000000</td>\n",
       "      <td>1.0</td>\n",
       "      <td>0.179370</td>\n",
       "      <td>0.000237</td>\n",
       "      <td>4225.491124</td>\n",
       "      <td>0.423522</td>\n",
       "      <td>1.0</td>\n",
       "      <td>0</td>\n",
       "      <td>7</td>\n",
       "    </tr>\n",
       "    <tr>\n",
       "      <th>2</th>\n",
       "      <td>4</td>\n",
       "      <td>0.11395</td>\n",
       "      <td>0.08530</td>\n",
       "      <td>0.06945</td>\n",
       "      <td>0.04700</td>\n",
       "      <td>0.0690</td>\n",
       "      <td>0.15885</td>\n",
       "      <td>0.19485</td>\n",
       "      <td>0.18310</td>\n",
       "      <td>0.20505</td>\n",
       "      <td>...</td>\n",
       "      <td>65.059172</td>\n",
       "      <td>0.000000</td>\n",
       "      <td>1.0</td>\n",
       "      <td>0.180771</td>\n",
       "      <td>0.000237</td>\n",
       "      <td>4235.449704</td>\n",
       "      <td>0.425172</td>\n",
       "      <td>1.0</td>\n",
       "      <td>0</td>\n",
       "      <td>7</td>\n",
       "    </tr>\n",
       "    <tr>\n",
       "      <th>3</th>\n",
       "      <td>5</td>\n",
       "      <td>0.11395</td>\n",
       "      <td>0.08600</td>\n",
       "      <td>0.07270</td>\n",
       "      <td>0.04800</td>\n",
       "      <td>0.0690</td>\n",
       "      <td>0.15885</td>\n",
       "      <td>0.19485</td>\n",
       "      <td>0.18910</td>\n",
       "      <td>0.20505</td>\n",
       "      <td>...</td>\n",
       "      <td>65.201183</td>\n",
       "      <td>0.000000</td>\n",
       "      <td>1.0</td>\n",
       "      <td>0.173418</td>\n",
       "      <td>0.000236</td>\n",
       "      <td>4254.183432</td>\n",
       "      <td>0.416435</td>\n",
       "      <td>1.0</td>\n",
       "      <td>0</td>\n",
       "      <td>7</td>\n",
       "    </tr>\n",
       "    <tr>\n",
       "      <th>4</th>\n",
       "      <td>6</td>\n",
       "      <td>0.11470</td>\n",
       "      <td>0.08565</td>\n",
       "      <td>0.07310</td>\n",
       "      <td>0.04805</td>\n",
       "      <td>0.0735</td>\n",
       "      <td>0.17565</td>\n",
       "      <td>0.21260</td>\n",
       "      <td>0.19415</td>\n",
       "      <td>0.22600</td>\n",
       "      <td>...</td>\n",
       "      <td>65.455621</td>\n",
       "      <td>0.000000</td>\n",
       "      <td>1.0</td>\n",
       "      <td>0.165015</td>\n",
       "      <td>0.000234</td>\n",
       "      <td>4288.260355</td>\n",
       "      <td>0.406221</td>\n",
       "      <td>1.0</td>\n",
       "      <td>0</td>\n",
       "      <td>7</td>\n",
       "    </tr>\n",
       "    <tr>\n",
       "      <th>...</th>\n",
       "      <td>...</td>\n",
       "      <td>...</td>\n",
       "      <td>...</td>\n",
       "      <td>...</td>\n",
       "      <td>...</td>\n",
       "      <td>...</td>\n",
       "      <td>...</td>\n",
       "      <td>...</td>\n",
       "      <td>...</td>\n",
       "      <td>...</td>\n",
       "      <td>...</td>\n",
       "      <td>...</td>\n",
       "      <td>...</td>\n",
       "      <td>...</td>\n",
       "      <td>...</td>\n",
       "      <td>...</td>\n",
       "      <td>...</td>\n",
       "      <td>...</td>\n",
       "      <td>...</td>\n",
       "      <td>...</td>\n",
       "      <td>...</td>\n",
       "    </tr>\n",
       "    <tr>\n",
       "      <th>27662</th>\n",
       "      <td>142</td>\n",
       "      <td>0.12140</td>\n",
       "      <td>0.14015</td>\n",
       "      <td>0.13790</td>\n",
       "      <td>0.13865</td>\n",
       "      <td>0.1307</td>\n",
       "      <td>0.21110</td>\n",
       "      <td>0.25055</td>\n",
       "      <td>0.25495</td>\n",
       "      <td>0.27140</td>\n",
       "      <td>...</td>\n",
       "      <td>80.171598</td>\n",
       "      <td>0.000169</td>\n",
       "      <td>1.0</td>\n",
       "      <td>0.053675</td>\n",
       "      <td>0.000169</td>\n",
       "      <td>6691.213018</td>\n",
       "      <td>0.231678</td>\n",
       "      <td>1.0</td>\n",
       "      <td>351</td>\n",
       "      <td>17</td>\n",
       "    </tr>\n",
       "    <tr>\n",
       "      <th>27663</th>\n",
       "      <td>143</td>\n",
       "      <td>0.12140</td>\n",
       "      <td>0.10050</td>\n",
       "      <td>0.09660</td>\n",
       "      <td>0.07745</td>\n",
       "      <td>0.1025</td>\n",
       "      <td>0.19485</td>\n",
       "      <td>0.23390</td>\n",
       "      <td>0.21340</td>\n",
       "      <td>0.25655</td>\n",
       "      <td>...</td>\n",
       "      <td>80.254438</td>\n",
       "      <td>0.000168</td>\n",
       "      <td>1.0</td>\n",
       "      <td>0.053745</td>\n",
       "      <td>0.000168</td>\n",
       "      <td>6703.366864</td>\n",
       "      <td>0.231829</td>\n",
       "      <td>1.0</td>\n",
       "      <td>351</td>\n",
       "      <td>17</td>\n",
       "    </tr>\n",
       "    <tr>\n",
       "      <th>27664</th>\n",
       "      <td>144</td>\n",
       "      <td>0.12140</td>\n",
       "      <td>0.11470</td>\n",
       "      <td>0.10880</td>\n",
       "      <td>0.10215</td>\n",
       "      <td>0.1307</td>\n",
       "      <td>0.21110</td>\n",
       "      <td>0.25055</td>\n",
       "      <td>0.25645</td>\n",
       "      <td>0.27140</td>\n",
       "      <td>...</td>\n",
       "      <td>79.668639</td>\n",
       "      <td>0.000171</td>\n",
       "      <td>1.0</td>\n",
       "      <td>0.052484</td>\n",
       "      <td>0.000171</td>\n",
       "      <td>6609.159763</td>\n",
       "      <td>0.229094</td>\n",
       "      <td>1.0</td>\n",
       "      <td>351</td>\n",
       "      <td>17</td>\n",
       "    </tr>\n",
       "    <tr>\n",
       "      <th>27665</th>\n",
       "      <td>145</td>\n",
       "      <td>0.12140</td>\n",
       "      <td>0.13270</td>\n",
       "      <td>0.12990</td>\n",
       "      <td>0.12485</td>\n",
       "      <td>0.1307</td>\n",
       "      <td>0.21110</td>\n",
       "      <td>0.25055</td>\n",
       "      <td>0.23595</td>\n",
       "      <td>0.27140</td>\n",
       "      <td>...</td>\n",
       "      <td>79.982249</td>\n",
       "      <td>0.000169</td>\n",
       "      <td>1.0</td>\n",
       "      <td>0.055075</td>\n",
       "      <td>0.000169</td>\n",
       "      <td>6653.544379</td>\n",
       "      <td>0.234681</td>\n",
       "      <td>1.0</td>\n",
       "      <td>351</td>\n",
       "      <td>17</td>\n",
       "    </tr>\n",
       "    <tr>\n",
       "      <th>27666</th>\n",
       "      <td>146</td>\n",
       "      <td>0.12140</td>\n",
       "      <td>0.09735</td>\n",
       "      <td>0.08735</td>\n",
       "      <td>0.07295</td>\n",
       "      <td>0.1025</td>\n",
       "      <td>0.19485</td>\n",
       "      <td>0.23390</td>\n",
       "      <td>0.19745</td>\n",
       "      <td>0.25655</td>\n",
       "      <td>...</td>\n",
       "      <td>80.106509</td>\n",
       "      <td>0.000169</td>\n",
       "      <td>1.0</td>\n",
       "      <td>0.054795</td>\n",
       "      <td>0.000169</td>\n",
       "      <td>6671.692308</td>\n",
       "      <td>0.234083</td>\n",
       "      <td>1.0</td>\n",
       "      <td>351</td>\n",
       "      <td>17</td>\n",
       "    </tr>\n",
       "  </tbody>\n",
       "</table>\n",
       "<p>27667 rows × 36 columns</p>\n",
       "</div>"
      ],
      "text/plain": [
       "       Unnamed: 0      B01      B02      B03      B04     B05      B06  \\\n",
       "0               2  0.11395  0.08495  0.07050  0.04700  0.0687  0.16335   \n",
       "1               3  0.11395  0.08520  0.06865  0.04405  0.0687  0.16335   \n",
       "2               4  0.11395  0.08530  0.06945  0.04700  0.0690  0.15885   \n",
       "3               5  0.11395  0.08600  0.07270  0.04800  0.0690  0.15885   \n",
       "4               6  0.11470  0.08565  0.07310  0.04805  0.0735  0.17565   \n",
       "...           ...      ...      ...      ...      ...     ...      ...   \n",
       "27662         142  0.12140  0.14015  0.13790  0.13865  0.1307  0.21110   \n",
       "27663         143  0.12140  0.10050  0.09660  0.07745  0.1025  0.19485   \n",
       "27664         144  0.12140  0.11470  0.10880  0.10215  0.1307  0.21110   \n",
       "27665         145  0.12140  0.13270  0.12990  0.12485  0.1307  0.21110   \n",
       "27666         146  0.12140  0.09735  0.08735  0.07295  0.1025  0.19485   \n",
       "\n",
       "           B07      B08      B8A  ...  correlation1  correlation2  \\\n",
       "0      0.19590  0.19260  0.21015  ...     64.911243      0.000000   \n",
       "1      0.19590  0.18590  0.21015  ...     64.982249      0.000000   \n",
       "2      0.19485  0.18310  0.20505  ...     65.059172      0.000000   \n",
       "3      0.19485  0.18910  0.20505  ...     65.201183      0.000000   \n",
       "4      0.21260  0.19415  0.22600  ...     65.455621      0.000000   \n",
       "...        ...      ...      ...  ...           ...           ...   \n",
       "27662  0.25055  0.25495  0.27140  ...     80.171598      0.000169   \n",
       "27663  0.23390  0.21340  0.25655  ...     80.254438      0.000168   \n",
       "27664  0.25055  0.25645  0.27140  ...     79.668639      0.000171   \n",
       "27665  0.25055  0.23595  0.27140  ...     79.982249      0.000169   \n",
       "27666  0.23390  0.19745  0.25655  ...     80.106509      0.000169   \n",
       "\n",
       "       dissimilarity1  dissimilarity2   energy1      energy2  homogeneity1  \\\n",
       "0                 1.0        0.186303  0.000238  4216.082840      0.431628   \n",
       "1                 1.0        0.179370  0.000237  4225.491124      0.423522   \n",
       "2                 1.0        0.180771  0.000237  4235.449704      0.425172   \n",
       "3                 1.0        0.173418  0.000236  4254.183432      0.416435   \n",
       "4                 1.0        0.165015  0.000234  4288.260355      0.406221   \n",
       "...               ...             ...       ...          ...           ...   \n",
       "27662             1.0        0.053675  0.000169  6691.213018      0.231678   \n",
       "27663             1.0        0.053745  0.000168  6703.366864      0.231829   \n",
       "27664             1.0        0.052484  0.000171  6609.159763      0.229094   \n",
       "27665             1.0        0.055075  0.000169  6653.544379      0.234681   \n",
       "27666             1.0        0.054795  0.000169  6671.692308      0.234083   \n",
       "\n",
       "       homogeneity2  key  class  \n",
       "0               1.0    0      7  \n",
       "1               1.0    0      7  \n",
       "2               1.0    0      7  \n",
       "3               1.0    0      7  \n",
       "4               1.0    0      7  \n",
       "...             ...  ...    ...  \n",
       "27662           1.0  351     17  \n",
       "27663           1.0  351     17  \n",
       "27664           1.0  351     17  \n",
       "27665           1.0  351     17  \n",
       "27666           1.0  351     17  \n",
       "\n",
       "[27667 rows x 36 columns]"
      ]
     },
     "execution_count": 113,
     "metadata": {},
     "output_type": "execute_result"
    }
   ],
   "source": [
    "df"
   ]
  },
  {
   "cell_type": "code",
   "execution_count": 112,
   "id": "b26fda60-5038-4aff-adac-5a5923001b2e",
   "metadata": {},
   "outputs": [
    {
     "name": "stdout",
     "output_type": "stream",
     "text": [
      "(9009, 36)\n",
      "(11768, 36)\n",
      "(15798, 36)\n",
      "(27667, 36)\n"
     ]
    }
   ],
   "source": [
    "for scale in [1, 2, 3, 5]:\n",
    "    df = pd.read_csv(f'../shape_data/dataset_scale_{scale}.csv')\n",
    "    print(df.shape)"
   ]
  },
  {
   "cell_type": "code",
   "execution_count": 15,
   "id": "3c7b742f",
   "metadata": {},
   "outputs": [
    {
     "data": {
      "text/plain": [
       "['../models/forest_scaler.joblib']"
      ]
     },
     "execution_count": 15,
     "metadata": {},
     "output_type": "execute_result"
    }
   ],
   "source": [
    "forest_scaler = StandardScaler()\n",
    "\n",
    "forest_scaler.fit(df.iloc[:, :-2].values)\n",
    "\n",
    "scaled_values = forest_scaler.transform(df.iloc[:, :-2].values)\n",
    "\n",
    "dump(forest_scaler, '../models/forest_scaler.joblib') "
   ]
  },
  {
   "cell_type": "code",
   "execution_count": 16,
   "id": "1e8243a6",
   "metadata": {},
   "outputs": [],
   "source": [
    "df.iloc[:, :-2] = scaled_values\n",
    "df.to_csv('settlements.csv')"
   ]
  },
  {
   "cell_type": "markdown",
   "id": "f960d32c",
   "metadata": {},
   "source": [
    "## 3. Clustering"
   ]
  },
  {
   "cell_type": "code",
   "execution_count": 18,
   "id": "0b11bdc9",
   "metadata": {},
   "outputs": [],
   "source": [
    "from utils import get_cluster_pixels, get_selection"
   ]
  },
  {
   "cell_type": "code",
   "execution_count": 19,
   "id": "5fef452d",
   "metadata": {},
   "outputs": [
    {
     "name": "stdout",
     "output_type": "stream",
     "text": [
      "...............................equal cluster........................equal cluster..........equal cluster................equal cluster.........................equal cluster..equal cluster..................................................equal cluster...................................................................................................................equal cluster................................equal cluster............equal cluster..................equal cluster......"
     ]
    }
   ],
   "source": [
    "correlation_threshold = 0.7\n",
    "\n",
    "clustered_df = pd.DataFrame()\n",
    "\n",
    "for item in df.key.unique():\n",
    "    attmpt = get_cluster_pixels(df,\n",
    "                                key=item,\n",
    "                                correlation_threshold=correlation_threshold)\n",
    "    attmpt = get_selection(attmpt)\n",
    "    clustered_df = pd.concat([clustered_df, attmpt])\n",
    "    print('.', end='')\n"
   ]
  },
  {
   "cell_type": "code",
   "execution_count": 20,
   "id": "855e9efe",
   "metadata": {},
   "outputs": [
    {
     "name": "stdout",
     "output_type": "stream",
     "text": [
      "Rows kept from initial dataset is equal to 64 %\n"
     ]
    }
   ],
   "source": [
    "print('Rows kept from initial dataset is equal to', round(len(clustered_df)/len(df)*100), '%')"
   ]
  },
  {
   "cell_type": "markdown",
   "id": "504b5758",
   "metadata": {},
   "source": [
    "## 4. Plot correlation matrix \n",
    "\n",
    "Goal: exclude correlated bands "
   ]
  },
  {
   "cell_type": "code",
   "execution_count": 76,
   "id": "5ff287da",
   "metadata": {},
   "outputs": [],
   "source": [
    "# Fill diagonal and upper half with NaNs\n",
    "# corr = bands.corr()\n",
    "# mask = np.zeros_like(corr, dtype=bool)\n",
    "# mask[np.triu_indices_from(mask)] = True\n",
    "# corr[mask] = np.nan\n",
    "# (corr.iloc[:, :]\n",
    "#  .style\n",
    "#  .background_gradient(cmap='coolwarm', axis=None, vmin=-1, vmax=1)\n",
    "#  .highlight_null(null_color='#f1f1f1')  # Color NaNs grey\n",
    "#  .set_precision(2))\n"
   ]
  },
  {
   "cell_type": "markdown",
   "id": "a6236373",
   "metadata": {},
   "source": [
    "## 3. Train ML models"
   ]
  },
  {
   "cell_type": "code",
   "execution_count": 21,
   "id": "d40139ef",
   "metadata": {},
   "outputs": [],
   "source": [
    "# from utils import get_metric\n",
    "from utils import decodeClasses, decodeClassesLevel1"
   ]
  },
  {
   "cell_type": "code",
   "execution_count": 58,
   "id": "8338f7d7",
   "metadata": {},
   "outputs": [],
   "source": [
    "def get_models(class_weights: dict) -> list:\n",
    "    n_jobs = 8\n",
    "    return {'kNN':\n",
    "        KNeighborsClassifier(\n",
    "            n_jobs=n_jobs,\n",
    "            algorithm=\"ball_tree\",\n",
    "            leaf_size=100,\n",
    "            n_neighbors=10,\n",
    "            weights=\"uniform\",\n",
    "        ),\n",
    "        \"RandomForest\":RandomForestClassifier(\n",
    "            n_jobs=n_jobs,\n",
    "            random_state=42,\n",
    "            criterion=\"gini\",\n",
    "            max_features=\"auto\",\n",
    "            class_weight=class_weights,\n",
    "            max_depth=50,\n",
    "            n_estimators=500,\n",
    "            min_samples_leaf=2,\n",
    "            min_samples_split=6,\n",
    "        ),\n",
    "        \"SVC\":SVC(\n",
    "            random_state=42,\n",
    "            gamma=\"scale\",\n",
    "            class_weight=class_weights,\n",
    "            kernel=\"poly\",\n",
    "            C=1,\n",
    "            degree=1,\n",
    "            tol=1e-5,\n",
    "            probability=True,\n",
    "        ),\n",
    "        \"GradientBoosting\":GradientBoostingClassifier(\n",
    "            **{\n",
    "                \"n_estimators\": 75,\n",
    "                \"min_samples_split\": 47,\n",
    "                \"max_leaf_nodes\": 52,\n",
    "                \"learning_rate\": 0.1202,\n",
    "            }\n",
    "        )\n",
    "           }\n",
    "\n",
    "class ForestClasses(enum.Enum):\n",
    "    Pine = 7\n",
    "    Fir = 2\n",
    "    Aspen = 5 \n",
    "    Cedar = 3\n",
    "    Larch = 4\n",
    "    Birch = 1\n",
    "    Silver_fir = 6\n",
    "    Burnt_forest = 15\n",
    "    Deforestation = 13\n",
    "    Grass = 14\n",
    "    Soil = 12\n",
    "    Swamp = 16\n",
    "    Water_body = 11\n",
    "    Settlements = 17\n",
    "    \n",
    "\n",
    "def code_classes(df: pd.DataFrame)->pd.DataFrame:\n",
    "\n",
    "    df[['forest','forest_type', 'deciduous', 'coniferous']] = -999\n",
    "    # 1. Code forest\n",
    "    mask_forest = df['class'] < 10\n",
    "    df.loc[mask_forest, 'forest'] = 1\n",
    "    df.loc[~mask_forest, 'forest'] = 0\n",
    "    \n",
    "    \n",
    "    # 2. Code forest_type\n",
    "    forest_type = {\"Deciduous\":0, \"Coniferous\":1}\n",
    "    mask_coniferous = df['class'].isin([6,7])\n",
    "    mask_deciduous = df['class'].isin([1,5])\n",
    "    df.loc[mask_coniferous, 'forest_type'] = forest_type['Coniferous']\n",
    "    df.loc[mask_deciduous, 'forest_type'] = forest_type['Deciduous']\n",
    "    # 3. Code deciduous\n",
    "    birch = ForestClasses.Birch.value\n",
    "    df.loc[df['class'] == birch, 'deciduous'] = birch\n",
    "    aspen = ForestClasses.Aspen.value\n",
    "    df.loc[df['class'] == aspen, 'deciduous'] = aspen\n",
    "\n",
    "    # 3. Code coniferous\n",
    "    pine = ForestClasses.Pine.value\n",
    "    df.loc[df['class'] == pine, 'coniferous'] = pine\n",
    "    silver_fir = ForestClasses.Silver_fir.value\n",
    "    df.loc[df['class'] == silver_fir, 'coniferous'] = silver_fir\n",
    "    \n",
    "    return df\n",
    "\n",
    "def get_CNN_model():\n",
    "    model = Sequential(name = 'Forest_CNN')\n",
    "\n",
    "    model.add(Conv1D(filters = 32, kernel_size = 3, activation ='relu', input_shape =(ip_shape[0],1), name = 'Layer1'))\n",
    "    model.add(Conv1D(filters = 32, kernel_size = 3, activation ='relu' , name = 'Layer2'))\n",
    "    model.add(Conv1D(filters = 32, kernel_size = 3, activation ='relu' , name = 'Layer3'))\n",
    "\n",
    "    model.add(MaxPooling1D(pool_size = 2, name = 'MaxPooling_Layer1'))\n",
    "    model.add(Dropout(0.4, name = 'Dropout1'))\n",
    "\n",
    "    model.add(Conv1D(filters = 16, kernel_size = 2, activation ='relu', name = 'Layer4'))\n",
    "    model.add(Conv1D(filters = 16, kernel_size = 2, activation ='relu', name = 'Layer5'))\n",
    "    model.add(Conv1D(filters = 16, kernel_size = 2, activation ='relu', name = 'Layer6'))\n",
    "\n",
    "    model.add(MaxPooling1D(pool_size = 2, name = 'MaxPooling_Layer2'))\n",
    "    model.add(Dropout(0.4, name = 'Dropout2'))\n",
    "\n",
    "    model.add(Flatten(name = 'Flatten'))\n",
    "\n",
    "    # model.add(Dense(25, activation='relu', name = 'DenseLayer'))\n",
    "\n",
    "    model.add(Dense(1, activation='sigmoid', name = 'OutputLayer'))\n",
    "    \n",
    "def train_CNN_model(df:pd.DataFrame, gdf:gpd.GeoDataFrame,\n",
    "                    target: \"deciduous\", model_fname:str):\n",
    "    \n",
    "    if target=='deciduous':\n",
    "        birch = ForestClasses.Birch.value\n",
    "        aspen = ForestClasses.Aspen.value\n",
    "        gdf = gdf.loc[gdf['t_Class'].isin(birch, aspen)]\n",
    "    if target=='coniferous':\n",
    "        pine = ForestClasses.Pine.value\n",
    "        silver_fir = ForestClasses.Silver_fir.value\n",
    "        gdf = gdf.loc[gdf['t_Class'].isin(pine, silver_fir)]\n",
    "    X_train, X_test, y_train, y_test = train_test_split(gdf,\n",
    "                                                    gdf['class_name'],\n",
    "                                                    test_size=test_size)\n",
    "    train = df.loc[df['key'].isin(X_train['key'])]\n",
    "    test = df.loc[df['key'].isin(X_test['key'])]\n",
    "    remove_cols = ['key', 'class', 'forest', 'forest_type',\n",
    "       'deciduous', 'coniferous']\n",
    "    X_train = train.drop(columns=remove_cols).astype('float')\n",
    "    X_test = test.drop(columns=remove_cols).astype('float')\n",
    "    y_train = train[target].astype(int)\n",
    "    y_test = test[target].astype(int)\n",
    "                  \n",
    "    assert set(y_test) == set(y_train), 'Houston, we have problems'                  \n",
    "\n",
    "    ip_shape = X_train.values[1].shape\n",
    "\n",
    "    n_outputs = 1\n",
    "\n",
    "    X_train = X_train.values.reshape(-1, 16, 1) # TO-DO Replace 16 to shape of features\n",
    "    X_test = X_test.values.reshape(-1, 16, 1)\n",
    "\n",
    "    model.compile(loss='binary_crossentropy', optimizer='adam', metrics=['f1'])\n",
    "\n",
    "    early_stop = EarlyStopping(monitor = 'val_loss',\n",
    "                                mode = 'min',\n",
    "                                min_delta = 0,\n",
    "                                patience = 10,\n",
    "                                restore_best_weights = True)\n",
    "\n",
    "    checkpoint = ModelCheckpoint(filepath = f'{model_fname}.h5', \n",
    "                                 monitor = 'val_loss', \n",
    "                                 mode ='min', \n",
    "                                 save_best_only = True)\n",
    "\n",
    "\n",
    "    hist = model.fit(X_train, \n",
    "                           y_train.values, \n",
    "                           epochs = 100, \n",
    "                           batch_size = 128 , \n",
    "                           validation_data = (X_test, y_test.values), \n",
    "                           callbacks=[early_stop,\n",
    "                                      checkpoint,\n",
    "                                      tensorboard])\n",
    "    return model\n",
    "#     loss, acc = model.evaluate(X_test, y_test)\n",
    "\n",
    "def train_ml_model(df:pd.DataFrame, gdf:gpd.GeoDataFrame, target: \"forest\",\n",
    "                   test_size: float=0.25):\n",
    "    if target not in ['forest', 'forest_type']:\n",
    "        raise KeyError('works only for target forest, forest_type')\n",
    "    if target=='forest_type':\n",
    "        gdf = gdf.loc[gdf['t_Class']<10]\n",
    "\n",
    "    X_train, X_test, y_train, y_test = train_test_split(gdf,\n",
    "                                                    gdf['class_name'],\n",
    "                                                    test_size=test_size)\n",
    "    train = df.loc[df['key'].isin(X_train['key'])]\n",
    "    test = df.loc[df['key'].isin(X_test['key'])]\n",
    "    remove_cols = ['key', 'class', 'forest', 'forest_type',\n",
    "       'deciduous', 'coniferous']\n",
    "    X_train = train.drop(columns=remove_cols).astype('float')\n",
    "    X_test = test.drop(columns=remove_cols).astype('float')\n",
    "    y_train = train[target].astype(int)\n",
    "    y_test = test[target].astype(int)\n",
    "    \n",
    "    class_weights_vals = compute_class_weight(class_weight = \"balanced\", \n",
    "                                          classes= np.unique(y_train),\n",
    "                                          y= y_train)\n",
    "    class_weights = {x:y for x,y in zip(np.unique(y_train), \n",
    "                                    class_weights_vals)}\n",
    "                  \n",
    "    models = get_models(class_weights=class_weights)\n",
    "    container = {}\n",
    "    for name_model, model in models.items():\n",
    "        scores=cross_val_score(model, X_train, y_train, cv=5, scoring='f1')\n",
    "        print(name_model, scores)\n",
    "        model.fit(X_train, y_train)\n",
    "        f1 = f1_score(y_test, model.predict(X_test))\n",
    "        kappa = cohen_kappa_score(y_test, model.predict(X_test))\n",
    "        container[name_model]={'f1':f1, \"kappa\":kappa, \"model\":model }\n",
    "    return container\n"
   ]
  },
  {
   "cell_type": "markdown",
   "id": "51dc941d",
   "metadata": {},
   "source": [
    "Clustered input "
   ]
  },
  {
   "cell_type": "code",
   "execution_count": 31,
   "id": "d29e5aa8",
   "metadata": {},
   "outputs": [],
   "source": [
    "# print(\"All bands: \", len(clustered_df.columns))\n",
    "# corr_matrix = bands.iloc[:, :-2].corr().abs()\n",
    "# upper = corr_matrix.where(np.triu(np.ones(corr_matrix.shape), k=1).astype(np.bool_))\n",
    "# to_drop = [column for column in upper.columns if any(upper[column] > 0.97)]\n",
    "# # Drop features \n",
    "# input_df = clustered_df.drop(to_drop, axis=1)\n",
    "# print(\"Non correlated bands: \", len(input_df.columns))"
   ]
  },
  {
   "cell_type": "markdown",
   "id": "e5f2c40b",
   "metadata": {},
   "source": [
    "Non Clustered input "
   ]
  },
  {
   "cell_type": "code",
   "execution_count": 32,
   "id": "74234e92",
   "metadata": {},
   "outputs": [],
   "source": [
    "# print(\"All bands: \", len(clustered_df.columns))\n",
    "# corr_matrix = bands.iloc[:, :-2].corr().abs()\n",
    "# upper = corr_matrix.where(np.triu(np.ones(corr_matrix.shape), k=1).astype(np.bool_))\n",
    "# to_drop = [column for column in upper.columns if any(upper[column] > 0.97)]\n",
    "# # Drop features \n",
    "# input_df = pd.concat([bands.iloc[:,:-2], terrain], axis=1).drop(to_drop, axis=1)\n",
    "# print(\"Non correlated bands: \", len(input_df.columns))"
   ]
  },
  {
   "cell_type": "markdown",
   "id": "be07d704",
   "metadata": {},
   "source": [
    "## Задачи 🐝\n",
    "\n",
    "\n",
    "1. Классифакия - Deciduous и Coniferous\n",
    "2. Классификация - Сосна и Пихта \n",
    "3. Классификация - Береза и Осина "
   ]
  },
  {
   "cell_type": "markdown",
   "id": "af237e29",
   "metadata": {},
   "source": [
    "### 3. Классифакия - Hierarchical"
   ]
  },
  {
   "cell_type": "code",
   "execution_count": 24,
   "id": "fb8bd0be",
   "metadata": {},
   "outputs": [],
   "source": [
    "df = clustered_df.drop(columns='clusters').copy()"
   ]
  },
  {
   "cell_type": "code",
   "execution_count": 25,
   "id": "3ebb504b",
   "metadata": {},
   "outputs": [
    {
     "data": {
      "text/html": [
       "<div>\n",
       "<style scoped>\n",
       "    .dataframe tbody tr th:only-of-type {\n",
       "        vertical-align: middle;\n",
       "    }\n",
       "\n",
       "    .dataframe tbody tr th {\n",
       "        vertical-align: top;\n",
       "    }\n",
       "\n",
       "    .dataframe thead th {\n",
       "        text-align: right;\n",
       "    }\n",
       "</style>\n",
       "<table border=\"1\" class=\"dataframe\">\n",
       "  <thead>\n",
       "    <tr style=\"text-align: right;\">\n",
       "      <th></th>\n",
       "      <th>B01</th>\n",
       "      <th>B02</th>\n",
       "      <th>B03</th>\n",
       "      <th>B04</th>\n",
       "      <th>B05</th>\n",
       "      <th>B06</th>\n",
       "      <th>B07</th>\n",
       "      <th>B08</th>\n",
       "      <th>B8A</th>\n",
       "      <th>B09</th>\n",
       "      <th>...</th>\n",
       "      <th>EVI</th>\n",
       "      <th>MSAVI</th>\n",
       "      <th>NDRE</th>\n",
       "      <th>FCI</th>\n",
       "      <th>aspect</th>\n",
       "      <th>slope</th>\n",
       "      <th>wetnessindex</th>\n",
       "      <th>sink</th>\n",
       "      <th>key</th>\n",
       "      <th>class</th>\n",
       "    </tr>\n",
       "  </thead>\n",
       "  <tbody>\n",
       "    <tr>\n",
       "      <th>0</th>\n",
       "      <td>-0.581056</td>\n",
       "      <td>-0.539191</td>\n",
       "      <td>-0.472659</td>\n",
       "      <td>-0.738886</td>\n",
       "      <td>-0.723726</td>\n",
       "      <td>-0.318696</td>\n",
       "      <td>-0.314211</td>\n",
       "      <td>-0.215627</td>\n",
       "      <td>-0.323721</td>\n",
       "      <td>-0.233667</td>\n",
       "      <td>...</td>\n",
       "      <td>0.155033</td>\n",
       "      <td>0.118273</td>\n",
       "      <td>0.608221</td>\n",
       "      <td>-0.540575</td>\n",
       "      <td>0.424493</td>\n",
       "      <td>-0.321883</td>\n",
       "      <td>-0.832842</td>\n",
       "      <td>-1.35656</td>\n",
       "      <td>0</td>\n",
       "      <td>7</td>\n",
       "    </tr>\n",
       "    <tr>\n",
       "      <th>1</th>\n",
       "      <td>-0.581056</td>\n",
       "      <td>-0.724222</td>\n",
       "      <td>-0.555035</td>\n",
       "      <td>-0.801544</td>\n",
       "      <td>-0.723726</td>\n",
       "      <td>-0.318696</td>\n",
       "      <td>-0.314211</td>\n",
       "      <td>-0.310268</td>\n",
       "      <td>-0.323721</td>\n",
       "      <td>-0.233667</td>\n",
       "      <td>...</td>\n",
       "      <td>0.087890</td>\n",
       "      <td>0.046574</td>\n",
       "      <td>0.530691</td>\n",
       "      <td>-0.633190</td>\n",
       "      <td>0.424493</td>\n",
       "      <td>-0.321883</td>\n",
       "      <td>-0.832842</td>\n",
       "      <td>-1.35656</td>\n",
       "      <td>0</td>\n",
       "      <td>7</td>\n",
       "    </tr>\n",
       "    <tr>\n",
       "      <th>2</th>\n",
       "      <td>-0.581056</td>\n",
       "      <td>-0.651070</td>\n",
       "      <td>-0.658900</td>\n",
       "      <td>-0.842408</td>\n",
       "      <td>-0.684496</td>\n",
       "      <td>-0.294673</td>\n",
       "      <td>-0.302268</td>\n",
       "      <td>-0.332638</td>\n",
       "      <td>-0.271211</td>\n",
       "      <td>-0.233667</td>\n",
       "      <td>...</td>\n",
       "      <td>0.083881</td>\n",
       "      <td>0.041318</td>\n",
       "      <td>0.474613</td>\n",
       "      <td>-0.673162</td>\n",
       "      <td>0.424493</td>\n",
       "      <td>-0.321883</td>\n",
       "      <td>-0.832842</td>\n",
       "      <td>-1.35656</td>\n",
       "      <td>0</td>\n",
       "      <td>7</td>\n",
       "    </tr>\n",
       "    <tr>\n",
       "      <th>3</th>\n",
       "      <td>-0.581056</td>\n",
       "      <td>-0.586524</td>\n",
       "      <td>-0.623084</td>\n",
       "      <td>-0.785198</td>\n",
       "      <td>-0.684496</td>\n",
       "      <td>-0.294673</td>\n",
       "      <td>-0.302268</td>\n",
       "      <td>-0.467717</td>\n",
       "      <td>-0.271211</td>\n",
       "      <td>-0.233667</td>\n",
       "      <td>...</td>\n",
       "      <td>-0.081025</td>\n",
       "      <td>-0.128227</td>\n",
       "      <td>0.356215</td>\n",
       "      <td>-0.705082</td>\n",
       "      <td>0.424493</td>\n",
       "      <td>-0.321883</td>\n",
       "      <td>-0.832842</td>\n",
       "      <td>-1.35656</td>\n",
       "      <td>0</td>\n",
       "      <td>7</td>\n",
       "    </tr>\n",
       "    <tr>\n",
       "      <th>4</th>\n",
       "      <td>-0.492653</td>\n",
       "      <td>-0.620949</td>\n",
       "      <td>-0.458333</td>\n",
       "      <td>-0.665330</td>\n",
       "      <td>-0.568871</td>\n",
       "      <td>-0.057714</td>\n",
       "      <td>-0.039531</td>\n",
       "      <td>-0.220789</td>\n",
       "      <td>-0.092521</td>\n",
       "      <td>-0.147997</td>\n",
       "      <td>...</td>\n",
       "      <td>0.116162</td>\n",
       "      <td>0.079593</td>\n",
       "      <td>0.460737</td>\n",
       "      <td>-0.492648</td>\n",
       "      <td>0.424493</td>\n",
       "      <td>-0.321883</td>\n",
       "      <td>-0.832842</td>\n",
       "      <td>-1.35656</td>\n",
       "      <td>0</td>\n",
       "      <td>7</td>\n",
       "    </tr>\n",
       "  </tbody>\n",
       "</table>\n",
       "<p>5 rows × 23 columns</p>\n",
       "</div>"
      ],
      "text/plain": [
       "        B01       B02       B03       B04       B05       B06       B07  \\\n",
       "0 -0.581056 -0.539191 -0.472659 -0.738886 -0.723726 -0.318696 -0.314211   \n",
       "1 -0.581056 -0.724222 -0.555035 -0.801544 -0.723726 -0.318696 -0.314211   \n",
       "2 -0.581056 -0.651070 -0.658900 -0.842408 -0.684496 -0.294673 -0.302268   \n",
       "3 -0.581056 -0.586524 -0.623084 -0.785198 -0.684496 -0.294673 -0.302268   \n",
       "4 -0.492653 -0.620949 -0.458333 -0.665330 -0.568871 -0.057714 -0.039531   \n",
       "\n",
       "        B08       B8A       B09  ...       EVI     MSAVI      NDRE       FCI  \\\n",
       "0 -0.215627 -0.323721 -0.233667  ...  0.155033  0.118273  0.608221 -0.540575   \n",
       "1 -0.310268 -0.323721 -0.233667  ...  0.087890  0.046574  0.530691 -0.633190   \n",
       "2 -0.332638 -0.271211 -0.233667  ...  0.083881  0.041318  0.474613 -0.673162   \n",
       "3 -0.467717 -0.271211 -0.233667  ... -0.081025 -0.128227  0.356215 -0.705082   \n",
       "4 -0.220789 -0.092521 -0.147997  ...  0.116162  0.079593  0.460737 -0.492648   \n",
       "\n",
       "     aspect     slope  wetnessindex     sink  key  class  \n",
       "0  0.424493 -0.321883     -0.832842 -1.35656    0      7  \n",
       "1  0.424493 -0.321883     -0.832842 -1.35656    0      7  \n",
       "2  0.424493 -0.321883     -0.832842 -1.35656    0      7  \n",
       "3  0.424493 -0.321883     -0.832842 -1.35656    0      7  \n",
       "4  0.424493 -0.321883     -0.832842 -1.35656    0      7  \n",
       "\n",
       "[5 rows x 23 columns]"
      ]
     },
     "execution_count": 25,
     "metadata": {},
     "output_type": "execute_result"
    }
   ],
   "source": [
    "df.head()"
   ]
  },
  {
   "cell_type": "markdown",
   "id": "477d55ef",
   "metadata": {},
   "source": [
    "Decode classes (one-hot encoding)"
   ]
  },
  {
   "cell_type": "code",
   "execution_count": 39,
   "id": "6505bdba",
   "metadata": {},
   "outputs": [],
   "source": [
    "df_coded = code_classes(df)"
   ]
  },
  {
   "cell_type": "markdown",
   "id": "4504e8a2",
   "metadata": {},
   "source": [
    "Train Model for forest classification"
   ]
  },
  {
   "cell_type": "markdown",
   "id": "8a31e1ec",
   "metadata": {},
   "source": [
    "### 3.1 Классифакия -Forest / Non-forest"
   ]
  },
  {
   "cell_type": "code",
   "execution_count": 41,
   "id": "c70f811d",
   "metadata": {},
   "outputs": [
    {
     "name": "stdout",
     "output_type": "stream",
     "text": [
      "[1.         0.95774648 0.99089727 0.97961783 0.97718631]\n",
      "[1.         0.97286565 1.         0.98086735 0.97609562]\n",
      "[0.99805321 0.96584059 0.99935191 0.98717949 1.        ]\n",
      "[0.99935191 0.96442688 1.         0.97712834 0.99611399]\n"
     ]
    }
   ],
   "source": [
    "# Log model name and f1 for cross validation\n",
    "results = train_ml_model(df=df_coded, gdf=gdf, target='forest')\n"
   ]
  },
  {
   "cell_type": "code",
   "execution_count": 44,
   "id": "eca22423",
   "metadata": {},
   "outputs": [
    {
     "data": {
      "text/html": [
       "<div>\n",
       "<style scoped>\n",
       "    .dataframe tbody tr th:only-of-type {\n",
       "        vertical-align: middle;\n",
       "    }\n",
       "\n",
       "    .dataframe tbody tr th {\n",
       "        vertical-align: top;\n",
       "    }\n",
       "\n",
       "    .dataframe thead th {\n",
       "        text-align: right;\n",
       "    }\n",
       "</style>\n",
       "<table border=\"1\" class=\"dataframe\">\n",
       "  <thead>\n",
       "    <tr style=\"text-align: right;\">\n",
       "      <th></th>\n",
       "      <th>f1</th>\n",
       "      <th>kappa</th>\n",
       "      <th>model</th>\n",
       "    </tr>\n",
       "  </thead>\n",
       "  <tbody>\n",
       "    <tr>\n",
       "      <th>kNN</th>\n",
       "      <td>0.995871</td>\n",
       "      <td>0.985597</td>\n",
       "      <td>KNeighborsClassifier(algorithm='ball_tree', le...</td>\n",
       "    </tr>\n",
       "    <tr>\n",
       "      <th>RandomForest</th>\n",
       "      <td>0.993183</td>\n",
       "      <td>0.975641</td>\n",
       "      <td>(DecisionTreeClassifier(max_depth=50, max_feat...</td>\n",
       "    </tr>\n",
       "    <tr>\n",
       "      <th>SVC</th>\n",
       "      <td>0.997605</td>\n",
       "      <td>0.991524</td>\n",
       "      <td>SVC(C=1, class_weight={0: 0.9580760095011877, ...</td>\n",
       "    </tr>\n",
       "    <tr>\n",
       "      <th>GradientBoosting</th>\n",
       "      <td>0.994536</td>\n",
       "      <td>0.980574</td>\n",
       "      <td>([DecisionTreeRegressor(criterion='friedman_ms...</td>\n",
       "    </tr>\n",
       "  </tbody>\n",
       "</table>\n",
       "</div>"
      ],
      "text/plain": [
       "                        f1     kappa  \\\n",
       "kNN               0.995871  0.985597   \n",
       "RandomForest      0.993183  0.975641   \n",
       "SVC               0.997605  0.991524   \n",
       "GradientBoosting  0.994536  0.980574   \n",
       "\n",
       "                                                              model  \n",
       "kNN               KNeighborsClassifier(algorithm='ball_tree', le...  \n",
       "RandomForest      (DecisionTreeClassifier(max_depth=50, max_feat...  \n",
       "SVC               SVC(C=1, class_weight={0: 0.9580760095011877, ...  \n",
       "GradientBoosting  ([DecisionTreeRegressor(criterion='friedman_ms...  "
      ]
     },
     "execution_count": 44,
     "metadata": {},
     "output_type": "execute_result"
    }
   ],
   "source": [
    "# metric results\n",
    "pd.DataFrame(results).T"
   ]
  },
  {
   "cell_type": "markdown",
   "id": "9748c689",
   "metadata": {},
   "source": [
    "Save model"
   ]
  },
  {
   "cell_type": "code",
   "execution_count": 47,
   "id": "f3455827",
   "metadata": {},
   "outputs": [
    {
     "data": {
      "text/plain": [
       "['../models/forest_model_svc.joblib']"
      ]
     },
     "execution_count": 47,
     "metadata": {},
     "output_type": "execute_result"
    }
   ],
   "source": [
    "dump(results['SVC']['model'], '../models/forest_model_svc.joblib')"
   ]
  },
  {
   "cell_type": "markdown",
   "id": "1250d629",
   "metadata": {},
   "source": [
    "### 3.2 Классифакия - Forest type (Deciduous and Coniferous)"
   ]
  },
  {
   "cell_type": "code",
   "execution_count": 55,
   "id": "dd00765b",
   "metadata": {},
   "outputs": [
    {
     "name": "stdout",
     "output_type": "stream",
     "text": [
      "kNN [0.85033113 0.73096447 0.73181325 0.8267009  0.72289157]\n",
      "RandomForest [0.8772846  0.73613767 0.71663244 0.86936937 0.8101983 ]\n",
      "SVC [0.86197917 0.81404959 0.62321792 0.9187935  0.77400295]\n",
      "GradientBoosting [0.87287025 0.73744076 0.70354906 0.85550459 0.7818448 ]\n"
     ]
    }
   ],
   "source": [
    "results_type = train_ml_model(df=df_coded, gdf=gdf, target='forest_type')"
   ]
  },
  {
   "cell_type": "code",
   "execution_count": 56,
   "id": "8b5a2196",
   "metadata": {},
   "outputs": [
    {
     "data": {
      "text/html": [
       "<div>\n",
       "<style scoped>\n",
       "    .dataframe tbody tr th:only-of-type {\n",
       "        vertical-align: middle;\n",
       "    }\n",
       "\n",
       "    .dataframe tbody tr th {\n",
       "        vertical-align: top;\n",
       "    }\n",
       "\n",
       "    .dataframe thead th {\n",
       "        text-align: right;\n",
       "    }\n",
       "</style>\n",
       "<table border=\"1\" class=\"dataframe\">\n",
       "  <thead>\n",
       "    <tr style=\"text-align: right;\">\n",
       "      <th></th>\n",
       "      <th>f1</th>\n",
       "      <th>kappa</th>\n",
       "      <th>model</th>\n",
       "    </tr>\n",
       "  </thead>\n",
       "  <tbody>\n",
       "    <tr>\n",
       "      <th>kNN</th>\n",
       "      <td>0.71821</td>\n",
       "      <td>0.54608</td>\n",
       "      <td>KNeighborsClassifier(algorithm='ball_tree', le...</td>\n",
       "    </tr>\n",
       "    <tr>\n",
       "      <th>RandomForest</th>\n",
       "      <td>0.825271</td>\n",
       "      <td>0.713033</td>\n",
       "      <td>(DecisionTreeClassifier(max_depth=50, max_feat...</td>\n",
       "    </tr>\n",
       "    <tr>\n",
       "      <th>SVC</th>\n",
       "      <td>0.819512</td>\n",
       "      <td>0.701333</td>\n",
       "      <td>SVC(C=1, class_weight={0: 1.0352729145211124, ...</td>\n",
       "    </tr>\n",
       "    <tr>\n",
       "      <th>GradientBoosting</th>\n",
       "      <td>0.782347</td>\n",
       "      <td>0.646176</td>\n",
       "      <td>([DecisionTreeRegressor(criterion='friedman_ms...</td>\n",
       "    </tr>\n",
       "  </tbody>\n",
       "</table>\n",
       "</div>"
      ],
      "text/plain": [
       "                        f1     kappa  \\\n",
       "kNN                0.71821   0.54608   \n",
       "RandomForest      0.825271  0.713033   \n",
       "SVC               0.819512  0.701333   \n",
       "GradientBoosting  0.782347  0.646176   \n",
       "\n",
       "                                                              model  \n",
       "kNN               KNeighborsClassifier(algorithm='ball_tree', le...  \n",
       "RandomForest      (DecisionTreeClassifier(max_depth=50, max_feat...  \n",
       "SVC               SVC(C=1, class_weight={0: 1.0352729145211124, ...  \n",
       "GradientBoosting  ([DecisionTreeRegressor(criterion='friedman_ms...  "
      ]
     },
     "execution_count": 56,
     "metadata": {},
     "output_type": "execute_result"
    }
   ],
   "source": [
    "# metric results\n",
    "pd.DataFrame(results_type).T"
   ]
  },
  {
   "cell_type": "code",
   "execution_count": 57,
   "id": "27b8d67d",
   "metadata": {},
   "outputs": [
    {
     "data": {
      "text/plain": [
       "['../models/forest_type_model_rf.joblib']"
      ]
     },
     "execution_count": 57,
     "metadata": {},
     "output_type": "execute_result"
    }
   ],
   "source": [
    "dump(results['SVC']['model'], '../models/forest_type_model_rf.joblib')"
   ]
  },
  {
   "cell_type": "markdown",
   "id": "0503a714",
   "metadata": {},
   "source": [
    "### 3.3 Классифакия - Deciduous "
   ]
  },
  {
   "cell_type": "code",
   "execution_count": 60,
   "id": "d9c38351",
   "metadata": {},
   "outputs": [
    {
     "name": "stdout",
     "output_type": "stream",
     "text": [
      "Collecting tensorflow\n",
      "  Downloading tensorflow-2.12.0-cp38-cp38-manylinux_2_17_x86_64.manylinux2014_x86_64.whl (585.9 MB)\n",
      "\u001b[K     |████████████████████████████████| 585.9 MB 9.3 kB/s eta 0:00:017     |██████████████████▊             | 343.4 MB 5.0 MB/s eta 0:00:49     |███████████████████████▋        | 432.3 MB 8.0 MB/s eta 0:00:20\n",
      "\u001b[?25hCollecting tensorflow-estimator<2.13,>=2.12.0\n",
      "  Downloading tensorflow_estimator-2.12.0-py2.py3-none-any.whl (440 kB)\n",
      "\u001b[K     |████████████████████████████████| 440 kB 9.5 MB/s eta 0:00:01\n",
      "\u001b[?25hCollecting astunparse>=1.6.0\n",
      "  Downloading astunparse-1.6.3-py2.py3-none-any.whl (12 kB)\n",
      "Collecting keras<2.13,>=2.12.0\n",
      "  Downloading keras-2.12.0-py2.py3-none-any.whl (1.7 MB)\n",
      "\u001b[K     |████████████████████████████████| 1.7 MB 9.9 MB/s eta 0:00:01\n",
      "\u001b[?25hCollecting tensorboard<2.13,>=2.12\n",
      "  Downloading tensorboard-2.12.3-py3-none-any.whl (5.6 MB)\n",
      "\u001b[K     |████████████████████████████████| 5.6 MB 12.7 MB/s eta 0:00:01\n",
      "\u001b[?25hRequirement already satisfied: six>=1.12.0 in /usr/local/lib/python3.8/dist-packages (from tensorflow) (1.16.0)\n",
      "Collecting protobuf!=4.21.0,!=4.21.1,!=4.21.2,!=4.21.3,!=4.21.4,!=4.21.5,<5.0.0dev,>=3.20.3\n",
      "  Downloading protobuf-4.23.2-cp37-abi3-manylinux2014_x86_64.whl (304 kB)\n",
      "\u001b[K     |████████████████████████████████| 304 kB 12.3 MB/s eta 0:00:01\n",
      "\u001b[?25hCollecting gast<=0.4.0,>=0.2.1\n",
      "  Downloading gast-0.4.0-py3-none-any.whl (9.8 kB)\n",
      "Collecting grpcio<2.0,>=1.24.3\n",
      "  Downloading grpcio-1.54.2-cp38-cp38-manylinux_2_17_x86_64.manylinux2014_x86_64.whl (5.1 MB)\n",
      "\u001b[K     |████████████████████████████████| 5.1 MB 11.6 MB/s eta 0:00:01\n",
      "\u001b[?25hCollecting tensorflow-io-gcs-filesystem>=0.23.1; platform_machine != \"arm64\" or platform_system != \"Darwin\"\n",
      "  Downloading tensorflow_io_gcs_filesystem-0.32.0-cp38-cp38-manylinux_2_12_x86_64.manylinux2010_x86_64.whl (2.4 MB)\n",
      "\u001b[K     |████████████████████████████████| 2.4 MB 13.5 MB/s eta 0:00:01\n",
      "\u001b[?25hCollecting opt-einsum>=2.3.2\n",
      "  Downloading opt_einsum-3.3.0-py3-none-any.whl (65 kB)\n",
      "\u001b[K     |████████████████████████████████| 65 kB 4.6 MB/s  eta 0:00:01\n",
      "\u001b[?25hCollecting termcolor>=1.1.0\n",
      "  Downloading termcolor-2.3.0-py3-none-any.whl (6.9 kB)\n",
      "Collecting jax>=0.3.15\n",
      "  Downloading jax-0.4.11.tar.gz (1.3 MB)\n",
      "\u001b[K     |████████████████████████████████| 1.3 MB 9.4 MB/s eta 0:00:01\n",
      "\u001b[?25h  Installing build dependencies ... \u001b[?25ldone\n",
      "\u001b[?25h  Getting requirements to build wheel ... \u001b[?25ldone\n",
      "\u001b[?25h    Preparing wheel metadata ... \u001b[?25ldone\n",
      "\u001b[?25hRequirement already satisfied: packaging in /usr/local/lib/python3.8/dist-packages (from tensorflow) (21.0)\n",
      "Collecting google-pasta>=0.1.1\n",
      "  Downloading google_pasta-0.2.0-py3-none-any.whl (57 kB)\n",
      "\u001b[K     |████████████████████████████████| 57 kB 4.4 MB/s eta 0:00:01\n",
      "\u001b[?25hCollecting numpy<1.24,>=1.22\n",
      "  Downloading numpy-1.23.5-cp38-cp38-manylinux_2_17_x86_64.manylinux2014_x86_64.whl (17.1 MB)\n",
      "\u001b[K     |████████████████████████████████| 17.1 MB 7.4 MB/s eta 0:00:011\n",
      "\u001b[?25hRequirement already satisfied: setuptools in /usr/lib/python3/dist-packages (from tensorflow) (45.2.0)\n",
      "Collecting absl-py>=1.0.0\n",
      "  Downloading absl_py-1.4.0-py3-none-any.whl (126 kB)\n",
      "\u001b[K     |████████████████████████████████| 126 kB 8.5 MB/s eta 0:00:01\n",
      "\u001b[?25hCollecting wrapt<1.15,>=1.11.0\n",
      "  Downloading wrapt-1.14.1-cp38-cp38-manylinux_2_5_x86_64.manylinux1_x86_64.manylinux_2_17_x86_64.manylinux2014_x86_64.whl (81 kB)\n",
      "\u001b[K     |████████████████████████████████| 81 kB 6.1 MB/s eta 0:00:011\n",
      "\u001b[?25hCollecting flatbuffers>=2.0\n",
      "  Downloading flatbuffers-23.5.26-py2.py3-none-any.whl (26 kB)\n",
      "Collecting h5py>=2.9.0\n",
      "  Downloading h5py-3.8.0-cp38-cp38-manylinux_2_17_x86_64.manylinux2014_x86_64.whl (4.7 MB)\n",
      "\u001b[K     |████████████████████████████████| 4.7 MB 11.2 MB/s eta 0:00:01\n",
      "\u001b[?25hCollecting libclang>=13.0.0\n",
      "  Downloading libclang-16.0.0-py2.py3-none-manylinux2010_x86_64.whl (22.9 MB)\n",
      "\u001b[K     |████████████████████████████████| 22.9 MB 8.6 MB/s eta 0:00:01\n",
      "\u001b[?25hCollecting typing-extensions>=3.6.6\n",
      "  Using cached typing_extensions-4.6.3-py3-none-any.whl (31 kB)\n",
      "Requirement already satisfied: wheel<1.0,>=0.23.0 in /usr/lib/python3/dist-packages (from astunparse>=1.6.0->tensorflow) (0.34.2)\n",
      "Collecting google-auth<3,>=1.6.3\n",
      "  Downloading google_auth-2.19.1-py2.py3-none-any.whl (181 kB)\n",
      "\u001b[K     |████████████████████████████████| 181 kB 5.8 MB/s eta 0:00:01\n",
      "\u001b[?25hCollecting google-auth-oauthlib<1.1,>=0.5\n",
      "  Downloading google_auth_oauthlib-1.0.0-py2.py3-none-any.whl (18 kB)\n",
      "Collecting werkzeug>=1.0.1\n",
      "  Downloading Werkzeug-2.3.4-py3-none-any.whl (242 kB)\n",
      "\u001b[K     |████████████████████████████████| 242 kB 15.1 MB/s eta 0:00:01\n",
      "\u001b[?25hRequirement already satisfied: requests<3,>=2.21.0 in /usr/local/lib/python3.8/dist-packages (from tensorboard<2.13,>=2.12->tensorflow) (2.26.0)\n",
      "Collecting markdown>=2.6.8\n",
      "  Downloading Markdown-3.4.3-py3-none-any.whl (93 kB)\n",
      "\u001b[K     |████████████████████████████████| 93 kB 3.5 MB/s  eta 0:00:01\n",
      "\u001b[?25hCollecting tensorboard-data-server<0.8.0,>=0.7.0\n",
      "  Downloading tensorboard_data_server-0.7.0-py3-none-manylinux2014_x86_64.whl (6.6 MB)\n",
      "\u001b[K     |████████████████████████████████| 6.6 MB 10.7 MB/s eta 0:00:01\n",
      "\u001b[?25hRequirement already satisfied: scipy>=1.7 in /usr/local/lib/python3.8/dist-packages (from jax>=0.3.15->tensorflow) (1.7.1)\n",
      "Collecting importlib-metadata>=4.6; python_version < \"3.10\"\n",
      "  Downloading importlib_metadata-6.6.0-py3-none-any.whl (22 kB)\n",
      "Collecting ml-dtypes>=0.1.0\n",
      "  Downloading ml_dtypes-0.1.0-cp38-cp38-manylinux_2_17_x86_64.manylinux2014_x86_64.whl (190 kB)\n",
      "\u001b[K     |████████████████████████████████| 190 kB 8.3 MB/s eta 0:00:01\n",
      "\u001b[?25hRequirement already satisfied: pyparsing>=2.0.2 in /usr/local/lib/python3.8/dist-packages (from packaging->tensorflow) (2.4.7)\n",
      "Requirement already satisfied: urllib3<2.0 in /usr/local/lib/python3.8/dist-packages (from google-auth<3,>=1.6.3->tensorboard<2.13,>=2.12->tensorflow) (1.26.6)\n",
      "Collecting pyasn1-modules>=0.2.1\n",
      "  Downloading pyasn1_modules-0.3.0-py2.py3-none-any.whl (181 kB)\n",
      "\u001b[K     |████████████████████████████████| 181 kB 10.7 MB/s eta 0:00:01\n",
      "\u001b[?25hCollecting cachetools<6.0,>=2.0.0\n",
      "  Downloading cachetools-5.3.1-py3-none-any.whl (9.3 kB)\n",
      "Collecting rsa<5,>=3.1.4\n",
      "  Downloading rsa-4.9-py3-none-any.whl (34 kB)\n",
      "Collecting requests-oauthlib>=0.7.0\n",
      "  Downloading requests_oauthlib-1.3.1-py2.py3-none-any.whl (23 kB)\n",
      "Collecting MarkupSafe>=2.1.1\n",
      "  Downloading MarkupSafe-2.1.3-cp38-cp38-manylinux_2_17_x86_64.manylinux2014_x86_64.whl (25 kB)\n",
      "Requirement already satisfied: idna<4,>=2.5; python_version >= \"3\" in /usr/local/lib/python3.8/dist-packages (from requests<3,>=2.21.0->tensorboard<2.13,>=2.12->tensorflow) (3.2)\n",
      "Requirement already satisfied: charset-normalizer~=2.0.0; python_version >= \"3\" in /usr/local/lib/python3.8/dist-packages (from requests<3,>=2.21.0->tensorboard<2.13,>=2.12->tensorflow) (2.0.4)\n",
      "Requirement already satisfied: certifi>=2017.4.17 in /usr/local/lib/python3.8/dist-packages (from requests<3,>=2.21.0->tensorboard<2.13,>=2.12->tensorflow) (2021.5.30)\n",
      "Collecting zipp>=0.5\n",
      "  Downloading zipp-3.15.0-py3-none-any.whl (6.8 kB)\n",
      "Collecting pyasn1<0.6.0,>=0.4.6\n",
      "  Downloading pyasn1-0.5.0-py2.py3-none-any.whl (83 kB)\n",
      "\u001b[K     |████████████████████████████████| 83 kB 2.8 MB/s eta 0:00:011\n",
      "\u001b[?25hCollecting oauthlib>=3.0.0\n",
      "  Downloading oauthlib-3.2.2-py3-none-any.whl (151 kB)\n",
      "\u001b[K     |████████████████████████████████| 151 kB 9.3 MB/s eta 0:00:01\n",
      "\u001b[?25hBuilding wheels for collected packages: jax\n",
      "  Building wheel for jax (PEP 517) ... \u001b[?25ldone\n",
      "\u001b[?25h  Created wheel for jax: filename=jax-0.4.11-py3-none-any.whl size=1487877 sha256=51408061165cff7425e35a2be71eb6d83da82ef4b73e5d78115ab408fd0974a2\n",
      "  Stored in directory: /root/.cache/pip/wheels/65/e8/48/e882a3b1894ac6faa056112773675b7fee52390b219207334f\n",
      "Successfully built jax\n",
      "\u001b[31mERROR: scipy 1.7.1 has requirement numpy<1.23.0,>=1.16.5, but you'll have numpy 1.23.5 which is incompatible.\u001b[0m\n",
      "Installing collected packages: tensorflow-estimator, astunparse, keras, pyasn1, pyasn1-modules, cachetools, rsa, google-auth, oauthlib, requests-oauthlib, google-auth-oauthlib, protobuf, MarkupSafe, werkzeug, numpy, grpcio, zipp, importlib-metadata, markdown, absl-py, tensorboard-data-server, tensorboard, gast, tensorflow-io-gcs-filesystem, opt-einsum, termcolor, ml-dtypes, jax, google-pasta, wrapt, flatbuffers, h5py, libclang, typing-extensions, tensorflow\n",
      "  Attempting uninstall: MarkupSafe\n",
      "    Found existing installation: MarkupSafe 2.0.1\n",
      "    Uninstalling MarkupSafe-2.0.1:\n",
      "      Successfully uninstalled MarkupSafe-2.0.1\n",
      "  Attempting uninstall: numpy\n",
      "    Found existing installation: numpy 1.21.2\n",
      "    Uninstalling numpy-1.21.2:\n",
      "      Successfully uninstalled numpy-1.21.2\n",
      "Successfully installed MarkupSafe-2.1.3 absl-py-1.4.0 astunparse-1.6.3 cachetools-5.3.1 flatbuffers-23.5.26 gast-0.4.0 google-auth-2.19.1 google-auth-oauthlib-1.0.0 google-pasta-0.2.0 grpcio-1.54.2 h5py-3.8.0 importlib-metadata-6.6.0 jax-0.4.11 keras-2.12.0 libclang-16.0.0 markdown-3.4.3 ml-dtypes-0.1.0 numpy-1.23.5 oauthlib-3.2.2 opt-einsum-3.3.0 protobuf-4.23.2 pyasn1-0.5.0 pyasn1-modules-0.3.0 requests-oauthlib-1.3.1 rsa-4.9 tensorboard-2.12.3 tensorboard-data-server-0.7.0 tensorflow-2.12.0 tensorflow-estimator-2.12.0 tensorflow-io-gcs-filesystem-0.32.0 termcolor-2.3.0 typing-extensions-4.6.3 werkzeug-2.3.4 wrapt-1.14.1 zipp-3.15.0\n"
     ]
    },
    {
     "name": "stdout",
     "output_type": "stream",
     "text": [
      "  Attempting uninstall: MarkupSafe\n",
      "    Found existing installation: MarkupSafe 2.0.1\n",
      "    Uninstalling MarkupSafe-2.0.1:\n",
      "      Successfully uninstalled MarkupSafe-2.0.1\n",
      "  Attempting uninstall: numpy\n",
      "    Found existing installation: numpy 1.21.2\n",
      "    Uninstalling numpy-1.21.2:\n",
      "      Successfully uninstalled numpy-1.21.2\n",
      "Successfully installed MarkupSafe-2.1.3 absl-py-1.4.0 astunparse-1.6.3 cachetools-5.3.1 flatbuffers-23.5.26 gast-0.4.0 google-auth-2.19.1 google-auth-oauthlib-1.0.0 google-pasta-0.2.0 grpcio-1.54.2 h5py-3.8.0 importlib-metadata-6.6.0 jax-0.4.11 keras-2.12.0 libclang-16.0.0 markdown-3.4.3 ml-dtypes-0.1.0 numpy-1.23.5 oauthlib-3.2.2 opt-einsum-3.3.0 protobuf-4.23.2 pyasn1-0.5.0 pyasn1-modules-0.3.0 requests-oauthlib-1.3.1 rsa-4.9 tensorboard-2.12.3 tensorboard-data-server-0.7.0 tensorflow-2.12.0 tensorflow-estimator-2.12.0 tensorflow-io-gcs-filesystem-0.32.0 termcolor-2.3.0 typing-extensions-4.6.3 werkzeug-2.3.4 wrapt-1.14.1 zipp-3.15.0\n"
     ]
    }
   ],
   "source": [
    "!pip3 install tensorflow"
   ]
  },
  {
   "cell_type": "code",
   "execution_count": 62,
   "id": "004fd9db",
   "metadata": {},
   "outputs": [
    {
     "name": "stdout",
     "output_type": "stream",
     "text": [
      "Collecting numpy\n",
      "  Downloading numpy-1.24.3-cp38-cp38-manylinux_2_17_x86_64.manylinux2014_x86_64.whl (17.3 MB)\n",
      "\u001b[K     |████████████████████████████████| 17.3 MB 6.5 MB/s eta 0:00:01\n",
      "\u001b[31mERROR: tensorflow 2.12.0 has requirement numpy<1.24,>=1.22, but you'll have numpy 1.24.3 which is incompatible.\u001b[0m\n",
      "\u001b[31mERROR: scipy 1.7.1 has requirement numpy<1.23.0,>=1.16.5, but you'll have numpy 1.24.3 which is incompatible.\u001b[0m\n",
      "\u001b[?25hInstalling collected packages: numpy\n",
      "  Attempting uninstall: numpy\n",
      "    Found existing installation: numpy 1.23.5\n",
      "    Uninstalling numpy-1.23.5:\n",
      "      Successfully uninstalled numpy-1.23.5\n",
      "Successfully installed numpy-1.24.3\n"
     ]
    }
   ],
   "source": [
    "!pip install numpy --upgrade"
   ]
  },
  {
   "cell_type": "code",
   "execution_count": 1,
   "id": "85be9249",
   "metadata": {},
   "outputs": [
    {
     "name": "stderr",
     "output_type": "stream",
     "text": [
      "2023-06-03 19:36:08.189624: I tensorflow/tsl/cuda/cudart_stub.cc:28] Could not find cuda drivers on your machine, GPU will not be used.\n",
      "2023-06-03 19:36:08.250483: I tensorflow/tsl/cuda/cudart_stub.cc:28] Could not find cuda drivers on your machine, GPU will not be used.\n",
      "2023-06-03 19:36:08.251500: I tensorflow/core/platform/cpu_feature_guard.cc:182] This TensorFlow binary is optimized to use available CPU instructions in performance-critical operations.\n",
      "To enable the following instructions: AVX2 FMA, in other operations, rebuild TensorFlow with the appropriate compiler flags.\n",
      "2023-06-03 19:36:10.211135: W tensorflow/compiler/tf2tensorrt/utils/py_utils.cc:38] TF-TRT Warning: Could not find TensorRT\n",
      "/usr/local/lib/python3.8/dist-packages/scipy/__init__.py:146: UserWarning: A NumPy version >=1.16.5 and <1.23.0 is required for this version of SciPy (detected version 1.24.3\n",
      "  warnings.warn(f\"A NumPy version >={np_minversion} and <{np_maxversion}\"\n"
     ]
    }
   ],
   "source": [
    "import tensorflow as tf\n",
    "from tensorflow import keras\n",
    "from tensorflow.keras.layers import Input, Dense, Conv1D, MaxPooling1D, Dropout, Flatten\n",
    "from tensorflow.keras.models import Sequential\n",
    "from tensorflow.keras.utils import to_categorical\n",
    "\n",
    "from tensorflow.keras.callbacks import EarlyStopping, ModelCheckpoint, TensorBoard\n",
    "\n",
    "from tqdm import tqdm\n",
    "from numpy.random import seed\n",
    "from time import time\n"
   ]
  },
  {
   "cell_type": "code",
   "execution_count": null,
   "id": "bcf60a69",
   "metadata": {},
   "outputs": [],
   "source": [
    "results_type = train_ml_model(df=df_coded, gdf=gdf, target='forest_type')"
   ]
  },
  {
   "cell_type": "markdown",
   "id": "7999faff",
   "metadata": {},
   "source": [
    "### 3.4 Классифакия -  Coniferous"
   ]
  },
  {
   "cell_type": "code",
   "execution_count": 130,
   "id": "958374d0",
   "metadata": {},
   "outputs": [
    {
     "data": {
      "text/plain": [
       "0.7531318817909575"
      ]
     },
     "execution_count": 130,
     "metadata": {},
     "output_type": "execute_result"
    }
   ],
   "source": [
    "some_model = base_classfiers[-1]\n",
    "y_predict = some_model.predict(X_test)\n",
    "\n",
    "accuracy_score = metrics.accuracy_score(y_test, y_predict)\n",
    "\n",
    "metrics.f1_score(y_predict, y_test, average='weighted')"
   ]
  },
  {
   "cell_type": "code",
   "execution_count": 133,
   "id": "22198583",
   "metadata": {},
   "outputs": [],
   "source": [
    "df_i = pd.DataFrame(metrics.classification_report(y_test, y_predict, digits=2, output_dict=True)).T\n",
    "df_i['model'] = some_model.__class__.__name__"
   ]
  },
  {
   "cell_type": "code",
   "execution_count": 134,
   "id": "0bc22b9b",
   "metadata": {},
   "outputs": [
    {
     "data": {
      "text/html": [
       "<div>\n",
       "<style scoped>\n",
       "    .dataframe tbody tr th:only-of-type {\n",
       "        vertical-align: middle;\n",
       "    }\n",
       "\n",
       "    .dataframe tbody tr th {\n",
       "        vertical-align: top;\n",
       "    }\n",
       "\n",
       "    .dataframe thead th {\n",
       "        text-align: right;\n",
       "    }\n",
       "</style>\n",
       "<table border=\"1\" class=\"dataframe\">\n",
       "  <thead>\n",
       "    <tr style=\"text-align: right;\">\n",
       "      <th></th>\n",
       "      <th>precision</th>\n",
       "      <th>recall</th>\n",
       "      <th>f1-score</th>\n",
       "      <th>support</th>\n",
       "      <th>model</th>\n",
       "    </tr>\n",
       "  </thead>\n",
       "  <tbody>\n",
       "    <tr>\n",
       "      <th>0</th>\n",
       "      <td>0.743787</td>\n",
       "      <td>0.751515</td>\n",
       "      <td>0.747631</td>\n",
       "      <td>1155.000000</td>\n",
       "      <td>GradientBoostingClassifier</td>\n",
       "    </tr>\n",
       "    <tr>\n",
       "      <th>1</th>\n",
       "      <td>0.762220</td>\n",
       "      <td>0.754717</td>\n",
       "      <td>0.758450</td>\n",
       "      <td>1219.000000</td>\n",
       "      <td>GradientBoostingClassifier</td>\n",
       "    </tr>\n",
       "    <tr>\n",
       "      <th>accuracy</th>\n",
       "      <td>0.753159</td>\n",
       "      <td>0.753159</td>\n",
       "      <td>0.753159</td>\n",
       "      <td>0.753159</td>\n",
       "      <td>GradientBoostingClassifier</td>\n",
       "    </tr>\n",
       "    <tr>\n",
       "      <th>macro avg</th>\n",
       "      <td>0.753004</td>\n",
       "      <td>0.753116</td>\n",
       "      <td>0.753041</td>\n",
       "      <td>2374.000000</td>\n",
       "      <td>GradientBoostingClassifier</td>\n",
       "    </tr>\n",
       "    <tr>\n",
       "      <th>weighted avg</th>\n",
       "      <td>0.753252</td>\n",
       "      <td>0.753159</td>\n",
       "      <td>0.753187</td>\n",
       "      <td>2374.000000</td>\n",
       "      <td>GradientBoostingClassifier</td>\n",
       "    </tr>\n",
       "  </tbody>\n",
       "</table>\n",
       "</div>"
      ],
      "text/plain": [
       "              precision    recall  f1-score      support  \\\n",
       "0              0.743787  0.751515  0.747631  1155.000000   \n",
       "1              0.762220  0.754717  0.758450  1219.000000   \n",
       "accuracy       0.753159  0.753159  0.753159     0.753159   \n",
       "macro avg      0.753004  0.753116  0.753041  2374.000000   \n",
       "weighted avg   0.753252  0.753159  0.753187  2374.000000   \n",
       "\n",
       "                                   model  \n",
       "0             GradientBoostingClassifier  \n",
       "1             GradientBoostingClassifier  \n",
       "accuracy      GradientBoostingClassifier  \n",
       "macro avg     GradientBoostingClassifier  \n",
       "weighted avg  GradientBoostingClassifier  "
      ]
     },
     "execution_count": 134,
     "metadata": {},
     "output_type": "execute_result"
    }
   ],
   "source": [
    "\n",
    "\n",
    "forest_type = {\"Deciduous\":0, \"Coniferous\":1}df_i.index\n",
    "\n",
    "df_i.index = pd.Series(df_i.index).apply(lambda x: decodeClassesLevel1(x))"
   ]
  },
  {
   "cell_type": "code",
   "execution_count": null,
   "id": "c33bfc8c",
   "metadata": {},
   "outputs": [],
   "source": [
    "df = input_df.copy()\n",
    "df[dataset.terrain_cols]= df[dataset.terrain_cols].astype(float)\n",
    "df.iloc[:, :-3] = StandardScaler().fit_transform(df.iloc[:, :-3])\n",
    "\n",
    "# Resampling - to balance classes\n",
    "# df = resample_forest(df)\n",
    "only_forest = True\n",
    "if only_forest:\n",
    "    forest_gdf = gdf.loc[gdf['t_Class']<8]\n",
    "else:\n",
    "    forest_gdf = gdf.loc[gdf['t_Class']<30]\n",
    "\n",
    "bunary_test = True\n",
    "if bunary_test:\n",
    "    forest_gdf = gdf.loc[gdf['t_Class'].isin([1,5])]\n",
    "X_train, X_test, y_train, y_test = train_test_split(forest_gdf,\n",
    "                                                    forest_gdf['class_name'],\n",
    "                                                    test_size=0.3)\n",
    "\n",
    "train = df.loc[df['key'].isin(X_train['key'])]\n",
    "test = df.loc[df['key'].isin(X_test['key'])]\n",
    "X_train = train.drop(columns=['key','class']).astype('float')\n",
    "X_test = test.drop(columns=['key','class']).astype('float')\n",
    "y_train = train['class'].astype(int)\n",
    "y_test = test['class'].astype(int)\n",
    "\n",
    "# class weights\n",
    "class_weights_vals = compute_class_weight(class_weight = \"balanced\", \n",
    "                                          classes= np.unique(y_train),\n",
    "                                          y= y_train)\n",
    "class_weights = {x:y for x,y in zip(np.unique(y_train), \n",
    "                                    class_weights_vals)}\n",
    "\n",
    "# models\n",
    "n_jobs = 8\n",
    "name_classfiers = ['KNeighborsClassifier',\n",
    "                   'DecisionTreeClassifier',\n",
    "                   'RandomForest',\n",
    "                   'ExtraTreesClassifier',\n",
    "#                    'RidgeClassifier',\n",
    "                   'LogisticRegression',\n",
    "                   'SVC',\n",
    "                   'GradientBoostingClassifier'\n",
    "                   ]\n",
    "base_classfiers = get_models(class_weights=class_weights)\n",
    "for i in range(len(base_classfiers)):\n",
    "    base_classfiers[i].fit(X_train, y_train)\n",
    "    print('Done: '+name_classfiers[i])\n",
    "\n",
    "# df_score_group, df_score_class_dict = get_metric(base_classfiers=base_classfiers,\n",
    "#                                                  y_test=y_test, \n",
    "#                                                 X_test=X_test)\n"
   ]
  },
  {
   "cell_type": "code",
   "execution_count": 93,
   "id": "a0d0b719",
   "metadata": {},
   "outputs": [],
   "source": [
    "some_model = base_classfiers[-1]"
   ]
  },
  {
   "cell_type": "code",
   "execution_count": 85,
   "id": "af40eb8d",
   "metadata": {},
   "outputs": [],
   "source": [
    "some_model = base_classfiers[-1]\n",
    "y_predict = some_model.predict(X_test)\n",
    "\n",
    "accuracy_score = metrics.accuracy_score(y_test, y_predict)\n",
    "\n",
    "metrics.f1_score(y_predict, y_test, average='weighted')"
   ]
  },
  {
   "cell_type": "code",
   "execution_count": 98,
   "id": "3f9bd433",
   "metadata": {},
   "outputs": [],
   "source": [
    "accuracy_score = metrics.accuracy_score(y_test, y_predict, )"
   ]
  },
  {
   "cell_type": "code",
   "execution_count": 107,
   "id": "64be174b",
   "metadata": {},
   "outputs": [
    {
     "data": {
      "text/plain": [
       "0.6161113621583282"
      ]
     },
     "execution_count": 107,
     "metadata": {},
     "output_type": "execute_result"
    }
   ],
   "source": [
    "metrics.f1_score(y_predict, y_test, average='weighted')"
   ]
  },
  {
   "cell_type": "code",
   "execution_count": 100,
   "id": "55931ce4",
   "metadata": {},
   "outputs": [
    {
     "data": {
      "text/plain": [
       "0.6110678098207326"
      ]
     },
     "execution_count": 100,
     "metadata": {},
     "output_type": "execute_result"
    }
   ],
   "source": [
    "accuracy_score"
   ]
  },
  {
   "cell_type": "code",
   "execution_count": 136,
   "id": "9ea05697",
   "metadata": {},
   "outputs": [
    {
     "ename": "KeyError",
     "evalue": "0",
     "output_type": "error",
     "traceback": [
      "\u001b[0;31m---------------------------------------------------------------------------\u001b[0m",
      "\u001b[0;31mKeyError\u001b[0m                                  Traceback (most recent call last)",
      "\u001b[0;32m/tmp/ipykernel_11/3414699906.py\u001b[0m in \u001b[0;36m<module>\u001b[0;34m\u001b[0m\n\u001b[1;32m      2\u001b[0m \u001b[0mdf_i\u001b[0m\u001b[0;34m[\u001b[0m\u001b[0;34m'model'\u001b[0m\u001b[0;34m]\u001b[0m \u001b[0;34m=\u001b[0m \u001b[0msome_model\u001b[0m\u001b[0;34m.\u001b[0m\u001b[0m__class__\u001b[0m\u001b[0;34m.\u001b[0m\u001b[0m__name__\u001b[0m\u001b[0;34m\u001b[0m\u001b[0;34m\u001b[0m\u001b[0m\n\u001b[1;32m      3\u001b[0m \u001b[0;34m\u001b[0m\u001b[0m\n\u001b[0;32m----> 4\u001b[0;31m \u001b[0mdf_i\u001b[0m\u001b[0;34m.\u001b[0m\u001b[0mindex\u001b[0m \u001b[0;34m=\u001b[0m \u001b[0mpd\u001b[0m\u001b[0;34m.\u001b[0m\u001b[0mSeries\u001b[0m\u001b[0;34m(\u001b[0m\u001b[0mdf_i\u001b[0m\u001b[0;34m.\u001b[0m\u001b[0mindex\u001b[0m\u001b[0;34m)\u001b[0m\u001b[0;34m.\u001b[0m\u001b[0mapply\u001b[0m\u001b[0;34m(\u001b[0m\u001b[0;32mlambda\u001b[0m \u001b[0mx\u001b[0m\u001b[0;34m:\u001b[0m \u001b[0mdecodeClassesLevel1\u001b[0m\u001b[0;34m(\u001b[0m\u001b[0mx\u001b[0m\u001b[0;34m)\u001b[0m\u001b[0;34m)\u001b[0m\u001b[0;34m\u001b[0m\u001b[0;34m\u001b[0m\u001b[0m\n\u001b[0m",
      "\u001b[0;32m/usr/local/lib/python3.8/dist-packages/pandas/core/series.py\u001b[0m in \u001b[0;36mapply\u001b[0;34m(self, func, convert_dtype, args, **kwargs)\u001b[0m\n\u001b[1;32m   4355\u001b[0m         \u001b[0mdtype\u001b[0m\u001b[0;34m:\u001b[0m \u001b[0mfloat64\u001b[0m\u001b[0;34m\u001b[0m\u001b[0;34m\u001b[0m\u001b[0m\n\u001b[1;32m   4356\u001b[0m         \"\"\"\n\u001b[0;32m-> 4357\u001b[0;31m         \u001b[0;32mreturn\u001b[0m \u001b[0mSeriesApply\u001b[0m\u001b[0;34m(\u001b[0m\u001b[0mself\u001b[0m\u001b[0;34m,\u001b[0m \u001b[0mfunc\u001b[0m\u001b[0;34m,\u001b[0m \u001b[0mconvert_dtype\u001b[0m\u001b[0;34m,\u001b[0m \u001b[0margs\u001b[0m\u001b[0;34m,\u001b[0m \u001b[0mkwargs\u001b[0m\u001b[0;34m)\u001b[0m\u001b[0;34m.\u001b[0m\u001b[0mapply\u001b[0m\u001b[0;34m(\u001b[0m\u001b[0;34m)\u001b[0m\u001b[0;34m\u001b[0m\u001b[0;34m\u001b[0m\u001b[0m\n\u001b[0m\u001b[1;32m   4358\u001b[0m \u001b[0;34m\u001b[0m\u001b[0m\n\u001b[1;32m   4359\u001b[0m     def _reduce(\n",
      "\u001b[0;32m/usr/local/lib/python3.8/dist-packages/pandas/core/apply.py\u001b[0m in \u001b[0;36mapply\u001b[0;34m(self)\u001b[0m\n\u001b[1;32m   1041\u001b[0m             \u001b[0;32mreturn\u001b[0m \u001b[0mself\u001b[0m\u001b[0;34m.\u001b[0m\u001b[0mapply_str\u001b[0m\u001b[0;34m(\u001b[0m\u001b[0;34m)\u001b[0m\u001b[0;34m\u001b[0m\u001b[0;34m\u001b[0m\u001b[0m\n\u001b[1;32m   1042\u001b[0m \u001b[0;34m\u001b[0m\u001b[0m\n\u001b[0;32m-> 1043\u001b[0;31m         \u001b[0;32mreturn\u001b[0m \u001b[0mself\u001b[0m\u001b[0;34m.\u001b[0m\u001b[0mapply_standard\u001b[0m\u001b[0;34m(\u001b[0m\u001b[0;34m)\u001b[0m\u001b[0;34m\u001b[0m\u001b[0;34m\u001b[0m\u001b[0m\n\u001b[0m\u001b[1;32m   1044\u001b[0m \u001b[0;34m\u001b[0m\u001b[0m\n\u001b[1;32m   1045\u001b[0m     \u001b[0;32mdef\u001b[0m \u001b[0magg\u001b[0m\u001b[0;34m(\u001b[0m\u001b[0mself\u001b[0m\u001b[0;34m)\u001b[0m\u001b[0;34m:\u001b[0m\u001b[0;34m\u001b[0m\u001b[0;34m\u001b[0m\u001b[0m\n",
      "\u001b[0;32m/usr/local/lib/python3.8/dist-packages/pandas/core/apply.py\u001b[0m in \u001b[0;36mapply_standard\u001b[0;34m(self)\u001b[0m\n\u001b[1;32m   1097\u001b[0m                 \u001b[0;31m# List[Union[Callable[..., Any], str]]]]]\"; expected\u001b[0m\u001b[0;34m\u001b[0m\u001b[0;34m\u001b[0m\u001b[0;34m\u001b[0m\u001b[0m\n\u001b[1;32m   1098\u001b[0m                 \u001b[0;31m# \"Callable[[Any], Any]\"\u001b[0m\u001b[0;34m\u001b[0m\u001b[0;34m\u001b[0m\u001b[0;34m\u001b[0m\u001b[0m\n\u001b[0;32m-> 1099\u001b[0;31m                 mapped = lib.map_infer(\n\u001b[0m\u001b[1;32m   1100\u001b[0m                     \u001b[0mvalues\u001b[0m\u001b[0;34m,\u001b[0m\u001b[0;34m\u001b[0m\u001b[0;34m\u001b[0m\u001b[0m\n\u001b[1;32m   1101\u001b[0m                     \u001b[0mf\u001b[0m\u001b[0;34m,\u001b[0m  \u001b[0;31m# type: ignore[arg-type]\u001b[0m\u001b[0;34m\u001b[0m\u001b[0;34m\u001b[0m\u001b[0m\n",
      "\u001b[0;32m/usr/local/lib/python3.8/dist-packages/pandas/_libs/lib.pyx\u001b[0m in \u001b[0;36mpandas._libs.lib.map_infer\u001b[0;34m()\u001b[0m\n",
      "\u001b[0;32m/tmp/ipykernel_11/3414699906.py\u001b[0m in \u001b[0;36m<lambda>\u001b[0;34m(x)\u001b[0m\n\u001b[1;32m      2\u001b[0m \u001b[0mdf_i\u001b[0m\u001b[0;34m[\u001b[0m\u001b[0;34m'model'\u001b[0m\u001b[0;34m]\u001b[0m \u001b[0;34m=\u001b[0m \u001b[0msome_model\u001b[0m\u001b[0;34m.\u001b[0m\u001b[0m__class__\u001b[0m\u001b[0;34m.\u001b[0m\u001b[0m__name__\u001b[0m\u001b[0;34m\u001b[0m\u001b[0;34m\u001b[0m\u001b[0m\n\u001b[1;32m      3\u001b[0m \u001b[0;34m\u001b[0m\u001b[0m\n\u001b[0;32m----> 4\u001b[0;31m \u001b[0mdf_i\u001b[0m\u001b[0;34m.\u001b[0m\u001b[0mindex\u001b[0m \u001b[0;34m=\u001b[0m \u001b[0mpd\u001b[0m\u001b[0;34m.\u001b[0m\u001b[0mSeries\u001b[0m\u001b[0;34m(\u001b[0m\u001b[0mdf_i\u001b[0m\u001b[0;34m.\u001b[0m\u001b[0mindex\u001b[0m\u001b[0;34m)\u001b[0m\u001b[0;34m.\u001b[0m\u001b[0mapply\u001b[0m\u001b[0;34m(\u001b[0m\u001b[0;32mlambda\u001b[0m \u001b[0mx\u001b[0m\u001b[0;34m:\u001b[0m \u001b[0mdecodeClassesLevel1\u001b[0m\u001b[0;34m(\u001b[0m\u001b[0mx\u001b[0m\u001b[0;34m)\u001b[0m\u001b[0;34m)\u001b[0m\u001b[0;34m\u001b[0m\u001b[0;34m\u001b[0m\u001b[0m\n\u001b[0m",
      "\u001b[0;32m/home/notebooks/utils.py\u001b[0m in \u001b[0;36mdecodeClassesLevel1\u001b[0;34m(x)\u001b[0m\n\u001b[1;32m    467\u001b[0m         \u001b[0;32mfor\u001b[0m \u001b[0mkey\u001b[0m\u001b[0;34m,\u001b[0m \u001b[0mvalue\u001b[0m \u001b[0;32min\u001b[0m \u001b[0mdict_names\u001b[0m\u001b[0;34m.\u001b[0m\u001b[0mitems\u001b[0m\u001b[0;34m(\u001b[0m\u001b[0;34m)\u001b[0m\u001b[0;34m:\u001b[0m\u001b[0;34m\u001b[0m\u001b[0;34m\u001b[0m\u001b[0m\n\u001b[1;32m    468\u001b[0m             \u001b[0mreverse\u001b[0m\u001b[0;34m[\u001b[0m\u001b[0mvalue\u001b[0m\u001b[0;34m]\u001b[0m \u001b[0;34m=\u001b[0m \u001b[0mkey\u001b[0m\u001b[0;34m\u001b[0m\u001b[0;34m\u001b[0m\u001b[0m\n\u001b[0;32m--> 469\u001b[0;31m         \u001b[0;32mreturn\u001b[0m \u001b[0mdict_normal_names\u001b[0m\u001b[0;34m[\u001b[0m\u001b[0mint\u001b[0m\u001b[0;34m(\u001b[0m\u001b[0mx\u001b[0m\u001b[0;34m)\u001b[0m\u001b[0;34m]\u001b[0m\u001b[0;34m\u001b[0m\u001b[0;34m\u001b[0m\u001b[0m\n\u001b[0m\u001b[1;32m    470\u001b[0m     \u001b[0;32melse\u001b[0m\u001b[0;34m:\u001b[0m\u001b[0;34m\u001b[0m\u001b[0;34m\u001b[0m\u001b[0m\n\u001b[1;32m    471\u001b[0m         \u001b[0;32mreturn\u001b[0m \u001b[0mx\u001b[0m\u001b[0;34m\u001b[0m\u001b[0;34m\u001b[0m\u001b[0m\n",
      "\u001b[0;31mKeyError\u001b[0m: 0"
     ]
    }
   ],
   "source": [
    "df_i = pd.DataFrame(metrics.classification_report(y_test, y_predict, digits=2, output_dict=True)).T\n",
    "df_i['model'] = some_model.__class__.__name__\n",
    "\n",
    "df_i.index = pd.Series(df_i.index).apply(lambda x: decodeClassesLevel1(x))"
   ]
  },
  {
   "cell_type": "code",
   "execution_count": 137,
   "id": "b772c2d3",
   "metadata": {},
   "outputs": [
    {
     "data": {
      "text/html": [
       "<div>\n",
       "<style scoped>\n",
       "    .dataframe tbody tr th:only-of-type {\n",
       "        vertical-align: middle;\n",
       "    }\n",
       "\n",
       "    .dataframe tbody tr th {\n",
       "        vertical-align: top;\n",
       "    }\n",
       "\n",
       "    .dataframe thead th {\n",
       "        text-align: right;\n",
       "    }\n",
       "</style>\n",
       "<table border=\"1\" class=\"dataframe\">\n",
       "  <thead>\n",
       "    <tr style=\"text-align: right;\">\n",
       "      <th></th>\n",
       "      <th>precision</th>\n",
       "      <th>recall</th>\n",
       "      <th>f1-score</th>\n",
       "      <th>support</th>\n",
       "      <th>model</th>\n",
       "    </tr>\n",
       "  </thead>\n",
       "  <tbody>\n",
       "    <tr>\n",
       "      <th>0</th>\n",
       "      <td>0.743787</td>\n",
       "      <td>0.751515</td>\n",
       "      <td>0.747631</td>\n",
       "      <td>1155.000000</td>\n",
       "      <td>GradientBoostingClassifier</td>\n",
       "    </tr>\n",
       "    <tr>\n",
       "      <th>1</th>\n",
       "      <td>0.762220</td>\n",
       "      <td>0.754717</td>\n",
       "      <td>0.758450</td>\n",
       "      <td>1219.000000</td>\n",
       "      <td>GradientBoostingClassifier</td>\n",
       "    </tr>\n",
       "    <tr>\n",
       "      <th>accuracy</th>\n",
       "      <td>0.753159</td>\n",
       "      <td>0.753159</td>\n",
       "      <td>0.753159</td>\n",
       "      <td>0.753159</td>\n",
       "      <td>GradientBoostingClassifier</td>\n",
       "    </tr>\n",
       "    <tr>\n",
       "      <th>macro avg</th>\n",
       "      <td>0.753004</td>\n",
       "      <td>0.753116</td>\n",
       "      <td>0.753041</td>\n",
       "      <td>2374.000000</td>\n",
       "      <td>GradientBoostingClassifier</td>\n",
       "    </tr>\n",
       "    <tr>\n",
       "      <th>weighted avg</th>\n",
       "      <td>0.753252</td>\n",
       "      <td>0.753159</td>\n",
       "      <td>0.753187</td>\n",
       "      <td>2374.000000</td>\n",
       "      <td>GradientBoostingClassifier</td>\n",
       "    </tr>\n",
       "  </tbody>\n",
       "</table>\n",
       "</div>"
      ],
      "text/plain": [
       "              precision    recall  f1-score      support  \\\n",
       "0              0.743787  0.751515  0.747631  1155.000000   \n",
       "1              0.762220  0.754717  0.758450  1219.000000   \n",
       "accuracy       0.753159  0.753159  0.753159     0.753159   \n",
       "macro avg      0.753004  0.753116  0.753041  2374.000000   \n",
       "weighted avg   0.753252  0.753159  0.753187  2374.000000   \n",
       "\n",
       "                                   model  \n",
       "0             GradientBoostingClassifier  \n",
       "1             GradientBoostingClassifier  \n",
       "accuracy      GradientBoostingClassifier  \n",
       "macro avg     GradientBoostingClassifier  \n",
       "weighted avg  GradientBoostingClassifier  "
      ]
     },
     "execution_count": 137,
     "metadata": {},
     "output_type": "execute_result"
    }
   ],
   "source": [
    "df_i"
   ]
  },
  {
   "cell_type": "code",
   "execution_count": null,
   "id": "90182009",
   "metadata": {},
   "outputs": [],
   "source": [
    "def get_metric(base_classfiers: list, y_test: np.ndarray, X_test: np.ndarray):\n",
    "    score_classfiers_accuracy_score = []\n",
    "    score_classfiers_roc_auc_score = []\n",
    "    score_classfiers_f1_score = []\n",
    "    df_score_class_dict = {}\n",
    "    df_score_class_list = []\n",
    "\n",
    "    name_classifiers = [\n",
    "        \"KNeighborsClassifier\",\n",
    "        \"DecisionTreeClassifier\",\n",
    "        \"RandomForest\",\n",
    "        \"ExtraTreesClassifier\",\n",
    "        \"RidgeClassifier\",\n",
    "        \"LogisticRegression\",\n",
    "        \"SVC\",\n",
    "        \"GradientBoostingClassifier\",\n",
    "    ]\n",
    "    for i in range(len(base_classfiers)):\n",
    "        y_predict = base_classfiers[i].predict(X_test)\n",
    "        score_classfiers_accuracy_score.append(accuracy_score(y_test, y_predict))\n",
    "        if name_classifiers[i] != \"RidgeClassifier\":\n",
    "            score_classfiers_roc_auc_score.append(\n",
    "                roc_auc_score(\n",
    "                    y_test, base_classfiers[i].predict_proba(X_test), multi_class=\"ovr\"\n",
    "                )\n",
    "            )\n",
    "#         else:\n",
    "#             ridge_predict = []\n",
    "#             for k in range(len(X_test)):\n",
    "#                 d = base_classfiers[i].decision_function(X_test)[k]\n",
    "#                 probs = np.exp(d) / np.sum(np.exp(d))\n",
    "#                 ridge_predict.append(probs)\n",
    "#             ridge_predict = np.array(ridge_predict)\n",
    "#             score_classfiers_roc_auc_score.append(\n",
    "#                 roc_auc_score(y_test, ridge_predict, multi_class=\"ovr\")\n",
    "#             )\n",
    "\n",
    "        score_classfiers_f1_score.append(\n",
    "            f1_score(y_test, y_predict, average=\"weighted\")\n",
    "        )\n",
    "        df_i = pd.DataFrame(\n",
    "            metrics.classification_report(y_test, y_predict, digits=2, output_dict=True)\n",
    "        ).transpose()\n",
    "        arrays_col = [\n",
    "            [\n",
    "                name_classifiers[i],\n",
    "                name_classifiers[i],\n",
    "                name_classifiers[i],\n",
    "                name_classifiers[i],\n",
    "            ],\n",
    "            list(df_i.columns),\n",
    "        ]\n",
    "        df_i.columns = pd.MultiIndex.from_tuples(list(zip(*arrays_col)))\n",
    "        df_score_class_list.append(df_i)\n",
    "        df_score_class_dict[name_classifiers[i]] = df_i\n",
    "\n",
    "    df_score_class = df_score_class_list[0]\n",
    "    for i in range(1, len(df_score_class_list)):\n",
    "        df_score_class = df_score_class.join(df_score_class_list[i])\n",
    "    df_score_class_index = list(df_score_class.index)\n",
    "\n",
    "    df_score_group = pd.DataFrame(\n",
    "        columns=[\"Model\", \"Accuracy score\", \"ROC AUC score\", \"f1 score\"]\n",
    "    )\n",
    "    df_score_group[\"Model\"] = name_classifiers\n",
    "    df_score_group[\"Accuracy score\"] = score_classfiers_accuracy_score\n",
    "    df_score_group[\"ROC AUC score\"] = score_classfiers_roc_auc_score\n",
    "    df_score_group[\"f1 score\"] = score_classfiers_f1_score\n",
    "\n",
    "    return df_score_group, df_score_class_dict\n"
   ]
  },
  {
   "cell_type": "code",
   "execution_count": 33,
   "id": "57503bf2",
   "metadata": {},
   "outputs": [
    {
     "name": "stderr",
     "output_type": "stream",
     "text": [
      "findfont: Font family ['sans-serif'] not found. Falling back to DejaVu Sans.\n",
      "findfont: Generic family 'sans-serif' not found because none of the following families were found: Arial, Liberation Sans, Bitstream Vera Sans, sans-serif\n",
      "findfont: Font family ['sans-serif'] not found. Falling back to DejaVu Sans.\n",
      "findfont: Generic family 'sans-serif' not found because none of the following families were found: Arial, Liberation Sans, Bitstream Vera Sans, sans-serif\n",
      "findfont: Font family ['sans-serif'] not found. Falling back to DejaVu Sans.\n",
      "findfont: Generic family 'sans-serif' not found because none of the following families were found: Arial, Liberation Sans, Bitstream Vera Sans, sans-serif\n"
     ]
    },
    {
     "data": {
      "image/png": "[encoded data removed]",
      "text/plain": [
       "<Figure size 576x396 with 1 Axes>"
      ]
     },
     "metadata": {},
     "output_type": "display_data"
    }
   ],
   "source": [
    "dict_normal_names={7: \"Pine\", \n",
    "        2:\"Fir\", \n",
    "        5:\"Aspen\",\n",
    "        3:\"Cedar\",\n",
    "        4:\"Larch\",\n",
    "        1:\"Birch\",\n",
    "        6:\"Silver fir\",\n",
    "        15:\"Burnt forest\", \n",
    "        13:'Deforestation', \n",
    "        14:'Grass',\n",
    "        12:'Soil', \n",
    "        16:'Swamp', \n",
    "        11:'Water body'}\n",
    "pixels_per_class = df.groupby('class', as_index=False).count()\n",
    "pixels_per_class['class'] = pixels_per_class['class'].apply(lambda x: dict_normal_names[x])\n",
    "sns.barplot(data=pixels_per_class, x='class', y='key')\n",
    "plt.grid()\n",
    "plt.title('Количество пикселей для каждой породы в исходном датасете')\n",
    "plt.xticks(rotation=45)\n",
    "plt.show()"
   ]
  },
  {
   "cell_type": "code",
   "execution_count": 34,
   "id": "e1b29285",
   "metadata": {},
   "outputs": [
    {
     "data": {
      "text/html": [
       "<div>\n",
       "<style scoped>\n",
       "    .dataframe tbody tr th:only-of-type {\n",
       "        vertical-align: middle;\n",
       "    }\n",
       "\n",
       "    .dataframe tbody tr th {\n",
       "        vertical-align: top;\n",
       "    }\n",
       "\n",
       "    .dataframe thead th {\n",
       "        text-align: right;\n",
       "    }\n",
       "</style>\n",
       "<table border=\"1\" class=\"dataframe\">\n",
       "  <thead>\n",
       "    <tr style=\"text-align: right;\">\n",
       "      <th></th>\n",
       "      <th>Model</th>\n",
       "      <th>Accuracy score</th>\n",
       "      <th>ROC AUC score</th>\n",
       "      <th>f1 score</th>\n",
       "    </tr>\n",
       "  </thead>\n",
       "  <tbody>\n",
       "    <tr>\n",
       "      <th>0</th>\n",
       "      <td>KNeighborsClassifier</td>\n",
       "      <td>0.467430</td>\n",
       "      <td>0.685776</td>\n",
       "      <td>0.466750</td>\n",
       "    </tr>\n",
       "    <tr>\n",
       "      <th>1</th>\n",
       "      <td>DecisionTreeClassifier</td>\n",
       "      <td>0.478873</td>\n",
       "      <td>0.656654</td>\n",
       "      <td>0.480315</td>\n",
       "    </tr>\n",
       "    <tr>\n",
       "      <th>2</th>\n",
       "      <td>RandomForest</td>\n",
       "      <td>0.576585</td>\n",
       "      <td>0.807701</td>\n",
       "      <td>0.574474</td>\n",
       "    </tr>\n",
       "    <tr>\n",
       "      <th>3</th>\n",
       "      <td>ExtraTreesClassifier</td>\n",
       "      <td>0.521127</td>\n",
       "      <td>0.794198</td>\n",
       "      <td>0.519066</td>\n",
       "    </tr>\n",
       "    <tr>\n",
       "      <th>4</th>\n",
       "      <td>LogisticRegression</td>\n",
       "      <td>0.491637</td>\n",
       "      <td>0.804411</td>\n",
       "      <td>0.486293</td>\n",
       "    </tr>\n",
       "    <tr>\n",
       "      <th>5</th>\n",
       "      <td>SVC</td>\n",
       "      <td>0.444102</td>\n",
       "      <td>0.781118</td>\n",
       "      <td>0.436285</td>\n",
       "    </tr>\n",
       "    <tr>\n",
       "      <th>6</th>\n",
       "      <td>GradientBoostingClassifier</td>\n",
       "      <td>0.546215</td>\n",
       "      <td>0.789592</td>\n",
       "      <td>0.542109</td>\n",
       "    </tr>\n",
       "  </tbody>\n",
       "</table>\n",
       "</div>"
      ],
      "text/plain": [
       "                        Model  Accuracy score  ROC AUC score  f1 score\n",
       "0        KNeighborsClassifier        0.467430       0.685776  0.466750\n",
       "1      DecisionTreeClassifier        0.478873       0.656654  0.480315\n",
       "2                RandomForest        0.576585       0.807701  0.574474\n",
       "3        ExtraTreesClassifier        0.521127       0.794198  0.519066\n",
       "4          LogisticRegression        0.491637       0.804411  0.486293\n",
       "5                         SVC        0.444102       0.781118  0.436285\n",
       "6  GradientBoostingClassifier        0.546215       0.789592  0.542109"
      ]
     },
     "execution_count": 34,
     "metadata": {},
     "output_type": "execute_result"
    }
   ],
   "source": [
    "df_score_group"
   ]
  },
  {
   "cell_type": "code",
   "execution_count": 43,
   "id": "a4489839",
   "metadata": {},
   "outputs": [
    {
     "data": {
      "text/html": [
       "<div>\n",
       "<style scoped>\n",
       "    .dataframe tbody tr th:only-of-type {\n",
       "        vertical-align: middle;\n",
       "    }\n",
       "\n",
       "    .dataframe tbody tr th {\n",
       "        vertical-align: top;\n",
       "    }\n",
       "\n",
       "    .dataframe thead tr th {\n",
       "        text-align: left;\n",
       "    }\n",
       "</style>\n",
       "<table border=\"1\" class=\"dataframe\">\n",
       "  <thead>\n",
       "    <tr>\n",
       "      <th></th>\n",
       "      <th colspan=\"4\" halign=\"left\">RandomForest</th>\n",
       "    </tr>\n",
       "    <tr>\n",
       "      <th></th>\n",
       "      <th>precision</th>\n",
       "      <th>recall</th>\n",
       "      <th>f1-score</th>\n",
       "      <th>support</th>\n",
       "    </tr>\n",
       "  </thead>\n",
       "  <tbody>\n",
       "    <tr>\n",
       "      <th>Birch</th>\n",
       "      <td>0.489726</td>\n",
       "      <td>0.509804</td>\n",
       "      <td>0.499563</td>\n",
       "      <td>561.000000</td>\n",
       "    </tr>\n",
       "    <tr>\n",
       "      <th>Aspen</th>\n",
       "      <td>0.522692</td>\n",
       "      <td>0.461964</td>\n",
       "      <td>0.490455</td>\n",
       "      <td>723.000000</td>\n",
       "    </tr>\n",
       "    <tr>\n",
       "      <th>Silver fir</th>\n",
       "      <td>0.952381</td>\n",
       "      <td>0.559441</td>\n",
       "      <td>0.704846</td>\n",
       "      <td>143.000000</td>\n",
       "    </tr>\n",
       "    <tr>\n",
       "      <th>Pine</th>\n",
       "      <td>0.632124</td>\n",
       "      <td>0.721893</td>\n",
       "      <td>0.674033</td>\n",
       "      <td>845.000000</td>\n",
       "    </tr>\n",
       "    <tr>\n",
       "      <th>accuracy</th>\n",
       "      <td>0.576585</td>\n",
       "      <td>0.576585</td>\n",
       "      <td>0.576585</td>\n",
       "      <td>0.576585</td>\n",
       "    </tr>\n",
       "    <tr>\n",
       "      <th>macro avg</th>\n",
       "      <td>0.649231</td>\n",
       "      <td>0.563276</td>\n",
       "      <td>0.592224</td>\n",
       "      <td>2272.000000</td>\n",
       "    </tr>\n",
       "    <tr>\n",
       "      <th>weighted avg</th>\n",
       "      <td>0.582297</td>\n",
       "      <td>0.576585</td>\n",
       "      <td>0.574474</td>\n",
       "      <td>2272.000000</td>\n",
       "    </tr>\n",
       "  </tbody>\n",
       "</table>\n",
       "</div>"
      ],
      "text/plain": [
       "             RandomForest                                 \n",
       "                precision    recall  f1-score      support\n",
       "Birch            0.489726  0.509804  0.499563   561.000000\n",
       "Aspen            0.522692  0.461964  0.490455   723.000000\n",
       "Silver fir       0.952381  0.559441  0.704846   143.000000\n",
       "Pine             0.632124  0.721893  0.674033   845.000000\n",
       "accuracy         0.576585  0.576585  0.576585     0.576585\n",
       "macro avg        0.649231  0.563276  0.592224  2272.000000\n",
       "weighted avg     0.582297  0.576585  0.574474  2272.000000"
      ]
     },
     "execution_count": 43,
     "metadata": {},
     "output_type": "execute_result"
    }
   ],
   "source": [
    "df_score_class_dict['RandomForest']"
   ]
  },
  {
   "cell_type": "code",
   "execution_count": 35,
   "id": "3f2b91fd",
   "metadata": {},
   "outputs": [
    {
     "data": {
      "text/html": [
       "<div>\n",
       "<style scoped>\n",
       "    .dataframe tbody tr th:only-of-type {\n",
       "        vertical-align: middle;\n",
       "    }\n",
       "\n",
       "    .dataframe tbody tr th {\n",
       "        vertical-align: top;\n",
       "    }\n",
       "\n",
       "    .dataframe thead tr th {\n",
       "        text-align: left;\n",
       "    }\n",
       "</style>\n",
       "<table border=\"1\" class=\"dataframe\">\n",
       "  <thead>\n",
       "    <tr>\n",
       "      <th></th>\n",
       "      <th colspan=\"4\" halign=\"left\">RandomForest</th>\n",
       "    </tr>\n",
       "    <tr>\n",
       "      <th></th>\n",
       "      <th>precision</th>\n",
       "      <th>recall</th>\n",
       "      <th>f1-score</th>\n",
       "      <th>support</th>\n",
       "    </tr>\n",
       "  </thead>\n",
       "  <tbody>\n",
       "    <tr>\n",
       "      <th>Birch</th>\n",
       "      <td>0.489726</td>\n",
       "      <td>0.509804</td>\n",
       "      <td>0.499563</td>\n",
       "      <td>561.000000</td>\n",
       "    </tr>\n",
       "    <tr>\n",
       "      <th>Aspen</th>\n",
       "      <td>0.522692</td>\n",
       "      <td>0.461964</td>\n",
       "      <td>0.490455</td>\n",
       "      <td>723.000000</td>\n",
       "    </tr>\n",
       "    <tr>\n",
       "      <th>Silver fir</th>\n",
       "      <td>0.952381</td>\n",
       "      <td>0.559441</td>\n",
       "      <td>0.704846</td>\n",
       "      <td>143.000000</td>\n",
       "    </tr>\n",
       "    <tr>\n",
       "      <th>Pine</th>\n",
       "      <td>0.632124</td>\n",
       "      <td>0.721893</td>\n",
       "      <td>0.674033</td>\n",
       "      <td>845.000000</td>\n",
       "    </tr>\n",
       "    <tr>\n",
       "      <th>accuracy</th>\n",
       "      <td>0.576585</td>\n",
       "      <td>0.576585</td>\n",
       "      <td>0.576585</td>\n",
       "      <td>0.576585</td>\n",
       "    </tr>\n",
       "    <tr>\n",
       "      <th>macro avg</th>\n",
       "      <td>0.649231</td>\n",
       "      <td>0.563276</td>\n",
       "      <td>0.592224</td>\n",
       "      <td>2272.000000</td>\n",
       "    </tr>\n",
       "    <tr>\n",
       "      <th>weighted avg</th>\n",
       "      <td>0.582297</td>\n",
       "      <td>0.576585</td>\n",
       "      <td>0.574474</td>\n",
       "      <td>2272.000000</td>\n",
       "    </tr>\n",
       "  </tbody>\n",
       "</table>\n",
       "</div>"
      ],
      "text/plain": [
       "             RandomForest                                 \n",
       "                precision    recall  f1-score      support\n",
       "Birch            0.489726  0.509804  0.499563   561.000000\n",
       "Aspen            0.522692  0.461964  0.490455   723.000000\n",
       "Silver fir       0.952381  0.559441  0.704846   143.000000\n",
       "Pine             0.632124  0.721893  0.674033   845.000000\n",
       "accuracy         0.576585  0.576585  0.576585     0.576585\n",
       "macro avg        0.649231  0.563276  0.592224  2272.000000\n",
       "weighted avg     0.582297  0.576585  0.574474  2272.000000"
      ]
     },
     "execution_count": 35,
     "metadata": {},
     "output_type": "execute_result"
    }
   ],
   "source": [
    "scores_model = df_score_class_dict['RandomForest']\n",
    "scores_model.index = pd.Series(scores_model.index).apply(lambda x: decodeClassesLevel1(x))\n",
    "scores_model"
   ]
  },
  {
   "cell_type": "code",
   "execution_count": 37,
   "id": "08844ee3",
   "metadata": {},
   "outputs": [
    {
     "data": {
      "text/html": [
       "<div>\n",
       "<style scoped>\n",
       "    .dataframe tbody tr th:only-of-type {\n",
       "        vertical-align: middle;\n",
       "    }\n",
       "\n",
       "    .dataframe tbody tr th {\n",
       "        vertical-align: top;\n",
       "    }\n",
       "\n",
       "    .dataframe thead tr th {\n",
       "        text-align: left;\n",
       "    }\n",
       "</style>\n",
       "<table border=\"1\" class=\"dataframe\">\n",
       "  <thead>\n",
       "    <tr>\n",
       "      <th></th>\n",
       "      <th colspan=\"4\" halign=\"left\">RandomForest</th>\n",
       "    </tr>\n",
       "    <tr>\n",
       "      <th></th>\n",
       "      <th>precision</th>\n",
       "      <th>recall</th>\n",
       "      <th>f1-score</th>\n",
       "      <th>support</th>\n",
       "    </tr>\n",
       "  </thead>\n",
       "  <tbody>\n",
       "    <tr>\n",
       "      <th>Birch</th>\n",
       "      <td>0.489726</td>\n",
       "      <td>0.509804</td>\n",
       "      <td>0.499563</td>\n",
       "      <td>561.000000</td>\n",
       "    </tr>\n",
       "    <tr>\n",
       "      <th>Aspen</th>\n",
       "      <td>0.522692</td>\n",
       "      <td>0.461964</td>\n",
       "      <td>0.490455</td>\n",
       "      <td>723.000000</td>\n",
       "    </tr>\n",
       "    <tr>\n",
       "      <th>Silver fir</th>\n",
       "      <td>0.952381</td>\n",
       "      <td>0.559441</td>\n",
       "      <td>0.704846</td>\n",
       "      <td>143.000000</td>\n",
       "    </tr>\n",
       "    <tr>\n",
       "      <th>Pine</th>\n",
       "      <td>0.632124</td>\n",
       "      <td>0.721893</td>\n",
       "      <td>0.674033</td>\n",
       "      <td>845.000000</td>\n",
       "    </tr>\n",
       "    <tr>\n",
       "      <th>accuracy</th>\n",
       "      <td>0.576585</td>\n",
       "      <td>0.576585</td>\n",
       "      <td>0.576585</td>\n",
       "      <td>0.576585</td>\n",
       "    </tr>\n",
       "    <tr>\n",
       "      <th>macro avg</th>\n",
       "      <td>0.649231</td>\n",
       "      <td>0.563276</td>\n",
       "      <td>0.592224</td>\n",
       "      <td>2272.000000</td>\n",
       "    </tr>\n",
       "    <tr>\n",
       "      <th>weighted avg</th>\n",
       "      <td>0.582297</td>\n",
       "      <td>0.576585</td>\n",
       "      <td>0.574474</td>\n",
       "      <td>2272.000000</td>\n",
       "    </tr>\n",
       "  </tbody>\n",
       "</table>\n",
       "</div>"
      ],
      "text/plain": [
       "             RandomForest                                 \n",
       "                precision    recall  f1-score      support\n",
       "Birch            0.489726  0.509804  0.499563   561.000000\n",
       "Aspen            0.522692  0.461964  0.490455   723.000000\n",
       "Silver fir       0.952381  0.559441  0.704846   143.000000\n",
       "Pine             0.632124  0.721893  0.674033   845.000000\n",
       "accuracy         0.576585  0.576585  0.576585     0.576585\n",
       "macro avg        0.649231  0.563276  0.592224  2272.000000\n",
       "weighted avg     0.582297  0.576585  0.574474  2272.000000"
      ]
     },
     "execution_count": 37,
     "metadata": {},
     "output_type": "execute_result"
    }
   ],
   "source": [
    "scores_model = df_score_class_dict['RandomForest']\n",
    "scores_model.index = pd.Series(scores_model.index).apply(lambda x: decodeClassesLevel1(x))\n",
    "scores_model"
   ]
  },
  {
   "cell_type": "code",
   "execution_count": 97,
   "id": "20e9a3f4",
   "metadata": {},
   "outputs": [
    {
     "data": {
      "image/png": "[encoded data removed]",
      "text/plain": [
       "<Figure size 576x396 with 2 Axes>"
      ]
     },
     "metadata": {},
     "output_type": "display_data"
    }
   ],
   "source": [
    "from sklearn.metrics import confusion_matrix, ConfusionMatrixDisplay\n",
    "dict_normal_names={7: \"Pine\", \n",
    "        2:\"Fir\", \n",
    "        5:\"Aspen\",\n",
    "        3:\"Cedar\",\n",
    "        4:\"Larch\",\n",
    "        1:\"Birch\",\n",
    "        6:\"Silver fir\",\n",
    "        15:\"Burnt forest\", \n",
    "        13:'Deforestation', \n",
    "        14:'Grass',\n",
    "        12:'Soil', \n",
    "        16:'Swamp', \n",
    "        11:'Water body'}\n",
    "\n",
    "clf = base_classfiers[2]\n",
    "predictions = clf.predict(X_test)\n",
    "names = [dict_normal_names[value] for value in clf.classes_]\n",
    "cm = confusion_matrix(y_test, predictions, labels=clf.classes_)\n",
    "disp = ConfusionMatrixDisplay(confusion_matrix=cm,\n",
    "                               display_labels=names)\n",
    "disp.plot()\n",
    "plt.title(name_classfiers[-6])\n",
    "plt.xticks(rotation=65)\n",
    "plt.show()"
   ]
  },
  {
   "cell_type": "markdown",
   "id": "1f2404cd",
   "metadata": {},
   "source": [
    "## 3. Кластеризация"
   ]
  },
  {
   "cell_type": "code",
   "execution_count": 67,
   "id": "518b17f3",
   "metadata": {},
   "outputs": [
    {
     "name": "stdout",
     "output_type": "stream",
     "text": [
      "[t-SNE] Computing 91 nearest neighbors...\n",
      "[t-SNE] Indexed 3783 samples in 0.001s...\n",
      "[t-SNE] Computed neighbors for 3783 samples in 0.327s...\n",
      "[t-SNE] Computed conditional probabilities for sample 1000 / 3783\n",
      "[t-SNE] Computed conditional probabilities for sample 2000 / 3783\n",
      "[t-SNE] Computed conditional probabilities for sample 3000 / 3783\n",
      "[t-SNE] Computed conditional probabilities for sample 3783 / 3783\n",
      "[t-SNE] Mean sigma: 0.043459\n",
      "[t-SNE] KL divergence after 250 iterations with early exaggeration: 62.820465\n",
      "[t-SNE] KL divergence after 1000 iterations: 0.590038\n"
     ]
    },
    {
     "data": {
      "image/png": "[encoded data removed]",
      "text/plain": [
       "<Figure size 432x288 with 1 Axes>"
      ]
     },
     "metadata": {
      "needs_background": "light"
     },
     "output_type": "display_data"
    }
   ],
   "source": [
    "from sklearn.manifold import TSNE\n",
    "tsne = TSNE(n_components=2, verbose=1, random_state=123)\n",
    "df = pd.concat([bands.iloc[:, :-2], terrain], axis=1)\n",
    "df = df.copy()\n",
    "df[['aspect','slope','wetnessindex','sink']] = df[['aspect','slope','wetnessindex','sink']].astype(float)\n",
    "\n",
    "forest = df[\"class\"] < 8\n",
    "df = df.loc[forest]\n",
    "\n",
    "X = df.iloc[:, :-2]\n",
    "z = tsne.fit_transform(X)\n",
    "\n",
    "df_plot = pd.DataFrame(data=df.iloc[:, -1].values, columns=['y'])\n",
    "# df_plot[\"y\"] = df.iloc[:, :-1]\n",
    "df_plot['y'] = df_plot['y'].apply(lambda x: dict_normal_names[x])\n",
    "df_plot[\"comp-1\"] = z[:,0]\n",
    "df_plot[\"comp-2\"] = z[:,1]\n",
    "\n",
    "sns.scatterplot(x=\"comp-1\", y=\"comp-2\", hue=df_plot.y.tolist(),\n",
    "                palette=sns.color_palette(\"hls\", 7),\n",
    "                data=df_plot).set(title=\"Forest data T-SNE projection\")\n",
    "plt.legend(loc='upper center', bbox_to_anchor=(0.5, 1.15),\n",
    "          ncol=3, fancybox=True, shadow=True)\n",
    "plt.show()"
   ]
  },
  {
   "cell_type": "markdown",
   "id": "ed2b6c41",
   "metadata": {},
   "source": [
    "# END"
   ]
  },
  {
   "cell_type": "markdown",
   "id": "c39fe6d7",
   "metadata": {},
   "source": [
    "## another exp"
   ]
  },
  {
   "cell_type": "code",
   "execution_count": 85,
   "id": "87420a39",
   "metadata": {},
   "outputs": [],
   "source": [
    "forest_gdf = gdf.loc[gdf['t_Class']<8]\n",
    "X_train, X_test, y_train, y_test = train_test_split(forest_gdf, forest_gdf['class_name'], test_size=0.3)\n",
    "\n",
    "train = df_resampled.loc[df_resampled['key'].isin(X_train['key'])]\n",
    "\n",
    "test = df_resampled.loc[df_resampled['key'].isin(X_test['key'])]\n",
    "\n",
    "\n",
    "X_train = train.drop(columns=['key','class']).astype('float')\n",
    "X_test = test.drop(columns=['key','class']).astype('float')\n",
    "y_train = train['class'].astype(int)\n",
    "y_test = test['class'].astype(int)"
   ]
  },
  {
   "cell_type": "code",
   "execution_count": 109,
   "id": "040a580d",
   "metadata": {},
   "outputs": [],
   "source": [
    "from imblearn.over_sampling import SMOTE"
   ]
  },
  {
   "cell_type": "code",
   "execution_count": 131,
   "id": "ace69907",
   "metadata": {},
   "outputs": [],
   "source": [
    "rus = SMOTE()\n",
    "X_res, y_res = rus.fit_resample(df_resampled.iloc[:, :-1], df_resampled.iloc[:, -1].astype(int))\n",
    "sub_df_resampled= pd.DataFrame(X_res, columns=df.columns[:-1])\n",
    "sub_df_resampled.loc[:, 'class'] = y_res"
   ]
  },
  {
   "cell_type": "code",
   "execution_count": 63,
   "id": "9744ed22",
   "metadata": {},
   "outputs": [
    {
     "data": {
      "text/html": [
       "<style>#sk-container-id-1 {color: black;background-color: white;}#sk-container-id-1 pre{padding: 0;}#sk-container-id-1 div.sk-toggleable {background-color: white;}#sk-container-id-1 label.sk-toggleable__label {cursor: pointer;display: block;width: 100%;margin-bottom: 0;padding: 0.3em;box-sizing: border-box;text-align: center;}#sk-container-id-1 label.sk-toggleable__label-arrow:before {content: \"▸\";float: left;margin-right: 0.25em;color: #696969;}#sk-container-id-1 label.sk-toggleable__label-arrow:hover:before {color: black;}#sk-container-id-1 div.sk-estimator:hover label.sk-toggleable__label-arrow:before {color: black;}#sk-container-id-1 div.sk-toggleable__content {max-height: 0;max-width: 0;overflow: hidden;text-align: left;background-color: #f0f8ff;}#sk-container-id-1 div.sk-toggleable__content pre {margin: 0.2em;color: black;border-radius: 0.25em;background-color: #f0f8ff;}#sk-container-id-1 input.sk-toggleable__control:checked~div.sk-toggleable__content {max-height: 200px;max-width: 100%;overflow: auto;}#sk-container-id-1 input.sk-toggleable__control:checked~label.sk-toggleable__label-arrow:before {content: \"▾\";}#sk-container-id-1 div.sk-estimator input.sk-toggleable__control:checked~label.sk-toggleable__label {background-color: #d4ebff;}#sk-container-id-1 div.sk-label input.sk-toggleable__control:checked~label.sk-toggleable__label {background-color: #d4ebff;}#sk-container-id-1 input.sk-hidden--visually {border: 0;clip: rect(1px 1px 1px 1px);clip: rect(1px, 1px, 1px, 1px);height: 1px;margin: -1px;overflow: hidden;padding: 0;position: absolute;width: 1px;}#sk-container-id-1 div.sk-estimator {font-family: monospace;background-color: #f0f8ff;border: 1px dotted black;border-radius: 0.25em;box-sizing: border-box;margin-bottom: 0.5em;}#sk-container-id-1 div.sk-estimator:hover {background-color: #d4ebff;}#sk-container-id-1 div.sk-parallel-item::after {content: \"\";width: 100%;border-bottom: 1px solid gray;flex-grow: 1;}#sk-container-id-1 div.sk-label:hover label.sk-toggleable__label {background-color: #d4ebff;}#sk-container-id-1 div.sk-serial::before {content: \"\";position: absolute;border-left: 1px solid gray;box-sizing: border-box;top: 0;bottom: 0;left: 50%;z-index: 0;}#sk-container-id-1 div.sk-serial {display: flex;flex-direction: column;align-items: center;background-color: white;padding-right: 0.2em;padding-left: 0.2em;position: relative;}#sk-container-id-1 div.sk-item {position: relative;z-index: 1;}#sk-container-id-1 div.sk-parallel {display: flex;align-items: stretch;justify-content: center;background-color: white;position: relative;}#sk-container-id-1 div.sk-item::before, #sk-container-id-1 div.sk-parallel-item::before {content: \"\";position: absolute;border-left: 1px solid gray;box-sizing: border-box;top: 0;bottom: 0;left: 50%;z-index: -1;}#sk-container-id-1 div.sk-parallel-item {display: flex;flex-direction: column;z-index: 1;position: relative;background-color: white;}#sk-container-id-1 div.sk-parallel-item:first-child::after {align-self: flex-end;width: 50%;}#sk-container-id-1 div.sk-parallel-item:last-child::after {align-self: flex-start;width: 50%;}#sk-container-id-1 div.sk-parallel-item:only-child::after {width: 0;}#sk-container-id-1 div.sk-dashed-wrapped {border: 1px dashed gray;margin: 0 0.4em 0.5em 0.4em;box-sizing: border-box;padding-bottom: 0.4em;background-color: white;}#sk-container-id-1 div.sk-label label {font-family: monospace;font-weight: bold;display: inline-block;line-height: 1.2em;}#sk-container-id-1 div.sk-label-container {text-align: center;}#sk-container-id-1 div.sk-container {/* jupyter's `normalize.less` sets `[hidden] { display: none; }` but bootstrap.min.css set `[hidden] { display: none !important; }` so we also need the `!important` here to be able to override the default hidden behavior on the sphinx rendered scikit-learn.org. See: https://github.com/scikit-learn/scikit-learn/issues/21755 */display: inline-block !important;position: relative;}#sk-container-id-1 div.sk-text-repr-fallback {display: none;}</style><div id=\"sk-container-id-1\" class=\"sk-top-container\"><div class=\"sk-text-repr-fallback\"><pre>GridSearchCV(estimator=Pipeline(steps=[(&#x27;scaler&#x27;, StandardScaler()),\n",
       "                                       (&#x27;pca&#x27;, PCA()),\n",
       "                                       (&#x27;clf&#x27;, GradientBoostingClassifier())]),\n",
       "             n_jobs=8,\n",
       "             param_grid={&#x27;pca__n_components&#x27;: [1, 2, 3],\n",
       "                         &#x27;scaler__with_std&#x27;: [True, False]},\n",
       "             scoring=&#x27;balanced_accuracy&#x27;)</pre><b>In a Jupyter environment, please rerun this cell to show the HTML representation or trust the notebook. <br />On GitHub, the HTML representation is unable to render, please try loading this page with nbviewer.org.</b></div><div class=\"sk-container\" hidden><div class=\"sk-item sk-dashed-wrapped\"><div class=\"sk-label-container\"><div class=\"sk-label sk-toggleable\"><input class=\"sk-toggleable__control sk-hidden--visually\" id=\"sk-estimator-id-1\" type=\"checkbox\" ><label for=\"sk-estimator-id-1\" class=\"sk-toggleable__label sk-toggleable__label-arrow\">GridSearchCV</label><div class=\"sk-toggleable__content\"><pre>GridSearchCV(estimator=Pipeline(steps=[(&#x27;scaler&#x27;, StandardScaler()),\n",
       "                                       (&#x27;pca&#x27;, PCA()),\n",
       "                                       (&#x27;clf&#x27;, GradientBoostingClassifier())]),\n",
       "             n_jobs=8,\n",
       "             param_grid={&#x27;pca__n_components&#x27;: [1, 2, 3],\n",
       "                         &#x27;scaler__with_std&#x27;: [True, False]},\n",
       "             scoring=&#x27;balanced_accuracy&#x27;)</pre></div></div></div><div class=\"sk-parallel\"><div class=\"sk-parallel-item\"><div class=\"sk-item\"><div class=\"sk-label-container\"><div class=\"sk-label sk-toggleable\"><input class=\"sk-toggleable__control sk-hidden--visually\" id=\"sk-estimator-id-2\" type=\"checkbox\" ><label for=\"sk-estimator-id-2\" class=\"sk-toggleable__label sk-toggleable__label-arrow\">estimator: Pipeline</label><div class=\"sk-toggleable__content\"><pre>Pipeline(steps=[(&#x27;scaler&#x27;, StandardScaler()), (&#x27;pca&#x27;, PCA()),\n",
       "                (&#x27;clf&#x27;, GradientBoostingClassifier())])</pre></div></div></div><div class=\"sk-serial\"><div class=\"sk-item\"><div class=\"sk-serial\"><div class=\"sk-item\"><div class=\"sk-estimator sk-toggleable\"><input class=\"sk-toggleable__control sk-hidden--visually\" id=\"sk-estimator-id-3\" type=\"checkbox\" ><label for=\"sk-estimator-id-3\" class=\"sk-toggleable__label sk-toggleable__label-arrow\">StandardScaler</label><div class=\"sk-toggleable__content\"><pre>StandardScaler()</pre></div></div></div><div class=\"sk-item\"><div class=\"sk-estimator sk-toggleable\"><input class=\"sk-toggleable__control sk-hidden--visually\" id=\"sk-estimator-id-4\" type=\"checkbox\" ><label for=\"sk-estimator-id-4\" class=\"sk-toggleable__label sk-toggleable__label-arrow\">PCA</label><div class=\"sk-toggleable__content\"><pre>PCA()</pre></div></div></div><div class=\"sk-item\"><div class=\"sk-estimator sk-toggleable\"><input class=\"sk-toggleable__control sk-hidden--visually\" id=\"sk-estimator-id-5\" type=\"checkbox\" ><label for=\"sk-estimator-id-5\" class=\"sk-toggleable__label sk-toggleable__label-arrow\">GradientBoostingClassifier</label><div class=\"sk-toggleable__content\"><pre>GradientBoostingClassifier()</pre></div></div></div></div></div></div></div></div></div></div></div></div>"
      ],
      "text/plain": [
       "GridSearchCV(estimator=Pipeline(steps=[('scaler', StandardScaler()),\n",
       "                                       ('pca', PCA()),\n",
       "                                       ('clf', GradientBoostingClassifier())]),\n",
       "             n_jobs=8,\n",
       "             param_grid={'pca__n_components': [1, 2, 3],\n",
       "                         'scaler__with_std': [True, False]},\n",
       "             scoring='balanced_accuracy')"
      ]
     },
     "execution_count": 63,
     "metadata": {},
     "output_type": "execute_result"
    }
   ],
   "source": [
    "from sklearn.pipeline import Pipeline\n",
    "from sklearn.decomposition import PCA\n",
    "pl = Pipeline([('scaler', StandardScaler()),\n",
    "               ('pca', PCA()),\n",
    "               ('clf', GradientBoostingClassifier())])\n",
    "\n",
    "\n",
    "X_train = train.drop(columns=['key','class']).astype('float')\n",
    "X_test = test.drop(columns=['key','class']).astype('float')\n",
    "y_train = train['class'].astype(int)\n",
    "y_test = test['class'].astype(int)\n",
    "\n",
    "y_test=codeClasses(y_test)\n",
    "y_train=codeClasses(y_train)\n",
    "# cv = CrossValidatorWrapper(KFold())\n",
    "gridsearch = GridSearchCV(pl, scoring='balanced_accuracy',\n",
    "                    param_grid={\n",
    "                      \"scaler__with_std\":[True,False],\n",
    "                      \"pca__n_components\": [1, 2, 3]\n",
    "                      }, n_jobs=8)\n",
    "\n",
    "gridsearch.fit(X_train, y_train)"
   ]
  },
  {
   "cell_type": "code",
   "execution_count": 65,
   "id": "5ecca68e",
   "metadata": {},
   "outputs": [],
   "source": [
    "results = gridsearch.cv_results_"
   ]
  },
  {
   "cell_type": "code",
   "execution_count": 514,
   "id": "639fbbeb",
   "metadata": {},
   "outputs": [],
   "source": [
    "X_train = train.drop(columns=['key','class']).astype('float')\n",
    "X_test = test.drop(columns=['key','class']).astype('float')\n",
    "y_train = train['class'].astype(int)\n",
    "y_test = test['class'].astype(int)\n",
    "\n",
    "y_test=codeClasses(y_test)\n",
    "y_train=codeClasses(y_train)"
   ]
  },
  {
   "cell_type": "code",
   "execution_count": 2,
   "id": "b8c20da6",
   "metadata": {},
   "outputs": [],
   "source": [
    "seed = 7\n",
    "models = []\n",
    "models.append(('SVC', SVC(verbose=True)))\n",
    "models.append(('RandomForest', RandomForestClassifier(verbose=1, n)))\n",
    "models.append(('GB', GradientBoostingClassifier()))\n",
    "models.append(('RidgeClassifier', RidgeClassifier()))\n",
    "\n",
    "results = []\n",
    "names = []\n",
    "# scoring = {\"OA\":\"balanced_accuracy\", \"f1_macro\":'f1_macro'}\n",
    "scoring= 'f1_macro'\n",
    "for name, model in models:\n",
    "    kfold = model_selection.KFold(n_splits=5)\n",
    "    cv_results = model_selection.cross_val_score(model, X, Y, cv=kfold, scoring=scoring)\n",
    "    results.append(cv_results)\n",
    "    names.append(name)\n",
    "    msg = \"%s: %f (%f)\" % (name, cv_results.mean(), cv_results.std())\n",
    "    print(msg)\n",
    "# boxplot algorithm comparison\n",
    "fig = plt.figure()\n",
    "fig.suptitle('Algorithm Comparison')\n",
    "ax = fig.add_subplot(111)\n",
    "plt.boxplot(results)\n",
    "ax.set_xticklabels(names)\n",
    "# plt.savefig('../plots/models_comparison.png', dpi=150)\n",
    "plt.show()\n"
   ]
  },
  {
   "cell_type": "code",
   "execution_count": 1,
   "id": "1f67a010",
   "metadata": {},
   "outputs": [],
   "source": [
    "## two-metrics scoring\n",
    "scoring = {\"OA\":\"balanced_accuracy\", \"f1_macro\":'f1_macro'}\n",
    "\n",
    "param_grid = {\n",
    "    \"n_estimators\": range(5, 100, 10),\n",
    "    \"max_leaf_nodes\": range(2, 100, 10),\n",
    "    \"min_samples_split\": range(2, 50, 5),\n",
    "    \"learning_rate\": loguniform.rvs(0.01, 1, size=10),\n",
    "}\n",
    "\n",
    "gs = RandomizedSearchCV(\n",
    "    GradientBoostingClassifier(random_state=42, verbose=0),\n",
    "    n_iter=100,\n",
    "    param_distributions=param_grid,\n",
    "    scoring=scoring,\n",
    "    cv=5,\n",
    "    refit=\"f1_macro\",\n",
    "    n_jobs=8,\n",
    "    return_train_score=True,\n",
    "    verbose=10\n",
    ")\n",
    "gs.fit(X_train, y_train)\n",
    "results = gs.cv_results_"
   ]
  },
  {
   "cell_type": "code",
   "execution_count": 298,
   "id": "51a44d00",
   "metadata": {},
   "outputs": [],
   "source": [
    "OA = results['mean_test_OA']\n",
    "f1_macro = results['mean_test_f1_macro']"
   ]
  },
  {
   "cell_type": "code",
   "execution_count": 299,
   "id": "8dfc7a03",
   "metadata": {},
   "outputs": [
    {
     "data": {
      "text/plain": [
       "<matplotlib.legend.Legend at 0x7fa29d9a9a60>"
      ]
     },
     "execution_count": 299,
     "metadata": {},
     "output_type": "execute_result"
    },
    {
     "data": {
      "image/png": "[encoded data removed]",
      "text/plain": [
       "<Figure size 864x288 with 3 Axes>"
      ]
     },
     "metadata": {
      "needs_background": "light"
     },
     "output_type": "display_data"
    }
   ],
   "source": [
    "fig, (ax1, ax2, ax3) = plt.subplots(1,3, figsize=(12,4), tight_layout=True)\n",
    "ax1.scatter(OA, f1_macro, edgecolors=sns.color_palette()[0], facecolors='none')\n",
    "ax1.grid()\n",
    "# ax1.set_ylim(0,1)\n",
    "# ax1.set_xlim(0,10)\n",
    "ax1.set_ylabel(\"f1_macro\")\n",
    "ax1.set_xlabel(\"OA\")\n",
    "# ax2.scatter(mape_normalized, r2_normalize)\n",
    "sns.kdeplot(f1_macro, fill=True, label=\"f1_macro\", ax=ax2)\n",
    "ax2.grid()\n",
    "ax2.legend()\n",
    "sns.kdeplot(OA, fill=True, label=\"OA\", ax=ax3)\n",
    "ax3.grid()\n",
    "ax3.legend()\n",
    "# ax2.set_ylabel(\"$R^2$\")\n",
    "# ax2.set_xlabel(\"$MAPE$\")\n",
    "# plt.savefig('../plots/two_metrics_plots.png', dpi=300)"
   ]
  },
  {
   "cell_type": "markdown",
   "id": "014e6901",
   "metadata": {},
   "source": [
    "## 6. Color geotiff"
   ]
  },
  {
   "cell_type": "code",
   "execution_count": 146,
   "id": "e97a70d3",
   "metadata": {},
   "outputs": [],
   "source": [
    "fname = '/mnt/bulky2/mgasanov/CARBON/Sentinell2/ForestSentinell2/summer_2020.tiff'\n",
    "with rio.open(fname) as src:\n",
    "    bands_row= src.read()"
   ]
  },
  {
   "cell_type": "code",
   "execution_count": 149,
   "id": "bb641777",
   "metadata": {},
   "outputs": [],
   "source": [
    "shape_row = bands_row.shape"
   ]
  },
  {
   "cell_type": "code",
   "execution_count": 152,
   "id": "0ea3e7de",
   "metadata": {},
   "outputs": [],
   "source": [
    "dates_images_2020 = [\"2020-07-03\", \"2020-07-05\", \"2020-07-13\",\n",
    "                     \"2020-08-04\", \"2020-08-09\", \"2020-08-12\", \"2020-08-17\"]\n",
    "\n",
    "def get_2020_cols():\n",
    "    col_names = [\"B01\",\"B02\",\"B03\",\"B04\",\"B05\",\"B06\",\"B07\",\"B08\",\"B8A\",\"B09\",\"B11\",\"B12\",\"CLM\"]\n",
    "    all_cols = []\n",
    "    i = 0\n",
    "    for date in sorted(dates_images_2020):\n",
    "        for col in col_names:\n",
    "            \n",
    "            all_cols.append(date+'_'+col)\n",
    "    return all_cols\n",
    "\n",
    "cols_2020 = get_2020_cols()\n",
    "\n",
    "x = bands_row[:-4, ...].reshape(len(cols_2020), bands_row.shape[1]*bands_row.shape[2])"
   ]
  },
  {
   "cell_type": "code",
   "execution_count": 177,
   "id": "be6f09c4",
   "metadata": {},
   "outputs": [],
   "source": [
    "for i in range(x.shape[1]//100000 + 1):\n",
    "    select = x[:, i*100000:(i+1)*100000]\n",
    "    if (i+1)*100000 > x.shape[1]:\n",
    "        select = x[:, i*100000:x.shape[1]]\n",
    "    break"
   ]
  },
  {
   "cell_type": "code",
   "execution_count": 184,
   "id": "320d492b",
   "metadata": {},
   "outputs": [],
   "source": [
    "df_indices_field = pd.DataFrame(select.T, columns=cols_2020)"
   ]
  },
  {
   "cell_type": "code",
   "execution_count": 185,
   "id": "6cfb75cf",
   "metadata": {},
   "outputs": [
    {
     "name": "stdout",
     "output_type": "stream",
     "text": [
      "2020-07-03\n",
      "2020-07-05\n",
      "2020-07-13\n",
      "2020-08-04\n",
      "2020-08-09\n",
      "2020-08-12\n",
      "2020-08-17\n"
     ]
    }
   ],
   "source": [
    "def prepare_SVI(df:pd.DataFrame)->pd.DataFrame:\n",
    "    for date in [\"2020-07-03\", \"2020-07-05\", \"2020-07-13\",\n",
    "                     \"2020-08-04\", \"2020-08-09\", \"2020-08-12\", \"2020-08-17\"]:\n",
    "        print(date)\n",
    "        df = dataset.get_ndvi(df, date)\n",
    "        df = dataset.generate_NDRE(df, date)\n",
    "        df = dataset.evi(df, date)\n",
    "        df = dataset.generate_MSAVI(df, date)\n",
    "\n",
    "    return df\n",
    "df_indices_field = prepare_SVI(df_indices_field)"
   ]
  },
  {
   "cell_type": "code",
   "execution_count": null,
   "id": "a7184b81",
   "metadata": {},
   "outputs": [],
   "source": [
    "dates_images_2020 = [\"2020-07-03\", \"2020-07-05\", \"2020-07-13\",\n",
    "                     \"2020-08-04\", \"2020-08-09\", \"2020-08-12\", \"2020-08-17\"]\n",
    "\n",
    "def get_2020_cols():\n",
    "    col_names = [\"B01\",\"B02\",\"B03\",\"B04\",\"B05\",\"B06\",\"B07\",\"B08\",\"B8A\",\"B09\",\"B11\",\"B12\",\"CLM\"]\n",
    "    all_cols = []\n",
    "    i = 0\n",
    "    for date in sorted(dates_images_2020):\n",
    "        for col in col_names:\n",
    "            \n",
    "            all_cols.append(date+'_'+col)\n",
    "    return all_cols\n",
    "\n",
    "cols_2020 = get_2020_cols()\n",
    "\n",
    "\n",
    "# shape = box(*gdf.total_bounds)\n",
    "fname = '/mnt/bulky2/mgasanov/CARBON/Sentinell2/ForestSentinell2/summer_2020.tiff'\n",
    "with rio.open(fname) as src:\n",
    "    bands_row= src.read()\n",
    "x = bands_row[:-4, ...].reshape(len(cols_2020), bands_row.shape[1]*bands_row.shape[2])\n",
    "\n",
    "\n",
    "df_indices_field = pd.DataFrame(x.T[::100, :], columns=cols_2020)\n",
    "\n",
    "\n",
    "def prepare_SVI(df:pd.DataFrame)->pd.DataFrame:\n",
    "    for date in [\"2020-07-03\", \"2020-07-05\", \"2020-07-13\",\n",
    "                     \"2020-08-04\", \"2020-08-09\", \"2020-08-12\", \"2020-08-17\"]:\n",
    "        print(date)\n",
    "        df = dataset.get_ndvi(df, date)\n",
    "        df = dataset.generate_NDRE(df, date)\n",
    "        df = dataset.evi(df, date)\n",
    "        df = dataset.generate_MSAVI(df, date)\n",
    "\n",
    "    return df\n",
    "\n",
    "# slices =  \n",
    "mean_X = np.ones(shape=(13, x.shape[1]))\n",
    "for y in range(14):\n",
    "    print(y)\n",
    "    channels = []\n",
    "    for i in range(len(dates_images_2020)):\n",
    "        channels.append(y-1 + i * 13)\n",
    "    mean_channel = x[channels, ...].mean(axis=0)\n",
    "    mean_X[y] = mean_channel"
   ]
  },
  {
   "cell_type": "markdown",
   "id": "9fbb2cde",
   "metadata": {},
   "source": [
    "## 2. EDA"
   ]
  },
  {
   "cell_type": "code",
   "execution_count": 3,
   "id": "6ff6990f",
   "metadata": {},
   "outputs": [],
   "source": [
    "# # Fill diagonal and upper half with NaNs\n",
    "# corr = non_forest.corr()\n",
    "# mask = np.zeros_like(corr, dtype=bool)\n",
    "# mask[np.triu_indices_from(mask)] = True\n",
    "# corr[mask] = np.nan\n",
    "# (corr.iloc[::3, ::2]\n",
    "#  .style\n",
    "#  .background_gradient(cmap='coolwarm', axis=None, vmin=-1, vmax=1)\n",
    "#  .highlight_null(null_color='#f1f1f1')  # Color NaNs grey\n",
    "#  .set_precision(2))"
   ]
  },
  {
   "cell_type": "code",
   "execution_count": 353,
   "id": "7e1ac014",
   "metadata": {},
   "outputs": [],
   "source": [
    "corr_matrix = non_forest.corr().abs()\n",
    "\n",
    "# Select upper triangle of correlation matrix\n",
    "upper = corr_matrix.where(np.triu(np.ones(corr_matrix.shape), k=1).astype(np.bool_))\n",
    "\n",
    "# Find features with correlation greater than 0.95\n",
    "to_drop = [column for column in upper.columns if any(upper[column] > 0.9)]\n",
    "\n",
    "# Drop features \n",
    "non_forest.drop(to_drop, axis=1, inplace=True)"
   ]
  },
  {
   "cell_type": "code",
   "execution_count": 1,
   "id": "2c62026d",
   "metadata": {},
   "outputs": [],
   "source": [
    "# # Fill diagonal and upper half with NaNs\n",
    "# corr = non_forest.corr()\n",
    "# mask = np.zeros_like(corr, dtype=bool)\n",
    "# mask[np.triu_indices_from(mask)] = True\n",
    "# corr[mask] = np.nan\n",
    "# (corr.iloc[:, :]\n",
    "#  .style\n",
    "#  .background_gradient(cmap='coolwarm', axis=None, vmin=-1, vmax=1)\n",
    "#  .highlight_null(null_color='#f1f1f1')  # Color NaNs grey\n",
    "#  .set_precision(2))"
   ]
  },
  {
   "cell_type": "markdown",
   "id": "d046dde6",
   "metadata": {},
   "source": [
    "## 3. Plotting\n"
   ]
  },
  {
   "cell_type": "code",
   "execution_count": 349,
   "id": "59a40d89",
   "metadata": {},
   "outputs": [],
   "source": [
    "\n",
    "def plot_RGB_file(fname: str): \n",
    "    img = rio.open(fname)\n",
    "\n",
    "    red = img.read(4)\n",
    "    green = img.read(3)\n",
    "    blue = img.read(2)\n",
    "\n",
    "    red_b=brighten(red)\n",
    "    blue_b=brighten(blue)\n",
    "    green_b=brighten(green)\n",
    "\n",
    "    red_bn = normalize(red_b)\n",
    "    green_bn = normalize(green_b)\n",
    "    blue_bn = normalize(blue_b)\n",
    "\n",
    "    rgb_composite_bn= np.dstack((red_bn, green_bn, blue_bn))\n",
    "    return rgb_composite_bn\n",
    "\n",
    "def plot_RGB_matrix(img)->None: \n",
    "    red = img[4, ...]\n",
    "    green = img[3, ...]\n",
    "    blue = img[2, ...]\n",
    "    red_b=brighten(red)\n",
    "    blue_b=brighten(blue)\n",
    "    green_b=brighten(green)\n",
    "\n",
    "    red_bn = normalize(red_b)\n",
    "    green_bn = normalize(green_b)\n",
    "    blue_bn = normalize(blue_b)\n",
    "\n",
    "    rgb_composite_bn= np.dstack((red_bn, green_bn, blue_bn))\n",
    "    plt.imshow(rgb_composite_bn)"
   ]
  },
  {
   "cell_type": "code",
   "execution_count": null,
   "id": "f39b36c1",
   "metadata": {},
   "outputs": [],
   "source": [
    "path='/mnt/bulky2/mgasanov/CARBON/Sentinell2/ForestSentinell2/'\n",
    "list_of_geotiff = [tiff for tiff in os.listdir(path) if 'tiff' in tiff]\n",
    "mask = (df_indices_field['date'].dt.month>6) & (df_indices_field['date'].dt.month<9)\n",
    "dates_images = df_indices_field.loc[mask, 'date'].unique()\n",
    "dates_images = [str(image)[:10] for image in dates_images]"
   ]
  },
  {
   "cell_type": "code",
   "execution_count": 148,
   "id": "1084ab6f",
   "metadata": {},
   "outputs": [],
   "source": [
    "src = rio.open(path_to_tiff_file)"
   ]
  },
  {
   "cell_type": "code",
   "execution_count": 100,
   "id": "ae713702",
   "metadata": {},
   "outputs": [],
   "source": [
    "dataset = Dataset()\n",
    "src = rio.open(dataset.path_to_tiff_file)\n",
    "X = src.read()"
   ]
  },
  {
   "cell_type": "code",
   "execution_count": 20,
   "id": "0d106315",
   "metadata": {},
   "outputs": [
    {
     "data": {
      "text/plain": [
       "(13, 3300, 2966)"
      ]
     },
     "execution_count": 20,
     "metadata": {},
     "output_type": "execute_result"
    }
   ],
   "source": [
    "s2 = rio.open(\"/mnt/bulky2/mgasanov/CARBON/Sentinell2/ForestSentinell2/2019-06-19.tiff\")\n",
    "s2.read(2).shape"
   ]
  },
  {
   "cell_type": "code",
   "execution_count": 153,
   "id": "c4179fd3",
   "metadata": {},
   "outputs": [],
   "source": [
    "def normalize(X):\n",
    "    X = X/10000\n",
    "    X = np.clip(X, 0, 0.3)\n",
    "    return X"
   ]
  },
  {
   "cell_type": "code",
   "execution_count": 162,
   "id": "3d7e23e4",
   "metadata": {},
   "outputs": [],
   "source": [
    "X = normalize(124)"
   ]
  },
  {
   "cell_type": "code",
   "execution_count": 220,
   "id": "a0ca6135",
   "metadata": {},
   "outputs": [
    {
     "name": "stdout",
     "output_type": "stream",
     "text": [
      "2019-07-01.tiff 2019-07-04.tiff 2019-08-03.tiff 2019-08-05.tiff 2019-08-08.tiff 2019-08-15.tiff 2019-08-30.tiff 2020-07-03.tiff 2020-07-05.tiff 2020-07-13.tiff 2020-08-04.tiff 2020-08-09.tiff 2020-08-12.tiff 2020-08-17.tiff "
     ]
    }
   ],
   "source": [
    "for x in sorted(dates_images):\n",
    "    print(x+'.tiff ', end='')"
   ]
  },
  {
   "cell_type": "code",
   "execution_count": 147,
   "id": "38dc9dce",
   "metadata": {},
   "outputs": [
    {
     "name": "stdout",
     "output_type": "stream",
     "text": [
      "\n"
     ]
    },
    {
     "data": {
      "image/png": "[encoded data removed]",
      "text/plain": [
       "<Figure size 432x288 with 1 Axes>"
      ]
     },
     "metadata": {
      "needs_background": "light"
     },
     "output_type": "display_data"
    }
   ],
   "source": [
    "for tiff_file in sorted(dates_images):\n",
    "    path_to_tiff_file = os.path.join(path, tiff_file+'.tiff')\n",
    "    print()\n",
    "    rgb_composite_bn = plot_RGB_file(path_to_tiff_file)\n",
    "    plt.imshow(rgb_composite_bn[::3, ::3, :])\n",
    "    plt.title(tiff_file.split('.')[0])\n",
    "    plt.show()\n",
    "    break"
   ]
  },
  {
   "cell_type": "code",
   "execution_count": null,
   "id": "f24b3770",
   "metadata": {},
   "outputs": [],
   "source": []
  },
  {
   "cell_type": "code",
   "execution_count": 114,
   "id": "5f57ce8b",
   "metadata": {},
   "outputs": [],
   "source": [
    "shape = gdf.iloc[0,-2]"
   ]
  },
  {
   "cell_type": "code",
   "execution_count": 115,
   "id": "e033e7c5",
   "metadata": {},
   "outputs": [
    {
     "data": {
      "image/svg+xml": [
       "<svg xmlns=\"http://www.w3.org/2000/svg\" xmlns:xlink=\"http://www.w3.org/1999/xlink\" width=\"100.0\" height=\"100.0\" viewBox=\"656845.2044003634 6275907.891063981 19.36156383960042 19.361563839949667\" preserveAspectRatio=\"xMinYMin meet\"><g transform=\"matrix(1,0,0,-1,0,12551835.1436918)\"><g><path fill-rule=\"evenodd\" fill=\"#66cc99\" stroke=\"#555555\" stroke-width=\"0.38723127679899333\" opacity=\"0.6\" d=\"M 656854.0993079833,6275926.535241339 L 656855.6677244814,6275926.535532864 L 656857.2123638529,6275926.263467278 L 656858.6862930052,6275925.727311163 L 656860.0447273413,6275924.943355333 L 656861.2463915101,6275923.935419883 L 656862.2547735444,6275922.734130421 L 656863.0392342515,6275921.375987524 L 656863.5759381847,6275919.902257683 L 656863.8485778557,6275918.357719446 L 656863.848869246,6275916.789302823 L 656863.5768034986,6275915.244663385 L 656863.0406472017,6275913.770734229 L 656862.256691199,6275912.412299947 L 656861.2487556081,6275911.210635887 L 656860.0474660532,6275910.202254003 L 656858.6893231194,6275909.417793471 L 656857.2155933008,6275908.881089717 L 656855.6710551425,6275908.608450205 L 656854.1026386605,6275908.608158938 L 656852.5579993868,6275908.880224751 L 656851.0840704072,6275909.416381052 L 656849.7256362971,6275910.200337001 L 656848.5239723795,6275911.208272484 L 656847.5155905943,6275912.409561888 L 656846.7311300988,6275913.767704644 L 656846.1944263193,6275915.241434284 L 656845.9217867232,6275916.785972286 L 656845.9214953204,6275918.354388648 L 656846.1935609684,6275919.899027851 L 656846.7297170933,6275921.372956824 L 656847.5136728692,6275922.731390991 L 656848.5216082087,6275923.933055019 L 656849.7228975173,6275924.941436957 L 656851.0810402372,6275925.725897625 L 656852.5547699027,6275926.262601586 L 656854.0993079833,6275926.535241339 z\" /></g></g></svg>"
      ],
      "text/plain": [
       "<shapely.geometry.multipolygon.MultiPolygon at 0x7fa80601ac70>"
      ]
     },
     "execution_count": 115,
     "metadata": {},
     "output_type": "execute_result"
    }
   ],
   "source": [
    "shape"
   ]
  },
  {
   "cell_type": "code",
   "execution_count": 136,
   "id": "d0c68783",
   "metadata": {},
   "outputs": [
    {
     "data": {
      "image/png": "[encoded data removed]",
      "text/plain": [
       "<Figure size 432x288 with 1 Axes>"
      ]
     },
     "metadata": {
      "needs_background": "light"
     },
     "output_type": "display_data"
    },
    {
     "data": {
      "image/png": "[encoded data removed]",
      "text/plain": [
       "<Figure size 432x288 with 1 Axes>"
      ]
     },
     "metadata": {
      "needs_background": "light"
     },
     "output_type": "display_data"
    }
   ],
   "source": [
    "\n",
    "\n",
    "shape = gdf.iloc[-2,-2]\n",
    "\n",
    "\n",
    "with rio.open(dataset.path_to_tiff_file) as src:\n",
    "    out_image, out_transform = crop_mask(src, [shape], crop=True, nodata=0) # SUPER KEK - [shape] works, shape - doesn't \n",
    "    out_meta = src.meta \n",
    "#     x = out_image[:12, ...].reshape(12, out_image.shape[1]*out_image.shape[2])\n",
    "# _df = pd.DataFrame(x.T, columns=col_names[:-1])\n",
    "#     df\n",
    "# plt.imshow(out_image[3,...])\n",
    "\n",
    "plt.imshow(out_image[1,...])\n",
    "plt.show()\n",
    "\n",
    "plt.imshow(out_image[-4,...])\n",
    "plt.show()"
   ]
  },
  {
   "cell_type": "code",
   "execution_count": 137,
   "id": "a91f80e6",
   "metadata": {},
   "outputs": [],
   "source": [
    "s2 = out_image[2,...]\n",
    "\n",
    "t1 = out_image[-2,...]\n",
    "\n",
    "sub_m = np.where(s2>0, t1, -1)"
   ]
  },
  {
   "cell_type": "code",
   "execution_count": 138,
   "id": "177f5196",
   "metadata": {},
   "outputs": [
    {
     "data": {
      "text/plain": [
       "(7, 7)"
      ]
     },
     "execution_count": 138,
     "metadata": {},
     "output_type": "execute_result"
    }
   ],
   "source": [
    "s2.shape"
   ]
  },
  {
   "cell_type": "code",
   "execution_count": 145,
   "id": "d70fb7c1",
   "metadata": {},
   "outputs": [
    {
     "data": {
      "text/plain": [
       "array([[-1, -1,  0,  0,  8, -1, -1],\n",
       "       [-1,  0,  0,  0,  8,  8, -1],\n",
       "       [ 8,  0,  0,  0,  8,  8, -1],\n",
       "       [ 8,  8,  8,  8,  8,  8, -1],\n",
       "       [ 8,  8,  8,  8,  8,  9, -1],\n",
       "       [-1,  0,  0,  0,  0, -1, -1],\n",
       "       [-1, -1, -1, -1, -1, -1, -1]], dtype=int32)"
      ]
     },
     "execution_count": 145,
     "metadata": {},
     "output_type": "execute_result"
    }
   ],
   "source": [
    "sub_m = np.where(s2>0, t1, -1)"
   ]
  },
  {
   "cell_type": "code",
   "execution_count": 119,
   "id": "3282346a",
   "metadata": {},
   "outputs": [
    {
     "data": {
      "text/plain": [
       "<matplotlib.image.AxesImage at 0x7fa7e9ef57c0>"
      ]
     },
     "execution_count": 119,
     "metadata": {},
     "output_type": "execute_result"
    },
    {
     "data": {
      "image/png": "[encoded data removed]",
      "text/plain": [
       "<Figure size 432x288 with 1 Axes>"
      ]
     },
     "metadata": {
      "needs_background": "light"
     },
     "output_type": "display_data"
    }
   ],
   "source": [
    "plt.imshow(out_image[1,...])"
   ]
  },
  {
   "cell_type": "code",
   "execution_count": 123,
   "id": "afc2d251",
   "metadata": {},
   "outputs": [
    {
     "data": {
      "text/plain": [
       "<matplotlib.image.AxesImage at 0x7fa7ea0c9160>"
      ]
     },
     "execution_count": 123,
     "metadata": {},
     "output_type": "execute_result"
    },
    {
     "data": {
      "image/png": "[encoded data removed]",
      "text/plain": [
       "<Figure size 432x288 with 1 Axes>"
      ]
     },
     "metadata": {
      "needs_background": "light"
     },
     "output_type": "display_data"
    }
   ],
   "source": [
    "plt.imshow(out_image[-2,...])"
   ]
  },
  {
   "cell_type": "code",
   "execution_count": 73,
   "id": "0f545223",
   "metadata": {},
   "outputs": [
    {
     "data": {
      "text/plain": [
       "<matplotlib.image.AxesImage at 0x135f04eb0>"
      ]
     },
     "execution_count": 73,
     "metadata": {},
     "output_type": "execute_result"
    },
    {
     "data": {
      "image/png": "[encoded data removed]",
      "text/plain": [
       "<Figure size 432x288 with 1 Axes>"
      ]
     },
     "metadata": {
      "needs_background": "light"
     },
     "output_type": "display_data"
    }
   ],
   "source": [
    "col_names = [\"B01\",\"B02\",\"B03\",\"B04\",\"B05\",\"B06\",\"B07\",\"B08\",\"B8A\",\"B09\",\"B11\",\"B12\",\"CLM\"]\n",
    "path='/Users/mikhailgasanov/Yandex.Disk.localized/STRIP/Bratsk/Sentinel2_2019_10_meters/'\n",
    "year = 2019\n",
    "list_of_geotiff = [tiff for tiff in os.listdir(path) if (str('-') in tiff) and ('tiff' in tiff)]\n",
    "\n",
    "df_indices_field = pd.DataFrame(columns = ['date',  *col_names, \"NDVI\"])\n",
    "\n",
    "dates_of_images = []\n",
    "\n",
    "\n",
    "\n",
    "for tiff_file in sorted(list_of_geotiff):\n",
    "    path_to_tiff_file = os.path.join(path, tiff_file)\n",
    "    with rio.open(path_to_tiff_file) as src:\n",
    "        out_image, out_transform = crop_mask(src, [shape], crop=True) # SUPER KEK - [shape] works, shape - doesn't\n",
    "        out_meta = src.meta \n",
    "        x = out_image[:12, ...].reshape(12, out_image.shape[1]*out_image.shape[2])\n",
    "    _df = pd.DataFrame(x.T, columns=col_names[:-1])\n",
    "#     df\n",
    "plt.imshow(out_image[3,...])"
   ]
  },
  {
   "cell_type": "code",
   "execution_count": 75,
   "id": "293e8297",
   "metadata": {},
   "outputs": [
    {
     "data": {
      "text/plain": [
       "<matplotlib.image.AxesImage at 0x135d7c8b0>"
      ]
     },
     "execution_count": 75,
     "metadata": {},
     "output_type": "execute_result"
    },
    {
     "data": {
      "image/png": "[encoded data removed]",
      "text/plain": [
       "<Figure size 432x288 with 1 Axes>"
      ]
     },
     "metadata": {
      "needs_background": "light"
     },
     "output_type": "display_data"
    }
   ],
   "source": [
    "shape = gdf_8m.iloc[0,-1]\n",
    "col_names = [\"B01\",\"B02\",\"B03\",\"B04\",\"B05\",\"B06\",\"B07\",\"B08\",\"B8A\",\"B09\",\"B11\",\"B12\",\"CLM\"]\n",
    "path='/Users/mikhailgasanov/Yandex.Disk.localized/STRIP/Bratsk/Sentinel2_2019_10_meters/'\n",
    "year = 2019\n",
    "list_of_geotiff = [tiff for tiff in os.listdir(path) if (str('-') in tiff) and ('tiff' in tiff)]\n",
    "\n",
    "df_indices_field = pd.DataFrame(columns = ['date',  *col_names, \"NDVI\"])\n",
    "\n",
    "dates_of_images = []\n",
    "\n",
    "\n",
    "\n",
    "for tiff_file in sorted(list_of_geotiff):\n",
    "    path_to_tiff_file = os.path.join(path, tiff_file)\n",
    "    with rio.open(path_to_tiff_file) as src:\n",
    "        out_image, out_transform = crop_mask(src, [shape], crop=True) # SUPER KEK - [shape] works, shape - doesn't\n",
    "        out_meta = src.meta \n",
    "        x = out_image[:12, ...].reshape(12, out_image.shape[1]*out_image.shape[2])\n",
    "    _df = pd.DataFrame(x.T, columns=col_names[:-1])\n",
    "#     df\n",
    "\n",
    "plt.imshow(out_image[3,...])"
   ]
  },
  {
   "cell_type": "code",
   "execution_count": 16,
   "id": "dd93f63d",
   "metadata": {},
   "outputs": [
    {
     "data": {
      "text/plain": [
       "<Derived Projected CRS: EPSG:32647>\n",
       "Name: WGS 84 / UTM zone 47N\n",
       "Axis Info [cartesian]:\n",
       "- E[east]: Easting (metre)\n",
       "- N[north]: Northing (metre)\n",
       "Area of Use:\n",
       "- name: Between 96°E and 102°E, northern hemisphere between equator and 84°N, onshore and offshore. China. Indonesia. Laos. Malaysia - West Malaysia. Mongolia. Myanmar (Burma). Russian Federation. Thailand.\n",
       "- bounds: (96.0, 0.0, 102.0, 84.0)\n",
       "Coordinate Operation:\n",
       "- name: UTM zone 47N\n",
       "- method: Transverse Mercator\n",
       "Datum: World Geodetic System 1984 ensemble\n",
       "- Ellipsoid: WGS 84\n",
       "- Prime Meridian: Greenwich"
      ]
     },
     "execution_count": 16,
     "metadata": {},
     "output_type": "execute_result"
    }
   ],
   "source": [
    "gdf_8m.crs"
   ]
  },
  {
   "cell_type": "markdown",
   "id": "6da34315",
   "metadata": {},
   "source": [
    "## * Clusters"
   ]
  },
  {
   "cell_type": "code",
   "execution_count": 187,
   "id": "fd294123",
   "metadata": {},
   "outputs": [],
   "source": [
    "from sklearn.cluster import DBSCAN"
   ]
  },
  {
   "cell_type": "code",
   "execution_count": 189,
   "id": "05877408",
   "metadata": {},
   "outputs": [
    {
     "name": "stdout",
     "output_type": "stream",
     "text": [
      "8.974945806042294\n",
      "Start bands . . . . . . . . . . . . . . . . . . . . . . . . . . . . . . . . . . . . . . . . . . . . . . . . . . . . . . . . . . . . . . . . . . . . . . . . . . . . . . . . . . . . . . . . . . . . . . . . . . . . . . . . . . . . . . . . . . . . . . . . . . . . . . . . . . . . . . . . . . . . . . . . . . . . . . . . . . . . . . . . . . . . . . . . . . . . . . . . . . . . . . . . . . . . . . . . . . . . . . . . . . . . . . . . . . . . . . . . . . . . . . . . . . . . . . . . . . . . . . . . . . . . . . . . . . . . . . . . . . . . . . . . . . . . . . . . . . . . . . . . . . Start terrain . . . . . . . . . . . . . . . . . . . . . . . . . . . . . . . . . . . . . . . . . . . . . . . . . . . . . . . . . . . . . . . . . . . . . . . . . . . . . . . . . . . . . . . . . . . . . . . . . . . . . . . . . . . . . . . . . . . . . . . . . . . . . . . . . . . . . . . . . . . . . . . . . . . . . . . . . . . . . . . . . . . . . . . . . . . . . . . . . . . . . . . . . . . . . . . . . . . . . . . . . . . . . . . . . . . . . . . . . . . . . . . . . . . . . . . . . . . . . . . . . . . . . . . . . . . . . . . . . . . . . . . . . . . . . . . . . . . . . . . . . . "
     ]
    }
   ],
   "source": [
    "fnames = {\"invent_plots\":\"../shape_data/dataset_plots.geojson\"}\n",
    "gdf = gpd.read_file(fnames['invent_plots'])\n",
    "gdf.loc[:, 'key'] = gdf.index\n",
    "gdf=procces_gdf(gdf)\n",
    "dataset = Dataset(tiff_fname=None, scale=1)\n",
    "bands, terrain = dataset.prepare_forest_classes_dataset(gdf=gdf)\n",
    "col_2020 = [col for col in bands.columns if '2019' not in col]\n",
    "df = pd.concat([bands[col_2020[:-2]], terrain], axis=1)\n",
    "df = df.copy()\n",
    "df[['aspect','slope','wetnessindex','sink']] = df[['aspect','slope','wetnessindex','sink']].astype(float)\n",
    "forest = df[\"class\"] < 20\n",
    "df_resampled = df.loc[forest]\n",
    "_X = df_resampled.iloc[:, :-2]\n",
    "scaled = StandardScaler().fit_transform(_X)\n",
    "df_resampled.iloc[:, :-2] = scaled"
   ]
  },
  {
   "cell_type": "code",
   "execution_count": 204,
   "id": "adbe1dda",
   "metadata": {},
   "outputs": [],
   "source": [
    "df= df_resampled.loc[df_resampled['class'] < 8]"
   ]
  },
  {
   "cell_type": "code",
   "execution_count": null,
   "id": "b8ffe18f",
   "metadata": {},
   "outputs": [],
   "source": []
  },
  {
   "cell_type": "code",
   "execution_count": 205,
   "id": "324ebf14",
   "metadata": {},
   "outputs": [],
   "source": [
    "X = df.iloc[:, :-2].values\n",
    "labels_true = df['class'].values"
   ]
  },
  {
   "cell_type": "code",
   "execution_count": 207,
   "id": "c8385808",
   "metadata": {},
   "outputs": [
    {
     "name": "stdout",
     "output_type": "stream",
     "text": [
      "Estimated number of clusters: 0\n",
      "Estimated number of noise points: 1552\n",
      "Homogeneity: 0.000\n",
      "Completeness: 1.000\n",
      "V-measure: 0.000\n",
      "Adjusted Rand Index: 0.000\n",
      "Adjusted Mutual Information: 0.000\n"
     ]
    }
   ],
   "source": [
    "db = DBSCAN(eps=0.3, min_samples=10).fit(X)\n",
    "core_samples_mask = np.zeros_like(db.labels_, dtype=bool)\n",
    "core_samples_mask[db.core_sample_indices_] = True\n",
    "labels = db.labels_\n",
    "\n",
    "# Number of clusters in labels, ignoring noise if present.\n",
    "n_clusters_ = len(set(labels)) - (1 if -1 in labels else 0)\n",
    "n_noise_ = list(labels).count(-1)\n",
    "\n",
    "print(\"Estimated number of clusters: %d\" % n_clusters_)\n",
    "print(\"Estimated number of noise points: %d\" % n_noise_)\n",
    "print(\"Homogeneity: %0.3f\" % metrics.homogeneity_score(labels_true, labels))\n",
    "print(\"Completeness: %0.3f\" % metrics.completeness_score(labels_true, labels))\n",
    "print(\"V-measure: %0.3f\" % metrics.v_measure_score(labels_true, labels))\n",
    "print(\"Adjusted Rand Index: %0.3f\" % metrics.adjusted_rand_score(labels_true, labels))\n",
    "print(\n",
    "    \"Adjusted Mutual Information: %0.3f\"\n",
    "    % metrics.adjusted_mutual_info_score(labels_true, labels)\n",
    ")\n",
    "# print(\"Silhouette Coefficient: %0.3f\" % metrics.silhouette_score(X, labels))"
   ]
  },
  {
   "cell_type": "code",
   "execution_count": 208,
   "id": "a397067c",
   "metadata": {},
   "outputs": [
    {
     "data": {
      "image/png": "[encoded data removed]",
      "text/plain": [
       "<Figure size 432x288 with 1 Axes>"
      ]
     },
     "metadata": {
      "needs_background": "light"
     },
     "output_type": "display_data"
    }
   ],
   "source": [
    "import matplotlib.pyplot as plt\n",
    "\n",
    "# Black removed and is used for noise instead.\n",
    "unique_labels = set(labels)\n",
    "colors = [plt.cm.Spectral(each) for each in np.linspace(0, 1, len(unique_labels))]\n",
    "for k, col in zip(unique_labels, colors):\n",
    "    if k == -1:\n",
    "        # Black used for noise.\n",
    "        col = [0, 0, 0, 1]\n",
    "\n",
    "    class_member_mask = labels == k\n",
    "\n",
    "    xy = X[class_member_mask & core_samples_mask]\n",
    "    plt.plot(\n",
    "        xy[:, 0],\n",
    "        xy[:, 1],\n",
    "        \"o\",\n",
    "        markerfacecolor=tuple(col),\n",
    "        markeredgecolor=\"k\",\n",
    "        markersize=14,\n",
    "    )\n",
    "\n",
    "    xy = X[class_member_mask & ~core_samples_mask]\n",
    "    plt.plot(\n",
    "        xy[:, 0],\n",
    "        xy[:, 1],\n",
    "        \"o\",\n",
    "        markerfacecolor=tuple(col),\n",
    "        markeredgecolor=\"k\",\n",
    "        markersize=6,\n",
    "    )\n",
    "\n",
    "plt.title(\"Estimated number of clusters: %d\" % n_clusters_)\n",
    "plt.show()"
   ]
  },
  {
   "cell_type": "code",
   "execution_count": 209,
   "id": "4d6a3bd5",
   "metadata": {},
   "outputs": [],
   "source": [
    "from sklearn.manifold import TSNE"
   ]
  },
  {
   "cell_type": "code",
   "execution_count": 24,
   "id": "100cb9eb",
   "metadata": {},
   "outputs": [
    {
     "data": {
      "text/plain": [
       "[<matplotlib.lines.Line2D at 0x7fc2e3a823d0>]"
      ]
     },
     "execution_count": 24,
     "metadata": {},
     "output_type": "execute_result"
    },
    {
     "data": {
      "image/png": "[encoded data removed]",
      "text/plain": [
       "<Figure size 576x396 with 1 Axes>"
      ]
     },
     "metadata": {},
     "output_type": "display_data"
    }
   ],
   "source": [
    "plt.plot(x)"
   ]
  },
  {
   "cell_type": "code",
   "execution_count": 285,
   "id": "d4177969",
   "metadata": {},
   "outputs": [
    {
     "name": "stdout",
     "output_type": "stream",
     "text": [
      "[t-SNE] Computing 91 nearest neighbors...\n",
      "[t-SNE] Indexed 1552 samples in 0.002s...\n",
      "[t-SNE] Computed neighbors for 1552 samples in 0.760s...\n",
      "[t-SNE] Computed conditional probabilities for sample 1000 / 1552\n",
      "[t-SNE] Computed conditional probabilities for sample 1552 / 1552\n",
      "[t-SNE] Mean sigma: 1.522654\n",
      "[t-SNE] KL divergence after 250 iterations with early exaggeration: 64.012894\n",
      "[t-SNE] KL divergence after 1000 iterations: 0.420003\n"
     ]
    }
   ],
   "source": [
    "tsne = TSNE(n_components=2, verbose=1, random_state=123)\n",
    "z = tsne.fit_transform(X)"
   ]
  },
  {
   "cell_type": "code",
   "execution_count": 286,
   "id": "766c7c3b",
   "metadata": {},
   "outputs": [
    {
     "data": {
      "text/plain": [
       "[Text(0.5, 1.0, 'Iris data T-SNE projection')]"
      ]
     },
     "execution_count": 286,
     "metadata": {},
     "output_type": "execute_result"
    },
    {
     "data": {
      "image/png": "[encoded data removed]",
      "text/plain": [
       "<Figure size 432x288 with 1 Axes>"
      ]
     },
     "metadata": {
      "needs_background": "light"
     },
     "output_type": "display_data"
    }
   ],
   "source": [
    "from sklearn.manifold import TSNE\n",
    "tsne = TSNE(n_components=2, verbose=1, random_state=123)\n",
    "z = tsne.fit_transform(X)\n",
    "df = pd.DataFrame()\n",
    "df[\"y\"] = labels_true\n",
    "df[\"comp-1\"] = z[:,0]\n",
    "df[\"comp-2\"] = z[:,1]\n",
    "\n",
    "sns.scatterplot(x=\"comp-1\", y=\"comp-2\", hue=df.y.tolist(),\n",
    "                palette=sns.color_palette(\"hls\", 7),\n",
    "                data=df).set(title=\"Iris data T-SNE projection\")"
   ]
  },
  {
   "cell_type": "code",
   "execution_count": 284,
   "id": "4810e297",
   "metadata": {},
   "outputs": [
    {
     "data": {
      "text/html": [
       "<div>\n",
       "<style scoped>\n",
       "    .dataframe tbody tr th:only-of-type {\n",
       "        vertical-align: middle;\n",
       "    }\n",
       "\n",
       "    .dataframe tbody tr th {\n",
       "        vertical-align: top;\n",
       "    }\n",
       "\n",
       "    .dataframe thead th {\n",
       "        text-align: right;\n",
       "    }\n",
       "</style>\n",
       "<table border=\"1\" class=\"dataframe\">\n",
       "  <thead>\n",
       "    <tr style=\"text-align: right;\">\n",
       "      <th></th>\n",
       "      <th>2020-07-03_B01</th>\n",
       "      <th>2020-07-03_B02</th>\n",
       "      <th>2020-07-03_B03</th>\n",
       "      <th>2020-07-03_B04</th>\n",
       "      <th>2020-07-03_B05</th>\n",
       "      <th>2020-07-03_B06</th>\n",
       "      <th>2020-07-03_B07</th>\n",
       "      <th>2020-07-03_B08</th>\n",
       "      <th>2020-07-03_B8A</th>\n",
       "      <th>2020-07-03_B09</th>\n",
       "      <th>...</th>\n",
       "      <th>2020-08-17_NDVI</th>\n",
       "      <th>2020-08-17_EVI</th>\n",
       "      <th>2020-08-17_MSAVI</th>\n",
       "      <th>2020-08-17_NDRE</th>\n",
       "      <th>aspect</th>\n",
       "      <th>slope</th>\n",
       "      <th>wetnessindex</th>\n",
       "      <th>sink</th>\n",
       "      <th>key</th>\n",
       "      <th>class</th>\n",
       "    </tr>\n",
       "  </thead>\n",
       "  <tbody>\n",
       "    <tr>\n",
       "      <th>1</th>\n",
       "      <td>1.792429</td>\n",
       "      <td>1.348706</td>\n",
       "      <td>0.330713</td>\n",
       "      <td>0.312257</td>\n",
       "      <td>-0.095310</td>\n",
       "      <td>-0.253746</td>\n",
       "      <td>-0.268301</td>\n",
       "      <td>-0.281320</td>\n",
       "      <td>-0.242449</td>\n",
       "      <td>0.571983</td>\n",
       "      <td>...</td>\n",
       "      <td>0.371992</td>\n",
       "      <td>-0.074120</td>\n",
       "      <td>-0.127335</td>\n",
       "      <td>0.229506</td>\n",
       "      <td>1.367919</td>\n",
       "      <td>0.953838</td>\n",
       "      <td>0.910102</td>\n",
       "      <td>0.923583</td>\n",
       "      <td>0</td>\n",
       "      <td>7</td>\n",
       "    </tr>\n",
       "    <tr>\n",
       "      <th>2</th>\n",
       "      <td>1.792429</td>\n",
       "      <td>1.016141</td>\n",
       "      <td>0.385859</td>\n",
       "      <td>0.126729</td>\n",
       "      <td>-0.201537</td>\n",
       "      <td>0.000807</td>\n",
       "      <td>0.201008</td>\n",
       "      <td>-0.243810</td>\n",
       "      <td>0.060850</td>\n",
       "      <td>0.571983</td>\n",
       "      <td>...</td>\n",
       "      <td>0.329715</td>\n",
       "      <td>-0.104955</td>\n",
       "      <td>-0.158971</td>\n",
       "      <td>0.439258</td>\n",
       "      <td>1.408838</td>\n",
       "      <td>1.133018</td>\n",
       "      <td>0.910102</td>\n",
       "      <td>0.975758</td>\n",
       "      <td>0</td>\n",
       "      <td>7</td>\n",
       "    </tr>\n",
       "    <tr>\n",
       "      <th>3</th>\n",
       "      <td>1.792429</td>\n",
       "      <td>1.282193</td>\n",
       "      <td>0.291323</td>\n",
       "      <td>0.103538</td>\n",
       "      <td>-0.201537</td>\n",
       "      <td>0.000807</td>\n",
       "      <td>0.201008</td>\n",
       "      <td>-0.308327</td>\n",
       "      <td>0.060850</td>\n",
       "      <td>0.571983</td>\n",
       "      <td>...</td>\n",
       "      <td>0.282231</td>\n",
       "      <td>-0.190107</td>\n",
       "      <td>-0.247549</td>\n",
       "      <td>0.384072</td>\n",
       "      <td>1.436118</td>\n",
       "      <td>1.312197</td>\n",
       "      <td>0.910102</td>\n",
       "      <td>0.975758</td>\n",
       "      <td>0</td>\n",
       "      <td>7</td>\n",
       "    </tr>\n",
       "    <tr>\n",
       "      <th>4</th>\n",
       "      <td>1.792429</td>\n",
       "      <td>1.109259</td>\n",
       "      <td>0.165276</td>\n",
       "      <td>0.219493</td>\n",
       "      <td>-0.181865</td>\n",
       "      <td>0.016499</td>\n",
       "      <td>0.127631</td>\n",
       "      <td>-0.153785</td>\n",
       "      <td>0.071360</td>\n",
       "      <td>0.571983</td>\n",
       "      <td>...</td>\n",
       "      <td>0.371786</td>\n",
       "      <td>-0.007890</td>\n",
       "      <td>-0.056854</td>\n",
       "      <td>0.825016</td>\n",
       "      <td>1.463398</td>\n",
       "      <td>1.670557</td>\n",
       "      <td>0.910102</td>\n",
       "      <td>1.030659</td>\n",
       "      <td>0</td>\n",
       "      <td>7</td>\n",
       "    </tr>\n",
       "    <tr>\n",
       "      <th>5</th>\n",
       "      <td>1.792429</td>\n",
       "      <td>1.082654</td>\n",
       "      <td>-0.023796</td>\n",
       "      <td>0.003044</td>\n",
       "      <td>-0.181865</td>\n",
       "      <td>0.016499</td>\n",
       "      <td>0.127631</td>\n",
       "      <td>-0.486875</td>\n",
       "      <td>0.071360</td>\n",
       "      <td>0.571983</td>\n",
       "      <td>...</td>\n",
       "      <td>0.409103</td>\n",
       "      <td>-0.239694</td>\n",
       "      <td>-0.303155</td>\n",
       "      <td>0.611763</td>\n",
       "      <td>1.613438</td>\n",
       "      <td>1.670557</td>\n",
       "      <td>0.910102</td>\n",
       "      <td>1.030659</td>\n",
       "      <td>0</td>\n",
       "      <td>7</td>\n",
       "    </tr>\n",
       "    <tr>\n",
       "      <th>...</th>\n",
       "      <td>...</td>\n",
       "      <td>...</td>\n",
       "      <td>...</td>\n",
       "      <td>...</td>\n",
       "      <td>...</td>\n",
       "      <td>...</td>\n",
       "      <td>...</td>\n",
       "      <td>...</td>\n",
       "      <td>...</td>\n",
       "      <td>...</td>\n",
       "      <td>...</td>\n",
       "      <td>...</td>\n",
       "      <td>...</td>\n",
       "      <td>...</td>\n",
       "      <td>...</td>\n",
       "      <td>...</td>\n",
       "      <td>...</td>\n",
       "      <td>...</td>\n",
       "      <td>...</td>\n",
       "      <td>...</td>\n",
       "      <td>...</td>\n",
       "    </tr>\n",
       "    <tr>\n",
       "      <th>4</th>\n",
       "      <td>-0.009217</td>\n",
       "      <td>-0.141186</td>\n",
       "      <td>0.236177</td>\n",
       "      <td>0.057156</td>\n",
       "      <td>0.018786</td>\n",
       "      <td>-0.288617</td>\n",
       "      <td>-0.398239</td>\n",
       "      <td>-0.416356</td>\n",
       "      <td>-0.365571</td>\n",
       "      <td>-0.310101</td>\n",
       "      <td>...</td>\n",
       "      <td>-0.300856</td>\n",
       "      <td>-0.863239</td>\n",
       "      <td>-0.918285</td>\n",
       "      <td>-0.964674</td>\n",
       "      <td>-2.683160</td>\n",
       "      <td>0.057938</td>\n",
       "      <td>1.164150</td>\n",
       "      <td>1.083686</td>\n",
       "      <td>287</td>\n",
       "      <td>15</td>\n",
       "    </tr>\n",
       "    <tr>\n",
       "      <th>5</th>\n",
       "      <td>-0.009217</td>\n",
       "      <td>0.257893</td>\n",
       "      <td>0.385859</td>\n",
       "      <td>0.374099</td>\n",
       "      <td>0.018786</td>\n",
       "      <td>-0.288617</td>\n",
       "      <td>-0.398239</td>\n",
       "      <td>-0.272317</td>\n",
       "      <td>-0.365571</td>\n",
       "      <td>-0.310101</td>\n",
       "      <td>...</td>\n",
       "      <td>-0.323759</td>\n",
       "      <td>-0.735622</td>\n",
       "      <td>-0.788625</td>\n",
       "      <td>-0.749044</td>\n",
       "      <td>-1.455560</td>\n",
       "      <td>0.057938</td>\n",
       "      <td>1.164150</td>\n",
       "      <td>0.943686</td>\n",
       "      <td>287</td>\n",
       "      <td>15</td>\n",
       "    </tr>\n",
       "    <tr>\n",
       "      <th>6</th>\n",
       "      <td>-0.009217</td>\n",
       "      <td>-0.034765</td>\n",
       "      <td>0.015594</td>\n",
       "      <td>-0.035608</td>\n",
       "      <td>-0.020558</td>\n",
       "      <td>-0.332204</td>\n",
       "      <td>-0.538879</td>\n",
       "      <td>-0.378846</td>\n",
       "      <td>-0.421125</td>\n",
       "      <td>-0.310101</td>\n",
       "      <td>...</td>\n",
       "      <td>-0.290550</td>\n",
       "      <td>-0.672576</td>\n",
       "      <td>-0.725979</td>\n",
       "      <td>-0.790179</td>\n",
       "      <td>0.385839</td>\n",
       "      <td>-0.300422</td>\n",
       "      <td>-0.868234</td>\n",
       "      <td>1.083686</td>\n",
       "      <td>287</td>\n",
       "      <td>15</td>\n",
       "    </tr>\n",
       "    <tr>\n",
       "      <th>7</th>\n",
       "      <td>-0.009217</td>\n",
       "      <td>-0.300817</td>\n",
       "      <td>0.165276</td>\n",
       "      <td>-0.020147</td>\n",
       "      <td>0.065998</td>\n",
       "      <td>-0.271181</td>\n",
       "      <td>-0.523592</td>\n",
       "      <td>-0.512382</td>\n",
       "      <td>-0.364069</td>\n",
       "      <td>-0.310101</td>\n",
       "      <td>...</td>\n",
       "      <td>-0.198935</td>\n",
       "      <td>-0.677727</td>\n",
       "      <td>-0.734866</td>\n",
       "      <td>-0.824091</td>\n",
       "      <td>-2.069360</td>\n",
       "      <td>0.237118</td>\n",
       "      <td>1.164150</td>\n",
       "      <td>1.083686</td>\n",
       "      <td>287</td>\n",
       "      <td>15</td>\n",
       "    </tr>\n",
       "    <tr>\n",
       "      <th>8</th>\n",
       "      <td>-0.009217</td>\n",
       "      <td>0.284498</td>\n",
       "      <td>0.417371</td>\n",
       "      <td>0.157650</td>\n",
       "      <td>0.065998</td>\n",
       "      <td>-0.271181</td>\n",
       "      <td>-0.523592</td>\n",
       "      <td>-0.270817</td>\n",
       "      <td>-0.364069</td>\n",
       "      <td>-0.310101</td>\n",
       "      <td>...</td>\n",
       "      <td>-0.255345</td>\n",
       "      <td>-0.677107</td>\n",
       "      <td>-0.732013</td>\n",
       "      <td>-0.779167</td>\n",
       "      <td>-2.069360</td>\n",
       "      <td>0.237118</td>\n",
       "      <td>1.164150</td>\n",
       "      <td>0.943686</td>\n",
       "      <td>287</td>\n",
       "      <td>15</td>\n",
       "    </tr>\n",
       "  </tbody>\n",
       "</table>\n",
       "<p>17433 rows × 118 columns</p>\n",
       "</div>"
      ],
      "text/plain": [
       "    2020-07-03_B01  2020-07-03_B02  2020-07-03_B03  2020-07-03_B04  \\\n",
       "1         1.792429        1.348706        0.330713        0.312257   \n",
       "2         1.792429        1.016141        0.385859        0.126729   \n",
       "3         1.792429        1.282193        0.291323        0.103538   \n",
       "4         1.792429        1.109259        0.165276        0.219493   \n",
       "5         1.792429        1.082654       -0.023796        0.003044   \n",
       "..             ...             ...             ...             ...   \n",
       "4        -0.009217       -0.141186        0.236177        0.057156   \n",
       "5        -0.009217        0.257893        0.385859        0.374099   \n",
       "6        -0.009217       -0.034765        0.015594       -0.035608   \n",
       "7        -0.009217       -0.300817        0.165276       -0.020147   \n",
       "8        -0.009217        0.284498        0.417371        0.157650   \n",
       "\n",
       "    2020-07-03_B05  2020-07-03_B06  2020-07-03_B07  2020-07-03_B08  \\\n",
       "1        -0.095310       -0.253746       -0.268301       -0.281320   \n",
       "2        -0.201537        0.000807        0.201008       -0.243810   \n",
       "3        -0.201537        0.000807        0.201008       -0.308327   \n",
       "4        -0.181865        0.016499        0.127631       -0.153785   \n",
       "5        -0.181865        0.016499        0.127631       -0.486875   \n",
       "..             ...             ...             ...             ...   \n",
       "4         0.018786       -0.288617       -0.398239       -0.416356   \n",
       "5         0.018786       -0.288617       -0.398239       -0.272317   \n",
       "6        -0.020558       -0.332204       -0.538879       -0.378846   \n",
       "7         0.065998       -0.271181       -0.523592       -0.512382   \n",
       "8         0.065998       -0.271181       -0.523592       -0.270817   \n",
       "\n",
       "    2020-07-03_B8A  2020-07-03_B09  ...  2020-08-17_NDVI  2020-08-17_EVI  \\\n",
       "1        -0.242449        0.571983  ...         0.371992       -0.074120   \n",
       "2         0.060850        0.571983  ...         0.329715       -0.104955   \n",
       "3         0.060850        0.571983  ...         0.282231       -0.190107   \n",
       "4         0.071360        0.571983  ...         0.371786       -0.007890   \n",
       "5         0.071360        0.571983  ...         0.409103       -0.239694   \n",
       "..             ...             ...  ...              ...             ...   \n",
       "4        -0.365571       -0.310101  ...        -0.300856       -0.863239   \n",
       "5        -0.365571       -0.310101  ...        -0.323759       -0.735622   \n",
       "6        -0.421125       -0.310101  ...        -0.290550       -0.672576   \n",
       "7        -0.364069       -0.310101  ...        -0.198935       -0.677727   \n",
       "8        -0.364069       -0.310101  ...        -0.255345       -0.677107   \n",
       "\n",
       "    2020-08-17_MSAVI  2020-08-17_NDRE    aspect     slope  wetnessindex  \\\n",
       "1          -0.127335         0.229506  1.367919  0.953838      0.910102   \n",
       "2          -0.158971         0.439258  1.408838  1.133018      0.910102   \n",
       "3          -0.247549         0.384072  1.436118  1.312197      0.910102   \n",
       "4          -0.056854         0.825016  1.463398  1.670557      0.910102   \n",
       "5          -0.303155         0.611763  1.613438  1.670557      0.910102   \n",
       "..               ...              ...       ...       ...           ...   \n",
       "4          -0.918285        -0.964674 -2.683160  0.057938      1.164150   \n",
       "5          -0.788625        -0.749044 -1.455560  0.057938      1.164150   \n",
       "6          -0.725979        -0.790179  0.385839 -0.300422     -0.868234   \n",
       "7          -0.734866        -0.824091 -2.069360  0.237118      1.164150   \n",
       "8          -0.732013        -0.779167 -2.069360  0.237118      1.164150   \n",
       "\n",
       "        sink  key  class  \n",
       "1   0.923583    0      7  \n",
       "2   0.975758    0      7  \n",
       "3   0.975758    0      7  \n",
       "4   1.030659    0      7  \n",
       "5   1.030659    0      7  \n",
       "..       ...  ...    ...  \n",
       "4   1.083686  287     15  \n",
       "5   0.943686  287     15  \n",
       "6   1.083686  287     15  \n",
       "7   1.083686  287     15  \n",
       "8   0.943686  287     15  \n",
       "\n",
       "[17433 rows x 118 columns]"
      ]
     },
     "execution_count": 284,
     "metadata": {},
     "output_type": "execute_result"
    }
   ],
   "source": [
    "df_resampled"
   ]
  },
  {
   "cell_type": "code",
   "execution_count": 18,
   "id": "b1661930",
   "metadata": {},
   "outputs": [],
   "source": [
    "x = [34773627.69,\n",
    "108809.4629,\n",
    "4328.761281,\n",
    "15.91542285,\n",
    "6.830975986,\n",
    "10,\n",
    "2.947051703,\n",
    "28.22956756,\n",
    "2.041737945,\n",
    "1]"
   ]
  },
  {
   "cell_type": "code",
   "execution_count": 27,
   "id": "b8d94d06",
   "metadata": {},
   "outputs": [
    {
     "data": {
      "image/png": "[encoded data removed]",
      "text/plain": [
       "<Figure size 576x396 with 1 Axes>"
      ]
     },
     "metadata": {},
     "output_type": "display_data"
    }
   ],
   "source": [
    "plt.plot(np.log(x))\n",
    "plt.ylabel('Log EC50')\n",
    "plt.show()"
   ]
  },
  {
   "cell_type": "code",
   "execution_count": 1,
   "id": "edc33f99",
   "metadata": {},
   "outputs": [],
   "source": [
    "import rasterio as rio\n"
   ]
  },
  {
   "cell_type": "code",
   "execution_count": 7,
   "id": "6c384901",
   "metadata": {},
   "outputs": [
    {
     "name": "stdout",
     "output_type": "stream",
     "text": [
      "(3461, 3159)\n",
      "(3461, 3159)\n"
     ]
    }
   ],
   "source": [
    "fname = '../rasters/bands_and_terrain.tiff'\n",
    "with rio.open(fname, 'r+') as src: \n",
    "    x1 = src.read(1)\n",
    "    print(x1.shape)\n",
    "\n",
    "    x11 = src.read(11)\n",
    "    print(x11.shape)\n",
    "#     print(src.shape)"
   ]
  },
  {
   "cell_type": "code",
   "execution_count": 4,
   "id": "1e478d5a",
   "metadata": {},
   "outputs": [],
   "source": [
    "import matplotlib.pyplot as plt"
   ]
  },
  {
   "cell_type": "code",
   "execution_count": 5,
   "id": "19b587d2",
   "metadata": {},
   "outputs": [
    {
     "data": {
      "text/plain": [
       "<matplotlib.image.AxesImage at 0x11e79ee80>"
      ]
     },
     "execution_count": 5,
     "metadata": {},
     "output_type": "execute_result"
    },
    {
     "data": {
      "image/png": "[encoded data removed]",
      "text/plain": [
       "<Figure size 432x288 with 1 Axes>"
      ]
     },
     "metadata": {
      "needs_background": "light"
     },
     "output_type": "display_data"
    }
   ],
   "source": [
    "plt.imshow(x)"
   ]
  },
  {
   "cell_type": "code",
   "execution_count": 6,
   "id": "a1c1e9ea",
   "metadata": {},
   "outputs": [
    {
     "data": {
      "text/plain": [
       "{'driver': 'GTiff',\n",
       " 'dtype': 'float64',\n",
       " 'nodata': None,\n",
       " 'width': 3159,\n",
       " 'height': 3461,\n",
       " 'count': 20,\n",
       " 'crs': CRS.from_epsg(32647),\n",
       " 'transform': Affine(10.0, 0.0, 652275.7556,\n",
       "        0.0, -10.0, 6306481.6333)}"
      ]
     },
     "execution_count": 6,
     "metadata": {},
     "output_type": "execute_result"
    }
   ],
   "source": [
    "src.meta"
   ]
  },
  {
   "cell_type": "code",
   "execution_count": null,
   "id": "a90a7b46",
   "metadata": {},
   "outputs": [],
   "source": []
  }
 ],
 "metadata": {
  "kernelspec": {
   "display_name": "Python 3 (ipykernel)",
   "language": "python",
   "name": "python3"
  },
  "language_info": {
   "codemirror_mode": {
    "name": "ipython",
    "version": 3
   },
   "file_extension": ".py",
   "mimetype": "text/x-python",
   "name": "python",
   "nbconvert_exporter": "python",
   "pygments_lexer": "ipython3",
   "version": "3.11.8"
  },
  "vscode": {
   "interpreter": {
    "hash": "2624297a14b2e5b247b0fc8a92b75a581cd32613a3f7f56c6b107af7b0801f07"
   }
  }
 },
 "nbformat": 4,
 "nbformat_minor": 5
}
