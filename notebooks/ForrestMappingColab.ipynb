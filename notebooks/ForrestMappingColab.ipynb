{
 "cells": [
  {
   "cell_type": "markdown",
   "id": "286eda6f",
   "metadata": {
    "id": "286eda6f"
   },
   "source": [
    "## ForrestMapping 🍃🌲\n",
    "-----\n",
    "\n",
    "\n",
    "Forest species mapping supported with machine learning."
   ]
  },
  {
   "cell_type": "code",
   "execution_count": null,
   "id": "KhWK5NY8t5oS",
   "metadata": {
    "colab": {
     "base_uri": "https://localhost:8080/"
    },
    "id": "KhWK5NY8t5oS",
    "outputId": "8bce9b51-b853-478e-bc5f-a3927291de46"
   },
   "outputs": [
    {
     "name": "stdout",
     "output_type": "stream",
     "text": [
      "Cloning into 'ForestMapping'...\n",
      "remote: Enumerating objects: 206, done.\u001b[K\n",
      "remote: Counting objects: 100% (26/26), done.\u001b[K\n",
      "remote: Compressing objects: 100% (8/8), done.\u001b[K\n",
      "remote: Total 206 (delta 20), reused 20 (delta 18), pack-reused 180\u001b[K\n",
      "Receiving objects: 100% (206/206), 31.37 MiB | 16.20 MiB/s, done.\n",
      "Resolving deltas: 100% (108/108), done.\n"
     ]
    }
   ],
   "source": [
    "# clone utils functions and input datasets from github\n",
    "!git clone https://github.com/mishagrol/ForestMapping.git"
   ]
  },
  {
   "cell_type": "code",
   "execution_count": null,
   "id": "x39ilsOnt9A_",
   "metadata": {
    "colab": {
     "base_uri": "https://localhost:8080/"
    },
    "id": "x39ilsOnt9A_",
    "outputId": "a2bc2a0b-ff8c-4ca0-e861-e926b3cb1ff9"
   },
   "outputs": [
    {
     "name": "stdout",
     "output_type": "stream",
     "text": [
      "/content/ForestMapping/notebooks\n"
     ]
    }
   ],
   "source": [
    "# setup working dir\n",
    "%cd /content/ForestMapping/notebooks"
   ]
  },
  {
   "cell_type": "code",
   "execution_count": null,
   "id": "0e7f2412",
   "metadata": {
    "id": "0e7f2412"
   },
   "outputs": [],
   "source": [
    "# !pip3 -q install seaborn\n",
    "# !pip3 -q install cartopy\n",
    "# !pip3 -q install verde\n",
    "!pip3 -q install wget\n",
    "!pip3 -q install geopandas rasterio\n",
    "# !pip3 -q install contextily\n",
    "# # !pip3 -q install xgboost\n",
    "# # !pip -q install imbalanced-learn\n",
    "!pip3 -q install yellowbrick"
   ]
  },
  {
   "cell_type": "code",
   "execution_count": null,
   "id": "63c22ff1",
   "metadata": {
    "id": "63c22ff1"
   },
   "outputs": [],
   "source": [
    "import pandas as pd\n",
    "import geopandas as gpd\n",
    "import rasterio as rio \n",
    "from rasterio.mask import mask as crop_mask\n",
    "import os, wget\n",
    "from collections import Counter\n",
    "import numpy as np\n",
    "# import verde as vd\n",
    "from shapely.geometry import box\n",
    "# from imblearn.under_sampling import RandomUnderSampler \n",
    "from tqdm.notebook import tqdm\n",
    "import seaborn as sns\n",
    "import matplotlib.pyplot as plt\n",
    "from joblib import dump, load\n",
    "import enum \n",
    "import datetime as dt\n",
    "\n",
    "from shapely import affinity\n",
    "from sklearn.cluster import KMeans\n",
    "from sklearn.preprocessing import StandardScaler\n",
    "from sklearn import model_selection\n",
    "from sklearn.linear_model import LogisticRegression, RidgeClassifier\n",
    "from sklearn.svm import SVC\n",
    "from sklearn.neighbors import KNeighborsClassifier\n",
    "from sklearn.ensemble import RandomForestClassifier, ExtraTreesClassifier, GradientBoostingClassifier\n",
    "from sklearn.tree import DecisionTreeClassifier\n",
    "from sklearn.metrics import accuracy_score, roc_auc_score, f1_score, cohen_kappa_score\n",
    "from sklearn.model_selection import train_test_split, cross_val_score, KFold\n",
    "from sklearn.utils.class_weight import compute_class_weight\n",
    "from sklearn.metrics import make_scorer\n",
    "\n",
    "# from imblearn.over_sampling import SMOTE \n",
    "# from imblearn.combine import SMOTEENN, SMOTETomek\n",
    "from sklearn.model_selection import GridSearchCV, RandomizedSearchCV\n",
    "from scipy.stats import loguniform\n",
    "# from xgboost import XGBClassifier\n",
    "\n",
    "\n",
    "import tensorflow as tf\n",
    "from tensorflow import keras\n",
    "from tensorflow.keras.layers import Input, Dense, Conv1D, MaxPooling1D, Dropout, Flatten\n",
    "from tensorflow.keras.models import Sequential\n",
    "from tensorflow.keras.utils import to_categorical\n",
    "\n",
    "from tensorflow.keras.callbacks import EarlyStopping, ModelCheckpoint, TensorBoard\n",
    "\n",
    "from tqdm import tqdm\n",
    "from numpy.random import seed\n",
    "from time import time\n"
   ]
  },
  {
   "cell_type": "code",
   "execution_count": null,
   "id": "32a54dbd",
   "metadata": {
    "id": "32a54dbd"
   },
   "outputs": [],
   "source": [
    "import warnings\n",
    "warnings.filterwarnings('ignore')"
   ]
  },
  {
   "cell_type": "code",
   "execution_count": null,
   "id": "55264e69",
   "metadata": {
    "colab": {
     "base_uri": "https://localhost:8080/"
    },
    "id": "55264e69",
    "outputId": "50eb69e3-875c-489a-fdd8-b66b14596007"
   },
   "outputs": [
    {
     "data": {
      "text/plain": [
       "<module 'utils' from '/content/ForestMapping/notebooks/utils.py'>"
      ]
     },
     "execution_count": 8,
     "metadata": {},
     "output_type": "execute_result"
    }
   ],
   "source": [
    "import importlib\n",
    "import utils\n",
    "importlib.reload(utils)"
   ]
  },
  {
   "cell_type": "markdown",
   "id": "35992688",
   "metadata": {
    "id": "35992688"
   },
   "source": [
    "## 1. Data Preparation"
   ]
  },
  {
   "cell_type": "markdown",
   "id": "sYC_C4GwwW9j",
   "metadata": {
    "id": "sYC_C4GwwW9j"
   },
   "source": [
    "### 1.1 Read input geojson with forest inventory plots (near 800 plots) and polygons for another classes"
   ]
  },
  {
   "cell_type": "code",
   "execution_count": null,
   "id": "3d388e82",
   "metadata": {
    "id": "3d388e82"
   },
   "outputs": [],
   "source": [
    "# dataset with ~280 points with threshold > 80 %\n",
    "# small_dataset = \"../shape_data/dataset_plots.geojson\"\n",
    "# full dataset with ~800\n",
    "\n",
    "full_dataset = \"../shape_data/forest.geojson\"\n",
    "gdf = gpd.read_file(full_dataset)\n",
    "non_forest=gpd.read_file('../shape_data/non_forest_settlements.geojson')\n",
    "\n",
    "# threshold=80 -> Percent of main forest type for inventory plot\n",
    "gdf = utils.get_gdf_dataset(gdf=gdf, non_forest=non_forest,  threshold=70)\n",
    "gdf = gdf.reset_index(drop=True)\n",
    "gdf.loc[:, 'key'] = gdf.index\n"
   ]
  },
  {
   "cell_type": "code",
   "execution_count": null,
   "id": "B6121W51wk2n",
   "metadata": {
    "colab": {
     "base_uri": "https://localhost:8080/",
     "height": 393
    },
    "id": "B6121W51wk2n",
    "outputId": "95a8ce88-dfd6-4f4d-f220-12e81cc3a3d3"
   },
   "outputs": [
    {
     "data": {
      "text/html": [
       "\n",
       "  <div id=\"df-d53cbfb4-0d55-4315-87e0-33ef25fa4591\">\n",
       "    <div class=\"colab-df-container\">\n",
       "      <div>\n",
       "<style scoped>\n",
       "    .dataframe tbody tr th:only-of-type {\n",
       "        vertical-align: middle;\n",
       "    }\n",
       "\n",
       "    .dataframe tbody tr th {\n",
       "        vertical-align: top;\n",
       "    }\n",
       "\n",
       "    .dataframe thead th {\n",
       "        text-align: right;\n",
       "    }\n",
       "</style>\n",
       "<table border=\"1\" class=\"dataframe\">\n",
       "  <thead>\n",
       "    <tr style=\"text-align: right;\">\n",
       "      <th></th>\n",
       "      <th>Plot_ID</th>\n",
       "      <th>xc</th>\n",
       "      <th>yc</th>\n",
       "      <th>Plot_ID_1</th>\n",
       "      <th>HDOM_check</th>\n",
       "      <th>HGW_check</th>\n",
       "      <th>HGW</th>\n",
       "      <th>HGW11</th>\n",
       "      <th>HGW12</th>\n",
       "      <th>HGW13</th>\n",
       "      <th>...</th>\n",
       "      <th>LSTV_PRC</th>\n",
       "      <th>PICH_PRC</th>\n",
       "      <th>SOS_PRC</th>\n",
       "      <th>BER_PRC</th>\n",
       "      <th>OS_PRC</th>\n",
       "      <th>V_PRC_ALL</th>\n",
       "      <th>geometry</th>\n",
       "      <th>t_Клас</th>\n",
       "      <th>t_Class</th>\n",
       "      <th>key</th>\n",
       "    </tr>\n",
       "  </thead>\n",
       "  <tbody>\n",
       "    <tr>\n",
       "      <th>0</th>\n",
       "      <td>3</td>\n",
       "      <td>6277777.327</td>\n",
       "      <td>285378.869</td>\n",
       "      <td>3</td>\n",
       "      <td>24.470646</td>\n",
       "      <td>21.391274</td>\n",
       "      <td>21.487636</td>\n",
       "      <td>0.0</td>\n",
       "      <td>0.0</td>\n",
       "      <td>14.900000</td>\n",
       "      <td>...</td>\n",
       "      <td>1.0</td>\n",
       "      <td>0.0</td>\n",
       "      <td>85.0</td>\n",
       "      <td>13.0</td>\n",
       "      <td>1.0</td>\n",
       "      <td>100.0</td>\n",
       "      <td>MULTIPOLYGON (((653743.455 6275122.880, 653745...</td>\n",
       "      <td>С</td>\n",
       "      <td>7</td>\n",
       "      <td>0</td>\n",
       "    </tr>\n",
       "    <tr>\n",
       "      <th>1</th>\n",
       "      <td>12</td>\n",
       "      <td>6276850.358</td>\n",
       "      <td>294160.515</td>\n",
       "      <td>12</td>\n",
       "      <td>26.914998</td>\n",
       "      <td>23.700900</td>\n",
       "      <td>24.023517</td>\n",
       "      <td>0.0</td>\n",
       "      <td>0.0</td>\n",
       "      <td>25.692765</td>\n",
       "      <td>...</td>\n",
       "      <td>10.0</td>\n",
       "      <td>6.0</td>\n",
       "      <td>76.0</td>\n",
       "      <td>8.0</td>\n",
       "      <td>0.0</td>\n",
       "      <td>100.0</td>\n",
       "      <td>MULTIPOLYGON (((662570.426 6274966.412, 662571...</td>\n",
       "      <td>С</td>\n",
       "      <td>7</td>\n",
       "      <td>1</td>\n",
       "    </tr>\n",
       "    <tr>\n",
       "      <th>2</th>\n",
       "      <td>14</td>\n",
       "      <td>6278306.372</td>\n",
       "      <td>288548.643</td>\n",
       "      <td>14</td>\n",
       "      <td>21.751233</td>\n",
       "      <td>17.894049</td>\n",
       "      <td>17.894049</td>\n",
       "      <td>0.0</td>\n",
       "      <td>0.0</td>\n",
       "      <td>0.000000</td>\n",
       "      <td>...</td>\n",
       "      <td>0.0</td>\n",
       "      <td>0.0</td>\n",
       "      <td>92.0</td>\n",
       "      <td>5.0</td>\n",
       "      <td>3.0</td>\n",
       "      <td>100.0</td>\n",
       "      <td>MULTIPOLYGON (((656854.099 6275926.535, 656855...</td>\n",
       "      <td>С</td>\n",
       "      <td>7</td>\n",
       "      <td>2</td>\n",
       "    </tr>\n",
       "  </tbody>\n",
       "</table>\n",
       "<p>3 rows × 83 columns</p>\n",
       "</div>\n",
       "      <button class=\"colab-df-convert\" onclick=\"convertToInteractive('df-d53cbfb4-0d55-4315-87e0-33ef25fa4591')\"\n",
       "              title=\"Convert this dataframe to an interactive table.\"\n",
       "              style=\"display:none;\">\n",
       "        \n",
       "  <svg xmlns=\"http://www.w3.org/2000/svg\" height=\"24px\"viewBox=\"0 0 24 24\"\n",
       "       width=\"24px\">\n",
       "    <path d=\"M0 0h24v24H0V0z\" fill=\"none\"/>\n",
       "    <path d=\"M18.56 5.44l.94 2.06.94-2.06 2.06-.94-2.06-.94-.94-2.06-.94 2.06-2.06.94zm-11 1L8.5 8.5l.94-2.06 2.06-.94-2.06-.94L8.5 2.5l-.94 2.06-2.06.94zm10 10l.94 2.06.94-2.06 2.06-.94-2.06-.94-.94-2.06-.94 2.06-2.06.94z\"/><path d=\"M17.41 7.96l-1.37-1.37c-.4-.4-.92-.59-1.43-.59-.52 0-1.04.2-1.43.59L10.3 9.45l-7.72 7.72c-.78.78-.78 2.05 0 2.83L4 21.41c.39.39.9.59 1.41.59.51 0 1.02-.2 1.41-.59l7.78-7.78 2.81-2.81c.8-.78.8-2.07 0-2.86zM5.41 20L4 18.59l7.72-7.72 1.47 1.35L5.41 20z\"/>\n",
       "  </svg>\n",
       "      </button>\n",
       "      \n",
       "  <style>\n",
       "    .colab-df-container {\n",
       "      display:flex;\n",
       "      flex-wrap:wrap;\n",
       "      gap: 12px;\n",
       "    }\n",
       "\n",
       "    .colab-df-convert {\n",
       "      background-color: #E8F0FE;\n",
       "      border: none;\n",
       "      border-radius: 50%;\n",
       "      cursor: pointer;\n",
       "      display: none;\n",
       "      fill: #1967D2;\n",
       "      height: 32px;\n",
       "      padding: 0 0 0 0;\n",
       "      width: 32px;\n",
       "    }\n",
       "\n",
       "    .colab-df-convert:hover {\n",
       "      background-color: #E2EBFA;\n",
       "      box-shadow: 0px 1px 2px rgba(60, 64, 67, 0.3), 0px 1px 3px 1px rgba(60, 64, 67, 0.15);\n",
       "      fill: #174EA6;\n",
       "    }\n",
       "\n",
       "    [theme=dark] .colab-df-convert {\n",
       "      background-color: #3B4455;\n",
       "      fill: #D2E3FC;\n",
       "    }\n",
       "\n",
       "    [theme=dark] .colab-df-convert:hover {\n",
       "      background-color: #434B5C;\n",
       "      box-shadow: 0px 1px 3px 1px rgba(0, 0, 0, 0.15);\n",
       "      filter: drop-shadow(0px 1px 2px rgba(0, 0, 0, 0.3));\n",
       "      fill: #FFFFFF;\n",
       "    }\n",
       "  </style>\n",
       "\n",
       "      <script>\n",
       "        const buttonEl =\n",
       "          document.querySelector('#df-d53cbfb4-0d55-4315-87e0-33ef25fa4591 button.colab-df-convert');\n",
       "        buttonEl.style.display =\n",
       "          google.colab.kernel.accessAllowed ? 'block' : 'none';\n",
       "\n",
       "        async function convertToInteractive(key) {\n",
       "          const element = document.querySelector('#df-d53cbfb4-0d55-4315-87e0-33ef25fa4591');\n",
       "          const dataTable =\n",
       "            await google.colab.kernel.invokeFunction('convertToInteractive',\n",
       "                                                     [key], {});\n",
       "          if (!dataTable) return;\n",
       "\n",
       "          const docLinkHtml = 'Like what you see? Visit the ' +\n",
       "            '<a target=\"_blank\" href=https://colab.research.google.com/notebooks/data_table.ipynb>data table notebook</a>'\n",
       "            + ' to learn more about interactive tables.';\n",
       "          element.innerHTML = '';\n",
       "          dataTable['output_type'] = 'display_data';\n",
       "          await google.colab.output.renderOutput(dataTable, element);\n",
       "          const docLink = document.createElement('div');\n",
       "          docLink.innerHTML = docLinkHtml;\n",
       "          element.appendChild(docLink);\n",
       "        }\n",
       "      </script>\n",
       "    </div>\n",
       "  </div>\n",
       "  "
      ],
      "text/plain": [
       "   Plot_ID           xc          yc  Plot_ID_1  HDOM_check  HGW_check  \\\n",
       "0        3  6277777.327  285378.869          3   24.470646  21.391274   \n",
       "1       12  6276850.358  294160.515         12   26.914998  23.700900   \n",
       "2       14  6278306.372  288548.643         14   21.751233  17.894049   \n",
       "\n",
       "         HGW  HGW11  HGW12      HGW13  ...  LSTV_PRC  PICH_PRC  SOS_PRC  \\\n",
       "0  21.487636    0.0    0.0  14.900000  ...       1.0       0.0     85.0   \n",
       "1  24.023517    0.0    0.0  25.692765  ...      10.0       6.0     76.0   \n",
       "2  17.894049    0.0    0.0   0.000000  ...       0.0       0.0     92.0   \n",
       "\n",
       "   BER_PRC  OS_PRC  V_PRC_ALL  \\\n",
       "0     13.0     1.0      100.0   \n",
       "1      8.0     0.0      100.0   \n",
       "2      5.0     3.0      100.0   \n",
       "\n",
       "                                            geometry  t_Клас  t_Class  key  \n",
       "0  MULTIPOLYGON (((653743.455 6275122.880, 653745...       С        7    0  \n",
       "1  MULTIPOLYGON (((662570.426 6274966.412, 662571...       С        7    1  \n",
       "2  MULTIPOLYGON (((656854.099 6275926.535, 656855...       С        7    2  \n",
       "\n",
       "[3 rows x 83 columns]"
      ]
     },
     "execution_count": 10,
     "metadata": {},
     "output_type": "execute_result"
    }
   ],
   "source": [
    "gdf.head(3)"
   ]
  },
  {
   "cell_type": "markdown",
   "id": "5dc46f4a",
   "metadata": {
    "id": "5dc46f4a"
   },
   "source": [
    "Drop small forest classes"
   ]
  },
  {
   "cell_type": "code",
   "execution_count": null,
   "id": "a41687a8",
   "metadata": {
    "id": "a41687a8"
   },
   "outputs": [],
   "source": [
    "# mask = gdf['t_Class'] != 6\n",
    "# gdf = gdf.loc[mask]\n",
    "\n",
    "mask = gdf['t_Class'] != 2\n",
    "gdf = gdf.loc[mask]\n",
    "\n",
    "mask = gdf['t_Class'] != 4\n",
    "gdf = gdf.loc[mask]\n",
    "\n",
    "mask = gdf['t_Class'] != 3\n",
    "gdf = gdf.loc[mask]"
   ]
  },
  {
   "cell_type": "markdown",
   "id": "6b0be0de",
   "metadata": {
    "id": "6b0be0de"
   },
   "source": [
    "### 1.3 Download and read input GeoTiff file with Sentinel-2 L2A bands and terrain features"
   ]
  },
  {
   "cell_type": "code",
   "execution_count": null,
   "id": "9509db06",
   "metadata": {
    "colab": {
     "base_uri": "https://localhost:8080/"
    },
    "id": "9509db06",
    "outputId": "3dbd1680-aac9-43a7-af72-163f0818fa35",
    "scrolled": true
   },
   "outputs": [
    {
     "name": "stdout",
     "output_type": "stream",
     "text": [
      "Radius of forest plot: 26.92\n",
      "Start preparing bands  -- Done ✅\n",
      "Start preparing terrain\n",
      " -- Done ✅\n"
     ]
    }
   ],
   "source": [
    "dataset = utils.Dataset()\n",
    "dataset.download_dataset()\n",
    "\n",
    "gdf=dataset.procces_gdf(gdf)\n",
    "bands, terrain = dataset.get_dataset(gdf=gdf, scale=3.0)"
   ]
  },
  {
   "cell_type": "code",
   "execution_count": null,
   "id": "45bb627c",
   "metadata": {
    "id": "45bb627c"
   },
   "outputs": [],
   "source": [
    "df = pd.concat([bands.iloc[:,:-2], terrain], axis=1)"
   ]
  },
  {
   "cell_type": "code",
   "execution_count": null,
   "id": "bFYi128zwXaC",
   "metadata": {
    "id": "bFYi128zwXaC"
   },
   "outputs": [],
   "source": [
    "# Optional\n",
    "!mkdir ../models"
   ]
  },
  {
   "cell_type": "markdown",
   "id": "M9qWZVmWxKZp",
   "metadata": {
    "id": "M9qWZVmWxKZp"
   },
   "source": [
    "### 1.4 Scale dataset to 0 mean and 1 std, and save model to use in inference step"
   ]
  },
  {
   "cell_type": "code",
   "execution_count": null,
   "id": "3c7b742f",
   "metadata": {
    "colab": {
     "base_uri": "https://localhost:8080/"
    },
    "id": "3c7b742f",
    "outputId": "f1fdb219-5162-47d0-b488-ec9f1694a8f1"
   },
   "outputs": [
    {
     "data": {
      "text/plain": [
       "['../models/forest_scaler.joblib']"
      ]
     },
     "execution_count": 17,
     "metadata": {},
     "output_type": "execute_result"
    }
   ],
   "source": [
    "forest_scaler = StandardScaler()\n",
    "\n",
    "forest_scaler.fit(df.iloc[:, :-2].values)\n",
    "\n",
    "scaled_values = forest_scaler.transform(df.iloc[:, :-2].values)\n",
    "\n",
    "dump(forest_scaler, '../models/forest_scaler.joblib') "
   ]
  },
  {
   "cell_type": "code",
   "execution_count": null,
   "id": "1e8243a6",
   "metadata": {
    "id": "1e8243a6"
   },
   "outputs": [],
   "source": [
    "# save scaled input dataset into csv file\n",
    "df.iloc[:, :-2] = scaled_values\n",
    "df.to_csv('settlements.csv')"
   ]
  },
  {
   "cell_type": "markdown",
   "id": "f960d32c",
   "metadata": {
    "id": "f960d32c"
   },
   "source": [
    "### 1.5 Clustering - step to select similar pixels from forest inventory plot"
   ]
  },
  {
   "cell_type": "code",
   "execution_count": null,
   "id": "0b11bdc9",
   "metadata": {
    "id": "0b11bdc9"
   },
   "outputs": [],
   "source": [
    "from utils import get_cluster_pixels, get_selection"
   ]
  },
  {
   "cell_type": "code",
   "execution_count": null,
   "id": "5fef452d",
   "metadata": {
    "colab": {
     "base_uri": "https://localhost:8080/"
    },
    "id": "5fef452d",
    "outputId": "a725fe91-470e-40d6-fdc4-6dc3447d6ccd"
   },
   "outputs": [
    {
     "name": "stdout",
     "output_type": "stream",
     "text": [
      "...............................equal cluster........................equal cluster..........equal cluster................equal cluster.........................equal cluster..equal cluster..................................................equal cluster...................................................................................................................equal cluster................................equal cluster............equal cluster..................equal cluster......"
     ]
    }
   ],
   "source": [
    "# TO-DO: add info this parametr and how it works \n",
    "correlation_threshold = 0.7\n",
    "\n",
    "clustered_df = pd.DataFrame()\n",
    "\n",
    "for item in df.key.unique():\n",
    "    attmpt = get_cluster_pixels(df,\n",
    "                                key=item,\n",
    "                                correlation_threshold=correlation_threshold)\n",
    "    attmpt = get_selection(attmpt)\n",
    "    clustered_df = pd.concat([clustered_df, attmpt])\n",
    "    print('.', end='')\n"
   ]
  },
  {
   "cell_type": "code",
   "execution_count": null,
   "id": "855e9efe",
   "metadata": {
    "colab": {
     "base_uri": "https://localhost:8080/"
    },
    "id": "855e9efe",
    "outputId": "21bc1272-ed43-4ded-9f23-3b4fdcab6702"
   },
   "outputs": [
    {
     "name": "stdout",
     "output_type": "stream",
     "text": [
      "Rows kept from initial dataset is equal to 64 %\n"
     ]
    }
   ],
   "source": [
    "print('Rows kept from initial dataset is equal to', round(len(clustered_df)/len(df)*100), '%')"
   ]
  },
  {
   "cell_type": "markdown",
   "id": "504b5758",
   "metadata": {
    "id": "504b5758"
   },
   "source": [
    "### 1.6 Plot correlation matrix and exclude correlated bands "
   ]
  },
  {
   "cell_type": "code",
   "execution_count": null,
   "id": "5ff287da",
   "metadata": {
    "id": "5ff287da"
   },
   "outputs": [],
   "source": [
    "# Fill diagonal and upper half with NaNs\n",
    "# corr = bands.corr()\n",
    "# mask = np.zeros_like(corr, dtype=bool)\n",
    "# mask[np.triu_indices_from(mask)] = True\n",
    "# corr[mask] = np.nan\n",
    "# (corr.iloc[:, :]\n",
    "#  .style\n",
    "#  .background_gradient(cmap='coolwarm', axis=None, vmin=-1, vmax=1)\n",
    "#  .highlight_null(null_color='#f1f1f1')  # Color NaNs grey\n",
    "#  .set_precision(2))\n"
   ]
  },
  {
   "cell_type": "markdown",
   "id": "a6236373",
   "metadata": {
    "id": "a6236373"
   },
   "source": [
    "## 2. Machine Learning Model Engineering"
   ]
  },
  {
   "cell_type": "code",
   "execution_count": null,
   "id": "d40139ef",
   "metadata": {
    "id": "d40139ef"
   },
   "outputs": [],
   "source": [
    "# from utils import get_metric\n",
    "from utils import decodeClasses, decodeClassesLevel1"
   ]
  },
  {
   "cell_type": "code",
   "execution_count": null,
   "id": "8338f7d7",
   "metadata": {
    "id": "8338f7d7"
   },
   "outputs": [],
   "source": [
    "def get_models(class_weights: dict) -> list:\n",
    "    n_jobs = 8\n",
    "    return {'kNN':\n",
    "        KNeighborsClassifier(\n",
    "            n_jobs=n_jobs,\n",
    "            algorithm=\"ball_tree\",\n",
    "            leaf_size=100,\n",
    "            n_neighbors=10,\n",
    "            weights=\"uniform\",\n",
    "        ),\n",
    "        \"RandomForest\":RandomForestClassifier(\n",
    "            n_jobs=n_jobs,\n",
    "            random_state=42,\n",
    "            criterion=\"gini\",\n",
    "            max_features=\"auto\",\n",
    "            class_weight=class_weights,\n",
    "            max_depth=50,\n",
    "            n_estimators=500,\n",
    "            min_samples_leaf=2,\n",
    "            min_samples_split=6,\n",
    "        ),\n",
    "        \"SVC\":SVC(\n",
    "            random_state=42,\n",
    "            gamma=\"scale\",\n",
    "            class_weight=class_weights,\n",
    "            kernel=\"poly\",\n",
    "            C=1,\n",
    "            degree=1,\n",
    "            tol=1e-5,\n",
    "            probability=True,\n",
    "        ),\n",
    "        \"GradientBoosting\":GradientBoostingClassifier(\n",
    "            **{\n",
    "                \"n_estimators\": 75,\n",
    "                \"min_samples_split\": 47,\n",
    "                \"max_leaf_nodes\": 52,\n",
    "                \"learning_rate\": 0.1202,\n",
    "            }\n",
    "        )\n",
    "           }\n",
    "\n",
    "class ForestClasses(enum.Enum):\n",
    "    Pine = 7\n",
    "    Fir = 2\n",
    "    Aspen = 5 \n",
    "    Cedar = 3\n",
    "    Larch = 4\n",
    "    Birch = 1\n",
    "    Silver_fir = 6\n",
    "    Burnt_forest = 15\n",
    "    Deforestation = 13\n",
    "    Grass = 14\n",
    "    Soil = 12\n",
    "    Swamp = 16\n",
    "    Water_body = 11\n",
    "    Settlements = 17\n",
    "    \n",
    "\n",
    "def code_classes(df: pd.DataFrame)->pd.DataFrame:\n",
    "    \"\"\"\n",
    "    Manual one-hot encoding for hierarchical classification\n",
    "    \"\"\"\n",
    "\n",
    "    df[['forest','forest_type', 'deciduous', 'coniferous']] = -999\n",
    "    # 1. Code forest\n",
    "    mask_forest = df['class'] < 10\n",
    "    df.loc[mask_forest, 'forest'] = 1\n",
    "    df.loc[~mask_forest, 'forest'] = 0\n",
    "    \n",
    "    \n",
    "    # 2. Code forest_type\n",
    "    forest_type = {\"Deciduous\":0, \"Coniferous\":1}\n",
    "    mask_coniferous = df['class'].isin([6,7])\n",
    "    mask_deciduous = df['class'].isin([1,5])\n",
    "    df.loc[mask_coniferous, 'forest_type'] = forest_type['Coniferous']\n",
    "    df.loc[mask_deciduous, 'forest_type'] = forest_type['Deciduous']\n",
    "    # 3. Code deciduous\n",
    "    birch = ForestClasses.Birch.value\n",
    "    df.loc[df['class'] == birch, 'deciduous'] = 0\n",
    "    aspen = ForestClasses.Aspen.value\n",
    "    df.loc[df['class'] == aspen, 'deciduous'] = 1\n",
    "\n",
    "    # 3. Code coniferous\n",
    "    pine = ForestClasses.Pine.value\n",
    "    df.loc[df['class'] == pine, 'coniferous'] = 0\n",
    "    silver_fir = ForestClasses.Silver_fir.value\n",
    "    df.loc[df['class'] == silver_fir, 'coniferous'] = 1\n",
    "    \n",
    "    return df\n",
    "\n",
    "def get_CNN_model(ip_shape):\n",
    "    \"\"\"\n",
    "    Return 1D CNN model for classification\n",
    "    \n",
    "    \"\"\"\n",
    "    model = Sequential(name = 'Forest_CNN')\n",
    "\n",
    "    model.add(Conv1D(filters = 32, kernel_size = 3, activation ='relu', \n",
    "                     input_shape =(ip_shape[0],1),\n",
    "                     name = 'Layer1'))\n",
    "    model.add(Conv1D(filters = 32, kernel_size = 3,\n",
    "                     activation ='relu' , name = 'Layer2'))\n",
    "    model.add(Conv1D(filters = 32, kernel_size = 3,\n",
    "                     activation ='relu' , name = 'Layer3'))\n",
    "\n",
    "    model.add(MaxPooling1D(pool_size = 2, \n",
    "                           name = 'MaxPooling_Layer1'))\n",
    "    model.add(Dropout(0.4, name = 'Dropout1'))\n",
    "\n",
    "    model.add(Conv1D(filters = 16, kernel_size = 2,\n",
    "                     activation ='relu', name = 'Layer4'))\n",
    "    model.add(Conv1D(filters = 16, kernel_size = 2,\n",
    "                     activation ='relu', name = 'Layer5'))\n",
    "    model.add(Conv1D(filters = 16, kernel_size = 2,\n",
    "                     activation ='relu', name = 'Layer6'))\n",
    "\n",
    "    model.add(MaxPooling1D(pool_size = 2,\n",
    "                           name = 'MaxPooling_Layer2'))\n",
    "    model.add(Dropout(0.4, name = 'Dropout2'))\n",
    "\n",
    "    model.add(Flatten(name = 'Flatten'))\n",
    "\n",
    "    # model.add(Dense(25, activation='relu', name = 'DenseLayer'))\n",
    "\n",
    "    model.add(Dense(1, activation='sigmoid', name = 'OutputLayer'))\n",
    "    return model \n",
    "\n",
    "def train_CNN_model(df:pd.DataFrame, gdf:gpd.GeoDataFrame,\n",
    "                    model_fname:str,\n",
    "                    target: str = \"deciduous\",\n",
    "                    test_size:float = 0.25):\n",
    "    \"\"\"\n",
    "    Train CNN model for deciduous or coniferous forest speccies\n",
    "    \n",
    "    \"\"\"\n",
    "    if target=='deciduous':\n",
    "        birch = ForestClasses.Birch.value\n",
    "        aspen = ForestClasses.Aspen.value\n",
    "        gdf = gdf.loc[gdf['t_Class'].isin([birch, aspen])]\n",
    "    if target=='coniferous':\n",
    "        pine = ForestClasses.Pine.value\n",
    "        silver_fir = ForestClasses.Silver_fir.value\n",
    "        gdf = gdf.loc[gdf['t_Class'].isin([pine, silver_fir])]\n",
    "    X_train, X_test, y_train, y_test = train_test_split(gdf,\n",
    "                                                    gdf['class_name'],\n",
    "                                                    test_size=test_size)\n",
    "    train = df.loc[df['key'].isin(X_train['key'])]\n",
    "    test = df.loc[df['key'].isin(X_test['key'])]\n",
    "    remove_cols = ['key', 'class', \n",
    "                   'forest', 'forest_type',\n",
    "                    'deciduous', 'coniferous']\n",
    "    X_train = train.drop(columns=remove_cols).astype('float')\n",
    "    X_test = test.drop(columns=remove_cols).astype('float')\n",
    "    y_train = train[target].astype(int)\n",
    "    y_test = test[target].astype(int)\n",
    "    y_train = y_train.values\n",
    "    y_test = y_test.values\n",
    "                  \n",
    "    assert set(y_test) == set(y_train), 'Houston, we have problems'                  \n",
    "\n",
    "    ip_shape = X_train.values[1].shape\n",
    "\n",
    "\n",
    "    n_outputs = 1\n",
    "\n",
    "    X_train = X_train.values.reshape(-1, ip_shape[0], 1) # TO-DO Replace 16 to shape of features\n",
    "    X_test = X_test.values.reshape(-1, ip_shape[0], 1)\n",
    "\n",
    "    early_stop = EarlyStopping(monitor = 'val_loss',\n",
    "                                mode = 'min',\n",
    "                                min_delta = 0,\n",
    "                                patience = 10,\n",
    "                                restore_best_weights = True)\n",
    "\n",
    "    checkpoint = ModelCheckpoint(filepath = f'{model_fname}.h5', \n",
    "                                 monitor = 'val_loss', \n",
    "                                 mode ='min', \n",
    "                                 save_best_only = True)\n",
    "    \n",
    "    model = get_CNN_model(ip_shape=ip_shape)\n",
    "    model.compile(loss='binary_crossentropy', optimizer='adam', metrics=['accuracy'])\n",
    "    num_folds = 5\n",
    "    kfold = KFold(n_splits=num_folds, shuffle=True)\n",
    "    container = {}\n",
    "    scores = []\n",
    "    for train, test in kfold.split(X_train):\n",
    "        model = get_CNN_model(ip_shape=ip_shape)\n",
    "        model.compile(loss='binary_crossentropy',\n",
    "                      optimizer='adam',\n",
    "                      metrics=['accuracy'])\n",
    "        hist = model.fit(X_train[train], \n",
    "                           y_train[train], \n",
    "                           epochs = 100, \n",
    "                           batch_size = 128 , \n",
    "                           validation_data = (X_train[test], y_train[test]), \n",
    "                           callbacks=[early_stop])\n",
    "        pred_labels = (model.predict(X_train[test])>0.5).astype(\"int32\")\n",
    "        scores.append(f1_score(y_train[test], pred_labels))\n",
    "\n",
    "    model = get_CNN_model(ip_shape=ip_shape)\n",
    "    model.compile(loss='binary_crossentropy',\n",
    "                      optimizer='adam',\n",
    "                      metrics=['accuracy'])\n",
    "    hist = model.fit(X_train, \n",
    "                    y_train, \n",
    "                    epochs = 100, \n",
    "                    batch_size = 128 , \n",
    "                    validation_data = (X_test, y_test), \n",
    "                    callbacks=[early_stop,\n",
    "                                checkpoint])\n",
    "    pred_labels = (model.predict(X_test)>0.5).astype(\"int32\")\n",
    "    f1= f1_score(y_test, pred_labels)\n",
    "    kappa = cohen_kappa_score(y_test, pred_labels)\n",
    "    container['CNN']={'f1':f1,\n",
    "                    \"kappa\":kappa,\n",
    "                    'cv_mean': np.mean(scores),\n",
    "                    'cv_std': np.std(scores),\n",
    "                    \"model\":model,\n",
    "                    \"hist\": hist }\n",
    "\n",
    "    return container\n",
    "#     loss, acc = model.evaluate(X_test, y_test)\n",
    "\n",
    "def train_ml_model(df:pd.DataFrame, gdf:gpd.GeoDataFrame, target: \"forest\",\n",
    "                   test_size: float=0.25):\n",
    "    \n",
    "    \"\"\"\n",
    "    Train ML models for forest / non-forest classification \n",
    "    or forest_type classofication\n",
    "\n",
    "    Return dict with model_name: {f1: float, kappa: float, model_name: fitted model}\n",
    "    \"\"\"\n",
    "\n",
    "\n",
    "    if target not in ['forest', 'forest_type']:\n",
    "        raise KeyError('works only for target forest, forest_type')\n",
    "    if target=='forest_type':\n",
    "        gdf = gdf.loc[gdf['t_Class']<10]\n",
    "\n",
    "    X_train, X_test, y_train, y_test = train_test_split(gdf,\n",
    "                                                    gdf['class_name'],\n",
    "                                                    test_size=test_size)\n",
    "    train = df.loc[df['key'].isin(X_train['key'])]\n",
    "    test = df.loc[df['key'].isin(X_test['key'])]\n",
    "    remove_cols = ['key', 'class', 'forest', 'forest_type',\n",
    "       'deciduous', 'coniferous']\n",
    "    X_train = train.drop(columns=remove_cols).astype('float')\n",
    "    X_test = test.drop(columns=remove_cols).astype('float')\n",
    "    y_train = train[target].astype(int)\n",
    "    y_test = test[target].astype(int)\n",
    "    \n",
    "    class_weights_vals = compute_class_weight(class_weight = \"balanced\", \n",
    "                                          classes= np.unique(y_train),\n",
    "                                          y= y_train)\n",
    "    class_weights = {x:y for x,y in zip(np.unique(y_train), \n",
    "                                    class_weights_vals)}\n",
    "                  \n",
    "    models = get_models(class_weights=class_weights)\n",
    "    container = {}\n",
    "    for name_model, model in models.items():\n",
    "        scores=cross_val_score(model, X_train, y_train, cv=5, scoring='f1')\n",
    "        print(name_model, scores)\n",
    "        model.fit(X_train, y_train)\n",
    "        f1 = f1_score(y_test, model.predict(X_test))\n",
    "        kappa = cohen_kappa_score(y_test, model.predict(X_test))\n",
    "        container[name_model]={'f1':f1,\n",
    "                               \"kappa\":kappa,\n",
    "                               'cv_mean': np.mean(scores),\n",
    "                               'cv_std': np.std(scores),\n",
    "                               \"model\":model }\n",
    "    return container\n",
    "\n",
    "\n",
    "def train_multiclass_model(df:pd.DataFrame, gdf:gpd.GeoDataFrame,\n",
    "                   test_size: float=0.25):\n",
    "    \n",
    "    \"\"\"\n",
    "    Train ML models for forest / non-forest classification \n",
    "    or forest_type classofication\n",
    "\n",
    "    Return dict with model_name: {f1: float, kappa: float, model_name: fitted model}\n",
    "    \"\"\"\n",
    "\n",
    "\n",
    "    # if target not in ['forest', 'forest_type']:\n",
    "    #     raise KeyError('works only for target forest, forest_type')\n",
    "    # if target=='forest_type':\n",
    "    #     gdf = gdf.loc[gdf['t_Class']<10]\n",
    "\n",
    "    X_train, X_test, y_train, y_test = train_test_split(gdf,\n",
    "                                                    gdf['class_name'],\n",
    "                                                    test_size=test_size)\n",
    "    train = df.loc[df['key'].isin(X_train['key'])]\n",
    "    test = df.loc[df['key'].isin(X_test['key'])]\n",
    "    remove_cols = ['key', 'class', 'forest', 'forest_type',\n",
    "       'deciduous', 'coniferous']\n",
    "    X_train = train.drop(columns=remove_cols).astype('float')\n",
    "    X_test = test.drop(columns=remove_cols).astype('float')\n",
    "    y_train = train['class'].astype(int)\n",
    "    y_test = test['class'].astype(int)\n",
    "    \n",
    "    class_weights_vals = compute_class_weight(class_weight = \"balanced\", \n",
    "                                          classes= np.unique(y_train),\n",
    "                                          y= y_train)\n",
    "    class_weights = {x:y for x,y in zip(np.unique(y_train), \n",
    "                                    class_weights_vals)}\n",
    "                  \n",
    "    models = get_models(class_weights=class_weights)\n",
    "    container = {}\n",
    "    for name_model, model in models.items():\n",
    "        scores=cross_val_score(model, X_train, y_train, cv=5, scoring='f1')\n",
    "        print(name_model, scores)\n",
    "        model.fit(X_train, y_train)\n",
    "        f1 = f1_score(y_test, model.predict(X_test))\n",
    "        kappa = cohen_kappa_score(y_test, model.predict(X_test))\n",
    "        container[name_model]={'f1':f1,\n",
    "                               \"kappa\":kappa,\n",
    "                               'cv_mean': np.mean(scores),\n",
    "                               'cv_std': np.std(scores),\n",
    "                               \"model\":model }\n",
    "    return container\n"
   ]
  },
  {
   "cell_type": "markdown",
   "id": "51dc941d",
   "metadata": {
    "id": "51dc941d"
   },
   "source": [
    "Clustered input "
   ]
  },
  {
   "cell_type": "code",
   "execution_count": null,
   "id": "d29e5aa8",
   "metadata": {
    "id": "d29e5aa8"
   },
   "outputs": [],
   "source": [
    "# print(\"All bands: \", len(clustered_df.columns))\n",
    "# corr_matrix = bands.iloc[:, :-2].corr().abs()\n",
    "# upper = corr_matrix.where(np.triu(np.ones(corr_matrix.shape), k=1).astype(np.bool_))\n",
    "# to_drop = [column for column in upper.columns if any(upper[column] > 0.97)]\n",
    "# # Drop features \n",
    "# input_df = clustered_df.drop(to_drop, axis=1)\n",
    "# print(\"Non correlated bands: \", len(input_df.columns))"
   ]
  },
  {
   "cell_type": "markdown",
   "id": "e5f2c40b",
   "metadata": {
    "id": "e5f2c40b"
   },
   "source": [
    "Non Clustered input "
   ]
  },
  {
   "cell_type": "code",
   "execution_count": null,
   "id": "74234e92",
   "metadata": {
    "id": "74234e92"
   },
   "outputs": [],
   "source": [
    "# print(\"All bands: \", len(clustered_df.columns))\n",
    "# corr_matrix = bands.iloc[:, :-2].corr().abs()\n",
    "# upper = corr_matrix.where(np.triu(np.ones(corr_matrix.shape), k=1).astype(np.bool_))\n",
    "# to_drop = [column for column in upper.columns if any(upper[column] > 0.97)]\n",
    "# # Drop features \n",
    "# input_df = pd.concat([bands.iloc[:,:-2], terrain], axis=1).drop(to_drop, axis=1)\n",
    "# print(\"Non correlated bands: \", len(input_df.columns))"
   ]
  },
  {
   "cell_type": "markdown",
   "id": "be07d704",
   "metadata": {
    "id": "be07d704"
   },
   "source": [
    "## 3. Model Evaluation 🐝\n",
    "\n",
    "1. Classification - Forest vs Non-forest\n",
    "2. Classification - Deciduous vs Coniferous\n",
    "3. Classification - Pine vs Silver-Fir\n",
    "4. Classification - Birch vs Aspen "
   ]
  },
  {
   "cell_type": "code",
   "execution_count": null,
   "id": "fb8bd0be",
   "metadata": {
    "id": "fb8bd0be"
   },
   "outputs": [],
   "source": [
    "df = clustered_df.drop(columns='clusters').copy()"
   ]
  },
  {
   "cell_type": "code",
   "execution_count": null,
   "id": "3ebb504b",
   "metadata": {
    "colab": {
     "base_uri": "https://localhost:8080/",
     "height": 299
    },
    "id": "3ebb504b",
    "outputId": "dc08d6a8-d6eb-459b-daa8-bbf3fa70cc4d"
   },
   "outputs": [
    {
     "data": {
      "text/html": [
       "\n",
       "  <div id=\"df-c9163cba-7530-4d0a-84a5-7f568972c864\">\n",
       "    <div class=\"colab-df-container\">\n",
       "      <div>\n",
       "<style scoped>\n",
       "    .dataframe tbody tr th:only-of-type {\n",
       "        vertical-align: middle;\n",
       "    }\n",
       "\n",
       "    .dataframe tbody tr th {\n",
       "        vertical-align: top;\n",
       "    }\n",
       "\n",
       "    .dataframe thead th {\n",
       "        text-align: right;\n",
       "    }\n",
       "</style>\n",
       "<table border=\"1\" class=\"dataframe\">\n",
       "  <thead>\n",
       "    <tr style=\"text-align: right;\">\n",
       "      <th></th>\n",
       "      <th>B01</th>\n",
       "      <th>B02</th>\n",
       "      <th>B03</th>\n",
       "      <th>B04</th>\n",
       "      <th>B05</th>\n",
       "      <th>B06</th>\n",
       "      <th>B07</th>\n",
       "      <th>B08</th>\n",
       "      <th>B8A</th>\n",
       "      <th>B09</th>\n",
       "      <th>...</th>\n",
       "      <th>EVI</th>\n",
       "      <th>MSAVI</th>\n",
       "      <th>NDRE</th>\n",
       "      <th>FCI</th>\n",
       "      <th>aspect</th>\n",
       "      <th>slope</th>\n",
       "      <th>wetnessindex</th>\n",
       "      <th>sink</th>\n",
       "      <th>key</th>\n",
       "      <th>class</th>\n",
       "    </tr>\n",
       "  </thead>\n",
       "  <tbody>\n",
       "    <tr>\n",
       "      <th>0</th>\n",
       "      <td>-0.581056</td>\n",
       "      <td>-0.539191</td>\n",
       "      <td>-0.472659</td>\n",
       "      <td>-0.738886</td>\n",
       "      <td>-0.723726</td>\n",
       "      <td>-0.318696</td>\n",
       "      <td>-0.314211</td>\n",
       "      <td>-0.215627</td>\n",
       "      <td>-0.323721</td>\n",
       "      <td>-0.233667</td>\n",
       "      <td>...</td>\n",
       "      <td>0.155033</td>\n",
       "      <td>0.118273</td>\n",
       "      <td>0.608221</td>\n",
       "      <td>-0.540575</td>\n",
       "      <td>0.424493</td>\n",
       "      <td>-0.321883</td>\n",
       "      <td>-0.832842</td>\n",
       "      <td>-1.35656</td>\n",
       "      <td>0</td>\n",
       "      <td>7</td>\n",
       "    </tr>\n",
       "    <tr>\n",
       "      <th>1</th>\n",
       "      <td>-0.581056</td>\n",
       "      <td>-0.724222</td>\n",
       "      <td>-0.555035</td>\n",
       "      <td>-0.801544</td>\n",
       "      <td>-0.723726</td>\n",
       "      <td>-0.318696</td>\n",
       "      <td>-0.314211</td>\n",
       "      <td>-0.310268</td>\n",
       "      <td>-0.323721</td>\n",
       "      <td>-0.233667</td>\n",
       "      <td>...</td>\n",
       "      <td>0.087890</td>\n",
       "      <td>0.046574</td>\n",
       "      <td>0.530691</td>\n",
       "      <td>-0.633190</td>\n",
       "      <td>0.424493</td>\n",
       "      <td>-0.321883</td>\n",
       "      <td>-0.832842</td>\n",
       "      <td>-1.35656</td>\n",
       "      <td>0</td>\n",
       "      <td>7</td>\n",
       "    </tr>\n",
       "    <tr>\n",
       "      <th>2</th>\n",
       "      <td>-0.581056</td>\n",
       "      <td>-0.651070</td>\n",
       "      <td>-0.658900</td>\n",
       "      <td>-0.842408</td>\n",
       "      <td>-0.684496</td>\n",
       "      <td>-0.294673</td>\n",
       "      <td>-0.302268</td>\n",
       "      <td>-0.332638</td>\n",
       "      <td>-0.271211</td>\n",
       "      <td>-0.233667</td>\n",
       "      <td>...</td>\n",
       "      <td>0.083881</td>\n",
       "      <td>0.041318</td>\n",
       "      <td>0.474613</td>\n",
       "      <td>-0.673162</td>\n",
       "      <td>0.424493</td>\n",
       "      <td>-0.321883</td>\n",
       "      <td>-0.832842</td>\n",
       "      <td>-1.35656</td>\n",
       "      <td>0</td>\n",
       "      <td>7</td>\n",
       "    </tr>\n",
       "    <tr>\n",
       "      <th>3</th>\n",
       "      <td>-0.581056</td>\n",
       "      <td>-0.586524</td>\n",
       "      <td>-0.623084</td>\n",
       "      <td>-0.785198</td>\n",
       "      <td>-0.684496</td>\n",
       "      <td>-0.294673</td>\n",
       "      <td>-0.302268</td>\n",
       "      <td>-0.467717</td>\n",
       "      <td>-0.271211</td>\n",
       "      <td>-0.233667</td>\n",
       "      <td>...</td>\n",
       "      <td>-0.081025</td>\n",
       "      <td>-0.128227</td>\n",
       "      <td>0.356215</td>\n",
       "      <td>-0.705082</td>\n",
       "      <td>0.424493</td>\n",
       "      <td>-0.321883</td>\n",
       "      <td>-0.832842</td>\n",
       "      <td>-1.35656</td>\n",
       "      <td>0</td>\n",
       "      <td>7</td>\n",
       "    </tr>\n",
       "    <tr>\n",
       "      <th>4</th>\n",
       "      <td>-0.492653</td>\n",
       "      <td>-0.620949</td>\n",
       "      <td>-0.458333</td>\n",
       "      <td>-0.665330</td>\n",
       "      <td>-0.568871</td>\n",
       "      <td>-0.057714</td>\n",
       "      <td>-0.039531</td>\n",
       "      <td>-0.220789</td>\n",
       "      <td>-0.092521</td>\n",
       "      <td>-0.147997</td>\n",
       "      <td>...</td>\n",
       "      <td>0.116162</td>\n",
       "      <td>0.079593</td>\n",
       "      <td>0.460737</td>\n",
       "      <td>-0.492648</td>\n",
       "      <td>0.424493</td>\n",
       "      <td>-0.321883</td>\n",
       "      <td>-0.832842</td>\n",
       "      <td>-1.35656</td>\n",
       "      <td>0</td>\n",
       "      <td>7</td>\n",
       "    </tr>\n",
       "  </tbody>\n",
       "</table>\n",
       "<p>5 rows × 23 columns</p>\n",
       "</div>\n",
       "      <button class=\"colab-df-convert\" onclick=\"convertToInteractive('df-c9163cba-7530-4d0a-84a5-7f568972c864')\"\n",
       "              title=\"Convert this dataframe to an interactive table.\"\n",
       "              style=\"display:none;\">\n",
       "        \n",
       "  <svg xmlns=\"http://www.w3.org/2000/svg\" height=\"24px\"viewBox=\"0 0 24 24\"\n",
       "       width=\"24px\">\n",
       "    <path d=\"M0 0h24v24H0V0z\" fill=\"none\"/>\n",
       "    <path d=\"M18.56 5.44l.94 2.06.94-2.06 2.06-.94-2.06-.94-.94-2.06-.94 2.06-2.06.94zm-11 1L8.5 8.5l.94-2.06 2.06-.94-2.06-.94L8.5 2.5l-.94 2.06-2.06.94zm10 10l.94 2.06.94-2.06 2.06-.94-2.06-.94-.94-2.06-.94 2.06-2.06.94z\"/><path d=\"M17.41 7.96l-1.37-1.37c-.4-.4-.92-.59-1.43-.59-.52 0-1.04.2-1.43.59L10.3 9.45l-7.72 7.72c-.78.78-.78 2.05 0 2.83L4 21.41c.39.39.9.59 1.41.59.51 0 1.02-.2 1.41-.59l7.78-7.78 2.81-2.81c.8-.78.8-2.07 0-2.86zM5.41 20L4 18.59l7.72-7.72 1.47 1.35L5.41 20z\"/>\n",
       "  </svg>\n",
       "      </button>\n",
       "      \n",
       "  <style>\n",
       "    .colab-df-container {\n",
       "      display:flex;\n",
       "      flex-wrap:wrap;\n",
       "      gap: 12px;\n",
       "    }\n",
       "\n",
       "    .colab-df-convert {\n",
       "      background-color: #E8F0FE;\n",
       "      border: none;\n",
       "      border-radius: 50%;\n",
       "      cursor: pointer;\n",
       "      display: none;\n",
       "      fill: #1967D2;\n",
       "      height: 32px;\n",
       "      padding: 0 0 0 0;\n",
       "      width: 32px;\n",
       "    }\n",
       "\n",
       "    .colab-df-convert:hover {\n",
       "      background-color: #E2EBFA;\n",
       "      box-shadow: 0px 1px 2px rgba(60, 64, 67, 0.3), 0px 1px 3px 1px rgba(60, 64, 67, 0.15);\n",
       "      fill: #174EA6;\n",
       "    }\n",
       "\n",
       "    [theme=dark] .colab-df-convert {\n",
       "      background-color: #3B4455;\n",
       "      fill: #D2E3FC;\n",
       "    }\n",
       "\n",
       "    [theme=dark] .colab-df-convert:hover {\n",
       "      background-color: #434B5C;\n",
       "      box-shadow: 0px 1px 3px 1px rgba(0, 0, 0, 0.15);\n",
       "      filter: drop-shadow(0px 1px 2px rgba(0, 0, 0, 0.3));\n",
       "      fill: #FFFFFF;\n",
       "    }\n",
       "  </style>\n",
       "\n",
       "      <script>\n",
       "        const buttonEl =\n",
       "          document.querySelector('#df-c9163cba-7530-4d0a-84a5-7f568972c864 button.colab-df-convert');\n",
       "        buttonEl.style.display =\n",
       "          google.colab.kernel.accessAllowed ? 'block' : 'none';\n",
       "\n",
       "        async function convertToInteractive(key) {\n",
       "          const element = document.querySelector('#df-c9163cba-7530-4d0a-84a5-7f568972c864');\n",
       "          const dataTable =\n",
       "            await google.colab.kernel.invokeFunction('convertToInteractive',\n",
       "                                                     [key], {});\n",
       "          if (!dataTable) return;\n",
       "\n",
       "          const docLinkHtml = 'Like what you see? Visit the ' +\n",
       "            '<a target=\"_blank\" href=https://colab.research.google.com/notebooks/data_table.ipynb>data table notebook</a>'\n",
       "            + ' to learn more about interactive tables.';\n",
       "          element.innerHTML = '';\n",
       "          dataTable['output_type'] = 'display_data';\n",
       "          await google.colab.output.renderOutput(dataTable, element);\n",
       "          const docLink = document.createElement('div');\n",
       "          docLink.innerHTML = docLinkHtml;\n",
       "          element.appendChild(docLink);\n",
       "        }\n",
       "      </script>\n",
       "    </div>\n",
       "  </div>\n",
       "  "
      ],
      "text/plain": [
       "        B01       B02       B03       B04       B05       B06       B07  \\\n",
       "0 -0.581056 -0.539191 -0.472659 -0.738886 -0.723726 -0.318696 -0.314211   \n",
       "1 -0.581056 -0.724222 -0.555035 -0.801544 -0.723726 -0.318696 -0.314211   \n",
       "2 -0.581056 -0.651070 -0.658900 -0.842408 -0.684496 -0.294673 -0.302268   \n",
       "3 -0.581056 -0.586524 -0.623084 -0.785198 -0.684496 -0.294673 -0.302268   \n",
       "4 -0.492653 -0.620949 -0.458333 -0.665330 -0.568871 -0.057714 -0.039531   \n",
       "\n",
       "        B08       B8A       B09  ...       EVI     MSAVI      NDRE       FCI  \\\n",
       "0 -0.215627 -0.323721 -0.233667  ...  0.155033  0.118273  0.608221 -0.540575   \n",
       "1 -0.310268 -0.323721 -0.233667  ...  0.087890  0.046574  0.530691 -0.633190   \n",
       "2 -0.332638 -0.271211 -0.233667  ...  0.083881  0.041318  0.474613 -0.673162   \n",
       "3 -0.467717 -0.271211 -0.233667  ... -0.081025 -0.128227  0.356215 -0.705082   \n",
       "4 -0.220789 -0.092521 -0.147997  ...  0.116162  0.079593  0.460737 -0.492648   \n",
       "\n",
       "     aspect     slope  wetnessindex     sink  key  class  \n",
       "0  0.424493 -0.321883     -0.832842 -1.35656    0      7  \n",
       "1  0.424493 -0.321883     -0.832842 -1.35656    0      7  \n",
       "2  0.424493 -0.321883     -0.832842 -1.35656    0      7  \n",
       "3  0.424493 -0.321883     -0.832842 -1.35656    0      7  \n",
       "4  0.424493 -0.321883     -0.832842 -1.35656    0      7  \n",
       "\n",
       "[5 rows x 23 columns]"
      ]
     },
     "execution_count": 28,
     "metadata": {},
     "output_type": "execute_result"
    }
   ],
   "source": [
    "df.head()"
   ]
  },
  {
   "cell_type": "markdown",
   "id": "360567fb",
   "metadata": {
    "id": "360567fb"
   },
   "source": [
    "### 3.1 Decode classes (one-hot encoding)"
   ]
  },
  {
   "cell_type": "code",
   "execution_count": null,
   "id": "6505bdba",
   "metadata": {
    "id": "6505bdba"
   },
   "outputs": [],
   "source": [
    "df_coded = code_classes(df)"
   ]
  },
  {
   "cell_type": "markdown",
   "id": "e6c842aa",
   "metadata": {
    "id": "e6c842aa"
   },
   "source": [
    "\n",
    "### 3.1 Classification  Forest / Non-forest"
   ]
  },
  {
   "cell_type": "code",
   "execution_count": null,
   "id": "c70f811d",
   "metadata": {
    "colab": {
     "base_uri": "https://localhost:8080/"
    },
    "id": "c70f811d",
    "outputId": "10107c16-0367-4c81-a9fc-e8a217b452ac"
   },
   "outputs": [
    {
     "name": "stdout",
     "output_type": "stream",
     "text": [
      "kNN [1.         0.97954272 0.90115958 0.97543439 1.        ]\n",
      "RandomForest [1.         0.99390987 0.90066225 0.99938613 0.99630542]\n",
      "SVC [0.99692686 0.99755202 0.90115958 0.99692686 1.        ]\n",
      "GradientBoosting [1.         0.99512195 0.90115958 0.99692308 0.99630542]\n"
     ]
    }
   ],
   "source": [
    "# Log model name and f1 for cross validation\n",
    "results = train_ml_model(df=df_coded, gdf=gdf, target='forest')\n"
   ]
  },
  {
   "cell_type": "code",
   "execution_count": null,
   "id": "6df58b3f",
   "metadata": {
    "colab": {
     "base_uri": "https://localhost:8080/",
     "height": 175
    },
    "id": "6df58b3f",
    "outputId": "da22b8ac-d446-472a-9301-d14eccb6bcfd"
   },
   "outputs": [
    {
     "data": {
      "text/html": [
       "\n",
       "  <div id=\"df-4a8c1bb0-0105-4c93-b7b8-6092cdf26a10\">\n",
       "    <div class=\"colab-df-container\">\n",
       "      <div>\n",
       "<style scoped>\n",
       "    .dataframe tbody tr th:only-of-type {\n",
       "        vertical-align: middle;\n",
       "    }\n",
       "\n",
       "    .dataframe tbody tr th {\n",
       "        vertical-align: top;\n",
       "    }\n",
       "\n",
       "    .dataframe thead th {\n",
       "        text-align: right;\n",
       "    }\n",
       "</style>\n",
       "<table border=\"1\" class=\"dataframe\">\n",
       "  <thead>\n",
       "    <tr style=\"text-align: right;\">\n",
       "      <th></th>\n",
       "      <th>f1</th>\n",
       "      <th>kappa</th>\n",
       "      <th>cv_mean</th>\n",
       "      <th>cv_std</th>\n",
       "      <th>model</th>\n",
       "    </tr>\n",
       "  </thead>\n",
       "  <tbody>\n",
       "    <tr>\n",
       "      <th>kNN</th>\n",
       "      <td>0.972039</td>\n",
       "      <td>0.952978</td>\n",
       "      <td>0.971227</td>\n",
       "      <td>0.036475</td>\n",
       "      <td>KNeighborsClassifier(algorithm='ball_tree', le...</td>\n",
       "    </tr>\n",
       "    <tr>\n",
       "      <th>RandomForest</th>\n",
       "      <td>0.97583</td>\n",
       "      <td>0.959247</td>\n",
       "      <td>0.978053</td>\n",
       "      <td>0.038757</td>\n",
       "      <td>(DecisionTreeClassifier(max_depth=50, max_feat...</td>\n",
       "    </tr>\n",
       "    <tr>\n",
       "      <th>SVC</th>\n",
       "      <td>0.971617</td>\n",
       "      <td>0.952281</td>\n",
       "      <td>0.978513</td>\n",
       "      <td>0.038693</td>\n",
       "      <td>SVC(C=1, class_weight={0: 1.1742724867724867, ...</td>\n",
       "    </tr>\n",
       "    <tr>\n",
       "      <th>GradientBoosting</th>\n",
       "      <td>0.972039</td>\n",
       "      <td>0.952978</td>\n",
       "      <td>0.977902</td>\n",
       "      <td>0.038405</td>\n",
       "      <td>([DecisionTreeRegressor(criterion='friedman_ms...</td>\n",
       "    </tr>\n",
       "  </tbody>\n",
       "</table>\n",
       "</div>\n",
       "      <button class=\"colab-df-convert\" onclick=\"convertToInteractive('df-4a8c1bb0-0105-4c93-b7b8-6092cdf26a10')\"\n",
       "              title=\"Convert this dataframe to an interactive table.\"\n",
       "              style=\"display:none;\">\n",
       "        \n",
       "  <svg xmlns=\"http://www.w3.org/2000/svg\" height=\"24px\"viewBox=\"0 0 24 24\"\n",
       "       width=\"24px\">\n",
       "    <path d=\"M0 0h24v24H0V0z\" fill=\"none\"/>\n",
       "    <path d=\"M18.56 5.44l.94 2.06.94-2.06 2.06-.94-2.06-.94-.94-2.06-.94 2.06-2.06.94zm-11 1L8.5 8.5l.94-2.06 2.06-.94-2.06-.94L8.5 2.5l-.94 2.06-2.06.94zm10 10l.94 2.06.94-2.06 2.06-.94-2.06-.94-.94-2.06-.94 2.06-2.06.94z\"/><path d=\"M17.41 7.96l-1.37-1.37c-.4-.4-.92-.59-1.43-.59-.52 0-1.04.2-1.43.59L10.3 9.45l-7.72 7.72c-.78.78-.78 2.05 0 2.83L4 21.41c.39.39.9.59 1.41.59.51 0 1.02-.2 1.41-.59l7.78-7.78 2.81-2.81c.8-.78.8-2.07 0-2.86zM5.41 20L4 18.59l7.72-7.72 1.47 1.35L5.41 20z\"/>\n",
       "  </svg>\n",
       "      </button>\n",
       "      \n",
       "  <style>\n",
       "    .colab-df-container {\n",
       "      display:flex;\n",
       "      flex-wrap:wrap;\n",
       "      gap: 12px;\n",
       "    }\n",
       "\n",
       "    .colab-df-convert {\n",
       "      background-color: #E8F0FE;\n",
       "      border: none;\n",
       "      border-radius: 50%;\n",
       "      cursor: pointer;\n",
       "      display: none;\n",
       "      fill: #1967D2;\n",
       "      height: 32px;\n",
       "      padding: 0 0 0 0;\n",
       "      width: 32px;\n",
       "    }\n",
       "\n",
       "    .colab-df-convert:hover {\n",
       "      background-color: #E2EBFA;\n",
       "      box-shadow: 0px 1px 2px rgba(60, 64, 67, 0.3), 0px 1px 3px 1px rgba(60, 64, 67, 0.15);\n",
       "      fill: #174EA6;\n",
       "    }\n",
       "\n",
       "    [theme=dark] .colab-df-convert {\n",
       "      background-color: #3B4455;\n",
       "      fill: #D2E3FC;\n",
       "    }\n",
       "\n",
       "    [theme=dark] .colab-df-convert:hover {\n",
       "      background-color: #434B5C;\n",
       "      box-shadow: 0px 1px 3px 1px rgba(0, 0, 0, 0.15);\n",
       "      filter: drop-shadow(0px 1px 2px rgba(0, 0, 0, 0.3));\n",
       "      fill: #FFFFFF;\n",
       "    }\n",
       "  </style>\n",
       "\n",
       "      <script>\n",
       "        const buttonEl =\n",
       "          document.querySelector('#df-4a8c1bb0-0105-4c93-b7b8-6092cdf26a10 button.colab-df-convert');\n",
       "        buttonEl.style.display =\n",
       "          google.colab.kernel.accessAllowed ? 'block' : 'none';\n",
       "\n",
       "        async function convertToInteractive(key) {\n",
       "          const element = document.querySelector('#df-4a8c1bb0-0105-4c93-b7b8-6092cdf26a10');\n",
       "          const dataTable =\n",
       "            await google.colab.kernel.invokeFunction('convertToInteractive',\n",
       "                                                     [key], {});\n",
       "          if (!dataTable) return;\n",
       "\n",
       "          const docLinkHtml = 'Like what you see? Visit the ' +\n",
       "            '<a target=\"_blank\" href=https://colab.research.google.com/notebooks/data_table.ipynb>data table notebook</a>'\n",
       "            + ' to learn more about interactive tables.';\n",
       "          element.innerHTML = '';\n",
       "          dataTable['output_type'] = 'display_data';\n",
       "          await google.colab.output.renderOutput(dataTable, element);\n",
       "          const docLink = document.createElement('div');\n",
       "          docLink.innerHTML = docLinkHtml;\n",
       "          element.appendChild(docLink);\n",
       "        }\n",
       "      </script>\n",
       "    </div>\n",
       "  </div>\n",
       "  "
      ],
      "text/plain": [
       "                        f1     kappa   cv_mean    cv_std  \\\n",
       "kNN               0.972039  0.952978  0.971227  0.036475   \n",
       "RandomForest       0.97583  0.959247  0.978053  0.038757   \n",
       "SVC               0.971617  0.952281  0.978513  0.038693   \n",
       "GradientBoosting  0.972039  0.952978  0.977902  0.038405   \n",
       "\n",
       "                                                              model  \n",
       "kNN               KNeighborsClassifier(algorithm='ball_tree', le...  \n",
       "RandomForest      (DecisionTreeClassifier(max_depth=50, max_feat...  \n",
       "SVC               SVC(C=1, class_weight={0: 1.1742724867724867, ...  \n",
       "GradientBoosting  ([DecisionTreeRegressor(criterion='friedman_ms...  "
      ]
     },
     "execution_count": 32,
     "metadata": {},
     "output_type": "execute_result"
    }
   ],
   "source": [
    "# metric results\n",
    "pd.DataFrame(results).T"
   ]
  },
  {
   "cell_type": "markdown",
   "id": "57197989",
   "metadata": {
    "id": "57197989"
   },
   "source": [
    "Save model"
   ]
  },
  {
   "cell_type": "code",
   "execution_count": null,
   "id": "f3455827",
   "metadata": {
    "colab": {
     "base_uri": "https://localhost:8080/"
    },
    "id": "f3455827",
    "outputId": "460fa51d-6284-4b80-fa9b-30068c42faef"
   },
   "outputs": [
    {
     "data": {
      "text/plain": [
       "['../models/forest_model_svc.joblib']"
      ]
     },
     "execution_count": 33,
     "metadata": {},
     "output_type": "execute_result"
    }
   ],
   "source": [
    "dump(results['SVC']['model'], '../models/forest_model_svc.joblib')"
   ]
  },
  {
   "cell_type": "markdown",
   "id": "31eac93d",
   "metadata": {
    "id": "31eac93d"
   },
   "source": [
    "### 3.2 Classification - Forest type (Deciduous and Coniferous)"
   ]
  },
  {
   "cell_type": "code",
   "execution_count": null,
   "id": "dd00765b",
   "metadata": {
    "colab": {
     "base_uri": "https://localhost:8080/"
    },
    "id": "dd00765b",
    "outputId": "2bcc1972-ebc6-4b43-c404-3201c2633bfa"
   },
   "outputs": [
    {
     "name": "stdout",
     "output_type": "stream",
     "text": [
      "kNN [0.84625159 0.64381885 0.71394231 0.78891821 0.69692058]\n",
      "RandomForest [0.83556638 0.75663206 0.65625    0.77179487 0.76666667]\n",
      "SVC [0.86778846 0.81551116 0.62606838 0.82984293 0.70479134]\n",
      "GradientBoosting [0.82843137 0.76190476 0.63529412 0.63716814 0.71246006]\n"
     ]
    }
   ],
   "source": [
    "results_type = train_ml_model(df=df_coded, gdf=gdf, target='forest_type')"
   ]
  },
  {
   "cell_type": "code",
   "execution_count": null,
   "id": "8b5a2196",
   "metadata": {
    "colab": {
     "base_uri": "https://localhost:8080/",
     "height": 175
    },
    "id": "8b5a2196",
    "outputId": "9e1bc310-3d69-43be-fa76-100f4cfbbaf3"
   },
   "outputs": [
    {
     "data": {
      "text/html": [
       "\n",
       "  <div id=\"df-395c08e3-eef0-4a16-ab09-3e3bad0a37de\">\n",
       "    <div class=\"colab-df-container\">\n",
       "      <div>\n",
       "<style scoped>\n",
       "    .dataframe tbody tr th:only-of-type {\n",
       "        vertical-align: middle;\n",
       "    }\n",
       "\n",
       "    .dataframe tbody tr th {\n",
       "        vertical-align: top;\n",
       "    }\n",
       "\n",
       "    .dataframe thead th {\n",
       "        text-align: right;\n",
       "    }\n",
       "</style>\n",
       "<table border=\"1\" class=\"dataframe\">\n",
       "  <thead>\n",
       "    <tr style=\"text-align: right;\">\n",
       "      <th></th>\n",
       "      <th>f1</th>\n",
       "      <th>kappa</th>\n",
       "      <th>cv_mean</th>\n",
       "      <th>cv_std</th>\n",
       "      <th>model</th>\n",
       "    </tr>\n",
       "  </thead>\n",
       "  <tbody>\n",
       "    <tr>\n",
       "      <th>kNN</th>\n",
       "      <td>0.761905</td>\n",
       "      <td>0.599707</td>\n",
       "      <td>0.73797</td>\n",
       "      <td>0.071341</td>\n",
       "      <td>KNeighborsClassifier(algorithm='ball_tree', le...</td>\n",
       "    </tr>\n",
       "    <tr>\n",
       "      <th>RandomForest</th>\n",
       "      <td>0.856164</td>\n",
       "      <td>0.738612</td>\n",
       "      <td>0.757382</td>\n",
       "      <td>0.05768</td>\n",
       "      <td>(DecisionTreeClassifier(max_depth=50, max_feat...</td>\n",
       "    </tr>\n",
       "    <tr>\n",
       "      <th>SVC</th>\n",
       "      <td>0.768827</td>\n",
       "      <td>0.58827</td>\n",
       "      <td>0.7688</td>\n",
       "      <td>0.08964</td>\n",
       "      <td>SVC(C=1, class_weight={0: 0.9855250245338567, ...</td>\n",
       "    </tr>\n",
       "    <tr>\n",
       "      <th>GradientBoosting</th>\n",
       "      <td>0.823427</td>\n",
       "      <td>0.685022</td>\n",
       "      <td>0.715052</td>\n",
       "      <td>0.07414</td>\n",
       "      <td>([DecisionTreeRegressor(criterion='friedman_ms...</td>\n",
       "    </tr>\n",
       "  </tbody>\n",
       "</table>\n",
       "</div>\n",
       "      <button class=\"colab-df-convert\" onclick=\"convertToInteractive('df-395c08e3-eef0-4a16-ab09-3e3bad0a37de')\"\n",
       "              title=\"Convert this dataframe to an interactive table.\"\n",
       "              style=\"display:none;\">\n",
       "        \n",
       "  <svg xmlns=\"http://www.w3.org/2000/svg\" height=\"24px\"viewBox=\"0 0 24 24\"\n",
       "       width=\"24px\">\n",
       "    <path d=\"M0 0h24v24H0V0z\" fill=\"none\"/>\n",
       "    <path d=\"M18.56 5.44l.94 2.06.94-2.06 2.06-.94-2.06-.94-.94-2.06-.94 2.06-2.06.94zm-11 1L8.5 8.5l.94-2.06 2.06-.94-2.06-.94L8.5 2.5l-.94 2.06-2.06.94zm10 10l.94 2.06.94-2.06 2.06-.94-2.06-.94-.94-2.06-.94 2.06-2.06.94z\"/><path d=\"M17.41 7.96l-1.37-1.37c-.4-.4-.92-.59-1.43-.59-.52 0-1.04.2-1.43.59L10.3 9.45l-7.72 7.72c-.78.78-.78 2.05 0 2.83L4 21.41c.39.39.9.59 1.41.59.51 0 1.02-.2 1.41-.59l7.78-7.78 2.81-2.81c.8-.78.8-2.07 0-2.86zM5.41 20L4 18.59l7.72-7.72 1.47 1.35L5.41 20z\"/>\n",
       "  </svg>\n",
       "      </button>\n",
       "      \n",
       "  <style>\n",
       "    .colab-df-container {\n",
       "      display:flex;\n",
       "      flex-wrap:wrap;\n",
       "      gap: 12px;\n",
       "    }\n",
       "\n",
       "    .colab-df-convert {\n",
       "      background-color: #E8F0FE;\n",
       "      border: none;\n",
       "      border-radius: 50%;\n",
       "      cursor: pointer;\n",
       "      display: none;\n",
       "      fill: #1967D2;\n",
       "      height: 32px;\n",
       "      padding: 0 0 0 0;\n",
       "      width: 32px;\n",
       "    }\n",
       "\n",
       "    .colab-df-convert:hover {\n",
       "      background-color: #E2EBFA;\n",
       "      box-shadow: 0px 1px 2px rgba(60, 64, 67, 0.3), 0px 1px 3px 1px rgba(60, 64, 67, 0.15);\n",
       "      fill: #174EA6;\n",
       "    }\n",
       "\n",
       "    [theme=dark] .colab-df-convert {\n",
       "      background-color: #3B4455;\n",
       "      fill: #D2E3FC;\n",
       "    }\n",
       "\n",
       "    [theme=dark] .colab-df-convert:hover {\n",
       "      background-color: #434B5C;\n",
       "      box-shadow: 0px 1px 3px 1px rgba(0, 0, 0, 0.15);\n",
       "      filter: drop-shadow(0px 1px 2px rgba(0, 0, 0, 0.3));\n",
       "      fill: #FFFFFF;\n",
       "    }\n",
       "  </style>\n",
       "\n",
       "      <script>\n",
       "        const buttonEl =\n",
       "          document.querySelector('#df-395c08e3-eef0-4a16-ab09-3e3bad0a37de button.colab-df-convert');\n",
       "        buttonEl.style.display =\n",
       "          google.colab.kernel.accessAllowed ? 'block' : 'none';\n",
       "\n",
       "        async function convertToInteractive(key) {\n",
       "          const element = document.querySelector('#df-395c08e3-eef0-4a16-ab09-3e3bad0a37de');\n",
       "          const dataTable =\n",
       "            await google.colab.kernel.invokeFunction('convertToInteractive',\n",
       "                                                     [key], {});\n",
       "          if (!dataTable) return;\n",
       "\n",
       "          const docLinkHtml = 'Like what you see? Visit the ' +\n",
       "            '<a target=\"_blank\" href=https://colab.research.google.com/notebooks/data_table.ipynb>data table notebook</a>'\n",
       "            + ' to learn more about interactive tables.';\n",
       "          element.innerHTML = '';\n",
       "          dataTable['output_type'] = 'display_data';\n",
       "          await google.colab.output.renderOutput(dataTable, element);\n",
       "          const docLink = document.createElement('div');\n",
       "          docLink.innerHTML = docLinkHtml;\n",
       "          element.appendChild(docLink);\n",
       "        }\n",
       "      </script>\n",
       "    </div>\n",
       "  </div>\n",
       "  "
      ],
      "text/plain": [
       "                        f1     kappa   cv_mean    cv_std  \\\n",
       "kNN               0.761905  0.599707   0.73797  0.071341   \n",
       "RandomForest      0.856164  0.738612  0.757382   0.05768   \n",
       "SVC               0.768827   0.58827    0.7688   0.08964   \n",
       "GradientBoosting  0.823427  0.685022  0.715052   0.07414   \n",
       "\n",
       "                                                              model  \n",
       "kNN               KNeighborsClassifier(algorithm='ball_tree', le...  \n",
       "RandomForest      (DecisionTreeClassifier(max_depth=50, max_feat...  \n",
       "SVC               SVC(C=1, class_weight={0: 0.9855250245338567, ...  \n",
       "GradientBoosting  ([DecisionTreeRegressor(criterion='friedman_ms...  "
      ]
     },
     "execution_count": 35,
     "metadata": {},
     "output_type": "execute_result"
    }
   ],
   "source": [
    "# metric results\n",
    "pd.DataFrame(results_type).T"
   ]
  },
  {
   "cell_type": "code",
   "execution_count": null,
   "id": "9c04d236",
   "metadata": {
    "colab": {
     "base_uri": "https://localhost:8080/"
    },
    "id": "9c04d236",
    "outputId": "e2ecc216-e0a3-4cea-d3c5-fa752e3d386a"
   },
   "outputs": [
    {
     "data": {
      "text/plain": [
       "['../models/forest_type_model_SVC.joblib']"
      ]
     },
     "execution_count": 36,
     "metadata": {},
     "output_type": "execute_result"
    }
   ],
   "source": [
    "dump(results_type['SVC']['model'], '../models/forest_type_model_SVC.joblib')"
   ]
  },
  {
   "cell_type": "markdown",
   "id": "96dd7849",
   "metadata": {
    "id": "96dd7849"
   },
   "source": [
    "### 3.3 Classification - Deciduous "
   ]
  },
  {
   "cell_type": "code",
   "execution_count": 1,
   "id": "e6522665",
   "metadata": {
    "colab": {
     "base_uri": "https://localhost:8080/"
    },
    "id": "e6522665",
    "outputId": "487261c8-578e-444a-f56f-c50f73c7260e"
   },
   "outputs": [],
   "source": [
    "results_cnn = train_CNN_model(df= df_coded, \n",
    "                              gdf = gdf,\n",
    "                            model_fname='deciduous',\n",
    "                            target= \"deciduous\")"
   ]
  },
  {
   "cell_type": "code",
   "execution_count": null,
   "id": "a1v1LulNhW1T",
   "metadata": {
    "colab": {
     "base_uri": "https://localhost:8080/"
    },
    "id": "a1v1LulNhW1T",
    "outputId": "60532724-e919-42b1-d37e-2e4b4f56829b"
   },
   "outputs": [
    {
     "name": "stderr",
     "output_type": "stream",
     "text": [
      "WARNING:absl:Function `_wrapped_model` contains input name(s) Layer1_input with unsupported characters which will be renamed to layer1_input in the SavedModel.\n",
      "WARNING:absl:Found untraced functions such as _jit_compiled_convolution_op, _jit_compiled_convolution_op, _jit_compiled_convolution_op, _jit_compiled_convolution_op, _jit_compiled_convolution_op while saving (showing 5 of 7). These functions will not be directly callable after loading.\n"
     ]
    }
   ],
   "source": [
    "results_cnn\n",
    "\n",
    "results_cnn['CNN']['model'].save('../models/cnn_deciduous')\n"
   ]
  },
  {
   "cell_type": "code",
   "execution_count": null,
   "id": "VByegyv338p0",
   "metadata": {
    "colab": {
     "base_uri": "https://localhost:8080/",
     "height": 503
    },
    "id": "VByegyv338p0",
    "outputId": "7045d784-db73-48dc-b6a2-7f0d9b766693"
   },
   "outputs": [
    {
     "data": {
      "text/plain": [
       "<matplotlib.legend.Legend at 0x7f53349c7a00>"
      ]
     },
     "execution_count": 63,
     "metadata": {},
     "output_type": "execute_result"
    },
    {
     "data": {
      "image/png": "[encoded data removed]",
      "text/plain": [
       "<Figure size 800x550 with 1 Axes>"
      ]
     },
     "metadata": {},
     "output_type": "display_data"
    }
   ],
   "source": [
    "df_hist = pd.DataFrame(data= results_cnn['CNN']['hist'].history)\n",
    "\n",
    "sns.lineplot(x = df_hist.index, y = df_hist.accuracy.values, label='Train Accuracy')\n",
    "\n",
    "sns.lineplot(x = df_hist.index, y = df_hist.loss.values, label='Train loss')\n",
    "\n",
    "sns.lineplot(x = df_hist.index, y = df_hist.val_loss.values, label='Test loss')\n",
    "\n",
    "sns.lineplot(x = df_hist.index, y = df_hist.val_accuracy.values, label='Test Accuracy')\n",
    "\n",
    "plt.legend(frameon=True)"
   ]
  },
  {
   "cell_type": "markdown",
   "id": "9a43b847",
   "metadata": {
    "id": "9a43b847"
   },
   "source": [
    "### 3.4 Классифакия -  Coniferous"
   ]
  },
  {
   "cell_type": "code",
   "execution_count": 2,
   "id": "958374d0",
   "metadata": {
    "colab": {
     "base_uri": "https://localhost:8080/"
    },
    "id": "958374d0",
    "outputId": "f98b0f6c-9692-42bb-f4db-9aec2800dace"
   },
   "outputs": [],
   "source": [
    "results_cnn_coniferous = train_CNN_model(df= df_coded, \n",
    "                              gdf = gdf,\n",
    "                            model_fname='coniferous',\n",
    "                            target= \"coniferous\")"
   ]
  },
  {
   "cell_type": "code",
   "execution_count": null,
   "id": "9gzGpAxfi5b1",
   "metadata": {
    "colab": {
     "base_uri": "https://localhost:8080/",
     "height": 503
    },
    "id": "9gzGpAxfi5b1",
    "outputId": "618f56ca-7d66-405e-a099-84b4a7c737ee"
   },
   "outputs": [
    {
     "data": {
      "text/plain": [
       "<matplotlib.legend.Legend at 0x7f531fe790c0>"
      ]
     },
     "execution_count": 68,
     "metadata": {},
     "output_type": "execute_result"
    },
    {
     "data": {
      "image/png": "[encoded data removed]",
      "text/plain": [
       "<Figure size 800x550 with 1 Axes>"
      ]
     },
     "metadata": {},
     "output_type": "display_data"
    }
   ],
   "source": [
    "df_hist = pd.DataFrame(data= results_cnn_coniferous['CNN']['hist'].history)\n",
    "\n",
    "sns.lineplot(x = df_hist.index, y = df_hist.accuracy.values, label='Train Accuracy')\n",
    "\n",
    "sns.lineplot(x = df_hist.index, y = df_hist.loss.values, label='Train loss')\n",
    "\n",
    "sns.lineplot(x = df_hist.index, y = df_hist.val_loss.values, label='Test loss')\n",
    "\n",
    "sns.lineplot(x = df_hist.index, y = df_hist.val_accuracy.values, label='Test Accuracy')\n",
    "\n",
    "plt.legend(frameon=True)"
   ]
  },
  {
   "cell_type": "code",
   "execution_count": null,
   "id": "RQ_gk2Ani2sX",
   "metadata": {
    "colab": {
     "base_uri": "https://localhost:8080/"
    },
    "id": "RQ_gk2Ani2sX",
    "outputId": "4f666aea-84ff-4424-a3e3-9641b2357819"
   },
   "outputs": [
    {
     "name": "stderr",
     "output_type": "stream",
     "text": [
      "WARNING:absl:Function `_wrapped_model` contains input name(s) Layer1_input with unsupported characters which will be renamed to layer1_input in the SavedModel.\n",
      "WARNING:absl:Found untraced functions such as _jit_compiled_convolution_op, _jit_compiled_convolution_op, _jit_compiled_convolution_op, _jit_compiled_convolution_op, _jit_compiled_convolution_op while saving (showing 5 of 7). These functions will not be directly callable after loading.\n"
     ]
    }
   ],
   "source": [
    "results_cnn_coniferous['CNN']['model'].save('../models/cnn_coniferous')"
   ]
  },
  {
   "cell_type": "markdown",
   "id": "HQL3eE8agiJk",
   "metadata": {
    "id": "HQL3eE8agiJk"
   },
   "source": [
    "### 3.5 Classification - MultiClass baseline"
   ]
  },
  {
   "cell_type": "code",
   "execution_count": null,
   "id": "dXqH7bQughrF",
   "metadata": {
    "id": "dXqH7bQughrF"
   },
   "outputs": [],
   "source": [
    "# TO-DO"
   ]
  },
  {
   "cell_type": "markdown",
   "id": "Oi2yFy7xiEf3",
   "metadata": {
    "id": "Oi2yFy7xiEf3"
   },
   "source": [
    "## 4. Inference"
   ]
  },
  {
   "cell_type": "code",
   "execution_count": null,
   "id": "qT0coGkliL04",
   "metadata": {
    "id": "qT0coGkliL04"
   },
   "outputs": [],
   "source": [
    "import os\n",
    "import pandas as pd\n",
    "import numpy as np\n",
    "import rasterio as rio\n",
    "from itertools import product\n",
    "from rasterio import windows\n",
    "import matplotlib.pyplot as plt\n",
    "\n",
    "from osgeo import gdal\n",
    "from osgeo.gdalconst import GDT_Int16"
   ]
  },
  {
   "cell_type": "code",
   "execution_count": null,
   "id": "Yqh17wBViEEy",
   "metadata": {
    "id": "Yqh17wBViEEy"
   },
   "outputs": [],
   "source": [
    "def NDVI(red: pd.Series, nir: pd.Series):\n",
    "    ndvi = (nir - red) / ((nir + red).apply(lambda x: 0.000001 if x == 0 else x))\n",
    "    return ndvi\n",
    "\n",
    "def EVI(red: pd.Series, nir: pd.Series):\n",
    "    evi2 = (\n",
    "        2.5\n",
    "        * (nir - red)\n",
    "        / ((nir + 2.4 * red + 1).apply(lambda x: 0.000001 if x == 0 else x))\n",
    "    )\n",
    "    return evi2\n",
    "\n",
    "def NDRE(red_far: pd.Series, nir: pd.Series):\n",
    "    ndre = (nir - red_far) / (\n",
    "        (nir + red_far).apply(lambda x: 0.000001 if x == 0 else x)\n",
    "    )\n",
    "    return ndre\n",
    "\n",
    "def MSAVI(red: pd.Series, nir: pd.Series):\n",
    "    msavi = (2 * nir + 1 - ((2 * nir + 1) ** 2 - 8 * (nir - red)) ** (1 / 2)) / 2\n",
    "    return msavi\n",
    "\n",
    "\n",
    "def FCI(red: pd.Series, nir: pd.Series):\n",
    "    fci = np.sqrt(red * nir)\n",
    "    return fci\n",
    "\n",
    "def normalize_pixel(X: np.ndarray) -> np.ndarray:\n",
    "        X = X / 10000\n",
    "        X = np.clip(X, 0, 0.3)\n",
    "        return X\n",
    "    \n",
    "        \n",
    "def get_SVI(df: pd.DataFrame) -> pd.DataFrame:\n",
    "    nir = df.loc[:, \"B08\"]\n",
    "    red = df.loc[:, \"B04\"]\n",
    "    red_far = df.loc[:, \"B05\"]\n",
    "    df.loc[:, \"NDVI\"] = NDVI(red=red, nir=nir)\n",
    "    df.loc[:, \"EVI\"] = EVI(red=red, nir=nir)\n",
    "    df.loc[:, \"MSAVI\"] = MSAVI(red=red, nir=nir)\n",
    "    df.loc[:, \"NDRE\"] = NDRE(red_far=red_far, nir=nir)\n",
    "    df.loc[:, \"FCI\"] = FCI(red=red, nir=nir)\n",
    "    return df\n",
    "\n",
    "\n",
    "def get_tiles(ds, width=256, height=256):\n",
    "    nols, nrows = ds.meta['width'], ds.meta['height']\n",
    "    offsets = product(range(0, nols, width), range(0, nrows, height))\n",
    "    big_window = windows.Window(col_off=0, row_off=0, width=nols, height=nrows)\n",
    "    for col_off, row_off in  offsets:\n",
    "        window =windows.Window(col_off=col_off, row_off=row_off, width=width, height=height).intersection(big_window)\n",
    "        transform = windows.transform(window, ds.transform)\n",
    "        yield window, transform\n",
    "\n",
    "def get_dataset(x: np.ndarray)->pd.DataFrame:\n",
    "    \n",
    "    bands = x[:13, ...]\n",
    "    bands = to_2d_array(x[:13, ...])    \n",
    "    df = pd.DataFrame(bands.T, columns=col_names)\n",
    "    df[col_names] = normalize_pixel(df.values)\n",
    "    df = df.drop(columns='B10')\n",
    "    df = get_SVI(df)\n",
    "    terrain = to_2d_array(x[-4:, ...])\n",
    "    df_terrain = pd.DataFrame(terrain.T, columns=[\"aspect\", \"slope\", \n",
    "                                                      \"wetnessindex\", \"sink\"])\n",
    "    mask = df_terrain[\"wetnessindex\"] < 0\n",
    "    df_terrain.loc[mask, \"wetnessindex\"] = 0    \n",
    "    return pd.concat([df,df_terrain], axis=1)\n",
    "\n",
    "def to_2d_array(x: np.ndarray)->np.ndarray:\n",
    "    return x.reshape(x.shape[0], x.shape[1] * x.shape[2])\n",
    "\n",
    "def save_tif(raster_input:str, raster_output:str, values:np.array):\n",
    "    in_data, out_data = None, None\n",
    "    in_data = gdal.Open(raster_input)\n",
    "    if in_data is None:\n",
    "        print ('Unable to open %s' % raster_input)\n",
    "    band1 = in_data.GetRasterBand(1)\n",
    "    rows = in_data.RasterYSize\n",
    "    cols = in_data.RasterXSize\n",
    "    driver = in_data.GetDriver()\n",
    "    out_data = driver.Create(raster_output, cols, rows, 1, GDT_Int16)\n",
    "    dem_data = np.array(values)\n",
    "    out_band = out_data.GetRasterBand(1)\n",
    "    out_band.WriteArray(dem_data)\n",
    "    out_band.FlushCache()\n",
    "    out_band.SetNoDataValue(-1)\n",
    "\n",
    "    out_data.SetGeoTransform(in_data.GetGeoTransform())\n",
    "    out_data.SetProjection(in_data.GetProjection())\n",
    "    del out_data\n",
    "    return 'Done'"
   ]
  },
  {
   "cell_type": "code",
   "execution_count": null,
   "id": "o-z8kM7Fmf93",
   "metadata": {
    "id": "o-z8kM7Fmf93"
   },
   "outputs": [],
   "source": []
  },
  {
   "cell_type": "code",
   "execution_count": null,
   "id": "08cWuCEDiQqx",
   "metadata": {
    "id": "08cWuCEDiQqx"
   },
   "outputs": [],
   "source": [
    "\n",
    "col_names = [\"B01\",\"B02\",\"B03\",\"B04\",\n",
    "            \"B05\",\"B06\",\"B07\",\"B08\",\n",
    "            \"B8A\",\"B09\",\"B10\",\"B11\",\"B12\"]\n",
    "\n",
    "fname = '../rasters/bands_and_terrain.tiff'"
   ]
  },
  {
   "cell_type": "code",
   "execution_count": null,
   "id": "qMhw8-tXo6Fw",
   "metadata": {
    "id": "qMhw8-tXo6Fw"
   },
   "outputs": [],
   "source": [
    "from tensorflow import keras"
   ]
  },
  {
   "cell_type": "code",
   "execution_count": null,
   "id": "bxO8Qm8SiSip",
   "metadata": {
    "colab": {
     "base_uri": "https://localhost:8080/"
    },
    "id": "bxO8Qm8SiSip",
    "outputId": "de1c8040-7529-421c-e032-9a71406beb59"
   },
   "outputs": [
    {
     "name": "stdout",
     "output_type": "stream",
     "text": [
      "2066/2066 [==============================] - 5s 2ms/step\n",
      "1551/1551 [==============================] - 4s 3ms/step\n",
      "Window(col_off=0, row_off=0, width=512, height=512)\n",
      "539/539 [==============================] - 2s 3ms/step\n",
      "1980/1980 [==============================] - 5s 3ms/step\n",
      "Window(col_off=0, row_off=512, width=512, height=512)\n",
      "1911/1911 [==============================] - 5s 3ms/step\n",
      "1084/1084 [==============================] - 2s 2ms/step\n",
      "Window(col_off=0, row_off=1024, width=512, height=512)\n",
      "726/726 [==============================] - 2s 2ms/step\n",
      "1046/1046 [==============================] - 3s 3ms/step\n",
      "Window(col_off=0, row_off=1536, width=512, height=512)\n",
      "3225/3225 [==============================] - 7s 2ms/step\n",
      "1726/1726 [==============================] - 5s 3ms/step\n",
      "Window(col_off=0, row_off=2048, width=512, height=512)\n",
      "4334/4334 [==============================] - 11s 3ms/step\n",
      "2363/2363 [==============================] - 7s 3ms/step\n",
      "Window(col_off=0, row_off=2560, width=512, height=512)\n",
      "2820/2820 [==============================] - 7s 2ms/step\n",
      "1494/1494 [==============================] - 4s 2ms/step\n",
      "Window(col_off=0, row_off=3072, width=512, height=389)\n",
      "2141/2141 [==============================] - 5s 2ms/step\n",
      "3322/3322 [==============================] - 8s 2ms/step\n",
      "Window(col_off=512, row_off=0, width=512, height=512)\n",
      "3440/3440 [==============================] - 8s 2ms/step\n",
      "3303/3303 [==============================] - 9s 3ms/step\n",
      "Window(col_off=512, row_off=512, width=512, height=512)\n",
      "2407/2407 [==============================] - 7s 3ms/step\n",
      "1660/1660 [==============================] - 4s 2ms/step\n",
      "Window(col_off=512, row_off=1024, width=512, height=512)\n",
      "1110/1110 [==============================] - 3s 2ms/step\n",
      "2542/2542 [==============================] - 7s 3ms/step\n",
      "Window(col_off=512, row_off=1536, width=512, height=512)\n",
      "2834/2834 [==============================] - 8s 3ms/step\n",
      "3944/3944 [==============================] - 10s 2ms/step\n",
      "Window(col_off=512, row_off=2048, width=512, height=512)\n",
      "4041/4041 [==============================] - 11s 3ms/step\n",
      "3310/3310 [==============================] - 9s 3ms/step\n",
      "Window(col_off=512, row_off=2560, width=512, height=512)\n",
      "1654/1654 [==============================] - 4s 2ms/step\n",
      "1731/1731 [==============================] - 5s 3ms/step\n",
      "Window(col_off=512, row_off=3072, width=512, height=389)\n",
      "2056/2056 [==============================] - 6s 3ms/step\n",
      "3964/3964 [==============================] - 10s 3ms/step\n",
      "Window(col_off=1024, row_off=0, width=512, height=512)\n",
      "4347/4347 [==============================] - 12s 3ms/step\n",
      "2582/2582 [==============================] - 6s 2ms/step\n",
      "Window(col_off=1024, row_off=512, width=512, height=512)\n"
     ]
    }
   ],
   "source": [
    "\n",
    "# Задаем размер кусочков (тайлов), которые будем классифицировать\n",
    "tile_width, tile_height = 512, 512\n",
    "\n",
    "forest_model = load('../models/forest_model_svc.joblib')\n",
    "forest_type_model = load('../models/forest_type_model_SVC.joblib')\n",
    "non_forest_model = load('../models/svc_grid_p_nf.joblib')\n",
    "deciduous_model = keras.models.load_model('../models/cnn_deciduous')\n",
    "coniferous_model = keras.models.load_model('../models/cnn_coniferous')\n",
    "scaler = load('../models/forest_scaler.joblib')\n",
    "\n",
    "\n",
    "dict_coniferous = {0:ForestClasses.Pine.value,\n",
    "                   1:ForestClasses.Silver_fir.value,\n",
    "                   -1:-1}\n",
    "dict_deciduous = {0:ForestClasses.Birch.value,\n",
    "                   1:ForestClasses.Aspen.value,\n",
    "                   -1:-1}\n",
    "\n",
    "with rio.open(fname, 'r+') as src:\n",
    "    meta = src.meta.copy()\n",
    "    output_mask = np.zeros(shape = (meta['height'], meta['width']))\n",
    "    # Здесь можно добавить tqdm для отслеживания процесса\n",
    "    for window, transform in get_tiles(src, \n",
    "                                       width=tile_width,\n",
    "                                       height=tile_height):\n",
    "        meta['transform'] = transform\n",
    "        meta['width'], meta['height'] = window.width, window.height\n",
    "        \n",
    "        x = src.read(window=window)\n",
    "        # get pixels for classification from tiff tile\n",
    "        df = get_dataset(x)\n",
    "\n",
    "        # vector to save results\n",
    "        columns=['forest', 'non_forest','forest_type',\n",
    "                 'coniferous', 'deciduous']\n",
    "        forecast=pd.DataFrame(data=np.ones(shape=(len(df), 5))*-1,\n",
    "                              columns=columns)\n",
    "        \n",
    "        mask_nan = df.iloc[:, :5].sum(axis=1)==0\n",
    "    \n",
    "        land_df = df.loc[~mask_nan]\n",
    "        land_df.iloc[:, :] = scaler.transform(land_df.iloc[:, :])\n",
    "        \n",
    "        forest_preds = forest_model.predict(land_df.values)\n",
    "        forecast.loc[~mask_nan, 'forest'] = forest_preds\n",
    "        # Predict forest type -> 1 - coniferous, 0 - deciduous\n",
    "        \n",
    "        mask_forest = forecast['forest'] == 1\n",
    "        f_type_preds = forest_type_model.predict(land_df.loc[mask_forest])\n",
    "        forecast.loc[mask_forest, 'forest_type'] = f_type_preds\n",
    "\n",
    "        non_forest = non_forest_model.predict(land_df.loc[forecast['forest'] == 0])\n",
    "        forecast.loc[forecast['forest'] == 0,'non_forest'] = non_forest\n",
    "        \n",
    "        # Predict deciduous -> Birch - 0, Aspen - 1\n",
    "        data_for_cnn = land_df.loc[forecast['forest_type']==0].values\n",
    "        ip_shape = data_for_cnn.shape\n",
    "        data_for_cnn = data_for_cnn.reshape(-1, ip_shape[1], 1)\n",
    "        pred_deciduous = (deciduous_model.predict(data_for_cnn)>0.5).astype(\"int32\")\n",
    "        forecast.loc[forecast['forest_type']==0, 'deciduous'] = pred_deciduous[:,0]\n",
    "        \n",
    "        # Predict coniferous -> Pine - 0, Silver fir - 1\n",
    "        data_for_cnn = land_df.loc[forecast['forest_type']==1].values\n",
    "        ip_shape = data_for_cnn.shape\n",
    "        data_for_cnn = data_for_cnn.reshape(-1, ip_shape[1], 1)\n",
    "        pred_coniferous = (coniferous_model.predict(data_for_cnn)>0.5).astype(\"int32\")\n",
    "        forecast.loc[forecast['forest_type']==1, 'coniferous'] = pred_coniferous[:,0]\n",
    "        \n",
    "        \n",
    "        forecast['coniferous'] = forecast['coniferous'].apply(lambda x: dict_coniferous[x])\n",
    "        forecast['deciduous'] = forecast['deciduous'].apply(lambda x: dict_deciduous[x])\n",
    "        forecast_vector = forecast.max(axis=1)\n",
    "        forest_tile = forecast_vector.values.reshape(meta['height'], meta['width'])\n",
    "        ranges = window.toranges()\n",
    "        output_mask[ranges[0][0]:ranges[0][1],ranges[1][0]:ranges[1][1]] = forest_tile\n",
    "        print(window)\n",
    "        # break \n",
    "raster_output = '../rasters/prediction_bratsk.tif'\n",
    "status = save_tif(raster_input=fname, raster_output=raster_output, values=output_mask)\n",
    "print(status)"
   ]
  },
  {
   "cell_type": "code",
   "execution_count": 192,
   "id": "IJ3X_kQKUrD1",
   "metadata": {
    "colab": {
     "base_uri": "https://localhost:8080/"
    },
    "id": "IJ3X_kQKUrD1",
    "outputId": "4b65bdc1-9e35-4d48-a71b-73c1b0ea1875"
   },
   "outputs": [
    {
     "data": {
      "text/plain": [
       "array([0, 1], dtype=int32)"
      ]
     },
     "execution_count": 192,
     "metadata": {},
     "output_type": "execute_result"
    }
   ],
   "source": [
    "np.unique(pred_coniferous)\n"
   ]
  },
  {
   "cell_type": "code",
   "execution_count": 200,
   "id": "AWg3nasUq_3k",
   "metadata": {
    "colab": {
     "base_uri": "https://localhost:8080/",
     "height": 508
    },
    "id": "AWg3nasUq_3k",
    "outputId": "cba150ff-edad-4d07-803f-20af634b1775"
   },
   "outputs": [
    {
     "data": {
      "text/plain": [
       "<matplotlib.image.AxesImage at 0x7f53371fffd0>"
      ]
     },
     "execution_count": 200,
     "metadata": {},
     "output_type": "execute_result"
    },
    {
     "data": {
      "image/png": "[encoded data removed]",
      "text/plain": [
       "<Figure size 800x550 with 1 Axes>"
      ]
     },
     "metadata": {},
     "output_type": "display_data"
    }
   ],
   "source": [
    "plt.imshow(forest_tile)"
   ]
  },
  {
   "cell_type": "code",
   "execution_count": 196,
   "id": "H9l_6xqKU1-R",
   "metadata": {
    "colab": {
     "base_uri": "https://localhost:8080/"
    },
    "id": "H9l_6xqKU1-R",
    "outputId": "b39bcaaf-a797-4420-b878-1ee8cc9898cb"
   },
   "outputs": [
    {
     "data": {
      "text/plain": [
       "0        -1.0\n",
       "1        -1.0\n",
       "2        -1.0\n",
       "3        -1.0\n",
       "4        -1.0\n",
       "         ... \n",
       "262139    7.0\n",
       "262140    7.0\n",
       "262141    7.0\n",
       "262142    7.0\n",
       "262143    7.0\n",
       "Length: 262144, dtype: float64"
      ]
     },
     "execution_count": 196,
     "metadata": {},
     "output_type": "execute_result"
    }
   ],
   "source": [
    "forecast_vector = forecast.max(axis=1)"
   ]
  },
  {
   "cell_type": "code",
   "execution_count": null,
   "id": "59Bdg_Fxn3_H",
   "metadata": {
    "colab": {
     "base_uri": "https://localhost:8080/",
     "height": 345
    },
    "id": "59Bdg_Fxn3_H",
    "outputId": "bd46ac57-f8d4-4ee5-f96c-51f481a76353"
   },
   "outputs": [
    {
     "ename": "IndexingError",
     "evalue": "ignored",
     "output_type": "error",
     "traceback": [
      "\u001b[0;31m---------------------------------------------------------------------------\u001b[0m",
      "\u001b[0;31mIndexingError\u001b[0m                             Traceback (most recent call last)",
      "\u001b[0;32m<ipython-input-140-8af7f2473a23>\u001b[0m in \u001b[0;36m<cell line: 1>\u001b[0;34m()\u001b[0m\n\u001b[0;32m----> 1\u001b[0;31m \u001b[0mdata_for_cnn\u001b[0m \u001b[0;34m=\u001b[0m \u001b[0mland_df\u001b[0m\u001b[0;34m.\u001b[0m\u001b[0mloc\u001b[0m\u001b[0;34m[\u001b[0m\u001b[0;34m~\u001b[0m\u001b[0mmask_forest_type\u001b[0m\u001b[0;34m]\u001b[0m\u001b[0;34m.\u001b[0m\u001b[0mvalues\u001b[0m\u001b[0;34m\u001b[0m\u001b[0;34m\u001b[0m\u001b[0m\n\u001b[0m",
      "\u001b[0;32m/usr/local/lib/python3.10/dist-packages/pandas/core/indexing.py\u001b[0m in \u001b[0;36m__getitem__\u001b[0;34m(self, key)\u001b[0m\n\u001b[1;32m   1071\u001b[0m \u001b[0;34m\u001b[0m\u001b[0m\n\u001b[1;32m   1072\u001b[0m             \u001b[0mmaybe_callable\u001b[0m \u001b[0;34m=\u001b[0m \u001b[0mcom\u001b[0m\u001b[0;34m.\u001b[0m\u001b[0mapply_if_callable\u001b[0m\u001b[0;34m(\u001b[0m\u001b[0mkey\u001b[0m\u001b[0;34m,\u001b[0m \u001b[0mself\u001b[0m\u001b[0;34m.\u001b[0m\u001b[0mobj\u001b[0m\u001b[0;34m)\u001b[0m\u001b[0;34m\u001b[0m\u001b[0;34m\u001b[0m\u001b[0m\n\u001b[0;32m-> 1073\u001b[0;31m             \u001b[0;32mreturn\u001b[0m \u001b[0mself\u001b[0m\u001b[0;34m.\u001b[0m\u001b[0m_getitem_axis\u001b[0m\u001b[0;34m(\u001b[0m\u001b[0mmaybe_callable\u001b[0m\u001b[0;34m,\u001b[0m \u001b[0maxis\u001b[0m\u001b[0;34m=\u001b[0m\u001b[0maxis\u001b[0m\u001b[0;34m)\u001b[0m\u001b[0;34m\u001b[0m\u001b[0;34m\u001b[0m\u001b[0m\n\u001b[0m\u001b[1;32m   1074\u001b[0m \u001b[0;34m\u001b[0m\u001b[0m\n\u001b[1;32m   1075\u001b[0m     \u001b[0;32mdef\u001b[0m \u001b[0m_is_scalar_access\u001b[0m\u001b[0;34m(\u001b[0m\u001b[0mself\u001b[0m\u001b[0;34m,\u001b[0m \u001b[0mkey\u001b[0m\u001b[0;34m:\u001b[0m \u001b[0mtuple\u001b[0m\u001b[0;34m)\u001b[0m\u001b[0;34m:\u001b[0m\u001b[0;34m\u001b[0m\u001b[0;34m\u001b[0m\u001b[0m\n",
      "\u001b[0;32m/usr/local/lib/python3.10/dist-packages/pandas/core/indexing.py\u001b[0m in \u001b[0;36m_getitem_axis\u001b[0;34m(self, key, axis)\u001b[0m\n\u001b[1;32m   1290\u001b[0m             \u001b[0;32mreturn\u001b[0m \u001b[0mself\u001b[0m\u001b[0;34m.\u001b[0m\u001b[0m_get_slice_axis\u001b[0m\u001b[0;34m(\u001b[0m\u001b[0mkey\u001b[0m\u001b[0;34m,\u001b[0m \u001b[0maxis\u001b[0m\u001b[0;34m=\u001b[0m\u001b[0maxis\u001b[0m\u001b[0;34m)\u001b[0m\u001b[0;34m\u001b[0m\u001b[0;34m\u001b[0m\u001b[0m\n\u001b[1;32m   1291\u001b[0m         \u001b[0;32melif\u001b[0m \u001b[0mcom\u001b[0m\u001b[0;34m.\u001b[0m\u001b[0mis_bool_indexer\u001b[0m\u001b[0;34m(\u001b[0m\u001b[0mkey\u001b[0m\u001b[0;34m)\u001b[0m\u001b[0;34m:\u001b[0m\u001b[0;34m\u001b[0m\u001b[0;34m\u001b[0m\u001b[0m\n\u001b[0;32m-> 1292\u001b[0;31m             \u001b[0;32mreturn\u001b[0m \u001b[0mself\u001b[0m\u001b[0;34m.\u001b[0m\u001b[0m_getbool_axis\u001b[0m\u001b[0;34m(\u001b[0m\u001b[0mkey\u001b[0m\u001b[0;34m,\u001b[0m \u001b[0maxis\u001b[0m\u001b[0;34m=\u001b[0m\u001b[0maxis\u001b[0m\u001b[0;34m)\u001b[0m\u001b[0;34m\u001b[0m\u001b[0;34m\u001b[0m\u001b[0m\n\u001b[0m\u001b[1;32m   1293\u001b[0m         \u001b[0;32melif\u001b[0m \u001b[0mis_list_like_indexer\u001b[0m\u001b[0;34m(\u001b[0m\u001b[0mkey\u001b[0m\u001b[0;34m)\u001b[0m\u001b[0;34m:\u001b[0m\u001b[0;34m\u001b[0m\u001b[0;34m\u001b[0m\u001b[0m\n\u001b[1;32m   1294\u001b[0m \u001b[0;34m\u001b[0m\u001b[0m\n",
      "\u001b[0;32m/usr/local/lib/python3.10/dist-packages/pandas/core/indexing.py\u001b[0m in \u001b[0;36m_getbool_axis\u001b[0;34m(self, key, axis)\u001b[0m\n\u001b[1;32m   1089\u001b[0m         \u001b[0;31m# caller is responsible for ensuring non-None axis\u001b[0m\u001b[0;34m\u001b[0m\u001b[0;34m\u001b[0m\u001b[0m\n\u001b[1;32m   1090\u001b[0m         \u001b[0mlabels\u001b[0m \u001b[0;34m=\u001b[0m \u001b[0mself\u001b[0m\u001b[0;34m.\u001b[0m\u001b[0mobj\u001b[0m\u001b[0;34m.\u001b[0m\u001b[0m_get_axis\u001b[0m\u001b[0;34m(\u001b[0m\u001b[0maxis\u001b[0m\u001b[0;34m)\u001b[0m\u001b[0;34m\u001b[0m\u001b[0;34m\u001b[0m\u001b[0m\n\u001b[0;32m-> 1091\u001b[0;31m         \u001b[0mkey\u001b[0m \u001b[0;34m=\u001b[0m \u001b[0mcheck_bool_indexer\u001b[0m\u001b[0;34m(\u001b[0m\u001b[0mlabels\u001b[0m\u001b[0;34m,\u001b[0m \u001b[0mkey\u001b[0m\u001b[0;34m)\u001b[0m\u001b[0;34m\u001b[0m\u001b[0;34m\u001b[0m\u001b[0m\n\u001b[0m\u001b[1;32m   1092\u001b[0m         \u001b[0minds\u001b[0m \u001b[0;34m=\u001b[0m \u001b[0mkey\u001b[0m\u001b[0;34m.\u001b[0m\u001b[0mnonzero\u001b[0m\u001b[0;34m(\u001b[0m\u001b[0;34m)\u001b[0m\u001b[0;34m[\u001b[0m\u001b[0;36m0\u001b[0m\u001b[0;34m]\u001b[0m\u001b[0;34m\u001b[0m\u001b[0;34m\u001b[0m\u001b[0m\n\u001b[1;32m   1093\u001b[0m         \u001b[0;32mreturn\u001b[0m \u001b[0mself\u001b[0m\u001b[0;34m.\u001b[0m\u001b[0mobj\u001b[0m\u001b[0;34m.\u001b[0m\u001b[0m_take_with_is_copy\u001b[0m\u001b[0;34m(\u001b[0m\u001b[0minds\u001b[0m\u001b[0;34m,\u001b[0m \u001b[0maxis\u001b[0m\u001b[0;34m=\u001b[0m\u001b[0maxis\u001b[0m\u001b[0;34m)\u001b[0m\u001b[0;34m\u001b[0m\u001b[0;34m\u001b[0m\u001b[0m\n",
      "\u001b[0;32m/usr/local/lib/python3.10/dist-packages/pandas/core/indexing.py\u001b[0m in \u001b[0;36mcheck_bool_indexer\u001b[0;34m(index, key)\u001b[0m\n\u001b[1;32m   2550\u001b[0m         \u001b[0mindexer\u001b[0m \u001b[0;34m=\u001b[0m \u001b[0mresult\u001b[0m\u001b[0;34m.\u001b[0m\u001b[0mindex\u001b[0m\u001b[0;34m.\u001b[0m\u001b[0mget_indexer_for\u001b[0m\u001b[0;34m(\u001b[0m\u001b[0mindex\u001b[0m\u001b[0;34m)\u001b[0m\u001b[0;34m\u001b[0m\u001b[0;34m\u001b[0m\u001b[0m\n\u001b[1;32m   2551\u001b[0m         \u001b[0;32mif\u001b[0m \u001b[0;34m-\u001b[0m\u001b[0;36m1\u001b[0m \u001b[0;32min\u001b[0m \u001b[0mindexer\u001b[0m\u001b[0;34m:\u001b[0m\u001b[0;34m\u001b[0m\u001b[0;34m\u001b[0m\u001b[0m\n\u001b[0;32m-> 2552\u001b[0;31m             raise IndexingError(\n\u001b[0m\u001b[1;32m   2553\u001b[0m                 \u001b[0;34m\"Unalignable boolean Series provided as \"\u001b[0m\u001b[0;34m\u001b[0m\u001b[0;34m\u001b[0m\u001b[0m\n\u001b[1;32m   2554\u001b[0m                 \u001b[0;34m\"indexer (index of the boolean Series and of \"\u001b[0m\u001b[0;34m\u001b[0m\u001b[0;34m\u001b[0m\u001b[0m\n",
      "\u001b[0;31mIndexingError\u001b[0m: Unalignable boolean Series provided as indexer (index of the boolean Series and of the indexed object do not match)."
     ]
    }
   ],
   "source": [
    "data_for_cnn = land_df.loc[~mask_forest_type].values"
   ]
  },
  {
   "cell_type": "code",
   "execution_count": null,
   "id": "gLLKrA9SnvWQ",
   "metadata": {
    "colab": {
     "base_uri": "https://localhost:8080/",
     "height": 424
    },
    "id": "gLLKrA9SnvWQ",
    "outputId": "6fd97d9b-8ae4-4fa5-c89a-38c1cd9a3848"
   },
   "outputs": [
    {
     "data": {
      "text/html": [
       "\n",
       "  <div id=\"df-c0134143-0afc-4b2c-b6b7-611ad54bca5b\">\n",
       "    <div class=\"colab-df-container\">\n",
       "      <div>\n",
       "<style scoped>\n",
       "    .dataframe tbody tr th:only-of-type {\n",
       "        vertical-align: middle;\n",
       "    }\n",
       "\n",
       "    .dataframe tbody tr th {\n",
       "        vertical-align: top;\n",
       "    }\n",
       "\n",
       "    .dataframe thead th {\n",
       "        text-align: right;\n",
       "    }\n",
       "</style>\n",
       "<table border=\"1\" class=\"dataframe\">\n",
       "  <thead>\n",
       "    <tr style=\"text-align: right;\">\n",
       "      <th></th>\n",
       "      <th>forest</th>\n",
       "      <th>non_forest</th>\n",
       "      <th>forest_type</th>\n",
       "      <th>coniferous</th>\n",
       "      <th>deciduous</th>\n",
       "    </tr>\n",
       "  </thead>\n",
       "  <tbody>\n",
       "    <tr>\n",
       "      <th>0</th>\n",
       "      <td>-1.0</td>\n",
       "      <td>-1.0</td>\n",
       "      <td>-1.0</td>\n",
       "      <td>-1.0</td>\n",
       "      <td>-1.0</td>\n",
       "    </tr>\n",
       "    <tr>\n",
       "      <th>1</th>\n",
       "      <td>-1.0</td>\n",
       "      <td>-1.0</td>\n",
       "      <td>-1.0</td>\n",
       "      <td>-1.0</td>\n",
       "      <td>-1.0</td>\n",
       "    </tr>\n",
       "    <tr>\n",
       "      <th>2</th>\n",
       "      <td>-1.0</td>\n",
       "      <td>-1.0</td>\n",
       "      <td>-1.0</td>\n",
       "      <td>-1.0</td>\n",
       "      <td>-1.0</td>\n",
       "    </tr>\n",
       "    <tr>\n",
       "      <th>3</th>\n",
       "      <td>-1.0</td>\n",
       "      <td>-1.0</td>\n",
       "      <td>-1.0</td>\n",
       "      <td>-1.0</td>\n",
       "      <td>-1.0</td>\n",
       "    </tr>\n",
       "    <tr>\n",
       "      <th>4</th>\n",
       "      <td>-1.0</td>\n",
       "      <td>-1.0</td>\n",
       "      <td>-1.0</td>\n",
       "      <td>-1.0</td>\n",
       "      <td>-1.0</td>\n",
       "    </tr>\n",
       "    <tr>\n",
       "      <th>...</th>\n",
       "      <td>...</td>\n",
       "      <td>...</td>\n",
       "      <td>...</td>\n",
       "      <td>...</td>\n",
       "      <td>...</td>\n",
       "    </tr>\n",
       "    <tr>\n",
       "      <th>262139</th>\n",
       "      <td>1.0</td>\n",
       "      <td>-1.0</td>\n",
       "      <td>-1.0</td>\n",
       "      <td>-1.0</td>\n",
       "      <td>-1.0</td>\n",
       "    </tr>\n",
       "    <tr>\n",
       "      <th>262140</th>\n",
       "      <td>1.0</td>\n",
       "      <td>-1.0</td>\n",
       "      <td>-1.0</td>\n",
       "      <td>-1.0</td>\n",
       "      <td>-1.0</td>\n",
       "    </tr>\n",
       "    <tr>\n",
       "      <th>262141</th>\n",
       "      <td>1.0</td>\n",
       "      <td>-1.0</td>\n",
       "      <td>-1.0</td>\n",
       "      <td>-1.0</td>\n",
       "      <td>-1.0</td>\n",
       "    </tr>\n",
       "    <tr>\n",
       "      <th>262142</th>\n",
       "      <td>1.0</td>\n",
       "      <td>-1.0</td>\n",
       "      <td>-1.0</td>\n",
       "      <td>-1.0</td>\n",
       "      <td>-1.0</td>\n",
       "    </tr>\n",
       "    <tr>\n",
       "      <th>262143</th>\n",
       "      <td>1.0</td>\n",
       "      <td>-1.0</td>\n",
       "      <td>-1.0</td>\n",
       "      <td>-1.0</td>\n",
       "      <td>-1.0</td>\n",
       "    </tr>\n",
       "  </tbody>\n",
       "</table>\n",
       "<p>262144 rows × 5 columns</p>\n",
       "</div>\n",
       "      <button class=\"colab-df-convert\" onclick=\"convertToInteractive('df-c0134143-0afc-4b2c-b6b7-611ad54bca5b')\"\n",
       "              title=\"Convert this dataframe to an interactive table.\"\n",
       "              style=\"display:none;\">\n",
       "        \n",
       "  <svg xmlns=\"http://www.w3.org/2000/svg\" height=\"24px\"viewBox=\"0 0 24 24\"\n",
       "       width=\"24px\">\n",
       "    <path d=\"M0 0h24v24H0V0z\" fill=\"none\"/>\n",
       "    <path d=\"M18.56 5.44l.94 2.06.94-2.06 2.06-.94-2.06-.94-.94-2.06-.94 2.06-2.06.94zm-11 1L8.5 8.5l.94-2.06 2.06-.94-2.06-.94L8.5 2.5l-.94 2.06-2.06.94zm10 10l.94 2.06.94-2.06 2.06-.94-2.06-.94-.94-2.06-.94 2.06-2.06.94z\"/><path d=\"M17.41 7.96l-1.37-1.37c-.4-.4-.92-.59-1.43-.59-.52 0-1.04.2-1.43.59L10.3 9.45l-7.72 7.72c-.78.78-.78 2.05 0 2.83L4 21.41c.39.39.9.59 1.41.59.51 0 1.02-.2 1.41-.59l7.78-7.78 2.81-2.81c.8-.78.8-2.07 0-2.86zM5.41 20L4 18.59l7.72-7.72 1.47 1.35L5.41 20z\"/>\n",
       "  </svg>\n",
       "      </button>\n",
       "      \n",
       "  <style>\n",
       "    .colab-df-container {\n",
       "      display:flex;\n",
       "      flex-wrap:wrap;\n",
       "      gap: 12px;\n",
       "    }\n",
       "\n",
       "    .colab-df-convert {\n",
       "      background-color: #E8F0FE;\n",
       "      border: none;\n",
       "      border-radius: 50%;\n",
       "      cursor: pointer;\n",
       "      display: none;\n",
       "      fill: #1967D2;\n",
       "      height: 32px;\n",
       "      padding: 0 0 0 0;\n",
       "      width: 32px;\n",
       "    }\n",
       "\n",
       "    .colab-df-convert:hover {\n",
       "      background-color: #E2EBFA;\n",
       "      box-shadow: 0px 1px 2px rgba(60, 64, 67, 0.3), 0px 1px 3px 1px rgba(60, 64, 67, 0.15);\n",
       "      fill: #174EA6;\n",
       "    }\n",
       "\n",
       "    [theme=dark] .colab-df-convert {\n",
       "      background-color: #3B4455;\n",
       "      fill: #D2E3FC;\n",
       "    }\n",
       "\n",
       "    [theme=dark] .colab-df-convert:hover {\n",
       "      background-color: #434B5C;\n",
       "      box-shadow: 0px 1px 3px 1px rgba(0, 0, 0, 0.15);\n",
       "      filter: drop-shadow(0px 1px 2px rgba(0, 0, 0, 0.3));\n",
       "      fill: #FFFFFF;\n",
       "    }\n",
       "  </style>\n",
       "\n",
       "      <script>\n",
       "        const buttonEl =\n",
       "          document.querySelector('#df-c0134143-0afc-4b2c-b6b7-611ad54bca5b button.colab-df-convert');\n",
       "        buttonEl.style.display =\n",
       "          google.colab.kernel.accessAllowed ? 'block' : 'none';\n",
       "\n",
       "        async function convertToInteractive(key) {\n",
       "          const element = document.querySelector('#df-c0134143-0afc-4b2c-b6b7-611ad54bca5b');\n",
       "          const dataTable =\n",
       "            await google.colab.kernel.invokeFunction('convertToInteractive',\n",
       "                                                     [key], {});\n",
       "          if (!dataTable) return;\n",
       "\n",
       "          const docLinkHtml = 'Like what you see? Visit the ' +\n",
       "            '<a target=\"_blank\" href=https://colab.research.google.com/notebooks/data_table.ipynb>data table notebook</a>'\n",
       "            + ' to learn more about interactive tables.';\n",
       "          element.innerHTML = '';\n",
       "          dataTable['output_type'] = 'display_data';\n",
       "          await google.colab.output.renderOutput(dataTable, element);\n",
       "          const docLink = document.createElement('div');\n",
       "          docLink.innerHTML = docLinkHtml;\n",
       "          element.appendChild(docLink);\n",
       "        }\n",
       "      </script>\n",
       "    </div>\n",
       "  </div>\n",
       "  "
      ],
      "text/plain": [
       "        forest  non_forest  forest_type  coniferous  deciduous\n",
       "0         -1.0        -1.0         -1.0        -1.0       -1.0\n",
       "1         -1.0        -1.0         -1.0        -1.0       -1.0\n",
       "2         -1.0        -1.0         -1.0        -1.0       -1.0\n",
       "3         -1.0        -1.0         -1.0        -1.0       -1.0\n",
       "4         -1.0        -1.0         -1.0        -1.0       -1.0\n",
       "...        ...         ...          ...         ...        ...\n",
       "262139     1.0        -1.0         -1.0        -1.0       -1.0\n",
       "262140     1.0        -1.0         -1.0        -1.0       -1.0\n",
       "262141     1.0        -1.0         -1.0        -1.0       -1.0\n",
       "262142     1.0        -1.0         -1.0        -1.0       -1.0\n",
       "262143     1.0        -1.0         -1.0        -1.0       -1.0\n",
       "\n",
       "[262144 rows x 5 columns]"
      ]
     },
     "execution_count": 151,
     "metadata": {},
     "output_type": "execute_result"
    }
   ],
   "source": [
    "forecast"
   ]
  },
  {
   "cell_type": "code",
   "execution_count": null,
   "id": "6V9VBikPnTVk",
   "metadata": {
    "colab": {
     "base_uri": "https://localhost:8080/"
    },
    "id": "6V9VBikPnTVk",
    "outputId": "e28aa013-9840-48b7-cd64-146993932489"
   },
   "outputs": [
    {
     "data": {
      "text/plain": [
       "35918     0.0\n",
       "35919     0.0\n",
       "35920     0.0\n",
       "35921     0.0\n",
       "35922     0.0\n",
       "         ... \n",
       "262139    1.0\n",
       "262140    1.0\n",
       "262141    1.0\n",
       "262142    1.0\n",
       "262143    1.0\n",
       "Name: forest, Length: 192464, dtype: float64"
      ]
     },
     "execution_count": 149,
     "metadata": {},
     "output_type": "execute_result"
    }
   ],
   "source": [
    "forecast.loc[~mask_nan, 'forest']"
   ]
  },
  {
   "cell_type": "code",
   "execution_count": null,
   "id": "JD4nQhaynPGd",
   "metadata": {
    "colab": {
     "base_uri": "https://localhost:8080/"
    },
    "id": "JD4nQhaynPGd",
    "outputId": "4cca3bc5-af19-4d2d-aa8d-012f0cf25bcf"
   },
   "outputs": [
    {
     "data": {
      "text/plain": [
       "Index(['B01', 'B02', 'B03', 'B04', 'B05', 'B06', 'B07', 'B08', 'B8A', 'B09',\n",
       "       'B11', 'B12', 'NDVI', 'NDRE', 'MSAVI', 'EVI', 'FCI', 'aspect', 'slope',\n",
       "       'wetnessindex', 'sink'],\n",
       "      dtype='object')"
      ]
     },
     "execution_count": 113,
     "metadata": {},
     "output_type": "execute_result"
    }
   ],
   "source": [
    "land_df.columns"
   ]
  },
  {
   "cell_type": "code",
   "execution_count": null,
   "id": "nQQUm06OmFWu",
   "metadata": {
    "colab": {
     "base_uri": "https://localhost:8080/"
    },
    "id": "nQQUm06OmFWu",
    "outputId": "d909634f-327b-459a-a9b4-b956e3a2b058"
   },
   "outputs": [
    {
     "data": {
      "text/plain": [
       "{'B10'}"
      ]
     },
     "execution_count": 101,
     "metadata": {},
     "output_type": "execute_result"
    }
   ],
   "source": [
    "set(df.columns) - set(['B01', 'B02', 'B03', 'B04', 'B05', 'B06', 'B07', 'B08', 'B8A', 'B09',\n",
    "       'B11', 'B12', 'NDVI', 'EVI', 'MSAVI', 'NDRE', 'FCI', 'aspect', 'slope',\n",
    "       'wetnessindex', 'sink'])"
   ]
  },
  {
   "cell_type": "code",
   "execution_count": null,
   "id": "INDENvQ_mAxv",
   "metadata": {
    "colab": {
     "base_uri": "https://localhost:8080/"
    },
    "id": "INDENvQ_mAxv",
    "outputId": "5c00de67-6193-4bd5-b766-2ccc0574b57c"
   },
   "outputs": [
    {
     "data": {
      "text/plain": [
       "Index(['B01', 'B02', 'B03', 'B04', 'B05', 'B06', 'B07', 'B08', 'B8A', 'B09',\n",
       "       'B11', 'B12', 'NDVI', 'EVI', 'MSAVI', 'NDRE', 'FCI', 'aspect', 'slope',\n",
       "       'wetnessindex', 'sink', 'key', 'class', 'forest', 'forest_type',\n",
       "       'deciduous', 'coniferous'],\n",
       "      dtype='object')"
      ]
     },
     "execution_count": 94,
     "metadata": {},
     "output_type": "execute_result"
    }
   ],
   "source": [
    "df_coded.columns"
   ]
  },
  {
   "cell_type": "code",
   "execution_count": null,
   "id": "gP66bHbGlCmJ",
   "metadata": {
    "colab": {
     "base_uri": "https://localhost:8080/"
    },
    "id": "gP66bHbGlCmJ",
    "outputId": "a6526ef2-038d-4930-b566-8cfb941cbdde"
   },
   "outputs": [
    {
     "data": {
      "text/plain": [
       "Index(['B01', 'B02', 'B03', 'B04', 'B05', 'B06', 'B07', 'B08', 'B8A', 'B09',\n",
       "       'B10', 'B11', 'B12', 'NDVI', 'NDRE', 'MSAVI', 'EVI', 'FCI', 'aspect',\n",
       "       'slope', 'wetnessindex', 'sink'],\n",
       "      dtype='object')"
      ]
     },
     "execution_count": 92,
     "metadata": {},
     "output_type": "execute_result"
    }
   ],
   "source": [
    "df.columns"
   ]
  },
  {
   "cell_type": "code",
   "execution_count": null,
   "id": "pldaeITrlE00",
   "metadata": {
    "id": "pldaeITrlE00"
   },
   "outputs": [],
   "source": [
    "df[['aspect','slope','wetnessindex','sink']] = df[['aspect','slope','wetnessindex','sink']].astype(float)"
   ]
  },
  {
   "cell_type": "code",
   "execution_count": null,
   "id": "pOi48fqPlm26",
   "metadata": {
    "colab": {
     "base_uri": "https://localhost:8080/"
    },
    "id": "pOi48fqPlm26",
    "outputId": "1a51b23d-3fd1-483a-cf37-35c6570e904a"
   },
   "outputs": [
    {
     "data": {
      "text/plain": [
       "B01             0.000000\n",
       "B02             0.000000\n",
       "B03             0.000000\n",
       "B04             0.000000\n",
       "B05             0.000000\n",
       "B06             0.000000\n",
       "B07             0.000000\n",
       "B08             0.000000\n",
       "B8A             0.000000\n",
       "B09             0.000000\n",
       "B10             0.000000\n",
       "B11             0.000000\n",
       "B12             0.000000\n",
       "NDVI            0.000000\n",
       "NDRE            0.000000\n",
       "MSAVI           0.000000\n",
       "EVI             0.000000\n",
       "FCI             0.000000\n",
       "aspect          0.097608\n",
       "slope           0.000000\n",
       "wetnessindex        -inf\n",
       "sink            0.000000\n",
       "dtype: float64"
      ]
     },
     "execution_count": 86,
     "metadata": {},
     "output_type": "execute_result"
    }
   ],
   "source": [
    "df.min()"
   ]
  },
  {
   "cell_type": "code",
   "execution_count": null,
   "id": "yyQvYsyyk2JV",
   "metadata": {
    "colab": {
     "base_uri": "https://localhost:8080/",
     "height": 383
    },
    "id": "yyQvYsyyk2JV",
    "outputId": "b78bb436-8d12-4839-fdf4-018021829e01"
   },
   "outputs": [
    {
     "ename": "ValueError",
     "evalue": "ignored",
     "output_type": "error",
     "traceback": [
      "\u001b[0;31m---------------------------------------------------------------------------\u001b[0m",
      "\u001b[0;31mValueError\u001b[0m                                Traceback (most recent call last)",
      "\u001b[0;32m<ipython-input-85-3d325649a267>\u001b[0m in \u001b[0;36m<cell line: 3>\u001b[0;34m()\u001b[0m\n\u001b[1;32m      1\u001b[0m \u001b[0;31m# mask_nan = df.sum(axis=1)==0\u001b[0m\u001b[0;34m\u001b[0m\u001b[0;34m\u001b[0m\u001b[0m\n\u001b[1;32m      2\u001b[0m \u001b[0mland_df\u001b[0m \u001b[0;34m=\u001b[0m \u001b[0mdf\u001b[0m\u001b[0;34m.\u001b[0m\u001b[0mloc\u001b[0m\u001b[0;34m[\u001b[0m\u001b[0;34m~\u001b[0m\u001b[0mmask_nan\u001b[0m\u001b[0;34m]\u001b[0m\u001b[0;34m\u001b[0m\u001b[0;34m\u001b[0m\u001b[0m\n\u001b[0;32m----> 3\u001b[0;31m \u001b[0mland_df\u001b[0m\u001b[0;34m.\u001b[0m\u001b[0miloc\u001b[0m\u001b[0;34m[\u001b[0m\u001b[0;34m:\u001b[0m\u001b[0;34m,\u001b[0m \u001b[0;34m:\u001b[0m\u001b[0;34m]\u001b[0m \u001b[0;34m=\u001b[0m \u001b[0mscaler\u001b[0m\u001b[0;34m.\u001b[0m\u001b[0mtransform\u001b[0m\u001b[0;34m(\u001b[0m\u001b[0mland_df\u001b[0m\u001b[0;34m.\u001b[0m\u001b[0miloc\u001b[0m\u001b[0;34m[\u001b[0m\u001b[0;34m:\u001b[0m\u001b[0;34m,\u001b[0m \u001b[0;34m:\u001b[0m\u001b[0;34m]\u001b[0m\u001b[0;34m)\u001b[0m\u001b[0;34m\u001b[0m\u001b[0;34m\u001b[0m\u001b[0m\n\u001b[0m",
      "\u001b[0;32m/usr/local/lib/python3.10/dist-packages/sklearn/utils/_set_output.py\u001b[0m in \u001b[0;36mwrapped\u001b[0;34m(self, X, *args, **kwargs)\u001b[0m\n\u001b[1;32m    138\u001b[0m     \u001b[0;34m@\u001b[0m\u001b[0mwraps\u001b[0m\u001b[0;34m(\u001b[0m\u001b[0mf\u001b[0m\u001b[0;34m)\u001b[0m\u001b[0;34m\u001b[0m\u001b[0;34m\u001b[0m\u001b[0m\n\u001b[1;32m    139\u001b[0m     \u001b[0;32mdef\u001b[0m \u001b[0mwrapped\u001b[0m\u001b[0;34m(\u001b[0m\u001b[0mself\u001b[0m\u001b[0;34m,\u001b[0m \u001b[0mX\u001b[0m\u001b[0;34m,\u001b[0m \u001b[0;34m*\u001b[0m\u001b[0margs\u001b[0m\u001b[0;34m,\u001b[0m \u001b[0;34m**\u001b[0m\u001b[0mkwargs\u001b[0m\u001b[0;34m)\u001b[0m\u001b[0;34m:\u001b[0m\u001b[0;34m\u001b[0m\u001b[0;34m\u001b[0m\u001b[0m\n\u001b[0;32m--> 140\u001b[0;31m         \u001b[0mdata_to_wrap\u001b[0m \u001b[0;34m=\u001b[0m \u001b[0mf\u001b[0m\u001b[0;34m(\u001b[0m\u001b[0mself\u001b[0m\u001b[0;34m,\u001b[0m \u001b[0mX\u001b[0m\u001b[0;34m,\u001b[0m \u001b[0;34m*\u001b[0m\u001b[0margs\u001b[0m\u001b[0;34m,\u001b[0m \u001b[0;34m**\u001b[0m\u001b[0mkwargs\u001b[0m\u001b[0;34m)\u001b[0m\u001b[0;34m\u001b[0m\u001b[0;34m\u001b[0m\u001b[0m\n\u001b[0m\u001b[1;32m    141\u001b[0m         \u001b[0;32mif\u001b[0m \u001b[0misinstance\u001b[0m\u001b[0;34m(\u001b[0m\u001b[0mdata_to_wrap\u001b[0m\u001b[0;34m,\u001b[0m \u001b[0mtuple\u001b[0m\u001b[0;34m)\u001b[0m\u001b[0;34m:\u001b[0m\u001b[0;34m\u001b[0m\u001b[0;34m\u001b[0m\u001b[0m\n\u001b[1;32m    142\u001b[0m             \u001b[0;31m# only wrap the first output for cross decomposition\u001b[0m\u001b[0;34m\u001b[0m\u001b[0;34m\u001b[0m\u001b[0m\n",
      "\u001b[0;32m/usr/local/lib/python3.10/dist-packages/sklearn/preprocessing/_data.py\u001b[0m in \u001b[0;36mtransform\u001b[0;34m(self, X, copy)\u001b[0m\n\u001b[1;32m    990\u001b[0m \u001b[0;34m\u001b[0m\u001b[0m\n\u001b[1;32m    991\u001b[0m         \u001b[0mcopy\u001b[0m \u001b[0;34m=\u001b[0m \u001b[0mcopy\u001b[0m \u001b[0;32mif\u001b[0m \u001b[0mcopy\u001b[0m \u001b[0;32mis\u001b[0m \u001b[0;32mnot\u001b[0m \u001b[0;32mNone\u001b[0m \u001b[0;32melse\u001b[0m \u001b[0mself\u001b[0m\u001b[0;34m.\u001b[0m\u001b[0mcopy\u001b[0m\u001b[0;34m\u001b[0m\u001b[0;34m\u001b[0m\u001b[0m\n\u001b[0;32m--> 992\u001b[0;31m         X = self._validate_data(\n\u001b[0m\u001b[1;32m    993\u001b[0m             \u001b[0mX\u001b[0m\u001b[0;34m,\u001b[0m\u001b[0;34m\u001b[0m\u001b[0;34m\u001b[0m\u001b[0m\n\u001b[1;32m    994\u001b[0m             \u001b[0mreset\u001b[0m\u001b[0;34m=\u001b[0m\u001b[0;32mFalse\u001b[0m\u001b[0;34m,\u001b[0m\u001b[0;34m\u001b[0m\u001b[0;34m\u001b[0m\u001b[0m\n",
      "\u001b[0;32m/usr/local/lib/python3.10/dist-packages/sklearn/base.py\u001b[0m in \u001b[0;36m_validate_data\u001b[0;34m(self, X, y, reset, validate_separately, **check_params)\u001b[0m\n\u001b[1;32m    563\u001b[0m             \u001b[0;32mraise\u001b[0m \u001b[0mValueError\u001b[0m\u001b[0;34m(\u001b[0m\u001b[0;34m\"Validation should be done on X, y or both.\"\u001b[0m\u001b[0;34m)\u001b[0m\u001b[0;34m\u001b[0m\u001b[0;34m\u001b[0m\u001b[0m\n\u001b[1;32m    564\u001b[0m         \u001b[0;32melif\u001b[0m \u001b[0;32mnot\u001b[0m \u001b[0mno_val_X\u001b[0m \u001b[0;32mand\u001b[0m \u001b[0mno_val_y\u001b[0m\u001b[0;34m:\u001b[0m\u001b[0;34m\u001b[0m\u001b[0;34m\u001b[0m\u001b[0m\n\u001b[0;32m--> 565\u001b[0;31m             \u001b[0mX\u001b[0m \u001b[0;34m=\u001b[0m \u001b[0mcheck_array\u001b[0m\u001b[0;34m(\u001b[0m\u001b[0mX\u001b[0m\u001b[0;34m,\u001b[0m \u001b[0minput_name\u001b[0m\u001b[0;34m=\u001b[0m\u001b[0;34m\"X\"\u001b[0m\u001b[0;34m,\u001b[0m \u001b[0;34m**\u001b[0m\u001b[0mcheck_params\u001b[0m\u001b[0;34m)\u001b[0m\u001b[0;34m\u001b[0m\u001b[0;34m\u001b[0m\u001b[0m\n\u001b[0m\u001b[1;32m    566\u001b[0m             \u001b[0mout\u001b[0m \u001b[0;34m=\u001b[0m \u001b[0mX\u001b[0m\u001b[0;34m\u001b[0m\u001b[0;34m\u001b[0m\u001b[0m\n\u001b[1;32m    567\u001b[0m         \u001b[0;32melif\u001b[0m \u001b[0mno_val_X\u001b[0m \u001b[0;32mand\u001b[0m \u001b[0;32mnot\u001b[0m \u001b[0mno_val_y\u001b[0m\u001b[0;34m:\u001b[0m\u001b[0;34m\u001b[0m\u001b[0;34m\u001b[0m\u001b[0m\n",
      "\u001b[0;32m/usr/local/lib/python3.10/dist-packages/sklearn/utils/validation.py\u001b[0m in \u001b[0;36mcheck_array\u001b[0;34m(array, accept_sparse, accept_large_sparse, dtype, order, copy, force_all_finite, ensure_2d, allow_nd, ensure_min_samples, ensure_min_features, estimator, input_name)\u001b[0m\n\u001b[1;32m    919\u001b[0m \u001b[0;34m\u001b[0m\u001b[0m\n\u001b[1;32m    920\u001b[0m         \u001b[0;32mif\u001b[0m \u001b[0mforce_all_finite\u001b[0m\u001b[0;34m:\u001b[0m\u001b[0;34m\u001b[0m\u001b[0;34m\u001b[0m\u001b[0m\n\u001b[0;32m--> 921\u001b[0;31m             _assert_all_finite(\n\u001b[0m\u001b[1;32m    922\u001b[0m                 \u001b[0marray\u001b[0m\u001b[0;34m,\u001b[0m\u001b[0;34m\u001b[0m\u001b[0;34m\u001b[0m\u001b[0m\n\u001b[1;32m    923\u001b[0m                 \u001b[0minput_name\u001b[0m\u001b[0;34m=\u001b[0m\u001b[0minput_name\u001b[0m\u001b[0;34m,\u001b[0m\u001b[0;34m\u001b[0m\u001b[0;34m\u001b[0m\u001b[0m\n",
      "\u001b[0;32m/usr/local/lib/python3.10/dist-packages/sklearn/utils/validation.py\u001b[0m in \u001b[0;36m_assert_all_finite\u001b[0;34m(X, allow_nan, msg_dtype, estimator_name, input_name)\u001b[0m\n\u001b[1;32m    159\u001b[0m                 \u001b[0;34m\"#estimators-that-handle-nan-values\"\u001b[0m\u001b[0;34m\u001b[0m\u001b[0;34m\u001b[0m\u001b[0m\n\u001b[1;32m    160\u001b[0m             )\n\u001b[0;32m--> 161\u001b[0;31m         \u001b[0;32mraise\u001b[0m \u001b[0mValueError\u001b[0m\u001b[0;34m(\u001b[0m\u001b[0mmsg_err\u001b[0m\u001b[0;34m)\u001b[0m\u001b[0;34m\u001b[0m\u001b[0;34m\u001b[0m\u001b[0m\n\u001b[0m\u001b[1;32m    162\u001b[0m \u001b[0;34m\u001b[0m\u001b[0m\n\u001b[1;32m    163\u001b[0m \u001b[0;34m\u001b[0m\u001b[0m\n",
      "\u001b[0;31mValueError\u001b[0m: Input X contains infinity or a value too large for dtype('float64')."
     ]
    }
   ],
   "source": [
    "# mask_nan = df.sum(axis=1)==0\n",
    "land_df = df.loc[~mask_nan]\n",
    "land_df.iloc[:, :] = scaler.transform(land_df.iloc[:, :])"
   ]
  },
  {
   "cell_type": "code",
   "execution_count": null,
   "id": "0bc22b9b",
   "metadata": {
    "id": "0bc22b9b",
    "outputId": "037deef7-949b-4ae6-a182-112365dfea05"
   },
   "outputs": [
    {
     "data": {
      "text/html": [
       "<div>\n",
       "<style scoped>\n",
       "    .dataframe tbody tr th:only-of-type {\n",
       "        vertical-align: middle;\n",
       "    }\n",
       "\n",
       "    .dataframe tbody tr th {\n",
       "        vertical-align: top;\n",
       "    }\n",
       "\n",
       "    .dataframe thead th {\n",
       "        text-align: right;\n",
       "    }\n",
       "</style>\n",
       "<table border=\"1\" class=\"dataframe\">\n",
       "  <thead>\n",
       "    <tr style=\"text-align: right;\">\n",
       "      <th></th>\n",
       "      <th>precision</th>\n",
       "      <th>recall</th>\n",
       "      <th>f1-score</th>\n",
       "      <th>support</th>\n",
       "      <th>model</th>\n",
       "    </tr>\n",
       "  </thead>\n",
       "  <tbody>\n",
       "    <tr>\n",
       "      <th>0</th>\n",
       "      <td>0.743787</td>\n",
       "      <td>0.751515</td>\n",
       "      <td>0.747631</td>\n",
       "      <td>1155.000000</td>\n",
       "      <td>GradientBoostingClassifier</td>\n",
       "    </tr>\n",
       "    <tr>\n",
       "      <th>1</th>\n",
       "      <td>0.762220</td>\n",
       "      <td>0.754717</td>\n",
       "      <td>0.758450</td>\n",
       "      <td>1219.000000</td>\n",
       "      <td>GradientBoostingClassifier</td>\n",
       "    </tr>\n",
       "    <tr>\n",
       "      <th>accuracy</th>\n",
       "      <td>0.753159</td>\n",
       "      <td>0.753159</td>\n",
       "      <td>0.753159</td>\n",
       "      <td>0.753159</td>\n",
       "      <td>GradientBoostingClassifier</td>\n",
       "    </tr>\n",
       "    <tr>\n",
       "      <th>macro avg</th>\n",
       "      <td>0.753004</td>\n",
       "      <td>0.753116</td>\n",
       "      <td>0.753041</td>\n",
       "      <td>2374.000000</td>\n",
       "      <td>GradientBoostingClassifier</td>\n",
       "    </tr>\n",
       "    <tr>\n",
       "      <th>weighted avg</th>\n",
       "      <td>0.753252</td>\n",
       "      <td>0.753159</td>\n",
       "      <td>0.753187</td>\n",
       "      <td>2374.000000</td>\n",
       "      <td>GradientBoostingClassifier</td>\n",
       "    </tr>\n",
       "  </tbody>\n",
       "</table>\n",
       "</div>"
      ],
      "text/plain": [
       "              precision    recall  f1-score      support  \\\n",
       "0              0.743787  0.751515  0.747631  1155.000000   \n",
       "1              0.762220  0.754717  0.758450  1219.000000   \n",
       "accuracy       0.753159  0.753159  0.753159     0.753159   \n",
       "macro avg      0.753004  0.753116  0.753041  2374.000000   \n",
       "weighted avg   0.753252  0.753159  0.753187  2374.000000   \n",
       "\n",
       "                                   model  \n",
       "0             GradientBoostingClassifier  \n",
       "1             GradientBoostingClassifier  \n",
       "accuracy      GradientBoostingClassifier  \n",
       "macro avg     GradientBoostingClassifier  \n",
       "weighted avg  GradientBoostingClassifier  "
      ]
     },
     "execution_count": 134,
     "metadata": {},
     "output_type": "execute_result"
    }
   ],
   "source": [
    "\n",
    "\n",
    "forest_type = {\"Deciduous\":0, \"Coniferous\":1}df_i.index\n",
    "\n",
    "df_i.index = pd.Series(df_i.index).apply(lambda x: decodeClassesLevel1(x))"
   ]
  },
  {
   "cell_type": "code",
   "execution_count": null,
   "id": "c33bfc8c",
   "metadata": {
    "id": "c33bfc8c"
   },
   "outputs": [],
   "source": [
    "df = input_df.copy()\n",
    "df[dataset.terrain_cols]= df[dataset.terrain_cols].astype(float)\n",
    "df.iloc[:, :-3] = StandardScaler().fit_transform(df.iloc[:, :-3])\n",
    "\n",
    "# Resampling - to balance classes\n",
    "# df = resample_forest(df)\n",
    "only_forest = True\n",
    "if only_forest:\n",
    "    forest_gdf = gdf.loc[gdf['t_Class']<8]\n",
    "else:\n",
    "    forest_gdf = gdf.loc[gdf['t_Class']<30]\n",
    "\n",
    "bunary_test = True\n",
    "if bunary_test:\n",
    "    forest_gdf = gdf.loc[gdf['t_Class'].isin([1,5])]\n",
    "X_train, X_test, y_train, y_test = train_test_split(forest_gdf,\n",
    "                                                    forest_gdf['class_name'],\n",
    "                                                    test_size=0.3)\n",
    "\n",
    "train = df.loc[df['key'].isin(X_train['key'])]\n",
    "test = df.loc[df['key'].isin(X_test['key'])]\n",
    "X_train = train.drop(columns=['key','class']).astype('float')\n",
    "X_test = test.drop(columns=['key','class']).astype('float')\n",
    "y_train = train['class'].astype(int)\n",
    "y_test = test['class'].astype(int)\n",
    "\n",
    "# class weights\n",
    "class_weights_vals = compute_class_weight(class_weight = \"balanced\", \n",
    "                                          classes= np.unique(y_train),\n",
    "                                          y= y_train)\n",
    "class_weights = {x:y for x,y in zip(np.unique(y_train), \n",
    "                                    class_weights_vals)}\n",
    "\n",
    "# models\n",
    "n_jobs = 8\n",
    "name_classfiers = ['KNeighborsClassifier',\n",
    "                   'DecisionTreeClassifier',\n",
    "                   'RandomForest',\n",
    "                   'ExtraTreesClassifier',\n",
    "#                    'RidgeClassifier',\n",
    "                   'LogisticRegression',\n",
    "                   'SVC',\n",
    "                   'GradientBoostingClassifier'\n",
    "                   ]\n",
    "base_classfiers = get_models(class_weights=class_weights)\n",
    "for i in range(len(base_classfiers)):\n",
    "    base_classfiers[i].fit(X_train, y_train)\n",
    "    print('Done: '+name_classfiers[i])\n",
    "\n",
    "# df_score_group, df_score_class_dict = get_metric(base_classfiers=base_classfiers,\n",
    "#                                                  y_test=y_test, \n",
    "#                                                 X_test=X_test)\n"
   ]
  },
  {
   "cell_type": "code",
   "execution_count": null,
   "id": "a0d0b719",
   "metadata": {
    "id": "a0d0b719"
   },
   "outputs": [],
   "source": [
    "some_model = base_classfiers[-1]"
   ]
  },
  {
   "cell_type": "code",
   "execution_count": null,
   "id": "af40eb8d",
   "metadata": {
    "id": "af40eb8d"
   },
   "outputs": [],
   "source": [
    "some_model = base_classfiers[-1]\n",
    "y_predict = some_model.predict(X_test)\n",
    "\n",
    "accuracy_score = metrics.accuracy_score(y_test, y_predict)\n",
    "\n",
    "metrics.f1_score(y_predict, y_test, average='weighted')"
   ]
  },
  {
   "cell_type": "code",
   "execution_count": null,
   "id": "3f9bd433",
   "metadata": {
    "id": "3f9bd433"
   },
   "outputs": [],
   "source": [
    "accuracy_score = metrics.accuracy_score(y_test, y_predict, )"
   ]
  },
  {
   "cell_type": "code",
   "execution_count": null,
   "id": "64be174b",
   "metadata": {
    "id": "64be174b",
    "outputId": "0b379a32-9165-4bfa-8c11-d36cbecaa914"
   },
   "outputs": [
    {
     "data": {
      "text/plain": [
       "0.6161113621583282"
      ]
     },
     "execution_count": 107,
     "metadata": {},
     "output_type": "execute_result"
    }
   ],
   "source": [
    "metrics.f1_score(y_predict, y_test, average='weighted')"
   ]
  },
  {
   "cell_type": "code",
   "execution_count": null,
   "id": "55931ce4",
   "metadata": {
    "id": "55931ce4",
    "outputId": "25d57ce5-6c2e-4d07-f4bd-eb0f7a01b495"
   },
   "outputs": [
    {
     "data": {
      "text/plain": [
       "0.6110678098207326"
      ]
     },
     "execution_count": 100,
     "metadata": {},
     "output_type": "execute_result"
    }
   ],
   "source": [
    "accuracy_score"
   ]
  },
  {
   "cell_type": "code",
   "execution_count": null,
   "id": "9ea05697",
   "metadata": {
    "id": "9ea05697",
    "outputId": "a114f904-b0d7-4244-b9b2-edb0e3740c1b"
   },
   "outputs": [
    {
     "ename": "KeyError",
     "evalue": "0",
     "output_type": "error",
     "traceback": [
      "\u001b[0;31m---------------------------------------------------------------------------\u001b[0m",
      "\u001b[0;31mKeyError\u001b[0m                                  Traceback (most recent call last)",
      "\u001b[0;32m/tmp/ipykernel_11/3414699906.py\u001b[0m in \u001b[0;36m<module>\u001b[0;34m\u001b[0m\n\u001b[1;32m      2\u001b[0m \u001b[0mdf_i\u001b[0m\u001b[0;34m[\u001b[0m\u001b[0;34m'model'\u001b[0m\u001b[0;34m]\u001b[0m \u001b[0;34m=\u001b[0m \u001b[0msome_model\u001b[0m\u001b[0;34m.\u001b[0m\u001b[0m__class__\u001b[0m\u001b[0;34m.\u001b[0m\u001b[0m__name__\u001b[0m\u001b[0;34m\u001b[0m\u001b[0;34m\u001b[0m\u001b[0m\n\u001b[1;32m      3\u001b[0m \u001b[0;34m\u001b[0m\u001b[0m\n\u001b[0;32m----> 4\u001b[0;31m \u001b[0mdf_i\u001b[0m\u001b[0;34m.\u001b[0m\u001b[0mindex\u001b[0m \u001b[0;34m=\u001b[0m \u001b[0mpd\u001b[0m\u001b[0;34m.\u001b[0m\u001b[0mSeries\u001b[0m\u001b[0;34m(\u001b[0m\u001b[0mdf_i\u001b[0m\u001b[0;34m.\u001b[0m\u001b[0mindex\u001b[0m\u001b[0;34m)\u001b[0m\u001b[0;34m.\u001b[0m\u001b[0mapply\u001b[0m\u001b[0;34m(\u001b[0m\u001b[0;32mlambda\u001b[0m \u001b[0mx\u001b[0m\u001b[0;34m:\u001b[0m \u001b[0mdecodeClassesLevel1\u001b[0m\u001b[0;34m(\u001b[0m\u001b[0mx\u001b[0m\u001b[0;34m)\u001b[0m\u001b[0;34m)\u001b[0m\u001b[0;34m\u001b[0m\u001b[0;34m\u001b[0m\u001b[0m\n\u001b[0m",
      "\u001b[0;32m/usr/local/lib/python3.8/dist-packages/pandas/core/series.py\u001b[0m in \u001b[0;36mapply\u001b[0;34m(self, func, convert_dtype, args, **kwargs)\u001b[0m\n\u001b[1;32m   4355\u001b[0m         \u001b[0mdtype\u001b[0m\u001b[0;34m:\u001b[0m \u001b[0mfloat64\u001b[0m\u001b[0;34m\u001b[0m\u001b[0;34m\u001b[0m\u001b[0m\n\u001b[1;32m   4356\u001b[0m         \"\"\"\n\u001b[0;32m-> 4357\u001b[0;31m         \u001b[0;32mreturn\u001b[0m \u001b[0mSeriesApply\u001b[0m\u001b[0;34m(\u001b[0m\u001b[0mself\u001b[0m\u001b[0;34m,\u001b[0m \u001b[0mfunc\u001b[0m\u001b[0;34m,\u001b[0m \u001b[0mconvert_dtype\u001b[0m\u001b[0;34m,\u001b[0m \u001b[0margs\u001b[0m\u001b[0;34m,\u001b[0m \u001b[0mkwargs\u001b[0m\u001b[0;34m)\u001b[0m\u001b[0;34m.\u001b[0m\u001b[0mapply\u001b[0m\u001b[0;34m(\u001b[0m\u001b[0;34m)\u001b[0m\u001b[0;34m\u001b[0m\u001b[0;34m\u001b[0m\u001b[0m\n\u001b[0m\u001b[1;32m   4358\u001b[0m \u001b[0;34m\u001b[0m\u001b[0m\n\u001b[1;32m   4359\u001b[0m     def _reduce(\n",
      "\u001b[0;32m/usr/local/lib/python3.8/dist-packages/pandas/core/apply.py\u001b[0m in \u001b[0;36mapply\u001b[0;34m(self)\u001b[0m\n\u001b[1;32m   1041\u001b[0m             \u001b[0;32mreturn\u001b[0m \u001b[0mself\u001b[0m\u001b[0;34m.\u001b[0m\u001b[0mapply_str\u001b[0m\u001b[0;34m(\u001b[0m\u001b[0;34m)\u001b[0m\u001b[0;34m\u001b[0m\u001b[0;34m\u001b[0m\u001b[0m\n\u001b[1;32m   1042\u001b[0m \u001b[0;34m\u001b[0m\u001b[0m\n\u001b[0;32m-> 1043\u001b[0;31m         \u001b[0;32mreturn\u001b[0m \u001b[0mself\u001b[0m\u001b[0;34m.\u001b[0m\u001b[0mapply_standard\u001b[0m\u001b[0;34m(\u001b[0m\u001b[0;34m)\u001b[0m\u001b[0;34m\u001b[0m\u001b[0;34m\u001b[0m\u001b[0m\n\u001b[0m\u001b[1;32m   1044\u001b[0m \u001b[0;34m\u001b[0m\u001b[0m\n\u001b[1;32m   1045\u001b[0m     \u001b[0;32mdef\u001b[0m \u001b[0magg\u001b[0m\u001b[0;34m(\u001b[0m\u001b[0mself\u001b[0m\u001b[0;34m)\u001b[0m\u001b[0;34m:\u001b[0m\u001b[0;34m\u001b[0m\u001b[0;34m\u001b[0m\u001b[0m\n",
      "\u001b[0;32m/usr/local/lib/python3.8/dist-packages/pandas/core/apply.py\u001b[0m in \u001b[0;36mapply_standard\u001b[0;34m(self)\u001b[0m\n\u001b[1;32m   1097\u001b[0m                 \u001b[0;31m# List[Union[Callable[..., Any], str]]]]]\"; expected\u001b[0m\u001b[0;34m\u001b[0m\u001b[0;34m\u001b[0m\u001b[0;34m\u001b[0m\u001b[0m\n\u001b[1;32m   1098\u001b[0m                 \u001b[0;31m# \"Callable[[Any], Any]\"\u001b[0m\u001b[0;34m\u001b[0m\u001b[0;34m\u001b[0m\u001b[0;34m\u001b[0m\u001b[0m\n\u001b[0;32m-> 1099\u001b[0;31m                 mapped = lib.map_infer(\n\u001b[0m\u001b[1;32m   1100\u001b[0m                     \u001b[0mvalues\u001b[0m\u001b[0;34m,\u001b[0m\u001b[0;34m\u001b[0m\u001b[0;34m\u001b[0m\u001b[0m\n\u001b[1;32m   1101\u001b[0m                     \u001b[0mf\u001b[0m\u001b[0;34m,\u001b[0m  \u001b[0;31m# type: ignore[arg-type]\u001b[0m\u001b[0;34m\u001b[0m\u001b[0;34m\u001b[0m\u001b[0m\n",
      "\u001b[0;32m/usr/local/lib/python3.8/dist-packages/pandas/_libs/lib.pyx\u001b[0m in \u001b[0;36mpandas._libs.lib.map_infer\u001b[0;34m()\u001b[0m\n",
      "\u001b[0;32m/tmp/ipykernel_11/3414699906.py\u001b[0m in \u001b[0;36m<lambda>\u001b[0;34m(x)\u001b[0m\n\u001b[1;32m      2\u001b[0m \u001b[0mdf_i\u001b[0m\u001b[0;34m[\u001b[0m\u001b[0;34m'model'\u001b[0m\u001b[0;34m]\u001b[0m \u001b[0;34m=\u001b[0m \u001b[0msome_model\u001b[0m\u001b[0;34m.\u001b[0m\u001b[0m__class__\u001b[0m\u001b[0;34m.\u001b[0m\u001b[0m__name__\u001b[0m\u001b[0;34m\u001b[0m\u001b[0;34m\u001b[0m\u001b[0m\n\u001b[1;32m      3\u001b[0m \u001b[0;34m\u001b[0m\u001b[0m\n\u001b[0;32m----> 4\u001b[0;31m \u001b[0mdf_i\u001b[0m\u001b[0;34m.\u001b[0m\u001b[0mindex\u001b[0m \u001b[0;34m=\u001b[0m \u001b[0mpd\u001b[0m\u001b[0;34m.\u001b[0m\u001b[0mSeries\u001b[0m\u001b[0;34m(\u001b[0m\u001b[0mdf_i\u001b[0m\u001b[0;34m.\u001b[0m\u001b[0mindex\u001b[0m\u001b[0;34m)\u001b[0m\u001b[0;34m.\u001b[0m\u001b[0mapply\u001b[0m\u001b[0;34m(\u001b[0m\u001b[0;32mlambda\u001b[0m \u001b[0mx\u001b[0m\u001b[0;34m:\u001b[0m \u001b[0mdecodeClassesLevel1\u001b[0m\u001b[0;34m(\u001b[0m\u001b[0mx\u001b[0m\u001b[0;34m)\u001b[0m\u001b[0;34m)\u001b[0m\u001b[0;34m\u001b[0m\u001b[0;34m\u001b[0m\u001b[0m\n\u001b[0m",
      "\u001b[0;32m/home/notebooks/utils.py\u001b[0m in \u001b[0;36mdecodeClassesLevel1\u001b[0;34m(x)\u001b[0m\n\u001b[1;32m    467\u001b[0m         \u001b[0;32mfor\u001b[0m \u001b[0mkey\u001b[0m\u001b[0;34m,\u001b[0m \u001b[0mvalue\u001b[0m \u001b[0;32min\u001b[0m \u001b[0mdict_names\u001b[0m\u001b[0;34m.\u001b[0m\u001b[0mitems\u001b[0m\u001b[0;34m(\u001b[0m\u001b[0;34m)\u001b[0m\u001b[0;34m:\u001b[0m\u001b[0;34m\u001b[0m\u001b[0;34m\u001b[0m\u001b[0m\n\u001b[1;32m    468\u001b[0m             \u001b[0mreverse\u001b[0m\u001b[0;34m[\u001b[0m\u001b[0mvalue\u001b[0m\u001b[0;34m]\u001b[0m \u001b[0;34m=\u001b[0m \u001b[0mkey\u001b[0m\u001b[0;34m\u001b[0m\u001b[0;34m\u001b[0m\u001b[0m\n\u001b[0;32m--> 469\u001b[0;31m         \u001b[0;32mreturn\u001b[0m \u001b[0mdict_normal_names\u001b[0m\u001b[0;34m[\u001b[0m\u001b[0mint\u001b[0m\u001b[0;34m(\u001b[0m\u001b[0mx\u001b[0m\u001b[0;34m)\u001b[0m\u001b[0;34m]\u001b[0m\u001b[0;34m\u001b[0m\u001b[0;34m\u001b[0m\u001b[0m\n\u001b[0m\u001b[1;32m    470\u001b[0m     \u001b[0;32melse\u001b[0m\u001b[0;34m:\u001b[0m\u001b[0;34m\u001b[0m\u001b[0;34m\u001b[0m\u001b[0m\n\u001b[1;32m    471\u001b[0m         \u001b[0;32mreturn\u001b[0m \u001b[0mx\u001b[0m\u001b[0;34m\u001b[0m\u001b[0;34m\u001b[0m\u001b[0m\n",
      "\u001b[0;31mKeyError\u001b[0m: 0"
     ]
    }
   ],
   "source": [
    "df_i = pd.DataFrame(metrics.classification_report(y_test, y_predict, digits=2, output_dict=True)).T\n",
    "df_i['model'] = some_model.__class__.__name__\n",
    "\n",
    "df_i.index = pd.Series(df_i.index).apply(lambda x: decodeClassesLevel1(x))"
   ]
  },
  {
   "cell_type": "code",
   "execution_count": null,
   "id": "b772c2d3",
   "metadata": {
    "id": "b772c2d3",
    "outputId": "13a9bb34-c371-42d7-a065-de76982617ff"
   },
   "outputs": [
    {
     "data": {
      "text/html": [
       "<div>\n",
       "<style scoped>\n",
       "    .dataframe tbody tr th:only-of-type {\n",
       "        vertical-align: middle;\n",
       "    }\n",
       "\n",
       "    .dataframe tbody tr th {\n",
       "        vertical-align: top;\n",
       "    }\n",
       "\n",
       "    .dataframe thead th {\n",
       "        text-align: right;\n",
       "    }\n",
       "</style>\n",
       "<table border=\"1\" class=\"dataframe\">\n",
       "  <thead>\n",
       "    <tr style=\"text-align: right;\">\n",
       "      <th></th>\n",
       "      <th>precision</th>\n",
       "      <th>recall</th>\n",
       "      <th>f1-score</th>\n",
       "      <th>support</th>\n",
       "      <th>model</th>\n",
       "    </tr>\n",
       "  </thead>\n",
       "  <tbody>\n",
       "    <tr>\n",
       "      <th>0</th>\n",
       "      <td>0.743787</td>\n",
       "      <td>0.751515</td>\n",
       "      <td>0.747631</td>\n",
       "      <td>1155.000000</td>\n",
       "      <td>GradientBoostingClassifier</td>\n",
       "    </tr>\n",
       "    <tr>\n",
       "      <th>1</th>\n",
       "      <td>0.762220</td>\n",
       "      <td>0.754717</td>\n",
       "      <td>0.758450</td>\n",
       "      <td>1219.000000</td>\n",
       "      <td>GradientBoostingClassifier</td>\n",
       "    </tr>\n",
       "    <tr>\n",
       "      <th>accuracy</th>\n",
       "      <td>0.753159</td>\n",
       "      <td>0.753159</td>\n",
       "      <td>0.753159</td>\n",
       "      <td>0.753159</td>\n",
       "      <td>GradientBoostingClassifier</td>\n",
       "    </tr>\n",
       "    <tr>\n",
       "      <th>macro avg</th>\n",
       "      <td>0.753004</td>\n",
       "      <td>0.753116</td>\n",
       "      <td>0.753041</td>\n",
       "      <td>2374.000000</td>\n",
       "      <td>GradientBoostingClassifier</td>\n",
       "    </tr>\n",
       "    <tr>\n",
       "      <th>weighted avg</th>\n",
       "      <td>0.753252</td>\n",
       "      <td>0.753159</td>\n",
       "      <td>0.753187</td>\n",
       "      <td>2374.000000</td>\n",
       "      <td>GradientBoostingClassifier</td>\n",
       "    </tr>\n",
       "  </tbody>\n",
       "</table>\n",
       "</div>"
      ],
      "text/plain": [
       "              precision    recall  f1-score      support  \\\n",
       "0              0.743787  0.751515  0.747631  1155.000000   \n",
       "1              0.762220  0.754717  0.758450  1219.000000   \n",
       "accuracy       0.753159  0.753159  0.753159     0.753159   \n",
       "macro avg      0.753004  0.753116  0.753041  2374.000000   \n",
       "weighted avg   0.753252  0.753159  0.753187  2374.000000   \n",
       "\n",
       "                                   model  \n",
       "0             GradientBoostingClassifier  \n",
       "1             GradientBoostingClassifier  \n",
       "accuracy      GradientBoostingClassifier  \n",
       "macro avg     GradientBoostingClassifier  \n",
       "weighted avg  GradientBoostingClassifier  "
      ]
     },
     "execution_count": 137,
     "metadata": {},
     "output_type": "execute_result"
    }
   ],
   "source": [
    "df_i"
   ]
  },
  {
   "cell_type": "code",
   "execution_count": null,
   "id": "90182009",
   "metadata": {
    "id": "90182009"
   },
   "outputs": [],
   "source": [
    "def get_metric(base_classfiers: list, y_test: np.ndarray, X_test: np.ndarray):\n",
    "    score_classfiers_accuracy_score = []\n",
    "    score_classfiers_roc_auc_score = []\n",
    "    score_classfiers_f1_score = []\n",
    "    df_score_class_dict = {}\n",
    "    df_score_class_list = []\n",
    "\n",
    "    name_classifiers = [\n",
    "        \"KNeighborsClassifier\",\n",
    "        \"DecisionTreeClassifier\",\n",
    "        \"RandomForest\",\n",
    "        \"ExtraTreesClassifier\",\n",
    "        \"RidgeClassifier\",\n",
    "        \"LogisticRegression\",\n",
    "        \"SVC\",\n",
    "        \"GradientBoostingClassifier\",\n",
    "    ]\n",
    "    for i in range(len(base_classfiers)):\n",
    "        y_predict = base_classfiers[i].predict(X_test)\n",
    "        score_classfiers_accuracy_score.append(accuracy_score(y_test, y_predict))\n",
    "        if name_classifiers[i] != \"RidgeClassifier\":\n",
    "            score_classfiers_roc_auc_score.append(\n",
    "                roc_auc_score(\n",
    "                    y_test, base_classfiers[i].predict_proba(X_test), multi_class=\"ovr\"\n",
    "                )\n",
    "            )\n",
    "#         else:\n",
    "#             ridge_predict = []\n",
    "#             for k in range(len(X_test)):\n",
    "#                 d = base_classfiers[i].decision_function(X_test)[k]\n",
    "#                 probs = np.exp(d) / np.sum(np.exp(d))\n",
    "#                 ridge_predict.append(probs)\n",
    "#             ridge_predict = np.array(ridge_predict)\n",
    "#             score_classfiers_roc_auc_score.append(\n",
    "#                 roc_auc_score(y_test, ridge_predict, multi_class=\"ovr\")\n",
    "#             )\n",
    "\n",
    "        score_classfiers_f1_score.append(\n",
    "            f1_score(y_test, y_predict, average=\"weighted\")\n",
    "        )\n",
    "        df_i = pd.DataFrame(\n",
    "            metrics.classification_report(y_test, y_predict, digits=2, output_dict=True)\n",
    "        ).transpose()\n",
    "        arrays_col = [\n",
    "            [\n",
    "                name_classifiers[i],\n",
    "                name_classifiers[i],\n",
    "                name_classifiers[i],\n",
    "                name_classifiers[i],\n",
    "            ],\n",
    "            list(df_i.columns),\n",
    "        ]\n",
    "        df_i.columns = pd.MultiIndex.from_tuples(list(zip(*arrays_col)))\n",
    "        df_score_class_list.append(df_i)\n",
    "        df_score_class_dict[name_classifiers[i]] = df_i\n",
    "\n",
    "    df_score_class = df_score_class_list[0]\n",
    "    for i in range(1, len(df_score_class_list)):\n",
    "        df_score_class = df_score_class.join(df_score_class_list[i])\n",
    "    df_score_class_index = list(df_score_class.index)\n",
    "\n",
    "    df_score_group = pd.DataFrame(\n",
    "        columns=[\"Model\", \"Accuracy score\", \"ROC AUC score\", \"f1 score\"]\n",
    "    )\n",
    "    df_score_group[\"Model\"] = name_classifiers\n",
    "    df_score_group[\"Accuracy score\"] = score_classfiers_accuracy_score\n",
    "    df_score_group[\"ROC AUC score\"] = score_classfiers_roc_auc_score\n",
    "    df_score_group[\"f1 score\"] = score_classfiers_f1_score\n",
    "\n",
    "    return df_score_group, df_score_class_dict\n"
   ]
  },
  {
   "cell_type": "code",
   "execution_count": null,
   "id": "57503bf2",
   "metadata": {
    "id": "57503bf2",
    "outputId": "5dd7d99b-393a-4387-88c5-f9959d1c6702"
   },
   "outputs": [
    {
     "name": "stderr",
     "output_type": "stream",
     "text": [
      "findfont: Font family ['sans-serif'] not found. Falling back to DejaVu Sans.\n",
      "findfont: Generic family 'sans-serif' not found because none of the following families were found: Arial, Liberation Sans, Bitstream Vera Sans, sans-serif\n",
      "findfont: Font family ['sans-serif'] not found. Falling back to DejaVu Sans.\n",
      "findfont: Generic family 'sans-serif' not found because none of the following families were found: Arial, Liberation Sans, Bitstream Vera Sans, sans-serif\n",
      "findfont: Font family ['sans-serif'] not found. Falling back to DejaVu Sans.\n",
      "findfont: Generic family 'sans-serif' not found because none of the following families were found: Arial, Liberation Sans, Bitstream Vera Sans, sans-serif\n"
     ]
    },
    {
     "data": {
      "image/png": "[encoded data removed]",
      "text/plain": [
       "<Figure size 576x396 with 1 Axes>"
      ]
     },
     "metadata": {},
     "output_type": "display_data"
    }
   ],
   "source": [
    "dict_normal_names={7: \"Pine\", \n",
    "        2:\"Fir\", \n",
    "        5:\"Aspen\",\n",
    "        3:\"Cedar\",\n",
    "        4:\"Larch\",\n",
    "        1:\"Birch\",\n",
    "        6:\"Silver fir\",\n",
    "        15:\"Burnt forest\", \n",
    "        13:'Deforestation', \n",
    "        14:'Grass',\n",
    "        12:'Soil', \n",
    "        16:'Swamp', \n",
    "        11:'Water body'}\n",
    "pixels_per_class = df.groupby('class', as_index=False).count()\n",
    "pixels_per_class['class'] = pixels_per_class['class'].apply(lambda x: dict_normal_names[x])\n",
    "sns.barplot(data=pixels_per_class, x='class', y='key')\n",
    "plt.grid()\n",
    "plt.title('Количество пикселей для каждой породы в исходном датасете')\n",
    "plt.xticks(rotation=45)\n",
    "plt.show()"
   ]
  },
  {
   "cell_type": "code",
   "execution_count": null,
   "id": "e1b29285",
   "metadata": {
    "id": "e1b29285",
    "outputId": "c09fe0f1-a634-4e72-a016-9dff66a48955"
   },
   "outputs": [
    {
     "data": {
      "text/html": [
       "<div>\n",
       "<style scoped>\n",
       "    .dataframe tbody tr th:only-of-type {\n",
       "        vertical-align: middle;\n",
       "    }\n",
       "\n",
       "    .dataframe tbody tr th {\n",
       "        vertical-align: top;\n",
       "    }\n",
       "\n",
       "    .dataframe thead th {\n",
       "        text-align: right;\n",
       "    }\n",
       "</style>\n",
       "<table border=\"1\" class=\"dataframe\">\n",
       "  <thead>\n",
       "    <tr style=\"text-align: right;\">\n",
       "      <th></th>\n",
       "      <th>Model</th>\n",
       "      <th>Accuracy score</th>\n",
       "      <th>ROC AUC score</th>\n",
       "      <th>f1 score</th>\n",
       "    </tr>\n",
       "  </thead>\n",
       "  <tbody>\n",
       "    <tr>\n",
       "      <th>0</th>\n",
       "      <td>KNeighborsClassifier</td>\n",
       "      <td>0.467430</td>\n",
       "      <td>0.685776</td>\n",
       "      <td>0.466750</td>\n",
       "    </tr>\n",
       "    <tr>\n",
       "      <th>1</th>\n",
       "      <td>DecisionTreeClassifier</td>\n",
       "      <td>0.478873</td>\n",
       "      <td>0.656654</td>\n",
       "      <td>0.480315</td>\n",
       "    </tr>\n",
       "    <tr>\n",
       "      <th>2</th>\n",
       "      <td>RandomForest</td>\n",
       "      <td>0.576585</td>\n",
       "      <td>0.807701</td>\n",
       "      <td>0.574474</td>\n",
       "    </tr>\n",
       "    <tr>\n",
       "      <th>3</th>\n",
       "      <td>ExtraTreesClassifier</td>\n",
       "      <td>0.521127</td>\n",
       "      <td>0.794198</td>\n",
       "      <td>0.519066</td>\n",
       "    </tr>\n",
       "    <tr>\n",
       "      <th>4</th>\n",
       "      <td>LogisticRegression</td>\n",
       "      <td>0.491637</td>\n",
       "      <td>0.804411</td>\n",
       "      <td>0.486293</td>\n",
       "    </tr>\n",
       "    <tr>\n",
       "      <th>5</th>\n",
       "      <td>SVC</td>\n",
       "      <td>0.444102</td>\n",
       "      <td>0.781118</td>\n",
       "      <td>0.436285</td>\n",
       "    </tr>\n",
       "    <tr>\n",
       "      <th>6</th>\n",
       "      <td>GradientBoostingClassifier</td>\n",
       "      <td>0.546215</td>\n",
       "      <td>0.789592</td>\n",
       "      <td>0.542109</td>\n",
       "    </tr>\n",
       "  </tbody>\n",
       "</table>\n",
       "</div>"
      ],
      "text/plain": [
       "                        Model  Accuracy score  ROC AUC score  f1 score\n",
       "0        KNeighborsClassifier        0.467430       0.685776  0.466750\n",
       "1      DecisionTreeClassifier        0.478873       0.656654  0.480315\n",
       "2                RandomForest        0.576585       0.807701  0.574474\n",
       "3        ExtraTreesClassifier        0.521127       0.794198  0.519066\n",
       "4          LogisticRegression        0.491637       0.804411  0.486293\n",
       "5                         SVC        0.444102       0.781118  0.436285\n",
       "6  GradientBoostingClassifier        0.546215       0.789592  0.542109"
      ]
     },
     "execution_count": 34,
     "metadata": {},
     "output_type": "execute_result"
    }
   ],
   "source": [
    "df_score_group"
   ]
  },
  {
   "cell_type": "code",
   "execution_count": null,
   "id": "a4489839",
   "metadata": {
    "id": "a4489839",
    "outputId": "02cd40c6-2d38-4347-d8db-bb89fa5e8f5a"
   },
   "outputs": [
    {
     "data": {
      "text/html": [
       "<div>\n",
       "<style scoped>\n",
       "    .dataframe tbody tr th:only-of-type {\n",
       "        vertical-align: middle;\n",
       "    }\n",
       "\n",
       "    .dataframe tbody tr th {\n",
       "        vertical-align: top;\n",
       "    }\n",
       "\n",
       "    .dataframe thead tr th {\n",
       "        text-align: left;\n",
       "    }\n",
       "</style>\n",
       "<table border=\"1\" class=\"dataframe\">\n",
       "  <thead>\n",
       "    <tr>\n",
       "      <th></th>\n",
       "      <th colspan=\"4\" halign=\"left\">RandomForest</th>\n",
       "    </tr>\n",
       "    <tr>\n",
       "      <th></th>\n",
       "      <th>precision</th>\n",
       "      <th>recall</th>\n",
       "      <th>f1-score</th>\n",
       "      <th>support</th>\n",
       "    </tr>\n",
       "  </thead>\n",
       "  <tbody>\n",
       "    <tr>\n",
       "      <th>Birch</th>\n",
       "      <td>0.489726</td>\n",
       "      <td>0.509804</td>\n",
       "      <td>0.499563</td>\n",
       "      <td>561.000000</td>\n",
       "    </tr>\n",
       "    <tr>\n",
       "      <th>Aspen</th>\n",
       "      <td>0.522692</td>\n",
       "      <td>0.461964</td>\n",
       "      <td>0.490455</td>\n",
       "      <td>723.000000</td>\n",
       "    </tr>\n",
       "    <tr>\n",
       "      <th>Silver fir</th>\n",
       "      <td>0.952381</td>\n",
       "      <td>0.559441</td>\n",
       "      <td>0.704846</td>\n",
       "      <td>143.000000</td>\n",
       "    </tr>\n",
       "    <tr>\n",
       "      <th>Pine</th>\n",
       "      <td>0.632124</td>\n",
       "      <td>0.721893</td>\n",
       "      <td>0.674033</td>\n",
       "      <td>845.000000</td>\n",
       "    </tr>\n",
       "    <tr>\n",
       "      <th>accuracy</th>\n",
       "      <td>0.576585</td>\n",
       "      <td>0.576585</td>\n",
       "      <td>0.576585</td>\n",
       "      <td>0.576585</td>\n",
       "    </tr>\n",
       "    <tr>\n",
       "      <th>macro avg</th>\n",
       "      <td>0.649231</td>\n",
       "      <td>0.563276</td>\n",
       "      <td>0.592224</td>\n",
       "      <td>2272.000000</td>\n",
       "    </tr>\n",
       "    <tr>\n",
       "      <th>weighted avg</th>\n",
       "      <td>0.582297</td>\n",
       "      <td>0.576585</td>\n",
       "      <td>0.574474</td>\n",
       "      <td>2272.000000</td>\n",
       "    </tr>\n",
       "  </tbody>\n",
       "</table>\n",
       "</div>"
      ],
      "text/plain": [
       "             RandomForest                                 \n",
       "                precision    recall  f1-score      support\n",
       "Birch            0.489726  0.509804  0.499563   561.000000\n",
       "Aspen            0.522692  0.461964  0.490455   723.000000\n",
       "Silver fir       0.952381  0.559441  0.704846   143.000000\n",
       "Pine             0.632124  0.721893  0.674033   845.000000\n",
       "accuracy         0.576585  0.576585  0.576585     0.576585\n",
       "macro avg        0.649231  0.563276  0.592224  2272.000000\n",
       "weighted avg     0.582297  0.576585  0.574474  2272.000000"
      ]
     },
     "execution_count": 43,
     "metadata": {},
     "output_type": "execute_result"
    }
   ],
   "source": [
    "df_score_class_dict['RandomForest']"
   ]
  },
  {
   "cell_type": "code",
   "execution_count": null,
   "id": "3f2b91fd",
   "metadata": {
    "id": "3f2b91fd",
    "outputId": "7eb85b1e-0b22-4a78-9c0e-0a8dca501410"
   },
   "outputs": [
    {
     "data": {
      "text/html": [
       "<div>\n",
       "<style scoped>\n",
       "    .dataframe tbody tr th:only-of-type {\n",
       "        vertical-align: middle;\n",
       "    }\n",
       "\n",
       "    .dataframe tbody tr th {\n",
       "        vertical-align: top;\n",
       "    }\n",
       "\n",
       "    .dataframe thead tr th {\n",
       "        text-align: left;\n",
       "    }\n",
       "</style>\n",
       "<table border=\"1\" class=\"dataframe\">\n",
       "  <thead>\n",
       "    <tr>\n",
       "      <th></th>\n",
       "      <th colspan=\"4\" halign=\"left\">RandomForest</th>\n",
       "    </tr>\n",
       "    <tr>\n",
       "      <th></th>\n",
       "      <th>precision</th>\n",
       "      <th>recall</th>\n",
       "      <th>f1-score</th>\n",
       "      <th>support</th>\n",
       "    </tr>\n",
       "  </thead>\n",
       "  <tbody>\n",
       "    <tr>\n",
       "      <th>Birch</th>\n",
       "      <td>0.489726</td>\n",
       "      <td>0.509804</td>\n",
       "      <td>0.499563</td>\n",
       "      <td>561.000000</td>\n",
       "    </tr>\n",
       "    <tr>\n",
       "      <th>Aspen</th>\n",
       "      <td>0.522692</td>\n",
       "      <td>0.461964</td>\n",
       "      <td>0.490455</td>\n",
       "      <td>723.000000</td>\n",
       "    </tr>\n",
       "    <tr>\n",
       "      <th>Silver fir</th>\n",
       "      <td>0.952381</td>\n",
       "      <td>0.559441</td>\n",
       "      <td>0.704846</td>\n",
       "      <td>143.000000</td>\n",
       "    </tr>\n",
       "    <tr>\n",
       "      <th>Pine</th>\n",
       "      <td>0.632124</td>\n",
       "      <td>0.721893</td>\n",
       "      <td>0.674033</td>\n",
       "      <td>845.000000</td>\n",
       "    </tr>\n",
       "    <tr>\n",
       "      <th>accuracy</th>\n",
       "      <td>0.576585</td>\n",
       "      <td>0.576585</td>\n",
       "      <td>0.576585</td>\n",
       "      <td>0.576585</td>\n",
       "    </tr>\n",
       "    <tr>\n",
       "      <th>macro avg</th>\n",
       "      <td>0.649231</td>\n",
       "      <td>0.563276</td>\n",
       "      <td>0.592224</td>\n",
       "      <td>2272.000000</td>\n",
       "    </tr>\n",
       "    <tr>\n",
       "      <th>weighted avg</th>\n",
       "      <td>0.582297</td>\n",
       "      <td>0.576585</td>\n",
       "      <td>0.574474</td>\n",
       "      <td>2272.000000</td>\n",
       "    </tr>\n",
       "  </tbody>\n",
       "</table>\n",
       "</div>"
      ],
      "text/plain": [
       "             RandomForest                                 \n",
       "                precision    recall  f1-score      support\n",
       "Birch            0.489726  0.509804  0.499563   561.000000\n",
       "Aspen            0.522692  0.461964  0.490455   723.000000\n",
       "Silver fir       0.952381  0.559441  0.704846   143.000000\n",
       "Pine             0.632124  0.721893  0.674033   845.000000\n",
       "accuracy         0.576585  0.576585  0.576585     0.576585\n",
       "macro avg        0.649231  0.563276  0.592224  2272.000000\n",
       "weighted avg     0.582297  0.576585  0.574474  2272.000000"
      ]
     },
     "execution_count": 35,
     "metadata": {},
     "output_type": "execute_result"
    }
   ],
   "source": [
    "scores_model = df_score_class_dict['RandomForest']\n",
    "scores_model.index = pd.Series(scores_model.index).apply(lambda x: decodeClassesLevel1(x))\n",
    "scores_model"
   ]
  },
  {
   "cell_type": "code",
   "execution_count": null,
   "id": "08844ee3",
   "metadata": {
    "id": "08844ee3",
    "outputId": "083cf824-e41a-40b1-cae1-b25abe1324c1"
   },
   "outputs": [
    {
     "data": {
      "text/html": [
       "<div>\n",
       "<style scoped>\n",
       "    .dataframe tbody tr th:only-of-type {\n",
       "        vertical-align: middle;\n",
       "    }\n",
       "\n",
       "    .dataframe tbody tr th {\n",
       "        vertical-align: top;\n",
       "    }\n",
       "\n",
       "    .dataframe thead tr th {\n",
       "        text-align: left;\n",
       "    }\n",
       "</style>\n",
       "<table border=\"1\" class=\"dataframe\">\n",
       "  <thead>\n",
       "    <tr>\n",
       "      <th></th>\n",
       "      <th colspan=\"4\" halign=\"left\">RandomForest</th>\n",
       "    </tr>\n",
       "    <tr>\n",
       "      <th></th>\n",
       "      <th>precision</th>\n",
       "      <th>recall</th>\n",
       "      <th>f1-score</th>\n",
       "      <th>support</th>\n",
       "    </tr>\n",
       "  </thead>\n",
       "  <tbody>\n",
       "    <tr>\n",
       "      <th>Birch</th>\n",
       "      <td>0.489726</td>\n",
       "      <td>0.509804</td>\n",
       "      <td>0.499563</td>\n",
       "      <td>561.000000</td>\n",
       "    </tr>\n",
       "    <tr>\n",
       "      <th>Aspen</th>\n",
       "      <td>0.522692</td>\n",
       "      <td>0.461964</td>\n",
       "      <td>0.490455</td>\n",
       "      <td>723.000000</td>\n",
       "    </tr>\n",
       "    <tr>\n",
       "      <th>Silver fir</th>\n",
       "      <td>0.952381</td>\n",
       "      <td>0.559441</td>\n",
       "      <td>0.704846</td>\n",
       "      <td>143.000000</td>\n",
       "    </tr>\n",
       "    <tr>\n",
       "      <th>Pine</th>\n",
       "      <td>0.632124</td>\n",
       "      <td>0.721893</td>\n",
       "      <td>0.674033</td>\n",
       "      <td>845.000000</td>\n",
       "    </tr>\n",
       "    <tr>\n",
       "      <th>accuracy</th>\n",
       "      <td>0.576585</td>\n",
       "      <td>0.576585</td>\n",
       "      <td>0.576585</td>\n",
       "      <td>0.576585</td>\n",
       "    </tr>\n",
       "    <tr>\n",
       "      <th>macro avg</th>\n",
       "      <td>0.649231</td>\n",
       "      <td>0.563276</td>\n",
       "      <td>0.592224</td>\n",
       "      <td>2272.000000</td>\n",
       "    </tr>\n",
       "    <tr>\n",
       "      <th>weighted avg</th>\n",
       "      <td>0.582297</td>\n",
       "      <td>0.576585</td>\n",
       "      <td>0.574474</td>\n",
       "      <td>2272.000000</td>\n",
       "    </tr>\n",
       "  </tbody>\n",
       "</table>\n",
       "</div>"
      ],
      "text/plain": [
       "             RandomForest                                 \n",
       "                precision    recall  f1-score      support\n",
       "Birch            0.489726  0.509804  0.499563   561.000000\n",
       "Aspen            0.522692  0.461964  0.490455   723.000000\n",
       "Silver fir       0.952381  0.559441  0.704846   143.000000\n",
       "Pine             0.632124  0.721893  0.674033   845.000000\n",
       "accuracy         0.576585  0.576585  0.576585     0.576585\n",
       "macro avg        0.649231  0.563276  0.592224  2272.000000\n",
       "weighted avg     0.582297  0.576585  0.574474  2272.000000"
      ]
     },
     "execution_count": 37,
     "metadata": {},
     "output_type": "execute_result"
    }
   ],
   "source": [
    "scores_model = df_score_class_dict['RandomForest']\n",
    "scores_model.index = pd.Series(scores_model.index).apply(lambda x: decodeClassesLevel1(x))\n",
    "scores_model"
   ]
  },
  {
   "cell_type": "code",
   "execution_count": null,
   "id": "20e9a3f4",
   "metadata": {
    "id": "20e9a3f4",
    "outputId": "75a49c1b-9466-49cf-c137-9e43eadd8a79"
   },
   "outputs": [
    {
     "data": {
      "image/png": "[encoded data removed]",
      "text/plain": [
       "<Figure size 576x396 with 2 Axes>"
      ]
     },
     "metadata": {},
     "output_type": "display_data"
    }
   ],
   "source": [
    "from sklearn.metrics import confusion_matrix, ConfusionMatrixDisplay\n",
    "dict_normal_names={7: \"Pine\", \n",
    "        2:\"Fir\", \n",
    "        5:\"Aspen\",\n",
    "        3:\"Cedar\",\n",
    "        4:\"Larch\",\n",
    "        1:\"Birch\",\n",
    "        6:\"Silver fir\",\n",
    "        15:\"Burnt forest\", \n",
    "        13:'Deforestation', \n",
    "        14:'Grass',\n",
    "        12:'Soil', \n",
    "        16:'Swamp', \n",
    "        11:'Water body'}\n",
    "\n",
    "clf = base_classfiers[2]\n",
    "predictions = clf.predict(X_test)\n",
    "names = [dict_normal_names[value] for value in clf.classes_]\n",
    "cm = confusion_matrix(y_test, predictions, labels=clf.classes_)\n",
    "disp = ConfusionMatrixDisplay(confusion_matrix=cm,\n",
    "                               display_labels=names)\n",
    "disp.plot()\n",
    "plt.title(name_classfiers[-6])\n",
    "plt.xticks(rotation=65)\n",
    "plt.show()"
   ]
  },
  {
   "cell_type": "markdown",
   "id": "1f2404cd",
   "metadata": {
    "id": "1f2404cd"
   },
   "source": [
    "## 3. Кластеризация"
   ]
  },
  {
   "cell_type": "code",
   "execution_count": null,
   "id": "518b17f3",
   "metadata": {
    "id": "518b17f3",
    "outputId": "c8fc2a88-1aa6-4eda-dbef-6a0f2af46e79"
   },
   "outputs": [
    {
     "name": "stdout",
     "output_type": "stream",
     "text": [
      "[t-SNE] Computing 91 nearest neighbors...\n",
      "[t-SNE] Indexed 3783 samples in 0.001s...\n",
      "[t-SNE] Computed neighbors for 3783 samples in 0.327s...\n",
      "[t-SNE] Computed conditional probabilities for sample 1000 / 3783\n",
      "[t-SNE] Computed conditional probabilities for sample 2000 / 3783\n",
      "[t-SNE] Computed conditional probabilities for sample 3000 / 3783\n",
      "[t-SNE] Computed conditional probabilities for sample 3783 / 3783\n",
      "[t-SNE] Mean sigma: 0.043459\n",
      "[t-SNE] KL divergence after 250 iterations with early exaggeration: 62.820465\n",
      "[t-SNE] KL divergence after 1000 iterations: 0.590038\n"
     ]
    },
    {
     "data": {
      "image/png": "[encoded data removed]",
      "text/plain": [
       "<Figure size 432x288 with 1 Axes>"
      ]
     },
     "metadata": {},
     "output_type": "display_data"
    }
   ],
   "source": [
    "from sklearn.manifold import TSNE\n",
    "tsne = TSNE(n_components=2, verbose=1, random_state=123)\n",
    "df = pd.concat([bands.iloc[:, :-2], terrain], axis=1)\n",
    "df = df.copy()\n",
    "df[['aspect','slope','wetnessindex','sink']] = df[['aspect','slope','wetnessindex','sink']].astype(float)\n",
    "\n",
    "forest = df[\"class\"] < 8\n",
    "df = df.loc[forest]\n",
    "\n",
    "X = df.iloc[:, :-2]\n",
    "z = tsne.fit_transform(X)\n",
    "\n",
    "df_plot = pd.DataFrame(data=df.iloc[:, -1].values, columns=['y'])\n",
    "# df_plot[\"y\"] = df.iloc[:, :-1]\n",
    "df_plot['y'] = df_plot['y'].apply(lambda x: dict_normal_names[x])\n",
    "df_plot[\"comp-1\"] = z[:,0]\n",
    "df_plot[\"comp-2\"] = z[:,1]\n",
    "\n",
    "sns.scatterplot(x=\"comp-1\", y=\"comp-2\", hue=df_plot.y.tolist(),\n",
    "                palette=sns.color_palette(\"hls\", 7),\n",
    "                data=df_plot).set(title=\"Forest data T-SNE projection\")\n",
    "plt.legend(loc='upper center', bbox_to_anchor=(0.5, 1.15),\n",
    "          ncol=3, fancybox=True, shadow=True)\n",
    "plt.show()"
   ]
  },
  {
   "cell_type": "markdown",
   "id": "ed2b6c41",
   "metadata": {
    "id": "ed2b6c41"
   },
   "source": [
    "# END"
   ]
  },
  {
   "cell_type": "markdown",
   "id": "c39fe6d7",
   "metadata": {
    "id": "c39fe6d7"
   },
   "source": [
    "## another exp"
   ]
  },
  {
   "cell_type": "code",
   "execution_count": null,
   "id": "87420a39",
   "metadata": {
    "id": "87420a39"
   },
   "outputs": [],
   "source": [
    "forest_gdf = gdf.loc[gdf['t_Class']<8]\n",
    "X_train, X_test, y_train, y_test = train_test_split(forest_gdf, forest_gdf['class_name'], test_size=0.3)\n",
    "\n",
    "train = df_resampled.loc[df_resampled['key'].isin(X_train['key'])]\n",
    "\n",
    "test = df_resampled.loc[df_resampled['key'].isin(X_test['key'])]\n",
    "\n",
    "\n",
    "X_train = train.drop(columns=['key','class']).astype('float')\n",
    "X_test = test.drop(columns=['key','class']).astype('float')\n",
    "y_train = train['class'].astype(int)\n",
    "y_test = test['class'].astype(int)"
   ]
  },
  {
   "cell_type": "code",
   "execution_count": null,
   "id": "040a580d",
   "metadata": {
    "id": "040a580d"
   },
   "outputs": [],
   "source": [
    "from imblearn.over_sampling import SMOTE"
   ]
  },
  {
   "cell_type": "code",
   "execution_count": null,
   "id": "ace69907",
   "metadata": {
    "id": "ace69907"
   },
   "outputs": [],
   "source": [
    "rus = SMOTE()\n",
    "X_res, y_res = rus.fit_resample(df_resampled.iloc[:, :-1], df_resampled.iloc[:, -1].astype(int))\n",
    "sub_df_resampled= pd.DataFrame(X_res, columns=df.columns[:-1])\n",
    "sub_df_resampled.loc[:, 'class'] = y_res"
   ]
  },
  {
   "cell_type": "code",
   "execution_count": null,
   "id": "9744ed22",
   "metadata": {
    "id": "9744ed22",
    "outputId": "2feabe56-3b53-416c-cb47-f2a5932bc33f"
   },
   "outputs": [
    {
     "data": {
      "text/html": [
       "<style>#sk-container-id-1 {color: black;background-color: white;}#sk-container-id-1 pre{padding: 0;}#sk-container-id-1 div.sk-toggleable {background-color: white;}#sk-container-id-1 label.sk-toggleable__label {cursor: pointer;display: block;width: 100%;margin-bottom: 0;padding: 0.3em;box-sizing: border-box;text-align: center;}#sk-container-id-1 label.sk-toggleable__label-arrow:before {content: \"▸\";float: left;margin-right: 0.25em;color: #696969;}#sk-container-id-1 label.sk-toggleable__label-arrow:hover:before {color: black;}#sk-container-id-1 div.sk-estimator:hover label.sk-toggleable__label-arrow:before {color: black;}#sk-container-id-1 div.sk-toggleable__content {max-height: 0;max-width: 0;overflow: hidden;text-align: left;background-color: #f0f8ff;}#sk-container-id-1 div.sk-toggleable__content pre {margin: 0.2em;color: black;border-radius: 0.25em;background-color: #f0f8ff;}#sk-container-id-1 input.sk-toggleable__control:checked~div.sk-toggleable__content {max-height: 200px;max-width: 100%;overflow: auto;}#sk-container-id-1 input.sk-toggleable__control:checked~label.sk-toggleable__label-arrow:before {content: \"▾\";}#sk-container-id-1 div.sk-estimator input.sk-toggleable__control:checked~label.sk-toggleable__label {background-color: #d4ebff;}#sk-container-id-1 div.sk-label input.sk-toggleable__control:checked~label.sk-toggleable__label {background-color: #d4ebff;}#sk-container-id-1 input.sk-hidden--visually {border: 0;clip: rect(1px 1px 1px 1px);clip: rect(1px, 1px, 1px, 1px);height: 1px;margin: -1px;overflow: hidden;padding: 0;position: absolute;width: 1px;}#sk-container-id-1 div.sk-estimator {font-family: monospace;background-color: #f0f8ff;border: 1px dotted black;border-radius: 0.25em;box-sizing: border-box;margin-bottom: 0.5em;}#sk-container-id-1 div.sk-estimator:hover {background-color: #d4ebff;}#sk-container-id-1 div.sk-parallel-item::after {content: \"\";width: 100%;border-bottom: 1px solid gray;flex-grow: 1;}#sk-container-id-1 div.sk-label:hover label.sk-toggleable__label {background-color: #d4ebff;}#sk-container-id-1 div.sk-serial::before {content: \"\";position: absolute;border-left: 1px solid gray;box-sizing: border-box;top: 0;bottom: 0;left: 50%;z-index: 0;}#sk-container-id-1 div.sk-serial {display: flex;flex-direction: column;align-items: center;background-color: white;padding-right: 0.2em;padding-left: 0.2em;position: relative;}#sk-container-id-1 div.sk-item {position: relative;z-index: 1;}#sk-container-id-1 div.sk-parallel {display: flex;align-items: stretch;justify-content: center;background-color: white;position: relative;}#sk-container-id-1 div.sk-item::before, #sk-container-id-1 div.sk-parallel-item::before {content: \"\";position: absolute;border-left: 1px solid gray;box-sizing: border-box;top: 0;bottom: 0;left: 50%;z-index: -1;}#sk-container-id-1 div.sk-parallel-item {display: flex;flex-direction: column;z-index: 1;position: relative;background-color: white;}#sk-container-id-1 div.sk-parallel-item:first-child::after {align-self: flex-end;width: 50%;}#sk-container-id-1 div.sk-parallel-item:last-child::after {align-self: flex-start;width: 50%;}#sk-container-id-1 div.sk-parallel-item:only-child::after {width: 0;}#sk-container-id-1 div.sk-dashed-wrapped {border: 1px dashed gray;margin: 0 0.4em 0.5em 0.4em;box-sizing: border-box;padding-bottom: 0.4em;background-color: white;}#sk-container-id-1 div.sk-label label {font-family: monospace;font-weight: bold;display: inline-block;line-height: 1.2em;}#sk-container-id-1 div.sk-label-container {text-align: center;}#sk-container-id-1 div.sk-container {/* jupyter's `normalize.less` sets `[hidden] { display: none; }` but bootstrap.min.css set `[hidden] { display: none !important; }` so we also need the `!important` here to be able to override the default hidden behavior on the sphinx rendered scikit-learn.org. See: https://github.com/scikit-learn/scikit-learn/issues/21755 */display: inline-block !important;position: relative;}#sk-container-id-1 div.sk-text-repr-fallback {display: none;}</style><div id=\"sk-container-id-1\" class=\"sk-top-container\"><div class=\"sk-text-repr-fallback\"><pre>GridSearchCV(estimator=Pipeline(steps=[(&#x27;scaler&#x27;, StandardScaler()),\n",
       "                                       (&#x27;pca&#x27;, PCA()),\n",
       "                                       (&#x27;clf&#x27;, GradientBoostingClassifier())]),\n",
       "             n_jobs=8,\n",
       "             param_grid={&#x27;pca__n_components&#x27;: [1, 2, 3],\n",
       "                         &#x27;scaler__with_std&#x27;: [True, False]},\n",
       "             scoring=&#x27;balanced_accuracy&#x27;)</pre><b>In a Jupyter environment, please rerun this cell to show the HTML representation or trust the notebook. <br />On GitHub, the HTML representation is unable to render, please try loading this page with nbviewer.org.</b></div><div class=\"sk-container\" hidden><div class=\"sk-item sk-dashed-wrapped\"><div class=\"sk-label-container\"><div class=\"sk-label sk-toggleable\"><input class=\"sk-toggleable__control sk-hidden--visually\" id=\"sk-estimator-id-1\" type=\"checkbox\" ><label for=\"sk-estimator-id-1\" class=\"sk-toggleable__label sk-toggleable__label-arrow\">GridSearchCV</label><div class=\"sk-toggleable__content\"><pre>GridSearchCV(estimator=Pipeline(steps=[(&#x27;scaler&#x27;, StandardScaler()),\n",
       "                                       (&#x27;pca&#x27;, PCA()),\n",
       "                                       (&#x27;clf&#x27;, GradientBoostingClassifier())]),\n",
       "             n_jobs=8,\n",
       "             param_grid={&#x27;pca__n_components&#x27;: [1, 2, 3],\n",
       "                         &#x27;scaler__with_std&#x27;: [True, False]},\n",
       "             scoring=&#x27;balanced_accuracy&#x27;)</pre></div></div></div><div class=\"sk-parallel\"><div class=\"sk-parallel-item\"><div class=\"sk-item\"><div class=\"sk-label-container\"><div class=\"sk-label sk-toggleable\"><input class=\"sk-toggleable__control sk-hidden--visually\" id=\"sk-estimator-id-2\" type=\"checkbox\" ><label for=\"sk-estimator-id-2\" class=\"sk-toggleable__label sk-toggleable__label-arrow\">estimator: Pipeline</label><div class=\"sk-toggleable__content\"><pre>Pipeline(steps=[(&#x27;scaler&#x27;, StandardScaler()), (&#x27;pca&#x27;, PCA()),\n",
       "                (&#x27;clf&#x27;, GradientBoostingClassifier())])</pre></div></div></div><div class=\"sk-serial\"><div class=\"sk-item\"><div class=\"sk-serial\"><div class=\"sk-item\"><div class=\"sk-estimator sk-toggleable\"><input class=\"sk-toggleable__control sk-hidden--visually\" id=\"sk-estimator-id-3\" type=\"checkbox\" ><label for=\"sk-estimator-id-3\" class=\"sk-toggleable__label sk-toggleable__label-arrow\">StandardScaler</label><div class=\"sk-toggleable__content\"><pre>StandardScaler()</pre></div></div></div><div class=\"sk-item\"><div class=\"sk-estimator sk-toggleable\"><input class=\"sk-toggleable__control sk-hidden--visually\" id=\"sk-estimator-id-4\" type=\"checkbox\" ><label for=\"sk-estimator-id-4\" class=\"sk-toggleable__label sk-toggleable__label-arrow\">PCA</label><div class=\"sk-toggleable__content\"><pre>PCA()</pre></div></div></div><div class=\"sk-item\"><div class=\"sk-estimator sk-toggleable\"><input class=\"sk-toggleable__control sk-hidden--visually\" id=\"sk-estimator-id-5\" type=\"checkbox\" ><label for=\"sk-estimator-id-5\" class=\"sk-toggleable__label sk-toggleable__label-arrow\">GradientBoostingClassifier</label><div class=\"sk-toggleable__content\"><pre>GradientBoostingClassifier()</pre></div></div></div></div></div></div></div></div></div></div></div></div>"
      ],
      "text/plain": [
       "GridSearchCV(estimator=Pipeline(steps=[('scaler', StandardScaler()),\n",
       "                                       ('pca', PCA()),\n",
       "                                       ('clf', GradientBoostingClassifier())]),\n",
       "             n_jobs=8,\n",
       "             param_grid={'pca__n_components': [1, 2, 3],\n",
       "                         'scaler__with_std': [True, False]},\n",
       "             scoring='balanced_accuracy')"
      ]
     },
     "execution_count": 63,
     "metadata": {},
     "output_type": "execute_result"
    }
   ],
   "source": [
    "from sklearn.pipeline import Pipeline\n",
    "from sklearn.decomposition import PCA\n",
    "pl = Pipeline([('scaler', StandardScaler()),\n",
    "               ('pca', PCA()),\n",
    "               ('clf', GradientBoostingClassifier())])\n",
    "\n",
    "\n",
    "X_train = train.drop(columns=['key','class']).astype('float')\n",
    "X_test = test.drop(columns=['key','class']).astype('float')\n",
    "y_train = train['class'].astype(int)\n",
    "y_test = test['class'].astype(int)\n",
    "\n",
    "y_test=codeClasses(y_test)\n",
    "y_train=codeClasses(y_train)\n",
    "# cv = CrossValidatorWrapper(KFold())\n",
    "gridsearch = GridSearchCV(pl, scoring='balanced_accuracy',\n",
    "                    param_grid={\n",
    "                      \"scaler__with_std\":[True,False],\n",
    "                      \"pca__n_components\": [1, 2, 3]\n",
    "                      }, n_jobs=8)\n",
    "\n",
    "gridsearch.fit(X_train, y_train)"
   ]
  },
  {
   "cell_type": "code",
   "execution_count": null,
   "id": "5ecca68e",
   "metadata": {
    "id": "5ecca68e"
   },
   "outputs": [],
   "source": [
    "results = gridsearch.cv_results_"
   ]
  },
  {
   "cell_type": "code",
   "execution_count": null,
   "id": "639fbbeb",
   "metadata": {
    "id": "639fbbeb"
   },
   "outputs": [],
   "source": [
    "X_train = train.drop(columns=['key','class']).astype('float')\n",
    "X_test = test.drop(columns=['key','class']).astype('float')\n",
    "y_train = train['class'].astype(int)\n",
    "y_test = test['class'].astype(int)\n",
    "\n",
    "y_test=codeClasses(y_test)\n",
    "y_train=codeClasses(y_train)"
   ]
  },
  {
   "cell_type": "code",
   "execution_count": null,
   "id": "b8c20da6",
   "metadata": {
    "id": "b8c20da6"
   },
   "outputs": [],
   "source": [
    "seed = 7\n",
    "models = []\n",
    "models.append(('SVC', SVC(verbose=True)))\n",
    "models.append(('RandomForest', RandomForestClassifier(verbose=1, n)))\n",
    "models.append(('GB', GradientBoostingClassifier()))\n",
    "models.append(('RidgeClassifier', RidgeClassifier()))\n",
    "\n",
    "results = []\n",
    "names = []\n",
    "# scoring = {\"OA\":\"balanced_accuracy\", \"f1_macro\":'f1_macro'}\n",
    "scoring= 'f1_macro'\n",
    "for name, model in models:\n",
    "    kfold = model_selection.KFold(n_splits=5)\n",
    "    cv_results = model_selection.cross_val_score(model, X, Y, cv=kfold, scoring=scoring)\n",
    "    results.append(cv_results)\n",
    "    names.append(name)\n",
    "    msg = \"%s: %f (%f)\" % (name, cv_results.mean(), cv_results.std())\n",
    "    print(msg)\n",
    "# boxplot algorithm comparison\n",
    "fig = plt.figure()\n",
    "fig.suptitle('Algorithm Comparison')\n",
    "ax = fig.add_subplot(111)\n",
    "plt.boxplot(results)\n",
    "ax.set_xticklabels(names)\n",
    "# plt.savefig('../plots/models_comparison.png', dpi=150)\n",
    "plt.show()\n"
   ]
  },
  {
   "cell_type": "code",
   "execution_count": null,
   "id": "1f67a010",
   "metadata": {
    "id": "1f67a010"
   },
   "outputs": [],
   "source": [
    "## two-metrics scoring\n",
    "scoring = {\"OA\":\"balanced_accuracy\", \"f1_macro\":'f1_macro'}\n",
    "\n",
    "param_grid = {\n",
    "    \"n_estimators\": range(5, 100, 10),\n",
    "    \"max_leaf_nodes\": range(2, 100, 10),\n",
    "    \"min_samples_split\": range(2, 50, 5),\n",
    "    \"learning_rate\": loguniform.rvs(0.01, 1, size=10),\n",
    "}\n",
    "\n",
    "gs = RandomizedSearchCV(\n",
    "    GradientBoostingClassifier(random_state=42, verbose=0),\n",
    "    n_iter=100,\n",
    "    param_distributions=param_grid,\n",
    "    scoring=scoring,\n",
    "    cv=5,\n",
    "    refit=\"f1_macro\",\n",
    "    n_jobs=8,\n",
    "    return_train_score=True,\n",
    "    verbose=10\n",
    ")\n",
    "gs.fit(X_train, y_train)\n",
    "results = gs.cv_results_"
   ]
  },
  {
   "cell_type": "code",
   "execution_count": null,
   "id": "51a44d00",
   "metadata": {
    "id": "51a44d00"
   },
   "outputs": [],
   "source": [
    "OA = results['mean_test_OA']\n",
    "f1_macro = results['mean_test_f1_macro']"
   ]
  },
  {
   "cell_type": "code",
   "execution_count": null,
   "id": "8dfc7a03",
   "metadata": {
    "id": "8dfc7a03",
    "outputId": "a87009b0-c8cb-4f24-ccd5-5a8b0e8106f7"
   },
   "outputs": [
    {
     "data": {
      "text/plain": [
       "<matplotlib.legend.Legend at 0x7fa29d9a9a60>"
      ]
     },
     "execution_count": 299,
     "metadata": {},
     "output_type": "execute_result"
    },
    {
     "data": {
      "image/png": "[encoded data removed]",
      "text/plain": [
       "<Figure size 864x288 with 3 Axes>"
      ]
     },
     "metadata": {},
     "output_type": "display_data"
    }
   ],
   "source": [
    "fig, (ax1, ax2, ax3) = plt.subplots(1,3, figsize=(12,4), tight_layout=True)\n",
    "ax1.scatter(OA, f1_macro, edgecolors=sns.color_palette()[0], facecolors='none')\n",
    "ax1.grid()\n",
    "# ax1.set_ylim(0,1)\n",
    "# ax1.set_xlim(0,10)\n",
    "ax1.set_ylabel(\"f1_macro\")\n",
    "ax1.set_xlabel(\"OA\")\n",
    "# ax2.scatter(mape_normalized, r2_normalize)\n",
    "sns.kdeplot(f1_macro, fill=True, label=\"f1_macro\", ax=ax2)\n",
    "ax2.grid()\n",
    "ax2.legend()\n",
    "sns.kdeplot(OA, fill=True, label=\"OA\", ax=ax3)\n",
    "ax3.grid()\n",
    "ax3.legend()\n",
    "# ax2.set_ylabel(\"$R^2$\")\n",
    "# ax2.set_xlabel(\"$MAPE$\")\n",
    "# plt.savefig('../plots/two_metrics_plots.png', dpi=300)"
   ]
  },
  {
   "cell_type": "markdown",
   "id": "014e6901",
   "metadata": {
    "id": "014e6901"
   },
   "source": [
    "## 6. Color geotiff"
   ]
  },
  {
   "cell_type": "code",
   "execution_count": null,
   "id": "e97a70d3",
   "metadata": {
    "id": "e97a70d3"
   },
   "outputs": [],
   "source": [
    "fname = '/mnt/bulky2/mgasanov/CARBON/Sentinell2/ForestSentinell2/summer_2020.tiff'\n",
    "with rio.open(fname) as src:\n",
    "    bands_row= src.read()"
   ]
  },
  {
   "cell_type": "code",
   "execution_count": null,
   "id": "bb641777",
   "metadata": {
    "id": "bb641777"
   },
   "outputs": [],
   "source": [
    "shape_row = bands_row.shape"
   ]
  },
  {
   "cell_type": "code",
   "execution_count": null,
   "id": "0ea3e7de",
   "metadata": {
    "id": "0ea3e7de"
   },
   "outputs": [],
   "source": [
    "dates_images_2020 = [\"2020-07-03\", \"2020-07-05\", \"2020-07-13\",\n",
    "                     \"2020-08-04\", \"2020-08-09\", \"2020-08-12\", \"2020-08-17\"]\n",
    "\n",
    "def get_2020_cols():\n",
    "    col_names = [\"B01\",\"B02\",\"B03\",\"B04\",\"B05\",\"B06\",\"B07\",\"B08\",\"B8A\",\"B09\",\"B11\",\"B12\",\"CLM\"]\n",
    "    all_cols = []\n",
    "    i = 0\n",
    "    for date in sorted(dates_images_2020):\n",
    "        for col in col_names:\n",
    "            \n",
    "            all_cols.append(date+'_'+col)\n",
    "    return all_cols\n",
    "\n",
    "cols_2020 = get_2020_cols()\n",
    "\n",
    "x = bands_row[:-4, ...].reshape(len(cols_2020), bands_row.shape[1]*bands_row.shape[2])"
   ]
  },
  {
   "cell_type": "code",
   "execution_count": null,
   "id": "be6f09c4",
   "metadata": {
    "id": "be6f09c4"
   },
   "outputs": [],
   "source": [
    "for i in range(x.shape[1]//100000 + 1):\n",
    "    select = x[:, i*100000:(i+1)*100000]\n",
    "    if (i+1)*100000 > x.shape[1]:\n",
    "        select = x[:, i*100000:x.shape[1]]\n",
    "    break"
   ]
  },
  {
   "cell_type": "code",
   "execution_count": null,
   "id": "320d492b",
   "metadata": {
    "id": "320d492b"
   },
   "outputs": [],
   "source": [
    "df_indices_field = pd.DataFrame(select.T, columns=cols_2020)"
   ]
  },
  {
   "cell_type": "code",
   "execution_count": null,
   "id": "6cfb75cf",
   "metadata": {
    "id": "6cfb75cf",
    "outputId": "ec0876df-cc70-4532-ce5f-bd2facc3bca8"
   },
   "outputs": [
    {
     "name": "stdout",
     "output_type": "stream",
     "text": [
      "2020-07-03\n",
      "2020-07-05\n",
      "2020-07-13\n",
      "2020-08-04\n",
      "2020-08-09\n",
      "2020-08-12\n",
      "2020-08-17\n"
     ]
    }
   ],
   "source": [
    "def prepare_SVI(df:pd.DataFrame)->pd.DataFrame:\n",
    "    for date in [\"2020-07-03\", \"2020-07-05\", \"2020-07-13\",\n",
    "                     \"2020-08-04\", \"2020-08-09\", \"2020-08-12\", \"2020-08-17\"]:\n",
    "        print(date)\n",
    "        df = dataset.get_ndvi(df, date)\n",
    "        df = dataset.generate_NDRE(df, date)\n",
    "        df = dataset.evi(df, date)\n",
    "        df = dataset.generate_MSAVI(df, date)\n",
    "\n",
    "    return df\n",
    "df_indices_field = prepare_SVI(df_indices_field)"
   ]
  },
  {
   "cell_type": "code",
   "execution_count": null,
   "id": "a7184b81",
   "metadata": {
    "id": "a7184b81"
   },
   "outputs": [],
   "source": [
    "dates_images_2020 = [\"2020-07-03\", \"2020-07-05\", \"2020-07-13\",\n",
    "                     \"2020-08-04\", \"2020-08-09\", \"2020-08-12\", \"2020-08-17\"]\n",
    "\n",
    "def get_2020_cols():\n",
    "    col_names = [\"B01\",\"B02\",\"B03\",\"B04\",\"B05\",\"B06\",\"B07\",\"B08\",\"B8A\",\"B09\",\"B11\",\"B12\",\"CLM\"]\n",
    "    all_cols = []\n",
    "    i = 0\n",
    "    for date in sorted(dates_images_2020):\n",
    "        for col in col_names:\n",
    "            \n",
    "            all_cols.append(date+'_'+col)\n",
    "    return all_cols\n",
    "\n",
    "cols_2020 = get_2020_cols()\n",
    "\n",
    "\n",
    "# shape = box(*gdf.total_bounds)\n",
    "fname = '/mnt/bulky2/mgasanov/CARBON/Sentinell2/ForestSentinell2/summer_2020.tiff'\n",
    "with rio.open(fname) as src:\n",
    "    bands_row= src.read()\n",
    "x = bands_row[:-4, ...].reshape(len(cols_2020), bands_row.shape[1]*bands_row.shape[2])\n",
    "\n",
    "\n",
    "df_indices_field = pd.DataFrame(x.T[::100, :], columns=cols_2020)\n",
    "\n",
    "\n",
    "def prepare_SVI(df:pd.DataFrame)->pd.DataFrame:\n",
    "    for date in [\"2020-07-03\", \"2020-07-05\", \"2020-07-13\",\n",
    "                     \"2020-08-04\", \"2020-08-09\", \"2020-08-12\", \"2020-08-17\"]:\n",
    "        print(date)\n",
    "        df = dataset.get_ndvi(df, date)\n",
    "        df = dataset.generate_NDRE(df, date)\n",
    "        df = dataset.evi(df, date)\n",
    "        df = dataset.generate_MSAVI(df, date)\n",
    "\n",
    "    return df\n",
    "\n",
    "# slices =  \n",
    "mean_X = np.ones(shape=(13, x.shape[1]))\n",
    "for y in range(14):\n",
    "    print(y)\n",
    "    channels = []\n",
    "    for i in range(len(dates_images_2020)):\n",
    "        channels.append(y-1 + i * 13)\n",
    "    mean_channel = x[channels, ...].mean(axis=0)\n",
    "    mean_X[y] = mean_channel"
   ]
  },
  {
   "cell_type": "markdown",
   "id": "9fbb2cde",
   "metadata": {
    "id": "9fbb2cde"
   },
   "source": [
    "## 2. EDA"
   ]
  },
  {
   "cell_type": "code",
   "execution_count": null,
   "id": "6ff6990f",
   "metadata": {
    "id": "6ff6990f"
   },
   "outputs": [],
   "source": [
    "# # Fill diagonal and upper half with NaNs\n",
    "# corr = non_forest.corr()\n",
    "# mask = np.zeros_like(corr, dtype=bool)\n",
    "# mask[np.triu_indices_from(mask)] = True\n",
    "# corr[mask] = np.nan\n",
    "# (corr.iloc[::3, ::2]\n",
    "#  .style\n",
    "#  .background_gradient(cmap='coolwarm', axis=None, vmin=-1, vmax=1)\n",
    "#  .highlight_null(null_color='#f1f1f1')  # Color NaNs grey\n",
    "#  .set_precision(2))"
   ]
  },
  {
   "cell_type": "code",
   "execution_count": null,
   "id": "7e1ac014",
   "metadata": {
    "id": "7e1ac014"
   },
   "outputs": [],
   "source": [
    "corr_matrix = non_forest.corr().abs()\n",
    "\n",
    "# Select upper triangle of correlation matrix\n",
    "upper = corr_matrix.where(np.triu(np.ones(corr_matrix.shape), k=1).astype(np.bool_))\n",
    "\n",
    "# Find features with correlation greater than 0.95\n",
    "to_drop = [column for column in upper.columns if any(upper[column] > 0.9)]\n",
    "\n",
    "# Drop features \n",
    "non_forest.drop(to_drop, axis=1, inplace=True)"
   ]
  },
  {
   "cell_type": "code",
   "execution_count": null,
   "id": "2c62026d",
   "metadata": {
    "id": "2c62026d"
   },
   "outputs": [],
   "source": [
    "# # Fill diagonal and upper half with NaNs\n",
    "# corr = non_forest.corr()\n",
    "# mask = np.zeros_like(corr, dtype=bool)\n",
    "# mask[np.triu_indices_from(mask)] = True\n",
    "# corr[mask] = np.nan\n",
    "# (corr.iloc[:, :]\n",
    "#  .style\n",
    "#  .background_gradient(cmap='coolwarm', axis=None, vmin=-1, vmax=1)\n",
    "#  .highlight_null(null_color='#f1f1f1')  # Color NaNs grey\n",
    "#  .set_precision(2))"
   ]
  },
  {
   "cell_type": "markdown",
   "id": "d046dde6",
   "metadata": {
    "id": "d046dde6"
   },
   "source": [
    "## 3. Plotting\n"
   ]
  },
  {
   "cell_type": "code",
   "execution_count": null,
   "id": "59a40d89",
   "metadata": {
    "id": "59a40d89"
   },
   "outputs": [],
   "source": [
    "\n",
    "def plot_RGB_file(fname: str): \n",
    "    img = rio.open(fname)\n",
    "\n",
    "    red = img.read(4)\n",
    "    green = img.read(3)\n",
    "    blue = img.read(2)\n",
    "\n",
    "    red_b=brighten(red)\n",
    "    blue_b=brighten(blue)\n",
    "    green_b=brighten(green)\n",
    "\n",
    "    red_bn = normalize(red_b)\n",
    "    green_bn = normalize(green_b)\n",
    "    blue_bn = normalize(blue_b)\n",
    "\n",
    "    rgb_composite_bn= np.dstack((red_bn, green_bn, blue_bn))\n",
    "    return rgb_composite_bn\n",
    "\n",
    "def plot_RGB_matrix(img)->None: \n",
    "    red = img[4, ...]\n",
    "    green = img[3, ...]\n",
    "    blue = img[2, ...]\n",
    "    red_b=brighten(red)\n",
    "    blue_b=brighten(blue)\n",
    "    green_b=brighten(green)\n",
    "\n",
    "    red_bn = normalize(red_b)\n",
    "    green_bn = normalize(green_b)\n",
    "    blue_bn = normalize(blue_b)\n",
    "\n",
    "    rgb_composite_bn= np.dstack((red_bn, green_bn, blue_bn))\n",
    "    plt.imshow(rgb_composite_bn)"
   ]
  },
  {
   "cell_type": "code",
   "execution_count": null,
   "id": "f39b36c1",
   "metadata": {
    "id": "f39b36c1"
   },
   "outputs": [],
   "source": [
    "path='/mnt/bulky2/mgasanov/CARBON/Sentinell2/ForestSentinell2/'\n",
    "list_of_geotiff = [tiff for tiff in os.listdir(path) if 'tiff' in tiff]\n",
    "mask = (df_indices_field['date'].dt.month>6) & (df_indices_field['date'].dt.month<9)\n",
    "dates_images = df_indices_field.loc[mask, 'date'].unique()\n",
    "dates_images = [str(image)[:10] for image in dates_images]"
   ]
  },
  {
   "cell_type": "code",
   "execution_count": null,
   "id": "1084ab6f",
   "metadata": {
    "id": "1084ab6f"
   },
   "outputs": [],
   "source": [
    "src = rio.open(path_to_tiff_file)"
   ]
  },
  {
   "cell_type": "code",
   "execution_count": null,
   "id": "ae713702",
   "metadata": {
    "id": "ae713702"
   },
   "outputs": [],
   "source": [
    "dataset = Dataset()\n",
    "src = rio.open(dataset.path_to_tiff_file)\n",
    "X = src.read()"
   ]
  },
  {
   "cell_type": "code",
   "execution_count": null,
   "id": "0d106315",
   "metadata": {
    "id": "0d106315",
    "outputId": "1593ab7c-7087-4aa1-e04f-ac46f7e5ad03"
   },
   "outputs": [
    {
     "data": {
      "text/plain": [
       "(13, 3300, 2966)"
      ]
     },
     "execution_count": 20,
     "metadata": {},
     "output_type": "execute_result"
    }
   ],
   "source": [
    "s2 = rio.open(\"/mnt/bulky2/mgasanov/CARBON/Sentinell2/ForestSentinell2/2019-06-19.tiff\")\n",
    "s2.read(2).shape"
   ]
  },
  {
   "cell_type": "code",
   "execution_count": null,
   "id": "c4179fd3",
   "metadata": {
    "id": "c4179fd3"
   },
   "outputs": [],
   "source": [
    "def normalize(X):\n",
    "    X = X/10000\n",
    "    X = np.clip(X, 0, 0.3)\n",
    "    return X"
   ]
  },
  {
   "cell_type": "code",
   "execution_count": null,
   "id": "3d7e23e4",
   "metadata": {
    "id": "3d7e23e4"
   },
   "outputs": [],
   "source": [
    "X = normalize(124)"
   ]
  },
  {
   "cell_type": "code",
   "execution_count": null,
   "id": "a0ca6135",
   "metadata": {
    "id": "a0ca6135",
    "outputId": "796b8e42-7ac4-4560-bcdc-a5a364ec407f"
   },
   "outputs": [
    {
     "name": "stdout",
     "output_type": "stream",
     "text": [
      "2019-07-01.tiff 2019-07-04.tiff 2019-08-03.tiff 2019-08-05.tiff 2019-08-08.tiff 2019-08-15.tiff 2019-08-30.tiff 2020-07-03.tiff 2020-07-05.tiff 2020-07-13.tiff 2020-08-04.tiff 2020-08-09.tiff 2020-08-12.tiff 2020-08-17.tiff "
     ]
    }
   ],
   "source": [
    "for x in sorted(dates_images):\n",
    "    print(x+'.tiff ', end='')"
   ]
  },
  {
   "cell_type": "code",
   "execution_count": null,
   "id": "38dc9dce",
   "metadata": {
    "id": "38dc9dce",
    "outputId": "e72748e8-8aa8-49aa-9194-760bde701ae6"
   },
   "outputs": [
    {
     "name": "stdout",
     "output_type": "stream",
     "text": [
      "\n"
     ]
    },
    {
     "data": {
      "image/png": "[encoded data removed]",
      "text/plain": [
       "<Figure size 432x288 with 1 Axes>"
      ]
     },
     "metadata": {},
     "output_type": "display_data"
    }
   ],
   "source": [
    "for tiff_file in sorted(dates_images):\n",
    "    path_to_tiff_file = os.path.join(path, tiff_file+'.tiff')\n",
    "    print()\n",
    "    rgb_composite_bn = plot_RGB_file(path_to_tiff_file)\n",
    "    plt.imshow(rgb_composite_bn[::3, ::3, :])\n",
    "    plt.title(tiff_file.split('.')[0])\n",
    "    plt.show()\n",
    "    break"
   ]
  },
  {
   "cell_type": "code",
   "execution_count": null,
   "id": "f24b3770",
   "metadata": {
    "id": "f24b3770"
   },
   "outputs": [],
   "source": []
  },
  {
   "cell_type": "code",
   "execution_count": null,
   "id": "5f57ce8b",
   "metadata": {
    "id": "5f57ce8b"
   },
   "outputs": [],
   "source": [
    "shape = gdf.iloc[0,-2]"
   ]
  },
  {
   "cell_type": "code",
   "execution_count": null,
   "id": "e033e7c5",
   "metadata": {
    "id": "e033e7c5",
    "outputId": "f8f2a01d-1ef8-434b-b8a5-a717395eb910"
   },
   "outputs": [
    {
     "data": {
      "image/svg+xml": [
       "<svg xmlns=\"http://www.w3.org/2000/svg\" xmlns:xlink=\"http://www.w3.org/1999/xlink\" width=\"100.0\" height=\"100.0\" viewBox=\"656845.2044003634 6275907.891063981 19.36156383960042 19.361563839949667\" preserveAspectRatio=\"xMinYMin meet\"><g transform=\"matrix(1,0,0,-1,0,12551835.1436918)\"><g><path fill-rule=\"evenodd\" fill=\"#66cc99\" stroke=\"#555555\" stroke-width=\"0.38723127679899333\" opacity=\"0.6\" d=\"M 656854.0993079833,6275926.535241339 L 656855.6677244814,6275926.535532864 L 656857.2123638529,6275926.263467278 L 656858.6862930052,6275925.727311163 L 656860.0447273413,6275924.943355333 L 656861.2463915101,6275923.935419883 L 656862.2547735444,6275922.734130421 L 656863.0392342515,6275921.375987524 L 656863.5759381847,6275919.902257683 L 656863.8485778557,6275918.357719446 L 656863.848869246,6275916.789302823 L 656863.5768034986,6275915.244663385 L 656863.0406472017,6275913.770734229 L 656862.256691199,6275912.412299947 L 656861.2487556081,6275911.210635887 L 656860.0474660532,6275910.202254003 L 656858.6893231194,6275909.417793471 L 656857.2155933008,6275908.881089717 L 656855.6710551425,6275908.608450205 L 656854.1026386605,6275908.608158938 L 656852.5579993868,6275908.880224751 L 656851.0840704072,6275909.416381052 L 656849.7256362971,6275910.200337001 L 656848.5239723795,6275911.208272484 L 656847.5155905943,6275912.409561888 L 656846.7311300988,6275913.767704644 L 656846.1944263193,6275915.241434284 L 656845.9217867232,6275916.785972286 L 656845.9214953204,6275918.354388648 L 656846.1935609684,6275919.899027851 L 656846.7297170933,6275921.372956824 L 656847.5136728692,6275922.731390991 L 656848.5216082087,6275923.933055019 L 656849.7228975173,6275924.941436957 L 656851.0810402372,6275925.725897625 L 656852.5547699027,6275926.262601586 L 656854.0993079833,6275926.535241339 z\" /></g></g></svg>"
      ],
      "text/plain": [
       "<shapely.geometry.multipolygon.MultiPolygon at 0x7fa80601ac70>"
      ]
     },
     "execution_count": 115,
     "metadata": {},
     "output_type": "execute_result"
    }
   ],
   "source": [
    "shape"
   ]
  },
  {
   "cell_type": "code",
   "execution_count": null,
   "id": "d0c68783",
   "metadata": {
    "id": "d0c68783",
    "outputId": "078df026-4d4c-466f-94b8-909917aca57f"
   },
   "outputs": [
    {
     "data": {
      "image/png": "[encoded data removed]",
      "text/plain": [
       "<Figure size 432x288 with 1 Axes>"
      ]
     },
     "metadata": {},
     "output_type": "display_data"
    },
    {
     "data": {
      "image/png": "[encoded data removed]",
      "text/plain": [
       "<Figure size 432x288 with 1 Axes>"
      ]
     },
     "metadata": {},
     "output_type": "display_data"
    }
   ],
   "source": [
    "\n",
    "\n",
    "shape = gdf.iloc[-2,-2]\n",
    "\n",
    "\n",
    "with rio.open(dataset.path_to_tiff_file) as src:\n",
    "    out_image, out_transform = crop_mask(src, [shape], crop=True, nodata=0) # SUPER KEK - [shape] works, shape - doesn't \n",
    "    out_meta = src.meta \n",
    "#     x = out_image[:12, ...].reshape(12, out_image.shape[1]*out_image.shape[2])\n",
    "# _df = pd.DataFrame(x.T, columns=col_names[:-1])\n",
    "#     df\n",
    "# plt.imshow(out_image[3,...])\n",
    "\n",
    "plt.imshow(out_image[1,...])\n",
    "plt.show()\n",
    "\n",
    "plt.imshow(out_image[-4,...])\n",
    "plt.show()"
   ]
  },
  {
   "cell_type": "code",
   "execution_count": null,
   "id": "a91f80e6",
   "metadata": {
    "id": "a91f80e6"
   },
   "outputs": [],
   "source": [
    "s2 = out_image[2,...]\n",
    "\n",
    "t1 = out_image[-2,...]\n",
    "\n",
    "sub_m = np.where(s2>0, t1, -1)"
   ]
  },
  {
   "cell_type": "code",
   "execution_count": null,
   "id": "177f5196",
   "metadata": {
    "id": "177f5196",
    "outputId": "c0bb3461-43a3-48e2-d3af-82abf9842544"
   },
   "outputs": [
    {
     "data": {
      "text/plain": [
       "(7, 7)"
      ]
     },
     "execution_count": 138,
     "metadata": {},
     "output_type": "execute_result"
    }
   ],
   "source": [
    "s2.shape"
   ]
  },
  {
   "cell_type": "code",
   "execution_count": null,
   "id": "d70fb7c1",
   "metadata": {
    "id": "d70fb7c1",
    "outputId": "b91cd1f9-6130-493d-80d1-ac4e562f724d"
   },
   "outputs": [
    {
     "data": {
      "text/plain": [
       "array([[-1, -1,  0,  0,  8, -1, -1],\n",
       "       [-1,  0,  0,  0,  8,  8, -1],\n",
       "       [ 8,  0,  0,  0,  8,  8, -1],\n",
       "       [ 8,  8,  8,  8,  8,  8, -1],\n",
       "       [ 8,  8,  8,  8,  8,  9, -1],\n",
       "       [-1,  0,  0,  0,  0, -1, -1],\n",
       "       [-1, -1, -1, -1, -1, -1, -1]], dtype=int32)"
      ]
     },
     "execution_count": 145,
     "metadata": {},
     "output_type": "execute_result"
    }
   ],
   "source": [
    "sub_m = np.where(s2>0, t1, -1)"
   ]
  },
  {
   "cell_type": "code",
   "execution_count": null,
   "id": "3282346a",
   "metadata": {
    "id": "3282346a",
    "outputId": "12eefa8a-6a26-4ec0-82b3-c6945c857cbc"
   },
   "outputs": [
    {
     "data": {
      "text/plain": [
       "<matplotlib.image.AxesImage at 0x7fa7e9ef57c0>"
      ]
     },
     "execution_count": 119,
     "metadata": {},
     "output_type": "execute_result"
    },
    {
     "data": {
      "image/png": "[encoded data removed]",
      "text/plain": [
       "<Figure size 432x288 with 1 Axes>"
      ]
     },
     "metadata": {},
     "output_type": "display_data"
    }
   ],
   "source": [
    "plt.imshow(out_image[1,...])"
   ]
  },
  {
   "cell_type": "code",
   "execution_count": null,
   "id": "afc2d251",
   "metadata": {
    "id": "afc2d251",
    "outputId": "223ff1e4-23e6-401a-93d8-5debf023005c"
   },
   "outputs": [
    {
     "data": {
      "text/plain": [
       "<matplotlib.image.AxesImage at 0x7fa7ea0c9160>"
      ]
     },
     "execution_count": 123,
     "metadata": {},
     "output_type": "execute_result"
    },
    {
     "data": {
      "image/png": "[encoded data removed]",
      "text/plain": [
       "<Figure size 432x288 with 1 Axes>"
      ]
     },
     "metadata": {},
     "output_type": "display_data"
    }
   ],
   "source": [
    "plt.imshow(out_image[-2,...])"
   ]
  },
  {
   "cell_type": "code",
   "execution_count": null,
   "id": "0f545223",
   "metadata": {
    "id": "0f545223",
    "outputId": "c2c7dfc0-94bd-4529-8c1e-cedbfd1a169f"
   },
   "outputs": [
    {
     "data": {
      "text/plain": [
       "<matplotlib.image.AxesImage at 0x135f04eb0>"
      ]
     },
     "execution_count": 73,
     "metadata": {},
     "output_type": "execute_result"
    },
    {
     "data": {
      "image/png": "[encoded data removed]",
      "text/plain": [
       "<Figure size 432x288 with 1 Axes>"
      ]
     },
     "metadata": {},
     "output_type": "display_data"
    }
   ],
   "source": [
    "col_names = [\"B01\",\"B02\",\"B03\",\"B04\",\"B05\",\"B06\",\"B07\",\"B08\",\"B8A\",\"B09\",\"B11\",\"B12\",\"CLM\"]\n",
    "path='/Users/mikhailgasanov/Yandex.Disk.localized/STRIP/Bratsk/Sentinel2_2019_10_meters/'\n",
    "year = 2019\n",
    "list_of_geotiff = [tiff for tiff in os.listdir(path) if (str('-') in tiff) and ('tiff' in tiff)]\n",
    "\n",
    "df_indices_field = pd.DataFrame(columns = ['date',  *col_names, \"NDVI\"])\n",
    "\n",
    "dates_of_images = []\n",
    "\n",
    "\n",
    "\n",
    "for tiff_file in sorted(list_of_geotiff):\n",
    "    path_to_tiff_file = os.path.join(path, tiff_file)\n",
    "    with rio.open(path_to_tiff_file) as src:\n",
    "        out_image, out_transform = crop_mask(src, [shape], crop=True) # SUPER KEK - [shape] works, shape - doesn't\n",
    "        out_meta = src.meta \n",
    "        x = out_image[:12, ...].reshape(12, out_image.shape[1]*out_image.shape[2])\n",
    "    _df = pd.DataFrame(x.T, columns=col_names[:-1])\n",
    "#     df\n",
    "plt.imshow(out_image[3,...])"
   ]
  },
  {
   "cell_type": "code",
   "execution_count": null,
   "id": "293e8297",
   "metadata": {
    "id": "293e8297",
    "outputId": "badc3c66-ba31-4982-905c-11a671db26dc"
   },
   "outputs": [
    {
     "data": {
      "text/plain": [
       "<matplotlib.image.AxesImage at 0x135d7c8b0>"
      ]
     },
     "execution_count": 75,
     "metadata": {},
     "output_type": "execute_result"
    },
    {
     "data": {
      "image/png": "[encoded data removed]",
      "text/plain": [
       "<Figure size 432x288 with 1 Axes>"
      ]
     },
     "metadata": {},
     "output_type": "display_data"
    }
   ],
   "source": [
    "shape = gdf_8m.iloc[0,-1]\n",
    "col_names = [\"B01\",\"B02\",\"B03\",\"B04\",\"B05\",\"B06\",\"B07\",\"B08\",\"B8A\",\"B09\",\"B11\",\"B12\",\"CLM\"]\n",
    "path='/Users/mikhailgasanov/Yandex.Disk.localized/STRIP/Bratsk/Sentinel2_2019_10_meters/'\n",
    "year = 2019\n",
    "list_of_geotiff = [tiff for tiff in os.listdir(path) if (str('-') in tiff) and ('tiff' in tiff)]\n",
    "\n",
    "df_indices_field = pd.DataFrame(columns = ['date',  *col_names, \"NDVI\"])\n",
    "\n",
    "dates_of_images = []\n",
    "\n",
    "\n",
    "\n",
    "for tiff_file in sorted(list_of_geotiff):\n",
    "    path_to_tiff_file = os.path.join(path, tiff_file)\n",
    "    with rio.open(path_to_tiff_file) as src:\n",
    "        out_image, out_transform = crop_mask(src, [shape], crop=True) # SUPER KEK - [shape] works, shape - doesn't\n",
    "        out_meta = src.meta \n",
    "        x = out_image[:12, ...].reshape(12, out_image.shape[1]*out_image.shape[2])\n",
    "    _df = pd.DataFrame(x.T, columns=col_names[:-1])\n",
    "#     df\n",
    "\n",
    "plt.imshow(out_image[3,...])"
   ]
  },
  {
   "cell_type": "code",
   "execution_count": null,
   "id": "dd93f63d",
   "metadata": {
    "id": "dd93f63d",
    "outputId": "a10cba85-87e2-4cf4-ea4a-c5de4d8cffca"
   },
   "outputs": [
    {
     "data": {
      "text/plain": [
       "<Derived Projected CRS: EPSG:32647>\n",
       "Name: WGS 84 / UTM zone 47N\n",
       "Axis Info [cartesian]:\n",
       "- E[east]: Easting (metre)\n",
       "- N[north]: Northing (metre)\n",
       "Area of Use:\n",
       "- name: Between 96°E and 102°E, northern hemisphere between equator and 84°N, onshore and offshore. China. Indonesia. Laos. Malaysia - West Malaysia. Mongolia. Myanmar (Burma). Russian Federation. Thailand.\n",
       "- bounds: (96.0, 0.0, 102.0, 84.0)\n",
       "Coordinate Operation:\n",
       "- name: UTM zone 47N\n",
       "- method: Transverse Mercator\n",
       "Datum: World Geodetic System 1984 ensemble\n",
       "- Ellipsoid: WGS 84\n",
       "- Prime Meridian: Greenwich"
      ]
     },
     "execution_count": 16,
     "metadata": {},
     "output_type": "execute_result"
    }
   ],
   "source": [
    "gdf_8m.crs"
   ]
  },
  {
   "cell_type": "markdown",
   "id": "6da34315",
   "metadata": {
    "id": "6da34315"
   },
   "source": [
    "## * Clusters"
   ]
  },
  {
   "cell_type": "code",
   "execution_count": null,
   "id": "fd294123",
   "metadata": {
    "id": "fd294123"
   },
   "outputs": [],
   "source": [
    "from sklearn.cluster import DBSCAN"
   ]
  },
  {
   "cell_type": "code",
   "execution_count": null,
   "id": "05877408",
   "metadata": {
    "id": "05877408",
    "outputId": "03176ad6-b375-4920-cbb5-5eea81a1041a"
   },
   "outputs": [
    {
     "name": "stdout",
     "output_type": "stream",
     "text": [
      "8.974945806042294\n",
      "Start bands . . . . . . . . . . . . . . . . . . . . . . . . . . . . . . . . . . . . . . . . . . . . . . . . . . . . . . . . . . . . . . . . . . . . . . . . . . . . . . . . . . . . . . . . . . . . . . . . . . . . . . . . . . . . . . . . . . . . . . . . . . . . . . . . . . . . . . . . . . . . . . . . . . . . . . . . . . . . . . . . . . . . . . . . . . . . . . . . . . . . . . . . . . . . . . . . . . . . . . . . . . . . . . . . . . . . . . . . . . . . . . . . . . . . . . . . . . . . . . . . . . . . . . . . . . . . . . . . . . . . . . . . . . . . . . . . . . . . . . . . . . Start terrain . . . . . . . . . . . . . . . . . . . . . . . . . . . . . . . . . . . . . . . . . . . . . . . . . . . . . . . . . . . . . . . . . . . . . . . . . . . . . . . . . . . . . . . . . . . . . . . . . . . . . . . . . . . . . . . . . . . . . . . . . . . . . . . . . . . . . . . . . . . . . . . . . . . . . . . . . . . . . . . . . . . . . . . . . . . . . . . . . . . . . . . . . . . . . . . . . . . . . . . . . . . . . . . . . . . . . . . . . . . . . . . . . . . . . . . . . . . . . . . . . . . . . . . . . . . . . . . . . . . . . . . . . . . . . . . . . . . . . . . . . . "
     ]
    }
   ],
   "source": [
    "fnames = {\"invent_plots\":\"../shape_data/dataset_plots.geojson\"}\n",
    "gdf = gpd.read_file(fnames['invent_plots'])\n",
    "gdf.loc[:, 'key'] = gdf.index\n",
    "gdf=procces_gdf(gdf)\n",
    "dataset = Dataset(tiff_fname=None, scale=1)\n",
    "bands, terrain = dataset.prepare_forest_classes_dataset(gdf=gdf)\n",
    "col_2020 = [col for col in bands.columns if '2019' not in col]\n",
    "df = pd.concat([bands[col_2020[:-2]], terrain], axis=1)\n",
    "df = df.copy()\n",
    "df[['aspect','slope','wetnessindex','sink']] = df[['aspect','slope','wetnessindex','sink']].astype(float)\n",
    "forest = df[\"class\"] < 20\n",
    "df_resampled = df.loc[forest]\n",
    "_X = df_resampled.iloc[:, :-2]\n",
    "scaled = StandardScaler().fit_transform(_X)\n",
    "df_resampled.iloc[:, :-2] = scaled"
   ]
  },
  {
   "cell_type": "code",
   "execution_count": null,
   "id": "adbe1dda",
   "metadata": {
    "id": "adbe1dda"
   },
   "outputs": [],
   "source": [
    "df= df_resampled.loc[df_resampled['class'] < 8]"
   ]
  },
  {
   "cell_type": "code",
   "execution_count": null,
   "id": "b8ffe18f",
   "metadata": {
    "id": "b8ffe18f"
   },
   "outputs": [],
   "source": []
  },
  {
   "cell_type": "code",
   "execution_count": null,
   "id": "324ebf14",
   "metadata": {
    "id": "324ebf14"
   },
   "outputs": [],
   "source": [
    "X = df.iloc[:, :-2].values\n",
    "labels_true = df['class'].values"
   ]
  },
  {
   "cell_type": "code",
   "execution_count": null,
   "id": "c8385808",
   "metadata": {
    "id": "c8385808",
    "outputId": "0195138b-928e-467e-fef2-cc14d671422f"
   },
   "outputs": [
    {
     "name": "stdout",
     "output_type": "stream",
     "text": [
      "Estimated number of clusters: 0\n",
      "Estimated number of noise points: 1552\n",
      "Homogeneity: 0.000\n",
      "Completeness: 1.000\n",
      "V-measure: 0.000\n",
      "Adjusted Rand Index: 0.000\n",
      "Adjusted Mutual Information: 0.000\n"
     ]
    }
   ],
   "source": [
    "db = DBSCAN(eps=0.3, min_samples=10).fit(X)\n",
    "core_samples_mask = np.zeros_like(db.labels_, dtype=bool)\n",
    "core_samples_mask[db.core_sample_indices_] = True\n",
    "labels = db.labels_\n",
    "\n",
    "# Number of clusters in labels, ignoring noise if present.\n",
    "n_clusters_ = len(set(labels)) - (1 if -1 in labels else 0)\n",
    "n_noise_ = list(labels).count(-1)\n",
    "\n",
    "print(\"Estimated number of clusters: %d\" % n_clusters_)\n",
    "print(\"Estimated number of noise points: %d\" % n_noise_)\n",
    "print(\"Homogeneity: %0.3f\" % metrics.homogeneity_score(labels_true, labels))\n",
    "print(\"Completeness: %0.3f\" % metrics.completeness_score(labels_true, labels))\n",
    "print(\"V-measure: %0.3f\" % metrics.v_measure_score(labels_true, labels))\n",
    "print(\"Adjusted Rand Index: %0.3f\" % metrics.adjusted_rand_score(labels_true, labels))\n",
    "print(\n",
    "    \"Adjusted Mutual Information: %0.3f\"\n",
    "    % metrics.adjusted_mutual_info_score(labels_true, labels)\n",
    ")\n",
    "# print(\"Silhouette Coefficient: %0.3f\" % metrics.silhouette_score(X, labels))"
   ]
  },
  {
   "cell_type": "code",
   "execution_count": null,
   "id": "a397067c",
   "metadata": {
    "id": "a397067c",
    "outputId": "95c6d088-6555-4ff4-9a24-e640c96f3710"
   },
   "outputs": [
    {
     "data": {
      "image/png": "[encoded data removed]",
      "text/plain": [
       "<Figure size 432x288 with 1 Axes>"
      ]
     },
     "metadata": {},
     "output_type": "display_data"
    }
   ],
   "source": [
    "import matplotlib.pyplot as plt\n",
    "\n",
    "# Black removed and is used for noise instead.\n",
    "unique_labels = set(labels)\n",
    "colors = [plt.cm.Spectral(each) for each in np.linspace(0, 1, len(unique_labels))]\n",
    "for k, col in zip(unique_labels, colors):\n",
    "    if k == -1:\n",
    "        # Black used for noise.\n",
    "        col = [0, 0, 0, 1]\n",
    "\n",
    "    class_member_mask = labels == k\n",
    "\n",
    "    xy = X[class_member_mask & core_samples_mask]\n",
    "    plt.plot(\n",
    "        xy[:, 0],\n",
    "        xy[:, 1],\n",
    "        \"o\",\n",
    "        markerfacecolor=tuple(col),\n",
    "        markeredgecolor=\"k\",\n",
    "        markersize=14,\n",
    "    )\n",
    "\n",
    "    xy = X[class_member_mask & ~core_samples_mask]\n",
    "    plt.plot(\n",
    "        xy[:, 0],\n",
    "        xy[:, 1],\n",
    "        \"o\",\n",
    "        markerfacecolor=tuple(col),\n",
    "        markeredgecolor=\"k\",\n",
    "        markersize=6,\n",
    "    )\n",
    "\n",
    "plt.title(\"Estimated number of clusters: %d\" % n_clusters_)\n",
    "plt.show()"
   ]
  },
  {
   "cell_type": "code",
   "execution_count": null,
   "id": "4d6a3bd5",
   "metadata": {
    "id": "4d6a3bd5"
   },
   "outputs": [],
   "source": [
    "from sklearn.manifold import TSNE"
   ]
  },
  {
   "cell_type": "code",
   "execution_count": null,
   "id": "100cb9eb",
   "metadata": {
    "id": "100cb9eb",
    "outputId": "aa995c2b-847b-42db-e4ab-b6be0a4760da"
   },
   "outputs": [
    {
     "data": {
      "text/plain": [
       "[<matplotlib.lines.Line2D at 0x7fc2e3a823d0>]"
      ]
     },
     "execution_count": 24,
     "metadata": {},
     "output_type": "execute_result"
    },
    {
     "data": {
      "image/png": "[encoded data removed]",
      "text/plain": [
       "<Figure size 576x396 with 1 Axes>"
      ]
     },
     "metadata": {},
     "output_type": "display_data"
    }
   ],
   "source": [
    "plt.plot(x)"
   ]
  },
  {
   "cell_type": "code",
   "execution_count": null,
   "id": "d4177969",
   "metadata": {
    "id": "d4177969",
    "outputId": "7e25829a-66a0-4c09-9bf5-6e2b5067e378"
   },
   "outputs": [
    {
     "name": "stdout",
     "output_type": "stream",
     "text": [
      "[t-SNE] Computing 91 nearest neighbors...\n",
      "[t-SNE] Indexed 1552 samples in 0.002s...\n",
      "[t-SNE] Computed neighbors for 1552 samples in 0.760s...\n",
      "[t-SNE] Computed conditional probabilities for sample 1000 / 1552\n",
      "[t-SNE] Computed conditional probabilities for sample 1552 / 1552\n",
      "[t-SNE] Mean sigma: 1.522654\n",
      "[t-SNE] KL divergence after 250 iterations with early exaggeration: 64.012894\n",
      "[t-SNE] KL divergence after 1000 iterations: 0.420003\n"
     ]
    }
   ],
   "source": [
    "tsne = TSNE(n_components=2, verbose=1, random_state=123)\n",
    "z = tsne.fit_transform(X)"
   ]
  },
  {
   "cell_type": "code",
   "execution_count": null,
   "id": "766c7c3b",
   "metadata": {
    "id": "766c7c3b",
    "outputId": "99a9cb64-22ac-45cf-d7cd-dd4f4a231df5"
   },
   "outputs": [
    {
     "data": {
      "text/plain": [
       "[Text(0.5, 1.0, 'Iris data T-SNE projection')]"
      ]
     },
     "execution_count": 286,
     "metadata": {},
     "output_type": "execute_result"
    },
    {
     "data": {
      "image/png": "[encoded data removed]",
      "text/plain": [
       "<Figure size 432x288 with 1 Axes>"
      ]
     },
     "metadata": {},
     "output_type": "display_data"
    }
   ],
   "source": [
    "from sklearn.manifold import TSNE\n",
    "tsne = TSNE(n_components=2, verbose=1, random_state=123)\n",
    "z = tsne.fit_transform(X)\n",
    "df = pd.DataFrame()\n",
    "df[\"y\"] = labels_true\n",
    "df[\"comp-1\"] = z[:,0]\n",
    "df[\"comp-2\"] = z[:,1]\n",
    "\n",
    "sns.scatterplot(x=\"comp-1\", y=\"comp-2\", hue=df.y.tolist(),\n",
    "                palette=sns.color_palette(\"hls\", 7),\n",
    "                data=df).set(title=\"Iris data T-SNE projection\")"
   ]
  },
  {
   "cell_type": "code",
   "execution_count": null,
   "id": "4810e297",
   "metadata": {
    "id": "4810e297",
    "outputId": "44d08535-ff67-45cf-ed71-5302d042fc67"
   },
   "outputs": [
    {
     "data": {
      "text/html": [
       "<div>\n",
       "<style scoped>\n",
       "    .dataframe tbody tr th:only-of-type {\n",
       "        vertical-align: middle;\n",
       "    }\n",
       "\n",
       "    .dataframe tbody tr th {\n",
       "        vertical-align: top;\n",
       "    }\n",
       "\n",
       "    .dataframe thead th {\n",
       "        text-align: right;\n",
       "    }\n",
       "</style>\n",
       "<table border=\"1\" class=\"dataframe\">\n",
       "  <thead>\n",
       "    <tr style=\"text-align: right;\">\n",
       "      <th></th>\n",
       "      <th>2020-07-03_B01</th>\n",
       "      <th>2020-07-03_B02</th>\n",
       "      <th>2020-07-03_B03</th>\n",
       "      <th>2020-07-03_B04</th>\n",
       "      <th>2020-07-03_B05</th>\n",
       "      <th>2020-07-03_B06</th>\n",
       "      <th>2020-07-03_B07</th>\n",
       "      <th>2020-07-03_B08</th>\n",
       "      <th>2020-07-03_B8A</th>\n",
       "      <th>2020-07-03_B09</th>\n",
       "      <th>...</th>\n",
       "      <th>2020-08-17_NDVI</th>\n",
       "      <th>2020-08-17_EVI</th>\n",
       "      <th>2020-08-17_MSAVI</th>\n",
       "      <th>2020-08-17_NDRE</th>\n",
       "      <th>aspect</th>\n",
       "      <th>slope</th>\n",
       "      <th>wetnessindex</th>\n",
       "      <th>sink</th>\n",
       "      <th>key</th>\n",
       "      <th>class</th>\n",
       "    </tr>\n",
       "  </thead>\n",
       "  <tbody>\n",
       "    <tr>\n",
       "      <th>1</th>\n",
       "      <td>1.792429</td>\n",
       "      <td>1.348706</td>\n",
       "      <td>0.330713</td>\n",
       "      <td>0.312257</td>\n",
       "      <td>-0.095310</td>\n",
       "      <td>-0.253746</td>\n",
       "      <td>-0.268301</td>\n",
       "      <td>-0.281320</td>\n",
       "      <td>-0.242449</td>\n",
       "      <td>0.571983</td>\n",
       "      <td>...</td>\n",
       "      <td>0.371992</td>\n",
       "      <td>-0.074120</td>\n",
       "      <td>-0.127335</td>\n",
       "      <td>0.229506</td>\n",
       "      <td>1.367919</td>\n",
       "      <td>0.953838</td>\n",
       "      <td>0.910102</td>\n",
       "      <td>0.923583</td>\n",
       "      <td>0</td>\n",
       "      <td>7</td>\n",
       "    </tr>\n",
       "    <tr>\n",
       "      <th>2</th>\n",
       "      <td>1.792429</td>\n",
       "      <td>1.016141</td>\n",
       "      <td>0.385859</td>\n",
       "      <td>0.126729</td>\n",
       "      <td>-0.201537</td>\n",
       "      <td>0.000807</td>\n",
       "      <td>0.201008</td>\n",
       "      <td>-0.243810</td>\n",
       "      <td>0.060850</td>\n",
       "      <td>0.571983</td>\n",
       "      <td>...</td>\n",
       "      <td>0.329715</td>\n",
       "      <td>-0.104955</td>\n",
       "      <td>-0.158971</td>\n",
       "      <td>0.439258</td>\n",
       "      <td>1.408838</td>\n",
       "      <td>1.133018</td>\n",
       "      <td>0.910102</td>\n",
       "      <td>0.975758</td>\n",
       "      <td>0</td>\n",
       "      <td>7</td>\n",
       "    </tr>\n",
       "    <tr>\n",
       "      <th>3</th>\n",
       "      <td>1.792429</td>\n",
       "      <td>1.282193</td>\n",
       "      <td>0.291323</td>\n",
       "      <td>0.103538</td>\n",
       "      <td>-0.201537</td>\n",
       "      <td>0.000807</td>\n",
       "      <td>0.201008</td>\n",
       "      <td>-0.308327</td>\n",
       "      <td>0.060850</td>\n",
       "      <td>0.571983</td>\n",
       "      <td>...</td>\n",
       "      <td>0.282231</td>\n",
       "      <td>-0.190107</td>\n",
       "      <td>-0.247549</td>\n",
       "      <td>0.384072</td>\n",
       "      <td>1.436118</td>\n",
       "      <td>1.312197</td>\n",
       "      <td>0.910102</td>\n",
       "      <td>0.975758</td>\n",
       "      <td>0</td>\n",
       "      <td>7</td>\n",
       "    </tr>\n",
       "    <tr>\n",
       "      <th>4</th>\n",
       "      <td>1.792429</td>\n",
       "      <td>1.109259</td>\n",
       "      <td>0.165276</td>\n",
       "      <td>0.219493</td>\n",
       "      <td>-0.181865</td>\n",
       "      <td>0.016499</td>\n",
       "      <td>0.127631</td>\n",
       "      <td>-0.153785</td>\n",
       "      <td>0.071360</td>\n",
       "      <td>0.571983</td>\n",
       "      <td>...</td>\n",
       "      <td>0.371786</td>\n",
       "      <td>-0.007890</td>\n",
       "      <td>-0.056854</td>\n",
       "      <td>0.825016</td>\n",
       "      <td>1.463398</td>\n",
       "      <td>1.670557</td>\n",
       "      <td>0.910102</td>\n",
       "      <td>1.030659</td>\n",
       "      <td>0</td>\n",
       "      <td>7</td>\n",
       "    </tr>\n",
       "    <tr>\n",
       "      <th>5</th>\n",
       "      <td>1.792429</td>\n",
       "      <td>1.082654</td>\n",
       "      <td>-0.023796</td>\n",
       "      <td>0.003044</td>\n",
       "      <td>-0.181865</td>\n",
       "      <td>0.016499</td>\n",
       "      <td>0.127631</td>\n",
       "      <td>-0.486875</td>\n",
       "      <td>0.071360</td>\n",
       "      <td>0.571983</td>\n",
       "      <td>...</td>\n",
       "      <td>0.409103</td>\n",
       "      <td>-0.239694</td>\n",
       "      <td>-0.303155</td>\n",
       "      <td>0.611763</td>\n",
       "      <td>1.613438</td>\n",
       "      <td>1.670557</td>\n",
       "      <td>0.910102</td>\n",
       "      <td>1.030659</td>\n",
       "      <td>0</td>\n",
       "      <td>7</td>\n",
       "    </tr>\n",
       "    <tr>\n",
       "      <th>...</th>\n",
       "      <td>...</td>\n",
       "      <td>...</td>\n",
       "      <td>...</td>\n",
       "      <td>...</td>\n",
       "      <td>...</td>\n",
       "      <td>...</td>\n",
       "      <td>...</td>\n",
       "      <td>...</td>\n",
       "      <td>...</td>\n",
       "      <td>...</td>\n",
       "      <td>...</td>\n",
       "      <td>...</td>\n",
       "      <td>...</td>\n",
       "      <td>...</td>\n",
       "      <td>...</td>\n",
       "      <td>...</td>\n",
       "      <td>...</td>\n",
       "      <td>...</td>\n",
       "      <td>...</td>\n",
       "      <td>...</td>\n",
       "      <td>...</td>\n",
       "    </tr>\n",
       "    <tr>\n",
       "      <th>4</th>\n",
       "      <td>-0.009217</td>\n",
       "      <td>-0.141186</td>\n",
       "      <td>0.236177</td>\n",
       "      <td>0.057156</td>\n",
       "      <td>0.018786</td>\n",
       "      <td>-0.288617</td>\n",
       "      <td>-0.398239</td>\n",
       "      <td>-0.416356</td>\n",
       "      <td>-0.365571</td>\n",
       "      <td>-0.310101</td>\n",
       "      <td>...</td>\n",
       "      <td>-0.300856</td>\n",
       "      <td>-0.863239</td>\n",
       "      <td>-0.918285</td>\n",
       "      <td>-0.964674</td>\n",
       "      <td>-2.683160</td>\n",
       "      <td>0.057938</td>\n",
       "      <td>1.164150</td>\n",
       "      <td>1.083686</td>\n",
       "      <td>287</td>\n",
       "      <td>15</td>\n",
       "    </tr>\n",
       "    <tr>\n",
       "      <th>5</th>\n",
       "      <td>-0.009217</td>\n",
       "      <td>0.257893</td>\n",
       "      <td>0.385859</td>\n",
       "      <td>0.374099</td>\n",
       "      <td>0.018786</td>\n",
       "      <td>-0.288617</td>\n",
       "      <td>-0.398239</td>\n",
       "      <td>-0.272317</td>\n",
       "      <td>-0.365571</td>\n",
       "      <td>-0.310101</td>\n",
       "      <td>...</td>\n",
       "      <td>-0.323759</td>\n",
       "      <td>-0.735622</td>\n",
       "      <td>-0.788625</td>\n",
       "      <td>-0.749044</td>\n",
       "      <td>-1.455560</td>\n",
       "      <td>0.057938</td>\n",
       "      <td>1.164150</td>\n",
       "      <td>0.943686</td>\n",
       "      <td>287</td>\n",
       "      <td>15</td>\n",
       "    </tr>\n",
       "    <tr>\n",
       "      <th>6</th>\n",
       "      <td>-0.009217</td>\n",
       "      <td>-0.034765</td>\n",
       "      <td>0.015594</td>\n",
       "      <td>-0.035608</td>\n",
       "      <td>-0.020558</td>\n",
       "      <td>-0.332204</td>\n",
       "      <td>-0.538879</td>\n",
       "      <td>-0.378846</td>\n",
       "      <td>-0.421125</td>\n",
       "      <td>-0.310101</td>\n",
       "      <td>...</td>\n",
       "      <td>-0.290550</td>\n",
       "      <td>-0.672576</td>\n",
       "      <td>-0.725979</td>\n",
       "      <td>-0.790179</td>\n",
       "      <td>0.385839</td>\n",
       "      <td>-0.300422</td>\n",
       "      <td>-0.868234</td>\n",
       "      <td>1.083686</td>\n",
       "      <td>287</td>\n",
       "      <td>15</td>\n",
       "    </tr>\n",
       "    <tr>\n",
       "      <th>7</th>\n",
       "      <td>-0.009217</td>\n",
       "      <td>-0.300817</td>\n",
       "      <td>0.165276</td>\n",
       "      <td>-0.020147</td>\n",
       "      <td>0.065998</td>\n",
       "      <td>-0.271181</td>\n",
       "      <td>-0.523592</td>\n",
       "      <td>-0.512382</td>\n",
       "      <td>-0.364069</td>\n",
       "      <td>-0.310101</td>\n",
       "      <td>...</td>\n",
       "      <td>-0.198935</td>\n",
       "      <td>-0.677727</td>\n",
       "      <td>-0.734866</td>\n",
       "      <td>-0.824091</td>\n",
       "      <td>-2.069360</td>\n",
       "      <td>0.237118</td>\n",
       "      <td>1.164150</td>\n",
       "      <td>1.083686</td>\n",
       "      <td>287</td>\n",
       "      <td>15</td>\n",
       "    </tr>\n",
       "    <tr>\n",
       "      <th>8</th>\n",
       "      <td>-0.009217</td>\n",
       "      <td>0.284498</td>\n",
       "      <td>0.417371</td>\n",
       "      <td>0.157650</td>\n",
       "      <td>0.065998</td>\n",
       "      <td>-0.271181</td>\n",
       "      <td>-0.523592</td>\n",
       "      <td>-0.270817</td>\n",
       "      <td>-0.364069</td>\n",
       "      <td>-0.310101</td>\n",
       "      <td>...</td>\n",
       "      <td>-0.255345</td>\n",
       "      <td>-0.677107</td>\n",
       "      <td>-0.732013</td>\n",
       "      <td>-0.779167</td>\n",
       "      <td>-2.069360</td>\n",
       "      <td>0.237118</td>\n",
       "      <td>1.164150</td>\n",
       "      <td>0.943686</td>\n",
       "      <td>287</td>\n",
       "      <td>15</td>\n",
       "    </tr>\n",
       "  </tbody>\n",
       "</table>\n",
       "<p>17433 rows × 118 columns</p>\n",
       "</div>"
      ],
      "text/plain": [
       "    2020-07-03_B01  2020-07-03_B02  2020-07-03_B03  2020-07-03_B04  \\\n",
       "1         1.792429        1.348706        0.330713        0.312257   \n",
       "2         1.792429        1.016141        0.385859        0.126729   \n",
       "3         1.792429        1.282193        0.291323        0.103538   \n",
       "4         1.792429        1.109259        0.165276        0.219493   \n",
       "5         1.792429        1.082654       -0.023796        0.003044   \n",
       "..             ...             ...             ...             ...   \n",
       "4        -0.009217       -0.141186        0.236177        0.057156   \n",
       "5        -0.009217        0.257893        0.385859        0.374099   \n",
       "6        -0.009217       -0.034765        0.015594       -0.035608   \n",
       "7        -0.009217       -0.300817        0.165276       -0.020147   \n",
       "8        -0.009217        0.284498        0.417371        0.157650   \n",
       "\n",
       "    2020-07-03_B05  2020-07-03_B06  2020-07-03_B07  2020-07-03_B08  \\\n",
       "1        -0.095310       -0.253746       -0.268301       -0.281320   \n",
       "2        -0.201537        0.000807        0.201008       -0.243810   \n",
       "3        -0.201537        0.000807        0.201008       -0.308327   \n",
       "4        -0.181865        0.016499        0.127631       -0.153785   \n",
       "5        -0.181865        0.016499        0.127631       -0.486875   \n",
       "..             ...             ...             ...             ...   \n",
       "4         0.018786       -0.288617       -0.398239       -0.416356   \n",
       "5         0.018786       -0.288617       -0.398239       -0.272317   \n",
       "6        -0.020558       -0.332204       -0.538879       -0.378846   \n",
       "7         0.065998       -0.271181       -0.523592       -0.512382   \n",
       "8         0.065998       -0.271181       -0.523592       -0.270817   \n",
       "\n",
       "    2020-07-03_B8A  2020-07-03_B09  ...  2020-08-17_NDVI  2020-08-17_EVI  \\\n",
       "1        -0.242449        0.571983  ...         0.371992       -0.074120   \n",
       "2         0.060850        0.571983  ...         0.329715       -0.104955   \n",
       "3         0.060850        0.571983  ...         0.282231       -0.190107   \n",
       "4         0.071360        0.571983  ...         0.371786       -0.007890   \n",
       "5         0.071360        0.571983  ...         0.409103       -0.239694   \n",
       "..             ...             ...  ...              ...             ...   \n",
       "4        -0.365571       -0.310101  ...        -0.300856       -0.863239   \n",
       "5        -0.365571       -0.310101  ...        -0.323759       -0.735622   \n",
       "6        -0.421125       -0.310101  ...        -0.290550       -0.672576   \n",
       "7        -0.364069       -0.310101  ...        -0.198935       -0.677727   \n",
       "8        -0.364069       -0.310101  ...        -0.255345       -0.677107   \n",
       "\n",
       "    2020-08-17_MSAVI  2020-08-17_NDRE    aspect     slope  wetnessindex  \\\n",
       "1          -0.127335         0.229506  1.367919  0.953838      0.910102   \n",
       "2          -0.158971         0.439258  1.408838  1.133018      0.910102   \n",
       "3          -0.247549         0.384072  1.436118  1.312197      0.910102   \n",
       "4          -0.056854         0.825016  1.463398  1.670557      0.910102   \n",
       "5          -0.303155         0.611763  1.613438  1.670557      0.910102   \n",
       "..               ...              ...       ...       ...           ...   \n",
       "4          -0.918285        -0.964674 -2.683160  0.057938      1.164150   \n",
       "5          -0.788625        -0.749044 -1.455560  0.057938      1.164150   \n",
       "6          -0.725979        -0.790179  0.385839 -0.300422     -0.868234   \n",
       "7          -0.734866        -0.824091 -2.069360  0.237118      1.164150   \n",
       "8          -0.732013        -0.779167 -2.069360  0.237118      1.164150   \n",
       "\n",
       "        sink  key  class  \n",
       "1   0.923583    0      7  \n",
       "2   0.975758    0      7  \n",
       "3   0.975758    0      7  \n",
       "4   1.030659    0      7  \n",
       "5   1.030659    0      7  \n",
       "..       ...  ...    ...  \n",
       "4   1.083686  287     15  \n",
       "5   0.943686  287     15  \n",
       "6   1.083686  287     15  \n",
       "7   1.083686  287     15  \n",
       "8   0.943686  287     15  \n",
       "\n",
       "[17433 rows x 118 columns]"
      ]
     },
     "execution_count": 284,
     "metadata": {},
     "output_type": "execute_result"
    }
   ],
   "source": [
    "df_resampled"
   ]
  },
  {
   "cell_type": "code",
   "execution_count": null,
   "id": "b1661930",
   "metadata": {
    "id": "b1661930"
   },
   "outputs": [],
   "source": [
    "x = [34773627.69,\n",
    "108809.4629,\n",
    "4328.761281,\n",
    "15.91542285,\n",
    "6.830975986,\n",
    "10,\n",
    "2.947051703,\n",
    "28.22956756,\n",
    "2.041737945,\n",
    "1]"
   ]
  },
  {
   "cell_type": "code",
   "execution_count": null,
   "id": "b8d94d06",
   "metadata": {
    "id": "b8d94d06",
    "outputId": "0bec07d2-ba2f-4955-a4a3-ae1f24974c06"
   },
   "outputs": [
    {
     "data": {
      "image/png": "[encoded data removed]",
      "text/plain": [
       "<Figure size 576x396 with 1 Axes>"
      ]
     },
     "metadata": {},
     "output_type": "display_data"
    }
   ],
   "source": [
    "plt.plot(np.log(x))\n",
    "plt.ylabel('Log EC50')\n",
    "plt.show()"
   ]
  },
  {
   "cell_type": "code",
   "execution_count": null,
   "id": "edc33f99",
   "metadata": {
    "id": "edc33f99"
   },
   "outputs": [],
   "source": []
  }
 ],
 "metadata": {
  "colab": {
   "provenance": []
  },
  "kernelspec": {
   "display_name": "Python 3 (ipykernel)",
   "language": "python",
   "name": "python3"
  },
  "language_info": {
   "codemirror_mode": {
    "name": "ipython",
    "version": 3
   },
   "file_extension": ".py",
   "mimetype": "text/x-python",
   "name": "python",
   "nbconvert_exporter": "python",
   "pygments_lexer": "ipython3",
   "version": "3.9.16"
  },
  "vscode": {
   "interpreter": {
    "hash": "2624297a14b2e5b247b0fc8a92b75a581cd32613a3f7f56c6b107af7b0801f07"
   }
  }
 },
 "nbformat": 4,
 "nbformat_minor": 5
}
